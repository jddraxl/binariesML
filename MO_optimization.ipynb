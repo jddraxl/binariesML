{
 "cells": [
  {
   "cell_type": "code",
   "execution_count": 1,
   "metadata": {},
   "outputs": [],
   "source": [
    "import seaborn as sns\n",
    "from sklearn.model_selection import train_test_split, GridSearchCV\n",
    "import matplotlib.pyplot as plt\n",
    "import joblib\n",
    "import time\n",
    "import pickle\n",
    "import sklearn.metrics as metrics"
   ]
  },
  {
   "cell_type": "code",
   "execution_count": 2,
   "metadata": {},
   "outputs": [],
   "source": [
    "from sklearn.model_selection import RandomizedSearchCV\n",
    "from scipy.stats import uniform\n",
    "from sklearn.metrics import make_scorer"
   ]
  },
  {
   "cell_type": "code",
   "execution_count": 3,
   "metadata": {},
   "outputs": [],
   "source": [
    "from multioutput_functions import *"
   ]
  },
  {
   "cell_type": "code",
   "execution_count": null,
   "metadata": {},
   "outputs": [],
   "source": []
  },
  {
   "cell_type": "code",
   "execution_count": 167,
   "metadata": {},
   "outputs": [],
   "source": [
    "# def f1score_jd_p(true_Y,pred_Y):\n",
    "#     '''\n",
    "#     '''\n",
    "#     interval=1\n",
    "#     # Initialize the precision, f1-score, and recall dictionaries\n",
    "#     tp = {}\n",
    "#     fn = {}\n",
    "#     fp = {}\n",
    "#     tn = {}\n",
    "#     negs = []\n",
    "#     precision = {}\n",
    "#     f1_score = {}\n",
    "#     recall = {}\n",
    "\n",
    "#     predicted_primsec = [sorted(pp) for pp in pred_Y]\n",
    "#     predicted_outputs = np.array([int(cc[0]) for cc in predicted_primsec])\n",
    "#     true_outputs      = np.array([int(cc[0]) for cc in true_Y])\n",
    "#     unique_list       = unique(true_outputs)\n",
    "\n",
    "#     for value in unique_list:\n",
    "#         value_position = np.where(true_outputs == value)[0]\n",
    "#         inlimit = np.where(np.abs(predicted_outputs-value)<=interval)[0]\n",
    "#         outlimit = np.where(np.abs(predicted_outputs-value)>interval)[0]\n",
    "\n",
    "#         tp[value] = sorted(list(set(value_position).intersection(inlimit)))\n",
    "#         negs     += sorted(list(set(value_position).intersection(outlimit)))\n",
    "#         fn[value] = sorted(list(set(value_position).intersection(outlimit)))\n",
    "\n",
    "\n",
    "\n",
    "#     for neg in negs:\n",
    "#         negpred = predicted_outputs[neg]\n",
    "#         closest_value = min(unique_list, key=lambda x: abs(x - negpred))\n",
    "#         try:\n",
    "#             fp[closest_value] += [neg]\n",
    "#         except KeyError:\n",
    "#             fp[closest_value] = [neg]\n",
    "\n",
    "#     for value in unique_list:\n",
    "#         if value not in fp.keys():\n",
    "#             fp[value]=[]\n",
    "#         used = tp[value]+fn[value]+fp[value]\n",
    "#         tn[value] = [i for i in range(len(true_outputs)) if i not in used]\n",
    "#         if len(tp[value])==0:\n",
    "#             precision[value] = 0\n",
    "#             recall[value] = 0\n",
    "#             f1_score[value] = 0\n",
    "#         else:\n",
    "#             precision[value] = len(tp[value])/(len(fp[value])+len(tp[value]))\n",
    "#             recall[value] = len(tp[value])/(len(fn[value])+len(tp[value]))\n",
    "#             f1_score[value] = 2*precision[value]*recall[value]/(precision[value] + recall[value])\n",
    "\n",
    "#     f1_score = [f1_score[k] for k in f1_score.keys()]\n",
    "#     return np.nanmean(f1_score)"
   ]
  },
  {
   "cell_type": "code",
   "execution_count": 168,
   "metadata": {},
   "outputs": [],
   "source": [
    "# def f1score_jd_s(true_Y,pred_Y):\n",
    "#     '''\n",
    "#     '''\n",
    "#     interval=1\n",
    "#     # Initialize the precision, f1-score, and recall dictionaries\n",
    "#     tp = {}\n",
    "#     fn = {}\n",
    "#     fp = {}\n",
    "#     tn = {}\n",
    "#     negs = []\n",
    "#     precision = {}\n",
    "#     f1_score = {}\n",
    "#     recall = {}\n",
    "\n",
    "#     predicted_primsec = [sorted(pp) for pp in pred_Y]\n",
    "#     predicted_outputs = np.array([int(cc[1]) for cc in predicted_primsec])\n",
    "#     true_outputs      = np.array([int(cc[1]) for cc in true_Y])\n",
    "#     unique_list       = unique(true_outputs)\n",
    "\n",
    "#     for value in unique_list:\n",
    "#         value_position = np.where(true_outputs == value)[0]\n",
    "#         inlimit = np.where(np.abs(predicted_outputs-value)<=interval)[0]\n",
    "#         outlimit = np.where(np.abs(predicted_outputs-value)>interval)[0]\n",
    "\n",
    "#         tp[value] = sorted(list(set(value_position).intersection(inlimit)))\n",
    "#         negs     += sorted(list(set(value_position).intersection(outlimit)))\n",
    "#         fn[value] = sorted(list(set(value_position).intersection(outlimit)))\n",
    "\n",
    "\n",
    "\n",
    "#     for neg in negs:\n",
    "#         negpred = predicted_outputs[neg]\n",
    "#         closest_value = min(unique_list, key=lambda x: abs(x - negpred))\n",
    "#         try:\n",
    "#             fp[closest_value] += [neg]\n",
    "#         except KeyError:\n",
    "#             fp[closest_value] = [neg]\n",
    "\n",
    "#     for value in unique_list:\n",
    "#         if value not in fp.keys():\n",
    "#             fp[value]=[]\n",
    "#         used = tp[value]+fn[value]+fp[value]\n",
    "#         tn[value] = [i for i in range(len(true_outputs)) if i not in used]\n",
    "#         if len(tp[value])==0:\n",
    "#             precision[value] = 0\n",
    "#             recall[value] = 0\n",
    "#             f1_score[value] = 0\n",
    "#         else:\n",
    "#             precision[value] = len(tp[value])/(len(fp[value])+len(tp[value]))\n",
    "#             recall[value] = len(tp[value])/(len(fn[value])+len(tp[value]))\n",
    "#             f1_score[value] = 2*precision[value]*recall[value]/(precision[value] + recall[value])\n",
    "\n",
    "#     f1_score = [f1_score[k] for k in f1_score.keys()]\n",
    "#     return np.nanmean(f1_score)"
   ]
  },
  {
   "cell_type": "code",
   "execution_count": 169,
   "metadata": {},
   "outputs": [],
   "source": [
    "# def f1score_jd(true_Y,pred_Y):\n",
    "#     '''\n",
    "#     '''\n",
    "#     score1 = f1score_jd_p(true_Y,pred_Y)\n",
    "#     score2 = f1score_jd_s(true_Y,pred_Y)\n",
    "\n",
    "#     return (score1 + score2) / 2"
   ]
  },
  {
   "cell_type": "code",
   "execution_count": 21,
   "metadata": {},
   "outputs": [],
   "source": [
    "def f1score_jd(true_Y,pred_Y):\n",
    "    interval=1\n",
    "    # Initialize the precision, f1-score, and recall dictionaries\n",
    "    tp = {}\n",
    "    fn = {}\n",
    "    fp = {}\n",
    "    tn = {}\n",
    "    negs = []\n",
    "    precision = {}\n",
    "    f1_score = {}\n",
    "    recall = {}\n",
    "    lengths = {}\n",
    "\n",
    "    predicted_primsec = [sorted(pp) for pp in pred_Y]\n",
    "    predicted_outputs = np.array([int(cc[0]) for cc in predicted_primsec])\n",
    "    true_outputs      = np.array([int(cc[0]) for cc in true_Y])\n",
    "    unique_list       = unique(true_outputs)\n",
    "\n",
    "    for value in unique_list:\n",
    "        value_position = np.where(true_outputs == value)[0]\n",
    "        inlimit = np.where(np.abs(predicted_outputs-value)<=interval)[0]\n",
    "        outlimit = np.where(np.abs(predicted_outputs-value)>interval)[0]\n",
    "\n",
    "        tp[value] = sorted(list(set(value_position).intersection(inlimit)))\n",
    "        negs     += sorted(list(set(value_position).intersection(outlimit)))\n",
    "        fn[value] = sorted(list(set(value_position).intersection(outlimit)))\n",
    "        lengths[value] = len(value_position)\n",
    "\n",
    "    for neg in negs:\n",
    "        negpred = predicted_outputs[neg]\n",
    "        closest_value = min(unique_list, key=lambda x: abs(x - negpred))\n",
    "        try:\n",
    "            fp[closest_value] += [neg]\n",
    "        except KeyError:\n",
    "            fp[closest_value] = [neg]\n",
    "\n",
    "    for value in unique_list:\n",
    "        if value not in fp.keys():\n",
    "            fp[value]=[]\n",
    "        used = tp[value]+fn[value]+fp[value]\n",
    "        tn[value] = [i for i in range(len(true_outputs)) if i not in used]\n",
    "        if len(tp[value])==0:\n",
    "            precision[value] = 0\n",
    "            recall[value] = 0\n",
    "            f1_score[value] = 0\n",
    "        else:\n",
    "            precision[value] = len(tp[value])/(len(fp[value])+len(tp[value]))\n",
    "            recall[value] = len(tp[value])/(len(fn[value])+len(tp[value]))\n",
    "            f1_score[value] = 2*precision[value]*recall[value]/(precision[value] + recall[value])\n",
    "\n",
    "    totlength = np.sum([lengths[k] for k in lengths.keys()])\n",
    "    length_percentage = {}\n",
    "    for key in lengths.keys():\n",
    "        length_percentage[key]=lengths[key]/totlength\n",
    "    f1_weighted = [f1_score[k]*length_percentage[k] for k in f1_score.keys()]\n",
    "    f1_p = np.nansum(f1_weighted)\n",
    "    # f1_score = [f1_score[k] for k in f1_score.keys()]\n",
    "    # f1_p = np.mean(f1_score)\n",
    "\n",
    "\n",
    "    interval=1\n",
    "    # Initialize the precision, f1-score, and recall dictionaries\n",
    "    tp = {}\n",
    "    fn = {}\n",
    "    fp = {}\n",
    "    tn = {}\n",
    "    negs = []\n",
    "    precision = {}\n",
    "    f1_score = {}\n",
    "    recall = {}\n",
    "    lengths = {}\n",
    "\n",
    "    predicted_primsec = [sorted(pp) for pp in pred_Y]\n",
    "    predicted_outputs = np.array([int(cc[1]) for cc in predicted_primsec])\n",
    "    true_outputs      = np.array([int(cc[1]) for cc in true_Y])\n",
    "    unique_list       = unique(true_outputs)\n",
    "\n",
    "    for value in unique_list:\n",
    "        value_position = np.where(true_outputs == value)[0]\n",
    "        inlimit = np.where(np.abs(predicted_outputs-value)<=interval)[0]\n",
    "        outlimit = np.where(np.abs(predicted_outputs-value)>interval)[0]\n",
    "\n",
    "        tp[value] = sorted(list(set(value_position).intersection(inlimit)))\n",
    "        negs     += sorted(list(set(value_position).intersection(outlimit)))\n",
    "        fn[value] = sorted(list(set(value_position).intersection(outlimit)))\n",
    "        lengths[value] = len(value_position)\n",
    "\n",
    "    for neg in negs:\n",
    "        negpred = predicted_outputs[neg]\n",
    "        closest_value = min(unique_list, key=lambda x: abs(x - negpred))\n",
    "        try:\n",
    "            fp[closest_value] += [neg]\n",
    "        except KeyError:\n",
    "            fp[closest_value] = [neg]\n",
    "\n",
    "    for value in unique_list:\n",
    "        if value not in fp.keys():\n",
    "            fp[value]=[]\n",
    "        used = tp[value]+fn[value]+fp[value]\n",
    "        tn[value] = [i for i in range(len(true_outputs)) if i not in used]\n",
    "        if len(tp[value])==0:\n",
    "            precision[value] = 0\n",
    "            recall[value] = 0\n",
    "            f1_score[value] = 0\n",
    "        else:\n",
    "            precision[value] = len(tp[value])/(len(fp[value])+len(tp[value]))\n",
    "            recall[value] = len(tp[value])/(len(fn[value])+len(tp[value]))\n",
    "            f1_score[value] = 2*precision[value]*recall[value]/(precision[value] + recall[value])\n",
    "    totlength = np.sum([lengths[k] for k in lengths.keys()])\n",
    "    length_percentage = {}\n",
    "    for key in lengths.keys():\n",
    "        length_percentage[key]=lengths[key]/totlength\n",
    "    f1_weighted = [f1_score[k]*length_percentage[k] for k in f1_score.keys()]\n",
    "    f1_s = np.nansum(f1_weighted)\n",
    "    # f1_score = [f1_score[k] for k in f1_score.keys()]\n",
    "    # f1_s=np.mean(f1_score)\n",
    "\n",
    "    f1=(f1_p+f1_s)/2\n",
    "    return f1  "
   ]
  },
  {
   "cell_type": "code",
   "execution_count": null,
   "metadata": {},
   "outputs": [],
   "source": []
  },
  {
   "cell_type": "code",
   "execution_count": 22,
   "metadata": {},
   "outputs": [],
   "source": [
    "def MO_optimize(bin_df, telluric= False, difference=False, test_size=0.30, random_state=42, shuffle=True, traindata=False, shape=False):\n",
    "    feats = list(bin_df.columns)\n",
    "    feats.remove('primary_type')\n",
    "    feats.remove('secondary_type')\n",
    "    feats.remove('system_interpolated_flux')\n",
    "    feats.remove('system_interpolated_noise')\n",
    "    feats.remove('J_SNR')\n",
    "    feats.remove('SNR_CLASS')\n",
    "    feats.remove('WAVE')\n",
    "    if difference==True:\n",
    "        feats.remove('difference_spectrum')\n",
    "\n",
    "    if telluric==True:\n",
    "        telluric_mask = list(np.where(np.logical_or(np.logical_and(wavegrid > 1.35,wavegrid < 1.42), np.logical_and(wavegrid > 1.8,wavegrid < 1.95)))[0])\n",
    "        for mask in telluric_mask:\n",
    "            feats.remove('flux_'+str(mask))\n",
    "    else:\n",
    "        pass\n",
    "\n",
    "    xlist = np.array(bin_df[feats]) #data\n",
    "\n",
    "    typelist = ['primary_type','secondary_type']\n",
    "    y=[]\n",
    "    for i in range(len(bin_df)):\n",
    "        zz = []\n",
    "        for j in typelist:\n",
    "            zz.append(bin_df[j][i])\n",
    "        y.append(zz)\n",
    "    ylist = np.array(y)\n",
    "\n",
    "    if shape==True:\n",
    "        print(xlist.shape, ylist.shape)\n",
    "\n",
    "    # split features and target variables into train and test split. Train set will have 70% of the features and the test will have 30% of the features.\n",
    "    x_train, x_test, y_train, y_test = train_test_split(xlist, ylist, test_size=test_size, random_state=random_state, shuffle=shuffle)\n",
    "\n",
    "    # param_grid = dict(estimator__n_estimators=uniform(loc=1, scale=9))\n",
    "    param_grid = dict(estimator__n_estimators=[int(i) for i in np.linspace(1,201,101)])\n",
    "\n",
    "    # Initialize the multi-output regressor and the grid search\n",
    "    f1 = metrics.f1_score\n",
    "    precision = metrics.precision_score\n",
    "    recall = metrics.recall_score\n",
    "    # clf = MultiOutputRegressor(RandomForestRegressor(random_state=0,min_samples_leaf=2, min_samples_split=5,n_jobs=-1))\n",
    "    clf = MultiOutputRegressor(RandomForestRegressor(n_jobs=-1))\n",
    "    # grid_search = RandomizedSearchCV(clf, param_grid, n_jobs=-1, refit=True, scoring=[f1,precision,recall])\n",
    "    # grid_search = RandomizedSearchCV(clf, param_grid, n_jobs=-1, refit=True, scoring=precision)\n",
    "    # grid_search = RandomizedSearchCV(clf, param_grid, n_jobs=-1, refit=True)\n",
    "    # grid_search = RandomizedSearchCV(clf, param_grid, n_jobs=-1, refit='f1_weighted', scoring=['f1_weighted', 'accuracy'])\n",
    "    custom_scorer = make_scorer(f1score_jd, greater_is_better=True)\n",
    "    grid_search = RandomizedSearchCV(clf, param_grid, n_jobs=-1, n_iter=20, scoring=custom_scorer)\n",
    "    # grid_search = RandomizedSearchCV(clf, param_grid, n_jobs=-1, refit=f1score_jd2)\n",
    "    # , refit=‘f1’, scoring=[‘f1’, ‘accuracy’])\n",
    "\n",
    "    # Fit the GridSearchCV object to the data\n",
    "    grid_search.fit(x_train, y_train)\n",
    "\n",
    "    # Extract the best model and the corresponding score\n",
    "    best_model = grid_search.best_estimator_\n",
    "    best_score = grid_search.best_score_\n",
    "\n",
    "    if traindata==True:\n",
    "        return best_model, x_test, y_test, x_train, y_train, grid_search.best_params_, best_score\n",
    "    else:\n",
    "        return grid_search, x_test, y_test"
   ]
  },
  {
   "cell_type": "code",
   "execution_count": 6,
   "metadata": {},
   "outputs": [
    {
     "data": {
      "text/plain": [
       "[1,\n",
       " 5,\n",
       " 9,\n",
       " 13,\n",
       " 17,\n",
       " 21,\n",
       " 25,\n",
       " 29,\n",
       " 33,\n",
       " 37,\n",
       " 41,\n",
       " 45,\n",
       " 49,\n",
       " 53,\n",
       " 57,\n",
       " 61,\n",
       " 65,\n",
       " 69,\n",
       " 73,\n",
       " 77,\n",
       " 81,\n",
       " 85,\n",
       " 89,\n",
       " 93,\n",
       " 97,\n",
       " 101,\n",
       " 105,\n",
       " 109,\n",
       " 113,\n",
       " 117,\n",
       " 121,\n",
       " 125,\n",
       " 129,\n",
       " 133,\n",
       " 137,\n",
       " 141,\n",
       " 145,\n",
       " 149,\n",
       " 153,\n",
       " 157,\n",
       " 161,\n",
       " 165,\n",
       " 169,\n",
       " 173,\n",
       " 177,\n",
       " 181,\n",
       " 185,\n",
       " 189,\n",
       " 193,\n",
       " 197,\n",
       " 201]"
      ]
     },
     "execution_count": 6,
     "metadata": {},
     "output_type": "execute_result"
    }
   ],
   "source": [
    "# [int(i) for i in np.linspace(1,61,21)]\n",
    "# best is 4--> 0.76066567, vs 37--> 0.7462242\n",
    "[int(i) for i in np.linspace(1,201,51)]"
   ]
  },
  {
   "cell_type": "code",
   "execution_count": 7,
   "metadata": {},
   "outputs": [
    {
     "data": {
      "text/plain": [
       "False"
      ]
     },
     "execution_count": 7,
     "metadata": {},
     "output_type": "execute_result"
    }
   ],
   "source": [
    "with open('data/BinDF_hig.pickle', 'rb') as f:\n",
    "        BinDF_hig = pickle.load(f)\n",
    "fluxnan=[]\n",
    "for i in range(409):\n",
    "    fluxnan.append(np.isnan(BinDF_hig['flux_'+str(i)]).any())\n",
    "(np.array(fluxnan)==True).any()"
   ]
  },
  {
   "cell_type": "code",
   "execution_count": 23,
   "metadata": {},
   "outputs": [
    {
     "name": "stdout",
     "output_type": "stream",
     "text": [
      "11901.24998140335\n"
     ]
    }
   ],
   "source": [
    "start = time.time()\n",
    "clfhig, x_hig, y_hig = MO_optimize(BinDF_hig)\n",
    "MO_hig = clfhig.best_estimator_\n",
    "end = time.time()\n",
    "print(end-start)"
   ]
  },
  {
   "cell_type": "code",
   "execution_count": 24,
   "metadata": {},
   "outputs": [],
   "source": [
    "z_hig = MO_hig.predict(x_hig)"
   ]
  },
  {
   "cell_type": "code",
   "execution_count": 25,
   "metadata": {},
   "outputs": [
    {
     "data": {
      "text/plain": [
       "{'mean_fit_time': array([ 498.59229155, 2653.39194908, 2167.1561254 , 3084.87794714,\n",
       "        1658.85580139, 1192.86779585, 1097.53785806, 2012.27326965,\n",
       "         716.98344917, 1813.56689467, 1406.38810263, 1375.1807569 ,\n",
       "        2718.23002615, 2125.36537566,  271.87643657, 3130.07560916,\n",
       "        2382.73511558, 2611.32180443, 1730.19284983,  833.92617717]),\n",
       " 'std_fit_time': array([  4.71439412,   7.27558412,   2.60304155,  10.26622091,\n",
       "         37.06434993,  28.80358943,  54.861207  ,   4.94771962,\n",
       "          2.89487316,  15.44153121,   4.70197815,   7.28077613,\n",
       "         29.04233662,  16.94766414,  42.24315792,  12.75967167,\n",
       "         18.59704191,   6.37569357, 420.73507742,  87.8870048 ]),\n",
       " 'mean_score_time': array([79.98287468, 79.51370516, 63.54857235, 79.49359908, 66.01989722,\n",
       "        69.42931266, 65.8750351 , 73.04145899, 50.07637081, 75.17508721,\n",
       "        69.80810404, 56.11579313, 91.56640539, 80.77136464, 79.01365986,\n",
       "        86.44202714, 88.9634572 , 73.31825938, 12.97287445, 35.79500837]),\n",
       " 'std_score_time': array([ 0.6522467 ,  0.81331057,  0.99989335,  9.95709994, 20.10314168,\n",
       "        17.17268014, 14.48211478, 11.271811  ,  2.5437189 , 12.04846431,\n",
       "         1.12631665, 25.49852987,  6.51525609,  0.83262879,  5.71581384,\n",
       "         6.64886332,  7.2373284 ,  9.66564506, 14.36125   , 10.23615154]),\n",
       " 'param_estimator__n_estimators': masked_array(data=[21, 167, 129, 195, 103, 75, 67, 135, 35, 117, 83, 87,\n",
       "                    179, 131, 9, 193, 145, 169, 163, 63],\n",
       "              mask=[False, False, False, False, False, False, False, False,\n",
       "                    False, False, False, False, False, False, False, False,\n",
       "                    False, False, False, False],\n",
       "        fill_value='?',\n",
       "             dtype=object),\n",
       " 'params': [{'estimator__n_estimators': 21},\n",
       "  {'estimator__n_estimators': 167},\n",
       "  {'estimator__n_estimators': 129},\n",
       "  {'estimator__n_estimators': 195},\n",
       "  {'estimator__n_estimators': 103},\n",
       "  {'estimator__n_estimators': 75},\n",
       "  {'estimator__n_estimators': 67},\n",
       "  {'estimator__n_estimators': 135},\n",
       "  {'estimator__n_estimators': 35},\n",
       "  {'estimator__n_estimators': 117},\n",
       "  {'estimator__n_estimators': 83},\n",
       "  {'estimator__n_estimators': 87},\n",
       "  {'estimator__n_estimators': 179},\n",
       "  {'estimator__n_estimators': 131},\n",
       "  {'estimator__n_estimators': 9},\n",
       "  {'estimator__n_estimators': 193},\n",
       "  {'estimator__n_estimators': 145},\n",
       "  {'estimator__n_estimators': 169},\n",
       "  {'estimator__n_estimators': 163},\n",
       "  {'estimator__n_estimators': 63}],\n",
       " 'split0_test_score': array([0.80602251, 0.80401264, 0.80285905, 0.80102051, 0.80399405,\n",
       "        0.80418413, 0.80515937, 0.80372182, 0.8055002 , 0.80184151,\n",
       "        0.80343694, 0.80245633, 0.80095222, 0.80284822, 0.80502129,\n",
       "        0.79993018, 0.8012799 , 0.80286133, 0.80232507, 0.80236638]),\n",
       " 'split1_test_score': array([0.80494119, 0.79941424, 0.79822485, 0.799063  , 0.80170522,\n",
       "        0.79968707, 0.79961526, 0.79813147, 0.79940213, 0.80358534,\n",
       "        0.79974022, 0.80241295, 0.79900037, 0.79959502, 0.80349967,\n",
       "        0.7989153 , 0.80056768, 0.80026202, 0.79987545, 0.79994117]),\n",
       " 'split2_test_score': array([0.81119593, 0.80759543, 0.80614021, 0.80810114, 0.80913508,\n",
       "        0.80783857, 0.80903316, 0.80830152, 0.80937329, 0.80935328,\n",
       "        0.80833248, 0.81034649, 0.80886502, 0.80684401, 0.8093891 ,\n",
       "        0.80803828, 0.80701704, 0.8085104 , 0.80786787, 0.80770791]),\n",
       " 'split3_test_score': array([0.80666064, 0.80344425, 0.80188917, 0.80235311, 0.80309216,\n",
       "        0.80335642, 0.80530688, 0.80380433, 0.80135449, 0.80427601,\n",
       "        0.80561015, 0.80296917, 0.80219009, 0.80183796, 0.80707534,\n",
       "        0.80367818, 0.80164517, 0.80348951, 0.80269325, 0.80352706]),\n",
       " 'split4_test_score': array([0.80841922, 0.80577394, 0.8036592 , 0.8033098 , 0.80531222,\n",
       "        0.80629935, 0.80522128, 0.80454622, 0.8027398 , 0.80656444,\n",
       "        0.8043708 , 0.80370757, 0.80505148, 0.80215098, 0.80959023,\n",
       "        0.80462593, 0.80519523, 0.80414263, 0.80461956, 0.80960512]),\n",
       " 'mean_test_score': array([0.8074479 , 0.8040481 , 0.8025545 , 0.80276951, 0.80464775,\n",
       "        0.80427311, 0.80486719, 0.80370107, 0.80367398, 0.80512412,\n",
       "        0.80429812, 0.8043785 , 0.80321183, 0.80265524, 0.80691512,\n",
       "        0.80303757, 0.803141  , 0.80385318, 0.80347624, 0.80462953]),\n",
       " 'std_test_score': array([0.00218752, 0.00273498, 0.00258298, 0.00302287, 0.00253312,\n",
       "        0.00278202, 0.00301138, 0.003253  , 0.00347329, 0.00260088,\n",
       "        0.00281137, 0.00302031, 0.00344178, 0.00236094, 0.00238974,\n",
       "        0.00330422, 0.00251264, 0.00267529, 0.00266449, 0.00353697]),\n",
       " 'rank_test_score': array([ 1, 10, 20, 18,  5,  9,  4, 12, 13,  3,  8,  7, 15, 19,  2, 17, 16,\n",
       "        11, 14,  6])}"
      ]
     },
     "execution_count": 25,
     "metadata": {},
     "output_type": "execute_result"
    }
   ],
   "source": [
    "clfhig.cv_results_"
   ]
  },
  {
   "cell_type": "code",
   "execution_count": 26,
   "metadata": {},
   "outputs": [
    {
     "data": {
      "text/plain": [
       "dict_keys(['mean_fit_time', 'std_fit_time', 'mean_score_time', 'std_score_time', 'param_estimator__n_estimators', 'params', 'split0_test_score', 'split1_test_score', 'split2_test_score', 'split3_test_score', 'split4_test_score', 'mean_test_score', 'std_test_score', 'rank_test_score'])"
      ]
     },
     "execution_count": 26,
     "metadata": {},
     "output_type": "execute_result"
    }
   ],
   "source": [
    "clfhig.cv_results_.keys()"
   ]
  },
  {
   "cell_type": "code",
   "execution_count": 27,
   "metadata": {},
   "outputs": [
    {
     "data": {
      "text/plain": [
       "array([ 1, 10, 20, 18,  5,  9,  4, 12, 13,  3,  8,  7, 15, 19,  2, 17, 16,\n",
       "       11, 14,  6])"
      ]
     },
     "execution_count": 27,
     "metadata": {},
     "output_type": "execute_result"
    }
   ],
   "source": [
    "clfhig.cv_results_['rank_test_score']"
   ]
  },
  {
   "cell_type": "code",
   "execution_count": 41,
   "metadata": {},
   "outputs": [
    {
     "data": {
      "text/plain": [
       "array([0.8074479 , 0.8040481 , 0.8025545 , 0.80276951, 0.80464775,\n",
       "       0.80427311, 0.80486719, 0.80370107, 0.80367398, 0.80512412,\n",
       "       0.80429812, 0.8043785 , 0.80321183, 0.80265524, 0.80691512,\n",
       "       0.80303757, 0.803141  , 0.80385318, 0.80347624, 0.80462953])"
      ]
     },
     "execution_count": 41,
     "metadata": {},
     "output_type": "execute_result"
    }
   ],
   "source": [
    "clfhig.cv_results_['mean_test_score']"
   ]
  },
  {
   "cell_type": "code",
   "execution_count": 28,
   "metadata": {},
   "outputs": [
    {
     "data": {
      "text/plain": [
       "0.8074478985909325"
      ]
     },
     "execution_count": 28,
     "metadata": {},
     "output_type": "execute_result"
    }
   ],
   "source": [
    "max(clfhig.cv_results_['mean_test_score'])"
   ]
  },
  {
   "cell_type": "code",
   "execution_count": 29,
   "metadata": {},
   "outputs": [
    {
     "data": {
      "text/plain": [
       "[{'estimator__n_estimators': 21},\n",
       " {'estimator__n_estimators': 167},\n",
       " {'estimator__n_estimators': 129},\n",
       " {'estimator__n_estimators': 195},\n",
       " {'estimator__n_estimators': 103},\n",
       " {'estimator__n_estimators': 75},\n",
       " {'estimator__n_estimators': 67},\n",
       " {'estimator__n_estimators': 135},\n",
       " {'estimator__n_estimators': 35},\n",
       " {'estimator__n_estimators': 117},\n",
       " {'estimator__n_estimators': 83},\n",
       " {'estimator__n_estimators': 87},\n",
       " {'estimator__n_estimators': 179},\n",
       " {'estimator__n_estimators': 131},\n",
       " {'estimator__n_estimators': 9},\n",
       " {'estimator__n_estimators': 193},\n",
       " {'estimator__n_estimators': 145},\n",
       " {'estimator__n_estimators': 169},\n",
       " {'estimator__n_estimators': 163},\n",
       " {'estimator__n_estimators': 63}]"
      ]
     },
     "execution_count": 29,
     "metadata": {},
     "output_type": "execute_result"
    }
   ],
   "source": [
    "clfhig.cv_results_['params']"
   ]
  },
  {
   "cell_type": "code",
   "execution_count": 30,
   "metadata": {},
   "outputs": [
    {
     "data": {
      "text/plain": [
       "0.8074478985909325"
      ]
     },
     "execution_count": 30,
     "metadata": {},
     "output_type": "execute_result"
    }
   ],
   "source": [
    "clfhig.best_score_"
   ]
  },
  {
   "cell_type": "code",
   "execution_count": 31,
   "metadata": {},
   "outputs": [
    {
     "data": {
      "text/plain": [
       "0.813085899454754"
      ]
     },
     "execution_count": 31,
     "metadata": {},
     "output_type": "execute_result"
    }
   ],
   "source": [
    "f1score_jd(y_hig,z_hig)"
   ]
  },
  {
   "cell_type": "code",
   "execution_count": null,
   "metadata": {},
   "outputs": [],
   "source": []
  },
  {
   "cell_type": "code",
   "execution_count": 32,
   "metadata": {},
   "outputs": [
    {
     "name": "stdout",
     "output_type": "stream",
     "text": [
      "125.73587226867676\n"
     ]
    }
   ],
   "source": [
    "start = time.time()\n",
    "df_avgdiffprim_hig, df_avgdiffseco_hig, df_stdprim_hig, df_stdseco_hig, predsprim_hig, predssec_hig, realprim_hig, realsec_hig = binaryPrecision(x_hig,y_hig,MO_hig, predictions=True)\n",
    "end = time.time()\n",
    "print(end-start)"
   ]
  },
  {
   "cell_type": "code",
   "execution_count": 33,
   "metadata": {},
   "outputs": [
    {
     "name": "stdout",
     "output_type": "stream",
     "text": [
      "-0.010988610729737391\n"
     ]
    },
    {
     "data": {
      "image/png": "[encoded data removed]",
      "text/plain": [
       "<Figure size 432x288 with 2 Axes>"
      ]
     },
     "metadata": {
      "needs_background": "light"
     },
     "output_type": "display_data"
    }
   ],
   "source": [
    "sns.heatmap(df_avgdiffprim_hig.drop([38,39],axis=1).drop([38,39]),annot=False,linewidths=0.1,linecolor='black', cmap=\"plasma\",vmin=-2,vmax=0.75)\n",
    "print(df_avgdiffprim_hig.mean(axis = 0, skipna = True).mean())"
   ]
  },
  {
   "cell_type": "code",
   "execution_count": 34,
   "metadata": {},
   "outputs": [
    {
     "name": "stdout",
     "output_type": "stream",
     "text": [
      "-0.0019026441497140307\n"
     ]
    },
    {
     "data": {
      "image/png": "[encoded data removed]",
      "text/plain": [
       "<Figure size 432x288 with 2 Axes>"
      ]
     },
     "metadata": {
      "needs_background": "light"
     },
     "output_type": "display_data"
    }
   ],
   "source": [
    "sns.heatmap(df_avgdiffseco_hig.drop([38,39],axis=1).drop([38,39]),annot=False,linewidths=0.1,linecolor='black', cmap=\"plasma\",vmin=-7,vmax=9)\n",
    "print(df_avgdiffseco_hig.mean(axis = 0, skipna = True).mean())"
   ]
  },
  {
   "cell_type": "code",
   "execution_count": 35,
   "metadata": {},
   "outputs": [
    {
     "name": "stdout",
     "output_type": "stream",
     "text": [
      "0.22155165224913648\n"
     ]
    },
    {
     "data": {
      "image/png": "[encoded data removed]",
      "text/plain": [
       "<Figure size 432x288 with 2 Axes>"
      ]
     },
     "metadata": {
      "needs_background": "light"
     },
     "output_type": "display_data"
    }
   ],
   "source": [
    "sns.heatmap(df_stdprim_hig.drop([38,39],axis=1).drop([38,39]),annot=False,linewidths=0.1,linecolor='black', cmap=\"plasma\",vmin=0,vmax=1.5)\n",
    "print(df_stdprim_hig.mean(axis = 0, skipna = True).mean())"
   ]
  },
  {
   "cell_type": "code",
   "execution_count": 36,
   "metadata": {},
   "outputs": [
    {
     "name": "stdout",
     "output_type": "stream",
     "text": [
      "0.723625959558446\n"
     ]
    },
    {
     "data": {
      "image/png": "[encoded data removed]",
      "text/plain": [
       "<Figure size 432x288 with 2 Axes>"
      ]
     },
     "metadata": {
      "needs_background": "light"
     },
     "output_type": "display_data"
    }
   ],
   "source": [
    "sns.heatmap(df_stdseco_hig.drop([38,39],axis=1).drop([38,39]),annot=False,linewidths=0.1,linecolor='black', cmap=\"plasma\",vmin=0,vmax=2)\n",
    "print(df_stdseco_hig.mean(axis = 0, skipna = True).mean())"
   ]
  },
  {
   "cell_type": "code",
   "execution_count": 37,
   "metadata": {},
   "outputs": [
    {
     "data": {
      "text/plain": [
       "{'primary_type': {'wavegrid': [0.9471239,\n",
       "   1.099546,\n",
       "   1.1244725,\n",
       "   1.128654,\n",
       "   1.1328428,\n",
       "   2.3483794],\n",
       "  'importance': [0.05381471402302849,\n",
       "   0.09868368949239797,\n",
       "   0.09907387881407578,\n",
       "   0.42785105255889766,\n",
       "   0.06584297930575876,\n",
       "   0.13549689909759682]},\n",
       " 'secondary_type': {'wavegrid': [1.1538873,\n",
       "   1.1835947,\n",
       "   1.3256073,\n",
       "   1.6226279,\n",
       "   1.6700326],\n",
       "  'importance': [0.014756691880178316,\n",
       "   0.2874929648360809,\n",
       "   0.04616208335910541,\n",
       "   0.018007453321538396,\n",
       "   0.015672287558604926]}}"
      ]
     },
     "execution_count": 37,
     "metadata": {},
     "output_type": "execute_result"
    },
    {
     "data": {
      "image/png": "[encoded data removed]",
      "text/plain": [
       "<Figure size 432x288 with 2 Axes>"
      ]
     },
     "metadata": {
      "needs_background": "light"
     },
     "output_type": "display_data"
    }
   ],
   "source": [
    "fig, ax = plt.subplots(2,1,sharex=True)\n",
    "\n",
    "# ax[0].plot(wavegrid,f17hig)\n",
    "# ax[0].plot(wavegrid,f24hig)\n",
    "ax[0].set_ylabel('Normalized Flux ($\\\\frac{erg}{cm}\\\\frac{1}{s}$)')\n",
    "ax[0].legend(['M7 normalized flux','L4 normalized flux'])\n",
    "\n",
    "feat_impts_hig = {'primary_type':{},'secondary_type':{}}\n",
    "ddd = []\n",
    "eee = []\n",
    "for clf in MO_hig.estimators_:\n",
    "    ax[1].plot(wavegrid,clf.feature_importances_, alpha=0.8)\n",
    "    max_imp = max(clf.feature_importances_)\n",
    "    dd = []\n",
    "    ee = []\n",
    "    for i in np.where(clf.feature_importances_ >= 0.05*max_imp)[0]:\n",
    "        dd.append(wavegrid[i])\n",
    "        ee.append(clf.feature_importances_[i])\n",
    "    ddd.append(dd)\n",
    "    eee.append(ee)\n",
    "ax[0].axvspan(1.35,1.42, alpha=0.3, color='k')\n",
    "ax[1].axvspan(1.35,1.42, alpha=0.3, color='k')\n",
    "ax[0].axvspan(1.80,1.95, alpha=0.3, color='k')\n",
    "ax[1].axvspan(1.80,1.95, alpha=0.3, color='k')\n",
    "ax[1].legend(['primary type', 'secondary type', 'telluric band'])\n",
    "plt.subplots_adjust(hspace=0)\n",
    "fig.suptitle('Feature importance and M7+L4 binary template')\n",
    "plt.xlabel('wavelength ($\\mu$m)')\n",
    "feat_impts_hig['primary_type']['wavegrid'] = ddd[0]\n",
    "feat_impts_hig['primary_type']['importance'] = eee[0]\n",
    "feat_impts_hig['secondary_type']['wavegrid'] = ddd[1]\n",
    "feat_impts_hig['secondary_type']['importance'] = eee[1]\n",
    "feat_impts_hig"
   ]
  },
  {
   "cell_type": "code",
   "execution_count": 44,
   "metadata": {},
   "outputs": [
    {
     "data": {
      "text/plain": [
       "{'primary_type': {'wavegrid': [0.9471239,\n",
       "   1.099546,\n",
       "   1.1244725,\n",
       "   1.128654,\n",
       "   1.1328428,\n",
       "   2.3483794],\n",
       "  'importance': [0.05381471402302849,\n",
       "   0.09868368949239797,\n",
       "   0.09907387881407578,\n",
       "   0.42785105255889766,\n",
       "   0.06584297930575876,\n",
       "   0.13549689909759682]},\n",
       " 'secondary_type': {'wavegrid': [1.1538873,\n",
       "   1.1835947,\n",
       "   1.3256073,\n",
       "   1.6226279,\n",
       "   1.6700326],\n",
       "  'importance': [0.014756691880178316,\n",
       "   0.2874929648360809,\n",
       "   0.04616208335910541,\n",
       "   0.018007453321538396,\n",
       "   0.015672287558604926]}}"
      ]
     },
     "execution_count": 44,
     "metadata": {},
     "output_type": "execute_result"
    },
    {
     "data": {
      "image/png": "[encoded data removed]",
      "text/plain": [
       "<Figure size 432x288 with 2 Axes>"
      ]
     },
     "metadata": {
      "needs_background": "light"
     },
     "output_type": "display_data"
    }
   ],
   "source": [
    "fig, ax = plt.subplots(2,1,sharex=True)\n",
    "\n",
    "feat_impts_hig = {'primary_type':{},'secondary_type':{}}\n",
    "ddd = []\n",
    "eee = []\n",
    "for clf in MO_hig.estimators_:\n",
    "    ax[0].plot(wavegrid,clf.feature_importances_, alpha=0.8)\n",
    "    max_imp = max(clf.feature_importances_)\n",
    "    dd = []\n",
    "    ee = []\n",
    "    for i in np.where(clf.feature_importances_ >= 0.05*max_imp)[0]:\n",
    "        dd.append(wavegrid[i])\n",
    "        ee.append(clf.feature_importances_[i])\n",
    "    ddd.append(dd)\n",
    "    eee.append(ee)\n",
    "for clf in MO_hig.estimators_:\n",
    "    ax[1].plot(wavegrid,np.log10(clf.feature_importances_), alpha=0.8)\n",
    "ax[0].set_ylabel('Feature Importance')\n",
    "ax[1].set_ylabel('log Feature Importance')\n",
    "ax[0].axvspan(1.35,1.42, alpha=0.3, color='k')\n",
    "ax[1].axvspan(1.35,1.42, alpha=0.3, color='k')\n",
    "ax[0].axvspan(1.80,1.95, alpha=0.3, color='k')\n",
    "ax[1].axvspan(1.80,1.95, alpha=0.3, color='k')\n",
    "ax[0].legend(['primary type', 'secondary type', 'telluric band'])\n",
    "plt.subplots_adjust(hspace=0)\n",
    "fig.suptitle('Feature importance and M7+L4 binary template')\n",
    "plt.xlabel('wavelength ($\\mu$m)')\n",
    "feat_impts_hig['primary_type']['wavegrid'] = ddd[0]\n",
    "feat_impts_hig['primary_type']['importance'] = eee[0]\n",
    "feat_impts_hig['secondary_type']['wavegrid'] = ddd[1]\n",
    "feat_impts_hig['secondary_type']['importance'] = eee[1]\n",
    "feat_impts_hig"
   ]
  },
  {
   "cell_type": "code",
   "execution_count": 38,
   "metadata": {},
   "outputs": [],
   "source": [
    "precisionprim_hig1, recallprim_hig1, f1_scoreprim_hig1, accuracyprim_hig1 = calculate_metrics(realprim_hig,predsprim_hig,1)\n",
    "precisionsec_hig1, recallsec_hig1, f1_scoresec_hig1, accuracysec_hig1 = calculate_metrics(realsec_hig,predssec_hig,1)\n",
    "precisionprim_hig3, recallprim_hig3, f1_scoreprim_hig3, accuracyprim_hig3 = calculate_metrics(realprim_hig,predsprim_hig,3)\n",
    "precisionsec_hig3, recallsec_hig3, f1_scoresec_hig3, accuracysec_hig3 = calculate_metrics(realsec_hig,predssec_hig,3)"
   ]
  },
  {
   "cell_type": "code",
   "execution_count": 39,
   "metadata": {},
   "outputs": [
    {
     "data": {
      "text/plain": [
       "{16: 0,\n",
       " 17: 0.05755395683453237,\n",
       " 18: 0.049019607843137254,\n",
       " 19: 0.15331010452961674,\n",
       " 20: 0.19002375296912113,\n",
       " 21: 0.20262664165103192,\n",
       " 22: 0.22468793342579751,\n",
       " 23: 0.2890855457227139,\n",
       " 24: 0.3472527472527473,\n",
       " 25: 0.4015056461731493,\n",
       " 26: 0.46441073512252046,\n",
       " 27: 0.5018847603661821,\n",
       " 28: 0.5704772475027747,\n",
       " 29: 0.5842696629213483,\n",
       " 30: 0.6301531213191991,\n",
       " 31: 0.6964477933261571,\n",
       " 32: 0.6656378600823045,\n",
       " 34: 0.7582260371959941,\n",
       " 35: 0.8647670737222977,\n",
       " 36: 0.8030150753768843}"
      ]
     },
     "execution_count": 39,
     "metadata": {},
     "output_type": "execute_result"
    }
   ],
   "source": [
    "f1_scoresec_hig1"
   ]
  },
  {
   "cell_type": "code",
   "execution_count": 40,
   "metadata": {},
   "outputs": [
    {
     "data": {
      "image/png": "[encoded data removed]",
      "text/plain": [
       "<Figure size 720x432 with 1 Axes>"
      ]
     },
     "metadata": {
      "needs_background": "light"
     },
     "output_type": "display_data"
    }
   ],
   "source": [
    "lettertypes = ['M6','M7','M8','M9','L0','L1','L2','L3','L4','L5','L6','L7','L8','L9','T0','T1','T2','T3','T4','T5','T6','T7']\n",
    "plt.figure(figsize=(10, 6))\n",
    "\n",
    "x = f1_scoresec_hig1\n",
    "y = f1_scoreprim_hig1\n",
    "secondary_types = list(range(16, 38))\n",
    "accuracy_sec = [x[i] for i in range(16, 33)]+[np.nan]+[x[i] for i in range(34, 37)]+[np.nan]\n",
    "primary_types = list(range(16, 38))\n",
    "accuracy_prim = [y[i] for i in range(16, 33)]+[np.nan]+[y[i] for i in range(34, 37)]+[np.nan]\n",
    "plt.plot(lettertypes, accuracy_sec, linestyle='-', color='b', label='Secondary, 1$\\sigma$, highsnr')\n",
    "plt.plot(lettertypes, accuracy_prim, linestyle='-', color='r', label='Primary, 1$\\sigma$, highsnr')\n",
    "\n",
    "# x = f1_scoresec_mid1\n",
    "# y = f1_scoreprim_mid1\n",
    "# secondary_types = list(range(16, 38))\n",
    "# accuracy_sec = [x[i] for i in secondary_types]\n",
    "# primary_types = list(range(16, 38))\n",
    "# accuracy_prim = [y[i] for i in primary_types]\n",
    "# plt.plot(lettertypes, accuracy_sec, linestyle='-', color='b', label='Secondary, 1$\\sigma$, midsnr', alpha=0.7)\n",
    "# plt.plot(lettertypes, accuracy_prim, linestyle='-', color='r', label='Primary, 1$\\sigma$, midsnr', alpha=0.7)\n",
    "\n",
    "# x = f1_scoresec_low1\n",
    "# y = f1_scoreprim_low1\n",
    "# secondary_types = list(range(16, 38))\n",
    "# accuracy_sec = [x[i] for i in secondary_types]\n",
    "# primary_types = list(range(16, 38))\n",
    "# accuracy_prim = [y[i] for i in primary_types]\n",
    "# plt.plot(lettertypes, accuracy_sec, linestyle='-', color='b', label='Secondary, 1$\\sigma$, lowsnr', alpha=0.4)\n",
    "# plt.plot(lettertypes, accuracy_prim, linestyle='-', color='r', label='Primary, 1$\\sigma$, lowsnr', alpha=0.4)\n",
    "\n",
    "plt.xlabel('Types')\n",
    "plt.ylabel('F1_score')\n",
    "plt.title('F1_score vs. Types')\n",
    "plt.grid(True)\n",
    "plt.legend()\n",
    "# plt.savefig('paperfigures/M6_L7'+modelname+'_FluxModel_primary_and_secondary_1sigma_3sigma_f1score_lineplot',facecolor='white')\n",
    "plt.show()"
   ]
  },
  {
   "cell_type": "code",
   "execution_count": null,
   "metadata": {},
   "outputs": [],
   "source": []
  }
 ],
 "metadata": {
  "kernelspec": {
   "display_name": "Python 3",
   "language": "python",
   "name": "python3"
  },
  "language_info": {
   "codemirror_mode": {
    "name": "ipython",
    "version": 3
   },
   "file_extension": ".py",
   "mimetype": "text/x-python",
   "name": "python",
   "nbconvert_exporter": "python",
   "pygments_lexer": "ipython3",
   "version": "3.10.1"
  },
  "orig_nbformat": 4
 },
 "nbformat": 4,
 "nbformat_minor": 2
}
