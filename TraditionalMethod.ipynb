{
 "cells": [
  {
   "cell_type": "code",
   "execution_count": 1,
   "metadata": {},
   "outputs": [],
   "source": [
    "import seaborn as sns\n",
    "import pandas as pd\n",
    "from sklearn.model_selection import train_test_split, GridSearchCV\n",
    "from sklearn.multioutput import MultiOutputRegressor\n",
    "from sklearn.ensemble import RandomForestRegressor\n",
    "import numpy as np\n",
    "import matplotlib.pyplot as plt\n",
    "import random\n",
    "import scipy.interpolate as interp\n",
    "import re\n",
    "import joblib\n",
    "import time"
   ]
  },
  {
   "cell_type": "code",
   "execution_count": 2,
   "metadata": {},
   "outputs": [],
   "source": [
    "from multioutput_functions import *"
   ]
  },
  {
   "cell_type": "code",
   "execution_count": 3,
   "metadata": {},
   "outputs": [
    {
     "data": {
      "text/html": [
       "<div>\n",
       "<style scoped>\n",
       "    .dataframe tbody tr th:only-of-type {\n",
       "        vertical-align: middle;\n",
       "    }\n",
       "\n",
       "    .dataframe tbody tr th {\n",
       "        vertical-align: top;\n",
       "    }\n",
       "\n",
       "    .dataframe thead th {\n",
       "        text-align: right;\n",
       "    }\n",
       "</style>\n",
       "<table border=\"1\" class=\"dataframe\">\n",
       "  <thead>\n",
       "    <tr style=\"text-align: right;\">\n",
       "      <th></th>\n",
       "      <th>FLUX</th>\n",
       "      <th>UNCERTAINTY</th>\n",
       "      <th>J_SNR</th>\n",
       "      <th>SPT</th>\n",
       "      <th>WAVEGRID</th>\n",
       "    </tr>\n",
       "  </thead>\n",
       "  <tbody>\n",
       "    <tr>\n",
       "      <th>0</th>\n",
       "      <td>[1.703971008737426e-08, 1.7167767651926624e-08...</td>\n",
       "      <td>[2.946189681107825e-10, 2.839981860791596e-10,...</td>\n",
       "      <td>83.142639</td>\n",
       "      <td>M0.0</td>\n",
       "      <td>[0.90129393, 0.9047135, 0.9081512, 0.9116069, ...</td>\n",
       "    </tr>\n",
       "    <tr>\n",
       "      <th>1</th>\n",
       "      <td>[1.6583900940910237e-08, 1.672354310811135e-08...</td>\n",
       "      <td>[3.912149663373827e-11, 3.979055985709922e-11,...</td>\n",
       "      <td>581.457947</td>\n",
       "      <td>M0.0</td>\n",
       "      <td>[0.90129393, 0.9047135, 0.9081512, 0.9116069, ...</td>\n",
       "    </tr>\n",
       "    <tr>\n",
       "      <th>2</th>\n",
       "      <td>[1.7414131914668705e-08, 1.7907500376747947e-0...</td>\n",
       "      <td>[1.0127925267676249e-10, 1.1089358919449286e-1...</td>\n",
       "      <td>256.111267</td>\n",
       "      <td>M0.0</td>\n",
       "      <td>[0.90129393, 0.9047135, 0.9081512, 0.9116069, ...</td>\n",
       "    </tr>\n",
       "    <tr>\n",
       "      <th>3</th>\n",
       "      <td>[1.6936995662189027e-08, 1.674996727617314e-08...</td>\n",
       "      <td>[1.8588180209452355e-11, 1.8242771540848554e-1...</td>\n",
       "      <td>1258.298950</td>\n",
       "      <td>M0.0</td>\n",
       "      <td>[0.90129393, 0.9047135, 0.9081512, 0.9116069, ...</td>\n",
       "    </tr>\n",
       "    <tr>\n",
       "      <th>4</th>\n",
       "      <td>[1.0767825248909163e-08, 1.1080657969754826e-0...</td>\n",
       "      <td>[9.574767289704915e-11, 1.0068553068993794e-10...</td>\n",
       "      <td>151.937103</td>\n",
       "      <td>M1.0</td>\n",
       "      <td>[0.90129393, 0.9047135, 0.9081512, 0.9116069, ...</td>\n",
       "    </tr>\n",
       "    <tr>\n",
       "      <th>...</th>\n",
       "      <td>...</td>\n",
       "      <td>...</td>\n",
       "      <td>...</td>\n",
       "      <td>...</td>\n",
       "      <td>...</td>\n",
       "    </tr>\n",
       "    <tr>\n",
       "      <th>1407</th>\n",
       "      <td>[2.3139820970701434e-13, 1.246237555225135e-13...</td>\n",
       "      <td>[1.2961283330524777e-13, 1.2520460658453793e-1...</td>\n",
       "      <td>4.703918</td>\n",
       "      <td>T8.0</td>\n",
       "      <td>[0.90129393, 0.9047135, 0.9081512, 0.9116069, ...</td>\n",
       "    </tr>\n",
       "    <tr>\n",
       "      <th>1408</th>\n",
       "      <td>[5.244854443773445e-14, 6.580743947046151e-14,...</td>\n",
       "      <td>[3.029490952427518e-14, 2.968834229762724e-14,...</td>\n",
       "      <td>23.436972</td>\n",
       "      <td>T8.0</td>\n",
       "      <td>[0.90129393, 0.9047135, 0.9081512, 0.9116069, ...</td>\n",
       "    </tr>\n",
       "    <tr>\n",
       "      <th>1409</th>\n",
       "      <td>[-2.2614582467991454e-14, 5.872129739165835e-1...</td>\n",
       "      <td>[4.4876320743869606e-14, 4.616998222544605e-14...</td>\n",
       "      <td>13.918951</td>\n",
       "      <td>T8.0</td>\n",
       "      <td>[0.90129393, 0.9047135, 0.9081512, 0.9116069, ...</td>\n",
       "    </tr>\n",
       "    <tr>\n",
       "      <th>1410</th>\n",
       "      <td>[1.4678859815360097e-14, 1.7897430190283215e-1...</td>\n",
       "      <td>[6.009617385156795e-15, 6.170117985714561e-15,...</td>\n",
       "      <td>30.023281</td>\n",
       "      <td>T9.0</td>\n",
       "      <td>[0.90129393, 0.9047135, 0.9081512, 0.9116069, ...</td>\n",
       "    </tr>\n",
       "    <tr>\n",
       "      <th>1411</th>\n",
       "      <td>[1.3160605789392751e-14, 3.67817960550198e-14,...</td>\n",
       "      <td>[5.1670978628875254e-15, 5.171935002322336e-15...</td>\n",
       "      <td>24.918734</td>\n",
       "      <td>T9.0</td>\n",
       "      <td>[0.90129393, 0.9047135, 0.9081512, 0.9116069, ...</td>\n",
       "    </tr>\n",
       "  </tbody>\n",
       "</table>\n",
       "<p>1412 rows × 5 columns</p>\n",
       "</div>"
      ],
      "text/plain": [
       "                                                   FLUX  \\\n",
       "0     [1.703971008737426e-08, 1.7167767651926624e-08...   \n",
       "1     [1.6583900940910237e-08, 1.672354310811135e-08...   \n",
       "2     [1.7414131914668705e-08, 1.7907500376747947e-0...   \n",
       "3     [1.6936995662189027e-08, 1.674996727617314e-08...   \n",
       "4     [1.0767825248909163e-08, 1.1080657969754826e-0...   \n",
       "...                                                 ...   \n",
       "1407  [2.3139820970701434e-13, 1.246237555225135e-13...   \n",
       "1408  [5.244854443773445e-14, 6.580743947046151e-14,...   \n",
       "1409  [-2.2614582467991454e-14, 5.872129739165835e-1...   \n",
       "1410  [1.4678859815360097e-14, 1.7897430190283215e-1...   \n",
       "1411  [1.3160605789392751e-14, 3.67817960550198e-14,...   \n",
       "\n",
       "                                            UNCERTAINTY        J_SNR   SPT  \\\n",
       "0     [2.946189681107825e-10, 2.839981860791596e-10,...    83.142639  M0.0   \n",
       "1     [3.912149663373827e-11, 3.979055985709922e-11,...   581.457947  M0.0   \n",
       "2     [1.0127925267676249e-10, 1.1089358919449286e-1...   256.111267  M0.0   \n",
       "3     [1.8588180209452355e-11, 1.8242771540848554e-1...  1258.298950  M0.0   \n",
       "4     [9.574767289704915e-11, 1.0068553068993794e-10...   151.937103  M1.0   \n",
       "...                                                 ...          ...   ...   \n",
       "1407  [1.2961283330524777e-13, 1.2520460658453793e-1...     4.703918  T8.0   \n",
       "1408  [3.029490952427518e-14, 2.968834229762724e-14,...    23.436972  T8.0   \n",
       "1409  [4.4876320743869606e-14, 4.616998222544605e-14...    13.918951  T8.0   \n",
       "1410  [6.009617385156795e-15, 6.170117985714561e-15,...    30.023281  T9.0   \n",
       "1411  [5.1670978628875254e-15, 5.171935002322336e-15...    24.918734  T9.0   \n",
       "\n",
       "                                               WAVEGRID  \n",
       "0     [0.90129393, 0.9047135, 0.9081512, 0.9116069, ...  \n",
       "1     [0.90129393, 0.9047135, 0.9081512, 0.9116069, ...  \n",
       "2     [0.90129393, 0.9047135, 0.9081512, 0.9116069, ...  \n",
       "3     [0.90129393, 0.9047135, 0.9081512, 0.9116069, ...  \n",
       "4     [0.90129393, 0.9047135, 0.9081512, 0.9116069, ...  \n",
       "...                                                 ...  \n",
       "1407  [0.90129393, 0.9047135, 0.9081512, 0.9116069, ...  \n",
       "1408  [0.90129393, 0.9047135, 0.9081512, 0.9116069, ...  \n",
       "1409  [0.90129393, 0.9047135, 0.9081512, 0.9116069, ...  \n",
       "1410  [0.90129393, 0.9047135, 0.9081512, 0.9116069, ...  \n",
       "1411  [0.90129393, 0.9047135, 0.9081512, 0.9116069, ...  \n",
       "\n",
       "[1412 rows x 5 columns]"
      ]
     },
     "execution_count": 3,
     "metadata": {},
     "output_type": "execute_result"
    }
   ],
   "source": [
    "singles = pd.read_hdf(r'C:/Users/juand/Research/h5_files/single_spectra_with_synthphot.h5')\n",
    "singles.columns\n",
    "singles = singles.drop(['OPT_SPT','NIR_SPT','LIT_SPT', 'DATA_REFERENCE',\n",
    "       'MKO_J', 'MKO_H', 'MKO_KS', '2MASS_J', '2MASS_H', '2MASS_KS',\n",
    "       'MKO_J_ER', 'MKO_H_ER', 'MKO_KS_ER', '2MASS_J_ER', '2MASS_H_ER',\n",
    "       '2MASS_KS_ER','SPEX_SPT','NAME','DESIGNATION'],axis=1)\n",
    "# fig, axe = plt.subplots()\n",
    "# axe.hist(singles['CLASS'],bins=23)\n",
    "singles = singles.dropna()\n",
    "singles = singles.loc[singles['CLASS']=='___']\n",
    "singles = singles.reset_index(drop=True)\n",
    "val = singles['CLEAN'][0]\n",
    "list(singles['CLEAN']).count(val)- len(singles)\n",
    "singles = singles.loc[singles['CLEAN']==val]\n",
    "singles = singles.reset_index(drop=True)\n",
    "singles = singles.drop(['CLEAN','CLASS'],axis=1)\n",
    "singles"
   ]
  },
  {
   "cell_type": "code",
   "execution_count": 4,
   "metadata": {},
   "outputs": [],
   "source": [
    "standards = pd.read_hdf(r'C:/Users/juand/Research/h5_files/standards.h5')\n",
    "waavv = standards[\"wavegrid\"].iloc[0]"
   ]
  },
  {
   "cell_type": "code",
   "execution_count": 5,
   "metadata": {},
   "outputs": [],
   "source": [
    "wave = singles['WAVEGRID'][0]\n",
    "wavegrid_list=list(wave)\n",
    "wave = np.array(wave)\n",
    "wavegrid=wave"
   ]
  },
  {
   "cell_type": "code",
   "execution_count": 6,
   "metadata": {},
   "outputs": [],
   "source": [
    "df = pd.read_hdf(r'C:/Users/juand/Research/h5_files/standards.h5')\n",
    "STANDARDS = {\n",
    "    \"WAVE\": df[\"wavegrid\"].iloc[0],\n",
    "    \"SPT\": df[\"sptype\"],\n",
    "    \"FLUX\": df[\"interpolated_flux\"],\n",
    "    \"UNC\": df[\"interpolated_noise\"],\n",
    "}"
   ]
  },
  {
   "cell_type": "code",
   "execution_count": 7,
   "metadata": {},
   "outputs": [
    {
     "data": {
      "text/html": [
       "<div>\n",
       "<style scoped>\n",
       "    .dataframe tbody tr th:only-of-type {\n",
       "        vertical-align: middle;\n",
       "    }\n",
       "\n",
       "    .dataframe tbody tr th {\n",
       "        vertical-align: top;\n",
       "    }\n",
       "\n",
       "    .dataframe thead th {\n",
       "        text-align: right;\n",
       "    }\n",
       "</style>\n",
       "<table border=\"1\" class=\"dataframe\">\n",
       "  <thead>\n",
       "    <tr style=\"text-align: right;\">\n",
       "      <th></th>\n",
       "      <th>FLUX</th>\n",
       "      <th>UNCERTAINTY</th>\n",
       "      <th>J_SNR</th>\n",
       "      <th>SPT</th>\n",
       "      <th>WAVEGRID</th>\n",
       "      <th>SPT_NUM</th>\n",
       "    </tr>\n",
       "  </thead>\n",
       "  <tbody>\n",
       "    <tr>\n",
       "      <th>0</th>\n",
       "      <td>[2.135159610671172e-10, 2.1796931627639386e-10...</td>\n",
       "      <td>[1.7590789550275392e-12, 1.7659007111735759e-1...</td>\n",
       "      <td>123.474426</td>\n",
       "      <td>M6.0</td>\n",
       "      <td>[0.90129393, 0.9047135, 0.9081512, 0.9116069, ...</td>\n",
       "      <td>16.0</td>\n",
       "    </tr>\n",
       "    <tr>\n",
       "      <th>1</th>\n",
       "      <td>[1.9660627713093847e-10, 2.1131039893243844e-1...</td>\n",
       "      <td>[5.982245325049133e-12, 5.755711185801827e-12,...</td>\n",
       "      <td>94.018303</td>\n",
       "      <td>M6.0</td>\n",
       "      <td>[0.90129393, 0.9047135, 0.9081512, 0.9116069, ...</td>\n",
       "      <td>16.0</td>\n",
       "    </tr>\n",
       "    <tr>\n",
       "      <th>2</th>\n",
       "      <td>[1.9950771920752281e-10, 2.079591490944689e-10...</td>\n",
       "      <td>[7.703832533018333e-13, 1.0951267822400711e-12...</td>\n",
       "      <td>386.537811</td>\n",
       "      <td>M6.0</td>\n",
       "      <td>[0.90129393, 0.9047135, 0.9081512, 0.9116069, ...</td>\n",
       "      <td>16.0</td>\n",
       "    </tr>\n",
       "    <tr>\n",
       "      <th>3</th>\n",
       "      <td>[2.1571572208552167e-10, 2.211778834251868e-10...</td>\n",
       "      <td>[3.796086878369872e-13, 3.8170877535247325e-13...</td>\n",
       "      <td>912.152893</td>\n",
       "      <td>M6.0</td>\n",
       "      <td>[0.90129393, 0.9047135, 0.9081512, 0.9116069, ...</td>\n",
       "      <td>16.0</td>\n",
       "    </tr>\n",
       "    <tr>\n",
       "      <th>4</th>\n",
       "      <td>[1.9762911463072993e-10, 2.0580528498234088e-1...</td>\n",
       "      <td>[2.2989224859548107e-12, 2.3022679333025286e-1...</td>\n",
       "      <td>204.598099</td>\n",
       "      <td>M6.0</td>\n",
       "      <td>[0.90129393, 0.9047135, 0.9081512, 0.9116069, ...</td>\n",
       "      <td>16.0</td>\n",
       "    </tr>\n",
       "  </tbody>\n",
       "</table>\n",
       "</div>"
      ],
      "text/plain": [
       "                                                FLUX  \\\n",
       "0  [2.135159610671172e-10, 2.1796931627639386e-10...   \n",
       "1  [1.9660627713093847e-10, 2.1131039893243844e-1...   \n",
       "2  [1.9950771920752281e-10, 2.079591490944689e-10...   \n",
       "3  [2.1571572208552167e-10, 2.211778834251868e-10...   \n",
       "4  [1.9762911463072993e-10, 2.0580528498234088e-1...   \n",
       "\n",
       "                                         UNCERTAINTY       J_SNR   SPT  \\\n",
       "0  [1.7590789550275392e-12, 1.7659007111735759e-1...  123.474426  M6.0   \n",
       "1  [5.982245325049133e-12, 5.755711185801827e-12,...   94.018303  M6.0   \n",
       "2  [7.703832533018333e-13, 1.0951267822400711e-12...  386.537811  M6.0   \n",
       "3  [3.796086878369872e-13, 3.8170877535247325e-13...  912.152893  M6.0   \n",
       "4  [2.2989224859548107e-12, 2.3022679333025286e-1...  204.598099  M6.0   \n",
       "\n",
       "                                            WAVEGRID  SPT_NUM  \n",
       "0  [0.90129393, 0.9047135, 0.9081512, 0.9116069, ...     16.0  \n",
       "1  [0.90129393, 0.9047135, 0.9081512, 0.9116069, ...     16.0  \n",
       "2  [0.90129393, 0.9047135, 0.9081512, 0.9116069, ...     16.0  \n",
       "3  [0.90129393, 0.9047135, 0.9081512, 0.9116069, ...     16.0  \n",
       "4  [0.90129393, 0.9047135, 0.9081512, 0.9116069, ...     16.0  "
      ]
     },
     "execution_count": 7,
     "metadata": {},
     "output_type": "execute_result"
    }
   ],
   "source": [
    "typenum=[]\n",
    "for i in range(len(singles)):\n",
    "    typenum.append(typeToNum(singles['SPT'][i]))\n",
    "singles['SPT_NUM']=typenum\n",
    "singles = singles.loc[singles['SPT_NUM']>15*np.ones(len(singles))]\n",
    "singles = singles.reset_index(drop=True)\n",
    "singles.head()"
   ]
  },
  {
   "cell_type": "code",
   "execution_count": 8,
   "metadata": {},
   "outputs": [
    {
     "data": {
      "text/html": [
       "<div>\n",
       "<style scoped>\n",
       "    .dataframe tbody tr th:only-of-type {\n",
       "        vertical-align: middle;\n",
       "    }\n",
       "\n",
       "    .dataframe tbody tr th {\n",
       "        vertical-align: top;\n",
       "    }\n",
       "\n",
       "    .dataframe thead th {\n",
       "        text-align: right;\n",
       "    }\n",
       "</style>\n",
       "<table border=\"1\" class=\"dataframe\">\n",
       "  <thead>\n",
       "    <tr style=\"text-align: right;\">\n",
       "      <th></th>\n",
       "      <th>FLUX</th>\n",
       "      <th>UNCERTAINTY</th>\n",
       "      <th>J_SNR</th>\n",
       "      <th>SPT</th>\n",
       "      <th>WAVEGRID</th>\n",
       "      <th>SPT_NUM</th>\n",
       "    </tr>\n",
       "  </thead>\n",
       "  <tbody>\n",
       "    <tr>\n",
       "      <th>0</th>\n",
       "      <td>[2.135159610671172e-10, 2.1796931627639386e-10...</td>\n",
       "      <td>[1.7590789550275392e-12, 1.7659007111735759e-1...</td>\n",
       "      <td>124.405599</td>\n",
       "      <td>M6.0</td>\n",
       "      <td>[0.90129393, 0.9047135, 0.9081512, 0.9116069, ...</td>\n",
       "      <td>16.0</td>\n",
       "    </tr>\n",
       "    <tr>\n",
       "      <th>1</th>\n",
       "      <td>[1.9660627713093847e-10, 2.1131039893243844e-1...</td>\n",
       "      <td>[5.982245325049133e-12, 5.755711185801827e-12,...</td>\n",
       "      <td>100.726025</td>\n",
       "      <td>M6.0</td>\n",
       "      <td>[0.90129393, 0.9047135, 0.9081512, 0.9116069, ...</td>\n",
       "      <td>16.0</td>\n",
       "    </tr>\n",
       "    <tr>\n",
       "      <th>2</th>\n",
       "      <td>[1.9950771920752281e-10, 2.079591490944689e-10...</td>\n",
       "      <td>[7.703832533018333e-13, 1.0951267822400711e-12...</td>\n",
       "      <td>381.343321</td>\n",
       "      <td>M6.0</td>\n",
       "      <td>[0.90129393, 0.9047135, 0.9081512, 0.9116069, ...</td>\n",
       "      <td>16.0</td>\n",
       "    </tr>\n",
       "    <tr>\n",
       "      <th>3</th>\n",
       "      <td>[2.1571572208552167e-10, 2.211778834251868e-10...</td>\n",
       "      <td>[3.796086878369872e-13, 3.8170877535247325e-13...</td>\n",
       "      <td>925.724731</td>\n",
       "      <td>M6.0</td>\n",
       "      <td>[0.90129393, 0.9047135, 0.9081512, 0.9116069, ...</td>\n",
       "      <td>16.0</td>\n",
       "    </tr>\n",
       "    <tr>\n",
       "      <th>4</th>\n",
       "      <td>[1.9762911463072993e-10, 2.0580528498234088e-1...</td>\n",
       "      <td>[2.2989224859548107e-12, 2.3022679333025286e-1...</td>\n",
       "      <td>213.814198</td>\n",
       "      <td>M6.0</td>\n",
       "      <td>[0.90129393, 0.9047135, 0.9081512, 0.9116069, ...</td>\n",
       "      <td>16.0</td>\n",
       "    </tr>\n",
       "  </tbody>\n",
       "</table>\n",
       "</div>"
      ],
      "text/plain": [
       "                                                FLUX  \\\n",
       "0  [2.135159610671172e-10, 2.1796931627639386e-10...   \n",
       "1  [1.9660627713093847e-10, 2.1131039893243844e-1...   \n",
       "2  [1.9950771920752281e-10, 2.079591490944689e-10...   \n",
       "3  [2.1571572208552167e-10, 2.211778834251868e-10...   \n",
       "4  [1.9762911463072993e-10, 2.0580528498234088e-1...   \n",
       "\n",
       "                                         UNCERTAINTY       J_SNR   SPT  \\\n",
       "0  [1.7590789550275392e-12, 1.7659007111735759e-1...  124.405599  M6.0   \n",
       "1  [5.982245325049133e-12, 5.755711185801827e-12,...  100.726025  M6.0   \n",
       "2  [7.703832533018333e-13, 1.0951267822400711e-12...  381.343321  M6.0   \n",
       "3  [3.796086878369872e-13, 3.8170877535247325e-13...  925.724731  M6.0   \n",
       "4  [2.2989224859548107e-12, 2.3022679333025286e-1...  213.814198  M6.0   \n",
       "\n",
       "                                            WAVEGRID  SPT_NUM  \n",
       "0  [0.90129393, 0.9047135, 0.9081512, 0.9116069, ...     16.0  \n",
       "1  [0.90129393, 0.9047135, 0.9081512, 0.9116069, ...     16.0  \n",
       "2  [0.90129393, 0.9047135, 0.9081512, 0.9116069, ...     16.0  \n",
       "3  [0.90129393, 0.9047135, 0.9081512, 0.9116069, ...     16.0  \n",
       "4  [0.90129393, 0.9047135, 0.9081512, 0.9116069, ...     16.0  "
      ]
     },
     "execution_count": 8,
     "metadata": {},
     "output_type": "execute_result"
    }
   ],
   "source": [
    "newsnr=[]\n",
    "for i in range(len(singles)):\n",
    "    flux=singles['FLUX'][i]\n",
    "    uncer=singles['UNCERTAINTY'][i]\n",
    "    newsnr.append(measureSN(wave,flux,uncer))\n",
    "singles['J_SNR']=newsnr\n",
    "singles.head()"
   ]
  },
  {
   "cell_type": "code",
   "execution_count": 9,
   "metadata": {},
   "outputs": [],
   "source": [
    "snrclass=[]\n",
    "for i in range(len(singles)):\n",
    "    snrQ = singles['J_SNR'][i]\n",
    "    if snrQ<50:\n",
    "        snrclass.append('low')\n",
    "    elif (snrQ>=50)&(snrQ<100):\n",
    "        snrclass.append('mid')\n",
    "    else:\n",
    "        snrclass.append('hig')\n",
    "singles['SNR_CLASS']=snrclass"
   ]
  },
  {
   "cell_type": "code",
   "execution_count": null,
   "metadata": {},
   "outputs": [],
   "source": []
  },
  {
   "cell_type": "code",
   "execution_count": 10,
   "metadata": {},
   "outputs": [],
   "source": [
    "bina = pd.read_hdf(r'C:/Users/juand/Research/h5_files/spectral_templates_aug3_normalized.h5', key='binaries')\n",
    "bina = bina.drop(['diff_'+str(i) for i in range(409)], axis=1)\n",
    "binaries_wavegrid = pd.read_hdf(r'C:/Users/juand/Research/h5_files/spectral_templates_aug3_normalized.h5', key='wavegrid')\n",
    "b_wavegrid = np.array(binaries_wavegrid)"
   ]
  },
  {
   "cell_type": "code",
   "execution_count": 11,
   "metadata": {},
   "outputs": [],
   "source": [
    "interpol_flux=[]\n",
    "for j in range(len(bina)):\n",
    "    a=[]\n",
    "    for i in range(409):\n",
    "        a.append(bina[\"flux_\" + str(i)][j])\n",
    "    interpol_flux.append(a)\n",
    "bina[\"interpol_flux\"]=interpol_flux\n",
    "\n",
    "bina = bina.loc[bina['primary_type']<=bina['secondary_type']]\n",
    "bina = bina.reset_index(drop=True)"
   ]
  },
  {
   "cell_type": "code",
   "execution_count": 12,
   "metadata": {},
   "outputs": [],
   "source": [
    "new_wave=wave\n",
    "new_wave[-1]=b_wavegrid[-1]\n",
    "fluxlist=[]\n",
    "for i in range(len(bina)):\n",
    "    fluxi=bina['interpol_flux'][i]\n",
    "    nfluxi = interpolate_flux_wave(b_wavegrid, fluxi, wgrid=new_wave)\n",
    "    fluxlist.append(nfluxi)\n",
    "bina['FLUX']=fluxlist    "
   ]
  },
  {
   "cell_type": "code",
   "execution_count": 13,
   "metadata": {},
   "outputs": [],
   "source": [
    "BINARIES = {\n",
    "    \"WAVE\": wavegrid,\n",
    "    \"PRIM\": bina[\"primary_type\"],\n",
    "    \"SECO\": bina[\"secondary_type\"],\n",
    "    \"FLUX\": bina[\"FLUX\"],\n",
    "}"
   ]
  },
  {
   "cell_type": "code",
   "execution_count": 14,
   "metadata": {},
   "outputs": [],
   "source": [
    "def fast_binary_classify(wave,flux,unc,fit_range=[0.9, 2.4],standards=BINARIES,telluric=False,method=\"full\"):\n",
    "    if method == \"kirkpatrick\":\n",
    "        fit_range = [0.9, 1.4]\n",
    "    elif method == \"full\":\n",
    "        fit_range = [0.9, 2.4]\n",
    "    else:\n",
    "        pass\n",
    "\n",
    "    scales, chi = [], []\n",
    "    weights = np.ones(len(wave))\n",
    "\n",
    "    if telluric == True:\n",
    "        msk = np.ones(len(weights))\n",
    "        msk[\n",
    "            np.where(\n",
    "                np.logical_or(\n",
    "                    np.logical_and(wavegrid > 1.35, wavegrid < 1.42),\n",
    "                    np.logical_and(wavegrid > 1.8, wavegrid < 1.95),\n",
    "                )\n",
    "            )\n",
    "        ] = 0\n",
    "        weights = weights * msk\n",
    "\n",
    "    # Loop through standards\n",
    "    for std in standards[\"FLUX\"]:\n",
    "        if type(std)==list:\n",
    "            std=np.array(std)\n",
    "        scale = np.nansum(weights * (flux * std) / (unc**2)) / np.nansum(\n",
    "            (weights * std**2) / (unc**2)\n",
    "        )\n",
    "        scales.append(scale)\n",
    "        chisquared = np.nansum(\n",
    "            weights * ((flux - (std * scales[-1])) ** 2) / (unc**2)\n",
    "        )\n",
    "        chi.append(chisquared)\n",
    "\n",
    "    return standards[\"PRIM\"][np.argmin(chi)], standards[\"SECO\"][np.argmin(chi)], np.min(chi)"
   ]
  },
  {
   "cell_type": "code",
   "execution_count": 15,
   "metadata": {},
   "outputs": [
    {
     "data": {
      "text/plain": [
       "<AxesSubplot:xlabel='SPT_NUM', ylabel='SNR_CLASS'>"
      ]
     },
     "execution_count": 15,
     "metadata": {},
     "output_type": "execute_result"
    },
    {
     "data": {
      "image/png": "[encoded data removed]",
      "text/plain": [
       "<Figure size 432x288 with 2 Axes>"
      ]
     },
     "metadata": {
      "needs_background": "light"
     },
     "output_type": "display_data"
    }
   ],
   "source": [
    "newdf = addstars(singles,1000, mintype='', maxtype=37)\n",
    "\n",
    "spt_snr = newdf.groupby('SNR_CLASS').SPT_NUM.value_counts().unstack()\n",
    "sns.heatmap(spt_snr,annot=False,linewidths=0.1,linecolor='black')"
   ]
  },
  {
   "cell_type": "code",
   "execution_count": 16,
   "metadata": {},
   "outputs": [
    {
     "data": {
      "text/html": [
       "<div>\n",
       "<style scoped>\n",
       "    .dataframe tbody tr th:only-of-type {\n",
       "        vertical-align: middle;\n",
       "    }\n",
       "\n",
       "    .dataframe tbody tr th {\n",
       "        vertical-align: top;\n",
       "    }\n",
       "\n",
       "    .dataframe thead th {\n",
       "        text-align: right;\n",
       "    }\n",
       "</style>\n",
       "<table border=\"1\" class=\"dataframe\">\n",
       "  <thead>\n",
       "    <tr style=\"text-align: right;\">\n",
       "      <th></th>\n",
       "      <th>system_interpolated_flux</th>\n",
       "      <th>system_interpolated_noise</th>\n",
       "      <th>primary_type</th>\n",
       "      <th>secondary_type</th>\n",
       "      <th>snr</th>\n",
       "      <th>SNR_CLASS</th>\n",
       "      <th>wavegrid</th>\n",
       "    </tr>\n",
       "  </thead>\n",
       "  <tbody>\n",
       "    <tr>\n",
       "      <th>0</th>\n",
       "      <td>[0.917556365316165, 0.8023411291940155, 0.8738...</td>\n",
       "      <td>[0.1596025765080506, 0.15991307380320072, 0.16...</td>\n",
       "      <td>16</td>\n",
       "      <td>16</td>\n",
       "      <td>7.808569</td>\n",
       "      <td>low</td>\n",
       "      <td>[0.90129393, 0.9047135, 0.9081512, 0.9116069, ...</td>\n",
       "    </tr>\n",
       "    <tr>\n",
       "      <th>1</th>\n",
       "      <td>[0.380740118930977, 0.09785631160145482, 0.194...</td>\n",
       "      <td>[0.1707711518854419, 0.23044747488941494, 0.17...</td>\n",
       "      <td>16</td>\n",
       "      <td>16</td>\n",
       "      <td>3.218501</td>\n",
       "      <td>low</td>\n",
       "      <td>[0.90129393, 0.9047135, 0.9081512, 0.9116069, ...</td>\n",
       "    </tr>\n",
       "    <tr>\n",
       "      <th>2</th>\n",
       "      <td>[0.7796329191435059, 1.1277256867673169, 0.749...</td>\n",
       "      <td>[0.16164514155838902, 0.16205548844786422, 0.1...</td>\n",
       "      <td>16</td>\n",
       "      <td>16</td>\n",
       "      <td>11.032378</td>\n",
       "      <td>low</td>\n",
       "      <td>[0.90129393, 0.9047135, 0.9081512, 0.9116069, ...</td>\n",
       "    </tr>\n",
       "    <tr>\n",
       "      <th>3</th>\n",
       "      <td>[0.6839373736816976, 0.7993670507716408, 0.707...</td>\n",
       "      <td>[0.05611569742396301, 0.06208040018085123, 0.0...</td>\n",
       "      <td>16</td>\n",
       "      <td>16</td>\n",
       "      <td>29.310885</td>\n",
       "      <td>low</td>\n",
       "      <td>[0.90129393, 0.9047135, 0.9081512, 0.9116069, ...</td>\n",
       "    </tr>\n",
       "    <tr>\n",
       "      <th>4</th>\n",
       "      <td>[0.434268240128182, 0.8141686191431761, 0.8578...</td>\n",
       "      <td>[0.16965358473146977, 0.17005690824065298, 0.1...</td>\n",
       "      <td>16</td>\n",
       "      <td>16</td>\n",
       "      <td>13.236486</td>\n",
       "      <td>low</td>\n",
       "      <td>[0.90129393, 0.9047135, 0.9081512, 0.9116069, ...</td>\n",
       "    </tr>\n",
       "  </tbody>\n",
       "</table>\n",
       "</div>"
      ],
      "text/plain": [
       "                            system_interpolated_flux  \\\n",
       "0  [0.917556365316165, 0.8023411291940155, 0.8738...   \n",
       "1  [0.380740118930977, 0.09785631160145482, 0.194...   \n",
       "2  [0.7796329191435059, 1.1277256867673169, 0.749...   \n",
       "3  [0.6839373736816976, 0.7993670507716408, 0.707...   \n",
       "4  [0.434268240128182, 0.8141686191431761, 0.8578...   \n",
       "\n",
       "                           system_interpolated_noise  primary_type  \\\n",
       "0  [0.1596025765080506, 0.15991307380320072, 0.16...            16   \n",
       "1  [0.1707711518854419, 0.23044747488941494, 0.17...            16   \n",
       "2  [0.16164514155838902, 0.16205548844786422, 0.1...            16   \n",
       "3  [0.05611569742396301, 0.06208040018085123, 0.0...            16   \n",
       "4  [0.16965358473146977, 0.17005690824065298, 0.1...            16   \n",
       "\n",
       "   secondary_type        snr SNR_CLASS  \\\n",
       "0              16   7.808569       low   \n",
       "1              16   3.218501       low   \n",
       "2              16  11.032378       low   \n",
       "3              16  29.310885       low   \n",
       "4              16  13.236486       low   \n",
       "\n",
       "                                            wavegrid  \n",
       "0  [0.90129393, 0.9047135, 0.9081512, 0.9116069, ...  \n",
       "1  [0.90129393, 0.9047135, 0.9081512, 0.9116069, ...  \n",
       "2  [0.90129393, 0.9047135, 0.9081512, 0.9116069, ...  \n",
       "3  [0.90129393, 0.9047135, 0.9081512, 0.9116069, ...  \n",
       "4  [0.90129393, 0.9047135, 0.9081512, 0.9116069, ...  "
      ]
     },
     "execution_count": 16,
     "metadata": {},
     "output_type": "execute_result"
    }
   ],
   "source": [
    "BinDF_low = binaryCreation(newdf,snr_range='low',target=40) #target=40\n",
    "BinDF_mid = binaryCreation(newdf,snr_range='mid',target=40) #target=40\n",
    "BinDF_hig = binaryCreation(newdf,snr_range='hig',target=40) #target=40\n",
    "frames = [BinDF_low, BinDF_mid, BinDF_hig]\n",
    "BinDF = pd.concat(frames)\n",
    "BinDF = BinDF.reset_index(drop=True)\n",
    "BinDF.head()"
   ]
  },
  {
   "cell_type": "code",
   "execution_count": 17,
   "metadata": {},
   "outputs": [
    {
     "data": {
      "text/plain": [
       "30360"
      ]
     },
     "execution_count": 17,
     "metadata": {},
     "output_type": "execute_result"
    }
   ],
   "source": [
    "len(BinDF)"
   ]
  },
  {
   "cell_type": "code",
   "execution_count": 23,
   "metadata": {},
   "outputs": [],
   "source": [
    "def traditionalMethod(starsdataframe: pd.DataFrame, target: int):\n",
    "    dic_b = {'primary_type': [i for i in list(range(16,38)) for j in range(16,38)],\n",
    "             'secondary_type': [i for j in range(16,38) for i in list(range(16,38))]}\n",
    "    types_df = pd.DataFrame(dic_b)\n",
    "    types_df = types_df.loc[types_df['primary_type']<=types_df['secondary_type']].reset_index(drop=True)\n",
    "    types_count = types_df.groupby('secondary_type').primary_type.value_counts().unstack()\n",
    "    pd_diffprim=types_count.copy()\n",
    "    pd_diffseco=types_count.copy()\n",
    "    pd_stdprim=types_count.copy()\n",
    "    pd_stdseco=types_count.copy()\n",
    "\n",
    "    rowslist=[]\n",
    "    chilist = []\n",
    "\n",
    "    for j in range(16,38):\n",
    "        list1=[]\n",
    "        list2=[]\n",
    "        list3=[]\n",
    "        list4=[]\n",
    "        for l in range(16,j):\n",
    "            list1.append(np.nan)\n",
    "            list2.append(np.nan)\n",
    "            list3.append(np.nan)\n",
    "            list4.append(np.nan)\n",
    "        for k in range(j,38):\n",
    "            predsprim=[]\n",
    "            predssec=[]\n",
    "            realprim=[]\n",
    "            realsec=[]\n",
    "            diffprim=[]\n",
    "            diffsec=[]\n",
    "            reduced_df = starsdataframe[(starsdataframe['primary_type'] == j) & (starsdataframe['secondary_type'] == k)].reset_index()\n",
    "            for i in range(0,target):\n",
    "                rownumber = random.randint(0,len(reduced_df)-1)\n",
    "                starindex = reduced_df['index'][rownumber]\n",
    "                while starindex in rowslist:\n",
    "                    rownumber = random.randint(0,len(reduced_df)-1)\n",
    "                    starindex = reduced_df['index'][rownumber]\n",
    "                rowslist.append(starindex)\n",
    "                flux = reduced_df['system_interpolated_flux'][rownumber]\n",
    "                unc = reduced_df['system_interpolated_noise'][rownumber]\n",
    "                flux, unc = addNoise(flux, unc, scale=1.0)\n",
    "                primreal = reduced_df['primary_type'][rownumber]\n",
    "                secoreal = reduced_df['secondary_type'][rownumber]\n",
    "                _bina_ = starsdataframe.drop(index=starindex).reset_index(drop=True)\n",
    "                _BINARIES_ = {\n",
    "                    \"WAVE\": wavegrid,\n",
    "                    \"PRIM\": _bina_[\"primary_type\"],\n",
    "                    \"SECO\": _bina_[\"secondary_type\"],\n",
    "                    \"FLUX\": _bina_[\"system_interpolated_flux\"],\n",
    "                }\n",
    "                prim_type, seco_type, chi = fast_binary_classify(wavegrid,flux,unc,standards=_BINARIES_)\n",
    "                predsprim.append(prim_type)\n",
    "                predssec.append(seco_type)\n",
    "                realprim.append(primreal)\n",
    "                realsec.append(secoreal)\n",
    "                diffprim.append(prim_type-primreal)\n",
    "                diffsec.append(seco_type-secoreal)\n",
    "                chilist.append(chi)\n",
    "            diffprim=np.array(diffprim)\n",
    "            diffsec=np.array(diffsec)\n",
    "            predsprim=np.array(predsprim)\n",
    "            predssec=np.array(predssec)\n",
    "            avg_diffprim=sum(diffprim)/len(diffprim)\n",
    "            avg_diffsec=sum(diffsec)/len(diffsec)\n",
    "            avg_diff = (avg_diffprim+avg_diffsec)/2\n",
    "            std_diffprim=np.sqrt(sum(np.abs(diffprim-avg_diffprim)**2)/(len(diffprim)-1))\n",
    "            std_diffsec=np.sqrt(sum(np.abs(diffsec-avg_diffsec)**2)/(len(diffsec)-1))\n",
    "            \n",
    "            list1.append(avg_diffprim)\n",
    "            list2.append(avg_diffsec)\n",
    "            list3.append(std_diffprim)\n",
    "            list4.append(std_diffsec)\n",
    "        pd_diffprim[j]  = list1\n",
    "        pd_diffseco[j]  = list2\n",
    "        pd_stdprim[j] = list3\n",
    "        pd_stdseco[j] = list4 \n",
    "\n",
    "    return pd_diffprim, pd_diffseco, pd_stdprim, pd_stdseco, chilist, rowslist "
   ]
  },
  {
   "cell_type": "code",
   "execution_count": 24,
   "metadata": {},
   "outputs": [],
   "source": [
    "pd_diffprim, pd_diffseco, pd_stdprim, pd_stdseco, chilist, rowslist = traditionalMethod(BinDF,12)"
   ]
  },
  {
   "cell_type": "code",
   "execution_count": 25,
   "metadata": {},
   "outputs": [
    {
     "data": {
      "text/plain": [
       "-0.017558863089928392"
      ]
     },
     "execution_count": 25,
     "metadata": {},
     "output_type": "execute_result"
    },
    {
     "data": {
      "image/png": "[encoded data removed]",
      "text/plain": [
       "<Figure size 432x288 with 2 Axes>"
      ]
     },
     "metadata": {
      "needs_background": "light"
     },
     "output_type": "display_data"
    }
   ],
   "source": [
    "sns.heatmap(pd_diffprim,annot=False,linewidths=0.1,linecolor='black', cmap=\"plasma\")\n",
    "pd_diffprim.mean(axis = 0, skipna = True).mean()"
   ]
  },
  {
   "cell_type": "code",
   "execution_count": 26,
   "metadata": {},
   "outputs": [
    {
     "data": {
      "text/plain": [
       "-0.01884935215791182"
      ]
     },
     "execution_count": 26,
     "metadata": {},
     "output_type": "execute_result"
    },
    {
     "data": {
      "image/png": "[encoded data removed]",
      "text/plain": [
       "<Figure size 432x288 with 2 Axes>"
      ]
     },
     "metadata": {
      "needs_background": "light"
     },
     "output_type": "display_data"
    }
   ],
   "source": [
    "sns.heatmap(pd_diffseco,annot=False,linewidths=0.1,linecolor='black', cmap=\"plasma\")\n",
    "pd_diffseco.mean(axis = 0, skipna = True).mean()"
   ]
  },
  {
   "cell_type": "code",
   "execution_count": 27,
   "metadata": {},
   "outputs": [
    {
     "data": {
      "text/plain": [
       "0.5754570128614008"
      ]
     },
     "execution_count": 27,
     "metadata": {},
     "output_type": "execute_result"
    },
    {
     "data": {
      "image/png": "[encoded data removed]",
      "text/plain": [
       "<Figure size 432x288 with 2 Axes>"
      ]
     },
     "metadata": {
      "needs_background": "light"
     },
     "output_type": "display_data"
    }
   ],
   "source": [
    "sns.heatmap(pd_stdprim,annot=False,linewidths=0.1,linecolor='black', cmap=\"plasma\")\n",
    "pd_stdprim.mean(axis = 0, skipna = True).mean()"
   ]
  },
  {
   "cell_type": "code",
   "execution_count": 28,
   "metadata": {},
   "outputs": [
    {
     "data": {
      "text/plain": [
       "2.0585904898200904"
      ]
     },
     "execution_count": 28,
     "metadata": {},
     "output_type": "execute_result"
    },
    {
     "data": {
      "image/png": "[encoded data removed]",
      "text/plain": [
       "<Figure size 432x288 with 2 Axes>"
      ]
     },
     "metadata": {
      "needs_background": "light"
     },
     "output_type": "display_data"
    }
   ],
   "source": [
    "sns.heatmap(pd_stdseco,annot=False,linewidths=0.1,linecolor='black', cmap=\"plasma\")\n",
    "pd_stdseco.mean(axis = 0, skipna = True).mean()"
   ]
  },
  {
   "cell_type": "code",
   "execution_count": 29,
   "metadata": {},
   "outputs": [
    {
     "data": {
      "text/plain": [
       "Text(0.5, 1.0, 'chi-quare')"
      ]
     },
     "execution_count": 29,
     "metadata": {},
     "output_type": "execute_result"
    },
    {
     "data": {
      "image/png": "[encoded data removed]",
      "text/plain": [
       "<Figure size 432x288 with 1 Axes>"
      ]
     },
     "metadata": {
      "needs_background": "light"
     },
     "output_type": "display_data"
    }
   ],
   "source": [
    "restricted_list = [x for x in chilist if 0 <= x <= 1800]\n",
    "fig, axe = plt.subplots()\n",
    "axe.hist(restricted_list,bins=12)\n",
    "plt.title('chi-quare')"
   ]
  },
  {
   "cell_type": "code",
   "execution_count": 37,
   "metadata": {},
   "outputs": [
    {
     "data": {
      "text/plain": [
       "Text(0.5, 1.0, 'chi-quare')"
      ]
     },
     "execution_count": 37,
     "metadata": {},
     "output_type": "execute_result"
    },
    {
     "data": {
      "image/png": "[encoded data removed]",
      "text/plain": [
       "<Figure size 432x288 with 1 Axes>"
      ]
     },
     "metadata": {
      "needs_background": "light"
     },
     "output_type": "display_data"
    }
   ],
   "source": [
    "restricted_list = [x for x in chilist if 1800 < x <= 12000]\n",
    "fig, axe = plt.subplots()\n",
    "axe.hist(restricted_list,bins=10)\n",
    "plt.title('chi-quare')"
   ]
  },
  {
   "cell_type": "code",
   "execution_count": 31,
   "metadata": {},
   "outputs": [
    {
     "data": {
      "text/plain": [
       "3036"
      ]
     },
     "execution_count": 31,
     "metadata": {},
     "output_type": "execute_result"
    }
   ],
   "source": [
    "len(chilist)"
   ]
  },
  {
   "cell_type": "code",
   "execution_count": 32,
   "metadata": {},
   "outputs": [
    {
     "data": {
      "text/plain": [
       "7586.938686926273"
      ]
     },
     "execution_count": 32,
     "metadata": {},
     "output_type": "execute_result"
    }
   ],
   "source": [
    "max(chilist)"
   ]
  },
  {
   "cell_type": "code",
   "execution_count": 33,
   "metadata": {},
   "outputs": [
    {
     "data": {
      "text/plain": [
       "657.344963589298"
      ]
     },
     "execution_count": 33,
     "metadata": {},
     "output_type": "execute_result"
    }
   ],
   "source": [
    "min(chilist)"
   ]
  },
  {
   "cell_type": "code",
   "execution_count": 34,
   "metadata": {},
   "outputs": [
    {
     "data": {
      "text/plain": [
       "1223.0181186150862"
      ]
     },
     "execution_count": 34,
     "metadata": {},
     "output_type": "execute_result"
    }
   ],
   "source": [
    "np.mean(chilist)"
   ]
  },
  {
   "cell_type": "code",
   "execution_count": null,
   "metadata": {},
   "outputs": [],
   "source": []
  }
 ],
 "metadata": {
  "kernelspec": {
   "display_name": "Python 3",
   "language": "python",
   "name": "python3"
  },
  "language_info": {
   "codemirror_mode": {
    "name": "ipython",
    "version": 3
   },
   "file_extension": ".py",
   "mimetype": "text/x-python",
   "name": "python",
   "nbconvert_exporter": "python",
   "pygments_lexer": "ipython3",
   "version": "3.10.1"
  },
  "orig_nbformat": 4
 },
 "nbformat": 4,
 "nbformat_minor": 2
}
