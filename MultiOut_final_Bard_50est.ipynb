{
 "cells": [
  {
   "cell_type": "code",
   "execution_count": 32,
   "metadata": {},
   "outputs": [],
   "source": [
    "import seaborn as sns\n",
    "from sklearn.model_selection import train_test_split, GridSearchCV\n",
    "import matplotlib.pyplot as plt\n",
    "import joblib\n",
    "import time\n",
    "import pickle"
   ]
  },
  {
   "cell_type": "code",
   "execution_count": 33,
   "metadata": {},
   "outputs": [],
   "source": [
    "from multioutput_functions import *"
   ]
  },
  {
   "cell_type": "code",
   "execution_count": 34,
   "metadata": {},
   "outputs": [
    {
     "data": {
      "text/html": [
       "<div>\n",
       "<style scoped>\n",
       "    .dataframe tbody tr th:only-of-type {\n",
       "        vertical-align: middle;\n",
       "    }\n",
       "\n",
       "    .dataframe tbody tr th {\n",
       "        vertical-align: top;\n",
       "    }\n",
       "\n",
       "    .dataframe thead th {\n",
       "        text-align: right;\n",
       "    }\n",
       "</style>\n",
       "<table border=\"1\" class=\"dataframe\">\n",
       "  <thead>\n",
       "    <tr style=\"text-align: right;\">\n",
       "      <th></th>\n",
       "      <th>WAVE</th>\n",
       "      <th>FLUX</th>\n",
       "      <th>UNCERTAINTY</th>\n",
       "      <th>J_SNR</th>\n",
       "      <th>SPT</th>\n",
       "    </tr>\n",
       "  </thead>\n",
       "  <tbody>\n",
       "    <tr>\n",
       "      <th>0</th>\n",
       "      <td>[0.90129393, 0.9047135, 0.9081512, 0.9116069, ...</td>\n",
       "      <td>[1.9660627713093847e-10, 2.1131039893243844e-1...</td>\n",
       "      <td>[5.982245325049133e-12, 5.755711185801827e-12,...</td>\n",
       "      <td>94.018303</td>\n",
       "      <td>M6.0</td>\n",
       "    </tr>\n",
       "    <tr>\n",
       "      <th>1</th>\n",
       "      <td>[0.90129393, 0.9047135, 0.9081512, 0.9116069, ...</td>\n",
       "      <td>[1.9950771920752281e-10, 2.079591490944689e-10...</td>\n",
       "      <td>[7.703832533018333e-13, 1.0951267822400711e-12...</td>\n",
       "      <td>386.537811</td>\n",
       "      <td>M7.0</td>\n",
       "    </tr>\n",
       "    <tr>\n",
       "      <th>2</th>\n",
       "      <td>[0.90129393, 0.9047135, 0.9081512, 0.9116069, ...</td>\n",
       "      <td>[1.9762911463072993e-10, 2.0580528498234088e-1...</td>\n",
       "      <td>[2.2989224859548107e-12, 2.3022679333025286e-1...</td>\n",
       "      <td>204.598099</td>\n",
       "      <td>M6.0</td>\n",
       "    </tr>\n",
       "    <tr>\n",
       "      <th>3</th>\n",
       "      <td>[0.90129393, 0.9047135, 0.9081512, 0.9116069, ...</td>\n",
       "      <td>[2.2878515319813078e-10, 2.370316420618723e-10...</td>\n",
       "      <td>[6.1214909391048044e-12, 6.136043777530829e-12...</td>\n",
       "      <td>91.589699</td>\n",
       "      <td>M6.0</td>\n",
       "    </tr>\n",
       "    <tr>\n",
       "      <th>4</th>\n",
       "      <td>[0.90129393, 0.9047135, 0.9081512, 0.9116069, ...</td>\n",
       "      <td>[2.0618668468240422e-10, 2.142866617637176e-10...</td>\n",
       "      <td>[1.0832266058640476e-12, 1.0976881329239517e-1...</td>\n",
       "      <td>414.787994</td>\n",
       "      <td>M6.0</td>\n",
       "    </tr>\n",
       "    <tr>\n",
       "      <th>...</th>\n",
       "      <td>...</td>\n",
       "      <td>...</td>\n",
       "      <td>...</td>\n",
       "      <td>...</td>\n",
       "      <td>...</td>\n",
       "    </tr>\n",
       "    <tr>\n",
       "      <th>1044</th>\n",
       "      <td>[0.90129393, 0.9047135, 0.9081512, 0.9116069, ...</td>\n",
       "      <td>[2.3139820970701434e-13, 1.246237555225135e-13...</td>\n",
       "      <td>[1.2961283330524777e-13, 1.2520460658453793e-1...</td>\n",
       "      <td>4.703918</td>\n",
       "      <td>T8.0</td>\n",
       "    </tr>\n",
       "    <tr>\n",
       "      <th>1045</th>\n",
       "      <td>[0.90129393, 0.9047135, 0.9081512, 0.9116069, ...</td>\n",
       "      <td>[5.244854443773445e-14, 6.580743947046151e-14,...</td>\n",
       "      <td>[3.029490952427518e-14, 2.968834229762724e-14,...</td>\n",
       "      <td>23.436972</td>\n",
       "      <td>T8.0</td>\n",
       "    </tr>\n",
       "    <tr>\n",
       "      <th>1046</th>\n",
       "      <td>[0.90129393, 0.9047135, 0.9081512, 0.9116069, ...</td>\n",
       "      <td>[-2.2614582467991454e-14, 5.872129739165835e-1...</td>\n",
       "      <td>[4.4876320743869606e-14, 4.616998222544605e-14...</td>\n",
       "      <td>13.918951</td>\n",
       "      <td>T8.0</td>\n",
       "    </tr>\n",
       "    <tr>\n",
       "      <th>1047</th>\n",
       "      <td>[0.90129393, 0.9047135, 0.9081512, 0.9116069, ...</td>\n",
       "      <td>[1.4678859815360097e-14, 1.7897430190283215e-1...</td>\n",
       "      <td>[6.009617385156795e-15, 6.170117985714561e-15,...</td>\n",
       "      <td>30.023281</td>\n",
       "      <td>T9.0</td>\n",
       "    </tr>\n",
       "    <tr>\n",
       "      <th>1048</th>\n",
       "      <td>[0.90129393, 0.9047135, 0.9081512, 0.9116069, ...</td>\n",
       "      <td>[1.3160605789392751e-14, 3.67817960550198e-14,...</td>\n",
       "      <td>[5.1670978628875254e-15, 5.171935002322336e-15...</td>\n",
       "      <td>24.918734</td>\n",
       "      <td>T9.0</td>\n",
       "    </tr>\n",
       "  </tbody>\n",
       "</table>\n",
       "<p>1049 rows × 5 columns</p>\n",
       "</div>"
      ],
      "text/plain": [
       "                                                   WAVE  \\\n",
       "0     [0.90129393, 0.9047135, 0.9081512, 0.9116069, ...   \n",
       "1     [0.90129393, 0.9047135, 0.9081512, 0.9116069, ...   \n",
       "2     [0.90129393, 0.9047135, 0.9081512, 0.9116069, ...   \n",
       "3     [0.90129393, 0.9047135, 0.9081512, 0.9116069, ...   \n",
       "4     [0.90129393, 0.9047135, 0.9081512, 0.9116069, ...   \n",
       "...                                                 ...   \n",
       "1044  [0.90129393, 0.9047135, 0.9081512, 0.9116069, ...   \n",
       "1045  [0.90129393, 0.9047135, 0.9081512, 0.9116069, ...   \n",
       "1046  [0.90129393, 0.9047135, 0.9081512, 0.9116069, ...   \n",
       "1047  [0.90129393, 0.9047135, 0.9081512, 0.9116069, ...   \n",
       "1048  [0.90129393, 0.9047135, 0.9081512, 0.9116069, ...   \n",
       "\n",
       "                                                   FLUX  \\\n",
       "0     [1.9660627713093847e-10, 2.1131039893243844e-1...   \n",
       "1     [1.9950771920752281e-10, 2.079591490944689e-10...   \n",
       "2     [1.9762911463072993e-10, 2.0580528498234088e-1...   \n",
       "3     [2.2878515319813078e-10, 2.370316420618723e-10...   \n",
       "4     [2.0618668468240422e-10, 2.142866617637176e-10...   \n",
       "...                                                 ...   \n",
       "1044  [2.3139820970701434e-13, 1.246237555225135e-13...   \n",
       "1045  [5.244854443773445e-14, 6.580743947046151e-14,...   \n",
       "1046  [-2.2614582467991454e-14, 5.872129739165835e-1...   \n",
       "1047  [1.4678859815360097e-14, 1.7897430190283215e-1...   \n",
       "1048  [1.3160605789392751e-14, 3.67817960550198e-14,...   \n",
       "\n",
       "                                            UNCERTAINTY       J_SNR   SPT  \n",
       "0     [5.982245325049133e-12, 5.755711185801827e-12,...   94.018303  M6.0  \n",
       "1     [7.703832533018333e-13, 1.0951267822400711e-12...  386.537811  M7.0  \n",
       "2     [2.2989224859548107e-12, 2.3022679333025286e-1...  204.598099  M6.0  \n",
       "3     [6.1214909391048044e-12, 6.136043777530829e-12...   91.589699  M6.0  \n",
       "4     [1.0832266058640476e-12, 1.0976881329239517e-1...  414.787994  M6.0  \n",
       "...                                                 ...         ...   ...  \n",
       "1044  [1.2961283330524777e-13, 1.2520460658453793e-1...    4.703918  T8.0  \n",
       "1045  [3.029490952427518e-14, 2.968834229762724e-14,...   23.436972  T8.0  \n",
       "1046  [4.4876320743869606e-14, 4.616998222544605e-14...   13.918951  T8.0  \n",
       "1047  [6.009617385156795e-15, 6.170117985714561e-15,...   30.023281  T9.0  \n",
       "1048  [5.1670978628875254e-15, 5.171935002322336e-15...   24.918734  T9.0  \n",
       "\n",
       "[1049 rows x 5 columns]"
      ]
     },
     "execution_count": 34,
     "metadata": {},
     "output_type": "execute_result"
    }
   ],
   "source": [
    "singles = pd.read_hdf(r'C:/Users/juand/Research/h5_files/singles_230801.h5')\n",
    "singles.drop(['OLD_SPT','MKO_J', 'MKO_H', 'MKO_K', '2MASS_J', '2MASS_H', '2MASS_KS','NAME'],axis=1,inplace=True)\n",
    "singles"
   ]
  },
  {
   "cell_type": "code",
   "execution_count": 35,
   "metadata": {},
   "outputs": [
    {
     "data": {
      "text/plain": [
       "(array([ 1.,  1.,  1.,  6.,  7., 11., 15., 23., 25., 25., 37., 35., 24.,\n",
       "        32., 25., 25., 29., 17., 21., 26., 30., 21., 27., 24., 22., 15.,\n",
       "        17., 23., 20., 16.]),\n",
       " array([5.83613848e-18, 3.33090998e+00, 6.66181997e+00, 9.99272995e+00,\n",
       "        1.33236399e+01, 1.66545499e+01, 1.99854599e+01, 2.33163699e+01,\n",
       "        2.66472799e+01, 2.99781898e+01, 3.33090998e+01, 3.66400098e+01,\n",
       "        3.99709198e+01, 4.33018298e+01, 4.66327398e+01, 4.99636497e+01,\n",
       "        5.32945597e+01, 5.66254697e+01, 5.99563797e+01, 6.32872897e+01,\n",
       "        6.66181997e+01, 6.99491096e+01, 7.32800196e+01, 7.66109296e+01,\n",
       "        7.99418396e+01, 8.32727496e+01, 8.66036596e+01, 8.99345695e+01,\n",
       "        9.32654795e+01, 9.65963895e+01, 9.99272995e+01]),\n",
       " <BarContainer object of 30 artists>)"
      ]
     },
     "execution_count": 35,
     "metadata": {},
     "output_type": "execute_result"
    },
    {
     "data": {
      "image/png": "[encoded data removed]",
      "text/plain": [
       "<Figure size 432x288 with 1 Axes>"
      ]
     },
     "metadata": {
      "needs_background": "light"
     },
     "output_type": "display_data"
    }
   ],
   "source": [
    "plt.hist(singles.J_SNR[singles.J_SNR<100],bins=30)"
   ]
  },
  {
   "cell_type": "code",
   "execution_count": 36,
   "metadata": {},
   "outputs": [],
   "source": [
    "wave = singles['WAVE'][0]\n",
    "wavegrid_list=list(wave)\n",
    "wave = np.array(wave)\n",
    "wavegrid=wave"
   ]
  },
  {
   "cell_type": "code",
   "execution_count": 37,
   "metadata": {},
   "outputs": [],
   "source": [
    "df = pd.read_hdf(r'C:/Users/juand/Research/h5_files/standards_230801.h5').reset_index(drop=True)\n",
    "STANDARDS = {\n",
    "    \"WAVE\": df[\"WAVE\"].iloc[0],\n",
    "    \"SPT\": df[\"SPT\"],\n",
    "    \"FLUX\": df[\"FLUX\"],\n",
    "    \"UNC\": df[\"UNCERTAINTY\"],\n",
    "}"
   ]
  },
  {
   "cell_type": "code",
   "execution_count": 38,
   "metadata": {},
   "outputs": [
    {
     "data": {
      "text/html": [
       "<div>\n",
       "<style scoped>\n",
       "    .dataframe tbody tr th:only-of-type {\n",
       "        vertical-align: middle;\n",
       "    }\n",
       "\n",
       "    .dataframe tbody tr th {\n",
       "        vertical-align: top;\n",
       "    }\n",
       "\n",
       "    .dataframe thead th {\n",
       "        text-align: right;\n",
       "    }\n",
       "</style>\n",
       "<table border=\"1\" class=\"dataframe\">\n",
       "  <thead>\n",
       "    <tr style=\"text-align: right;\">\n",
       "      <th></th>\n",
       "      <th>WAVE</th>\n",
       "      <th>FLUX</th>\n",
       "      <th>UNCERTAINTY</th>\n",
       "      <th>J_SNR</th>\n",
       "      <th>SPT</th>\n",
       "      <th>SPT_NUM</th>\n",
       "    </tr>\n",
       "  </thead>\n",
       "  <tbody>\n",
       "    <tr>\n",
       "      <th>0</th>\n",
       "      <td>[0.90129393, 0.9047135, 0.9081512, 0.9116069, ...</td>\n",
       "      <td>[1.9660627713093847e-10, 2.1131039893243844e-1...</td>\n",
       "      <td>[5.982245325049133e-12, 5.755711185801827e-12,...</td>\n",
       "      <td>94.018303</td>\n",
       "      <td>M6.0</td>\n",
       "      <td>16.0</td>\n",
       "    </tr>\n",
       "    <tr>\n",
       "      <th>1</th>\n",
       "      <td>[0.90129393, 0.9047135, 0.9081512, 0.9116069, ...</td>\n",
       "      <td>[1.9950771920752281e-10, 2.079591490944689e-10...</td>\n",
       "      <td>[7.703832533018333e-13, 1.0951267822400711e-12...</td>\n",
       "      <td>386.537811</td>\n",
       "      <td>M7.0</td>\n",
       "      <td>17.0</td>\n",
       "    </tr>\n",
       "    <tr>\n",
       "      <th>2</th>\n",
       "      <td>[0.90129393, 0.9047135, 0.9081512, 0.9116069, ...</td>\n",
       "      <td>[1.9762911463072993e-10, 2.0580528498234088e-1...</td>\n",
       "      <td>[2.2989224859548107e-12, 2.3022679333025286e-1...</td>\n",
       "      <td>204.598099</td>\n",
       "      <td>M6.0</td>\n",
       "      <td>16.0</td>\n",
       "    </tr>\n",
       "    <tr>\n",
       "      <th>3</th>\n",
       "      <td>[0.90129393, 0.9047135, 0.9081512, 0.9116069, ...</td>\n",
       "      <td>[2.2878515319813078e-10, 2.370316420618723e-10...</td>\n",
       "      <td>[6.1214909391048044e-12, 6.136043777530829e-12...</td>\n",
       "      <td>91.589699</td>\n",
       "      <td>M6.0</td>\n",
       "      <td>16.0</td>\n",
       "    </tr>\n",
       "    <tr>\n",
       "      <th>4</th>\n",
       "      <td>[0.90129393, 0.9047135, 0.9081512, 0.9116069, ...</td>\n",
       "      <td>[2.0618668468240422e-10, 2.142866617637176e-10...</td>\n",
       "      <td>[1.0832266058640476e-12, 1.0976881329239517e-1...</td>\n",
       "      <td>414.787994</td>\n",
       "      <td>M6.0</td>\n",
       "      <td>16.0</td>\n",
       "    </tr>\n",
       "    <tr>\n",
       "      <th>...</th>\n",
       "      <td>...</td>\n",
       "      <td>...</td>\n",
       "      <td>...</td>\n",
       "      <td>...</td>\n",
       "      <td>...</td>\n",
       "      <td>...</td>\n",
       "    </tr>\n",
       "    <tr>\n",
       "      <th>1041</th>\n",
       "      <td>[0.90129393, 0.9047135, 0.9081512, 0.9116069, ...</td>\n",
       "      <td>[2.3139820970701434e-13, 1.246237555225135e-13...</td>\n",
       "      <td>[1.2961283330524777e-13, 1.2520460658453793e-1...</td>\n",
       "      <td>4.703918</td>\n",
       "      <td>T8.0</td>\n",
       "      <td>38.0</td>\n",
       "    </tr>\n",
       "    <tr>\n",
       "      <th>1042</th>\n",
       "      <td>[0.90129393, 0.9047135, 0.9081512, 0.9116069, ...</td>\n",
       "      <td>[5.244854443773445e-14, 6.580743947046151e-14,...</td>\n",
       "      <td>[3.029490952427518e-14, 2.968834229762724e-14,...</td>\n",
       "      <td>23.436972</td>\n",
       "      <td>T8.0</td>\n",
       "      <td>38.0</td>\n",
       "    </tr>\n",
       "    <tr>\n",
       "      <th>1043</th>\n",
       "      <td>[0.90129393, 0.9047135, 0.9081512, 0.9116069, ...</td>\n",
       "      <td>[-2.2614582467991454e-14, 5.872129739165835e-1...</td>\n",
       "      <td>[4.4876320743869606e-14, 4.616998222544605e-14...</td>\n",
       "      <td>13.918951</td>\n",
       "      <td>T8.0</td>\n",
       "      <td>38.0</td>\n",
       "    </tr>\n",
       "    <tr>\n",
       "      <th>1044</th>\n",
       "      <td>[0.90129393, 0.9047135, 0.9081512, 0.9116069, ...</td>\n",
       "      <td>[1.4678859815360097e-14, 1.7897430190283215e-1...</td>\n",
       "      <td>[6.009617385156795e-15, 6.170117985714561e-15,...</td>\n",
       "      <td>30.023281</td>\n",
       "      <td>T9.0</td>\n",
       "      <td>39.0</td>\n",
       "    </tr>\n",
       "    <tr>\n",
       "      <th>1045</th>\n",
       "      <td>[0.90129393, 0.9047135, 0.9081512, 0.9116069, ...</td>\n",
       "      <td>[1.3160605789392751e-14, 3.67817960550198e-14,...</td>\n",
       "      <td>[5.1670978628875254e-15, 5.171935002322336e-15...</td>\n",
       "      <td>24.918734</td>\n",
       "      <td>T9.0</td>\n",
       "      <td>39.0</td>\n",
       "    </tr>\n",
       "  </tbody>\n",
       "</table>\n",
       "<p>1046 rows × 6 columns</p>\n",
       "</div>"
      ],
      "text/plain": [
       "                                                   WAVE  \\\n",
       "0     [0.90129393, 0.9047135, 0.9081512, 0.9116069, ...   \n",
       "1     [0.90129393, 0.9047135, 0.9081512, 0.9116069, ...   \n",
       "2     [0.90129393, 0.9047135, 0.9081512, 0.9116069, ...   \n",
       "3     [0.90129393, 0.9047135, 0.9081512, 0.9116069, ...   \n",
       "4     [0.90129393, 0.9047135, 0.9081512, 0.9116069, ...   \n",
       "...                                                 ...   \n",
       "1041  [0.90129393, 0.9047135, 0.9081512, 0.9116069, ...   \n",
       "1042  [0.90129393, 0.9047135, 0.9081512, 0.9116069, ...   \n",
       "1043  [0.90129393, 0.9047135, 0.9081512, 0.9116069, ...   \n",
       "1044  [0.90129393, 0.9047135, 0.9081512, 0.9116069, ...   \n",
       "1045  [0.90129393, 0.9047135, 0.9081512, 0.9116069, ...   \n",
       "\n",
       "                                                   FLUX  \\\n",
       "0     [1.9660627713093847e-10, 2.1131039893243844e-1...   \n",
       "1     [1.9950771920752281e-10, 2.079591490944689e-10...   \n",
       "2     [1.9762911463072993e-10, 2.0580528498234088e-1...   \n",
       "3     [2.2878515319813078e-10, 2.370316420618723e-10...   \n",
       "4     [2.0618668468240422e-10, 2.142866617637176e-10...   \n",
       "...                                                 ...   \n",
       "1041  [2.3139820970701434e-13, 1.246237555225135e-13...   \n",
       "1042  [5.244854443773445e-14, 6.580743947046151e-14,...   \n",
       "1043  [-2.2614582467991454e-14, 5.872129739165835e-1...   \n",
       "1044  [1.4678859815360097e-14, 1.7897430190283215e-1...   \n",
       "1045  [1.3160605789392751e-14, 3.67817960550198e-14,...   \n",
       "\n",
       "                                            UNCERTAINTY       J_SNR   SPT  \\\n",
       "0     [5.982245325049133e-12, 5.755711185801827e-12,...   94.018303  M6.0   \n",
       "1     [7.703832533018333e-13, 1.0951267822400711e-12...  386.537811  M7.0   \n",
       "2     [2.2989224859548107e-12, 2.3022679333025286e-1...  204.598099  M6.0   \n",
       "3     [6.1214909391048044e-12, 6.136043777530829e-12...   91.589699  M6.0   \n",
       "4     [1.0832266058640476e-12, 1.0976881329239517e-1...  414.787994  M6.0   \n",
       "...                                                 ...         ...   ...   \n",
       "1041  [1.2961283330524777e-13, 1.2520460658453793e-1...    4.703918  T8.0   \n",
       "1042  [3.029490952427518e-14, 2.968834229762724e-14,...   23.436972  T8.0   \n",
       "1043  [4.4876320743869606e-14, 4.616998222544605e-14...   13.918951  T8.0   \n",
       "1044  [6.009617385156795e-15, 6.170117985714561e-15,...   30.023281  T9.0   \n",
       "1045  [5.1670978628875254e-15, 5.171935002322336e-15...   24.918734  T9.0   \n",
       "\n",
       "      SPT_NUM  \n",
       "0        16.0  \n",
       "1        17.0  \n",
       "2        16.0  \n",
       "3        16.0  \n",
       "4        16.0  \n",
       "...       ...  \n",
       "1041     38.0  \n",
       "1042     38.0  \n",
       "1043     38.0  \n",
       "1044     39.0  \n",
       "1045     39.0  \n",
       "\n",
       "[1046 rows x 6 columns]"
      ]
     },
     "execution_count": 38,
     "metadata": {},
     "output_type": "execute_result"
    }
   ],
   "source": [
    "typenum=[]\n",
    "for i in range(len(singles)):\n",
    "    typenum.append(typeToNum(singles['SPT'][i]))\n",
    "singles['SPT_NUM']=typenum\n",
    "singles = singles.loc[singles['SPT_NUM']>15*np.ones(len(singles))]\n",
    "singles = singles.reset_index(drop=True)\n",
    "singles"
   ]
  },
  {
   "cell_type": "code",
   "execution_count": 8,
   "metadata": {},
   "outputs": [
    {
     "data": {
      "image/png": "[encoded data removed]",
      "text/plain": [
       "<Figure size 432x288 with 1 Axes>"
      ]
     },
     "metadata": {
      "needs_background": "light"
     },
     "output_type": "display_data"
    }
   ],
   "source": [
    "newsnr=[]\n",
    "for i in range(len(singles)):\n",
    "    flux=singles['FLUX'][i]\n",
    "    uncer=singles['UNCERTAINTY'][i]\n",
    "    newsnr.append(measureSN(wave,flux,uncer))\n",
    "singles['J_SNR_2']=newsnr\n",
    "plt.hist(singles.J_SNR_2[singles.J_SNR_2<100],bins=30)\n",
    "singles.drop(['J_SNR_2'],axis=1,inplace=True)"
   ]
  },
  {
   "cell_type": "code",
   "execution_count": 9,
   "metadata": {},
   "outputs": [],
   "source": [
    "snrclass=[]\n",
    "for i in range(len(singles)):\n",
    "    snrQ = singles['J_SNR'][i]\n",
    "    if snrQ<50:\n",
    "        snrclass.append('low')\n",
    "    elif (snrQ>=50)&(snrQ<100):\n",
    "        snrclass.append('mid')\n",
    "    else:\n",
    "        snrclass.append('hig')\n",
    "singles['SNR_CLASS']=snrclass"
   ]
  },
  {
   "cell_type": "code",
   "execution_count": 10,
   "metadata": {},
   "outputs": [],
   "source": [
    "drop_unc = []\n",
    "for position, uncertainty_i in enumerate(np.array(singles['UNCERTAINTY'])):\n",
    "    if np.any(uncertainty_i<0)|np.any(np.isnan(uncertainty_i))|np.any(np.isinf(uncertainty_i)):\n",
    "        drop_unc.append(position)\n",
    "singles = singles.drop(drop_unc).reset_index(drop=True)"
   ]
  },
  {
   "cell_type": "code",
   "execution_count": 11,
   "metadata": {},
   "outputs": [
    {
     "data": {
      "text/html": [
       "<div>\n",
       "<style scoped>\n",
       "    .dataframe tbody tr th:only-of-type {\n",
       "        vertical-align: middle;\n",
       "    }\n",
       "\n",
       "    .dataframe tbody tr th {\n",
       "        vertical-align: top;\n",
       "    }\n",
       "\n",
       "    .dataframe thead th {\n",
       "        text-align: right;\n",
       "    }\n",
       "</style>\n",
       "<table border=\"1\" class=\"dataframe\">\n",
       "  <thead>\n",
       "    <tr style=\"text-align: right;\">\n",
       "      <th></th>\n",
       "      <th>WAVE</th>\n",
       "      <th>FLUX</th>\n",
       "      <th>UNCERTAINTY</th>\n",
       "      <th>J_SNR</th>\n",
       "      <th>SPT</th>\n",
       "      <th>SPT_NUM</th>\n",
       "      <th>SNR_CLASS</th>\n",
       "    </tr>\n",
       "  </thead>\n",
       "  <tbody>\n",
       "    <tr>\n",
       "      <th>0</th>\n",
       "      <td>[0.90129393, 0.9047135, 0.9081512, 0.9116069, ...</td>\n",
       "      <td>[1.9660627713093847e-10, 2.1131039893243844e-1...</td>\n",
       "      <td>[5.982245325049133e-12, 5.755711185801827e-12,...</td>\n",
       "      <td>94.018303</td>\n",
       "      <td>M6.0</td>\n",
       "      <td>16.0</td>\n",
       "      <td>mid</td>\n",
       "    </tr>\n",
       "    <tr>\n",
       "      <th>1</th>\n",
       "      <td>[0.90129393, 0.9047135, 0.9081512, 0.9116069, ...</td>\n",
       "      <td>[1.9950771920752281e-10, 2.079591490944689e-10...</td>\n",
       "      <td>[7.703832533018333e-13, 1.0951267822400711e-12...</td>\n",
       "      <td>386.537811</td>\n",
       "      <td>M7.0</td>\n",
       "      <td>17.0</td>\n",
       "      <td>hig</td>\n",
       "    </tr>\n",
       "    <tr>\n",
       "      <th>2</th>\n",
       "      <td>[0.90129393, 0.9047135, 0.9081512, 0.9116069, ...</td>\n",
       "      <td>[1.9762911463072993e-10, 2.0580528498234088e-1...</td>\n",
       "      <td>[2.2989224859548107e-12, 2.3022679333025286e-1...</td>\n",
       "      <td>204.598099</td>\n",
       "      <td>M6.0</td>\n",
       "      <td>16.0</td>\n",
       "      <td>hig</td>\n",
       "    </tr>\n",
       "    <tr>\n",
       "      <th>3</th>\n",
       "      <td>[0.90129393, 0.9047135, 0.9081512, 0.9116069, ...</td>\n",
       "      <td>[2.2878515319813078e-10, 2.370316420618723e-10...</td>\n",
       "      <td>[6.1214909391048044e-12, 6.136043777530829e-12...</td>\n",
       "      <td>91.589699</td>\n",
       "      <td>M6.0</td>\n",
       "      <td>16.0</td>\n",
       "      <td>mid</td>\n",
       "    </tr>\n",
       "    <tr>\n",
       "      <th>4</th>\n",
       "      <td>[0.90129393, 0.9047135, 0.9081512, 0.9116069, ...</td>\n",
       "      <td>[2.0618668468240422e-10, 2.142866617637176e-10...</td>\n",
       "      <td>[1.0832266058640476e-12, 1.0976881329239517e-1...</td>\n",
       "      <td>414.787994</td>\n",
       "      <td>M6.0</td>\n",
       "      <td>16.0</td>\n",
       "      <td>hig</td>\n",
       "    </tr>\n",
       "    <tr>\n",
       "      <th>...</th>\n",
       "      <td>...</td>\n",
       "      <td>...</td>\n",
       "      <td>...</td>\n",
       "      <td>...</td>\n",
       "      <td>...</td>\n",
       "      <td>...</td>\n",
       "      <td>...</td>\n",
       "    </tr>\n",
       "    <tr>\n",
       "      <th>1018</th>\n",
       "      <td>[0.90129393, 0.9047135, 0.9081512, 0.9116069, ...</td>\n",
       "      <td>[2.3139820970701434e-13, 1.246237555225135e-13...</td>\n",
       "      <td>[1.2961283330524777e-13, 1.2520460658453793e-1...</td>\n",
       "      <td>4.703918</td>\n",
       "      <td>T8.0</td>\n",
       "      <td>38.0</td>\n",
       "      <td>low</td>\n",
       "    </tr>\n",
       "    <tr>\n",
       "      <th>1019</th>\n",
       "      <td>[0.90129393, 0.9047135, 0.9081512, 0.9116069, ...</td>\n",
       "      <td>[5.244854443773445e-14, 6.580743947046151e-14,...</td>\n",
       "      <td>[3.029490952427518e-14, 2.968834229762724e-14,...</td>\n",
       "      <td>23.436972</td>\n",
       "      <td>T8.0</td>\n",
       "      <td>38.0</td>\n",
       "      <td>low</td>\n",
       "    </tr>\n",
       "    <tr>\n",
       "      <th>1020</th>\n",
       "      <td>[0.90129393, 0.9047135, 0.9081512, 0.9116069, ...</td>\n",
       "      <td>[-2.2614582467991454e-14, 5.872129739165835e-1...</td>\n",
       "      <td>[4.4876320743869606e-14, 4.616998222544605e-14...</td>\n",
       "      <td>13.918951</td>\n",
       "      <td>T8.0</td>\n",
       "      <td>38.0</td>\n",
       "      <td>low</td>\n",
       "    </tr>\n",
       "    <tr>\n",
       "      <th>1021</th>\n",
       "      <td>[0.90129393, 0.9047135, 0.9081512, 0.9116069, ...</td>\n",
       "      <td>[1.4678859815360097e-14, 1.7897430190283215e-1...</td>\n",
       "      <td>[6.009617385156795e-15, 6.170117985714561e-15,...</td>\n",
       "      <td>30.023281</td>\n",
       "      <td>T9.0</td>\n",
       "      <td>39.0</td>\n",
       "      <td>low</td>\n",
       "    </tr>\n",
       "    <tr>\n",
       "      <th>1022</th>\n",
       "      <td>[0.90129393, 0.9047135, 0.9081512, 0.9116069, ...</td>\n",
       "      <td>[1.3160605789392751e-14, 3.67817960550198e-14,...</td>\n",
       "      <td>[5.1670978628875254e-15, 5.171935002322336e-15...</td>\n",
       "      <td>24.918734</td>\n",
       "      <td>T9.0</td>\n",
       "      <td>39.0</td>\n",
       "      <td>low</td>\n",
       "    </tr>\n",
       "  </tbody>\n",
       "</table>\n",
       "<p>1023 rows × 7 columns</p>\n",
       "</div>"
      ],
      "text/plain": [
       "                                                   WAVE  \\\n",
       "0     [0.90129393, 0.9047135, 0.9081512, 0.9116069, ...   \n",
       "1     [0.90129393, 0.9047135, 0.9081512, 0.9116069, ...   \n",
       "2     [0.90129393, 0.9047135, 0.9081512, 0.9116069, ...   \n",
       "3     [0.90129393, 0.9047135, 0.9081512, 0.9116069, ...   \n",
       "4     [0.90129393, 0.9047135, 0.9081512, 0.9116069, ...   \n",
       "...                                                 ...   \n",
       "1018  [0.90129393, 0.9047135, 0.9081512, 0.9116069, ...   \n",
       "1019  [0.90129393, 0.9047135, 0.9081512, 0.9116069, ...   \n",
       "1020  [0.90129393, 0.9047135, 0.9081512, 0.9116069, ...   \n",
       "1021  [0.90129393, 0.9047135, 0.9081512, 0.9116069, ...   \n",
       "1022  [0.90129393, 0.9047135, 0.9081512, 0.9116069, ...   \n",
       "\n",
       "                                                   FLUX  \\\n",
       "0     [1.9660627713093847e-10, 2.1131039893243844e-1...   \n",
       "1     [1.9950771920752281e-10, 2.079591490944689e-10...   \n",
       "2     [1.9762911463072993e-10, 2.0580528498234088e-1...   \n",
       "3     [2.2878515319813078e-10, 2.370316420618723e-10...   \n",
       "4     [2.0618668468240422e-10, 2.142866617637176e-10...   \n",
       "...                                                 ...   \n",
       "1018  [2.3139820970701434e-13, 1.246237555225135e-13...   \n",
       "1019  [5.244854443773445e-14, 6.580743947046151e-14,...   \n",
       "1020  [-2.2614582467991454e-14, 5.872129739165835e-1...   \n",
       "1021  [1.4678859815360097e-14, 1.7897430190283215e-1...   \n",
       "1022  [1.3160605789392751e-14, 3.67817960550198e-14,...   \n",
       "\n",
       "                                            UNCERTAINTY       J_SNR   SPT  \\\n",
       "0     [5.982245325049133e-12, 5.755711185801827e-12,...   94.018303  M6.0   \n",
       "1     [7.703832533018333e-13, 1.0951267822400711e-12...  386.537811  M7.0   \n",
       "2     [2.2989224859548107e-12, 2.3022679333025286e-1...  204.598099  M6.0   \n",
       "3     [6.1214909391048044e-12, 6.136043777530829e-12...   91.589699  M6.0   \n",
       "4     [1.0832266058640476e-12, 1.0976881329239517e-1...  414.787994  M6.0   \n",
       "...                                                 ...         ...   ...   \n",
       "1018  [1.2961283330524777e-13, 1.2520460658453793e-1...    4.703918  T8.0   \n",
       "1019  [3.029490952427518e-14, 2.968834229762724e-14,...   23.436972  T8.0   \n",
       "1020  [4.4876320743869606e-14, 4.616998222544605e-14...   13.918951  T8.0   \n",
       "1021  [6.009617385156795e-15, 6.170117985714561e-15,...   30.023281  T9.0   \n",
       "1022  [5.1670978628875254e-15, 5.171935002322336e-15...   24.918734  T9.0   \n",
       "\n",
       "      SPT_NUM SNR_CLASS  \n",
       "0        16.0       mid  \n",
       "1        17.0       hig  \n",
       "2        16.0       hig  \n",
       "3        16.0       mid  \n",
       "4        16.0       hig  \n",
       "...       ...       ...  \n",
       "1018     38.0       low  \n",
       "1019     38.0       low  \n",
       "1020     38.0       low  \n",
       "1021     39.0       low  \n",
       "1022     39.0       low  \n",
       "\n",
       "[1023 rows x 7 columns]"
      ]
     },
     "execution_count": 11,
     "metadata": {},
     "output_type": "execute_result"
    }
   ],
   "source": [
    "singles"
   ]
  },
  {
   "cell_type": "code",
   "execution_count": 12,
   "metadata": {},
   "outputs": [],
   "source": [
    "def fast_classify2(\n",
    "    wave,\n",
    "    flux,\n",
    "    unc,\n",
    "    fit_range=[0.9, 2.4],\n",
    "    standards=STANDARDS,\n",
    "    telluric=False,\n",
    "    method=\"full\",\n",
    "):\n",
    "\n",
    "    if method == \"kirkpatrick\":\n",
    "        fit_range = [0.9, 1.4]\n",
    "    elif method == \"full\":\n",
    "        fit_range = [0.9, 2.4]\n",
    "    else:\n",
    "        pass\n",
    "\n",
    "    w = np.where(np.logical_and(wave >= fit_range[0], wave <= fit_range[1]))[0]\n",
    "\n",
    "    scales, chi = [], []\n",
    "\n",
    "    weights = np.ones(len(wave))\n",
    "\n",
    "    if telluric == True:\n",
    "        msk = np.ones(len(weights))\n",
    "        msk[\n",
    "            np.where(\n",
    "                np.logical_or(\n",
    "                    np.logical_and(wavegrid > 1.35, wavegrid < 1.42),\n",
    "                    np.logical_and(wavegrid > 1.8, wavegrid < 1.95),\n",
    "                )\n",
    "            )\n",
    "        ] = 0\n",
    "        weights = weights * msk\n",
    "\n",
    "    # Loop through standards\n",
    "    for std in standards[\"FLUX\"]:\n",
    "        scale = np.nansum(weights * (flux * std) / (unc**2)) / np.nansum(\n",
    "            (weights * std**2) / (unc**2)\n",
    "        )\n",
    "        scales.append(scale)\n",
    "        chisquared = np.nansum(\n",
    "            weights * ((flux - (std * scales[-1])) ** 2) / (unc**2)\n",
    "        )\n",
    "        chi.append(chisquared)\n",
    "    \n",
    "    return standards[\"SPT\"][np.argmin(chi)]"
   ]
  },
  {
   "cell_type": "code",
   "execution_count": 13,
   "metadata": {},
   "outputs": [],
   "source": [
    "s17low = singles[(singles.SPT_NUM==17)&(singles.SNR_CLASS=='low')].reset_index(drop=True)\n",
    "f17low, u17low = normalize(wave,s17low.FLUX[1],s17low.UNCERTAINTY[1])\n",
    "s24low = singles[(singles.SPT_NUM==24)&(singles.SNR_CLASS=='low')].reset_index(drop=True)\n",
    "f24low, u24low = normalize(wave,s24low.FLUX[0],s24low.UNCERTAINTY[0])\n",
    "\n",
    "s17mid = singles[(singles.SPT_NUM==17)&(singles.SNR_CLASS=='mid')].reset_index(drop=True)\n",
    "f17mid, u17mid = normalize(wave,s17mid.FLUX[1],s17mid.UNCERTAINTY[1])\n",
    "s24mid = singles[(singles.SPT_NUM==24)&(singles.SNR_CLASS=='mid')].reset_index(drop=True)\n",
    "f24mid, u24mid = normalize(wave,s24mid.FLUX[1],s24mid.UNCERTAINTY[1])\n",
    "\n",
    "s17hig = singles[(singles.SPT_NUM==17)&(singles.SNR_CLASS=='hig')].reset_index(drop=True)\n",
    "f17hig, u17hig = normalize(wave,s17hig.FLUX[0],s17hig.UNCERTAINTY[0])\n",
    "s24hig = singles[(singles.SPT_NUM==24)&(singles.SNR_CLASS=='hig')].reset_index(drop=True)\n",
    "f24hig, u24hig = normalize(wave,s24hig.FLUX[0],s24hig.UNCERTAINTY[0])"
   ]
  },
  {
   "cell_type": "code",
   "execution_count": 14,
   "metadata": {},
   "outputs": [],
   "source": [
    "binlow = f17low+f24low\n",
    "ulow   = u17low+u24low\n",
    "binlow, ulow = normalize(wave,binlow,ulow)\n",
    "Slow = df[df.SPT==fast_classify2(wave,binlow,ulow)].reset_index(drop=True)\n",
    "Sflow, Sulow = normalize(wave,Slow.FLUX[0],Slow.UNCERTAINTY[0])\n",
    "dlow = binlow-Sflow\n",
    "\n",
    "binmid = f17mid+f24mid\n",
    "umid   = u17mid+u24mid\n",
    "binmid, umid = normalize(wave,binmid,umid)\n",
    "Smid = df[df.SPT==fast_classify2(wave,binmid,umid)].reset_index(drop=True)\n",
    "Sfmid, Sumid = normalize(wave,Smid.FLUX[0],Smid.UNCERTAINTY[0])\n",
    "dmid = binmid-Sfmid\n",
    "\n",
    "binhig = f17hig+f24hig\n",
    "uhig   = u17hig+u24hig\n",
    "binhig, uhig = normalize(wave,binhig,uhig)\n",
    "Shig = df[df.SPT==fast_classify2(wave,binhig,uhig)].reset_index(drop=True)\n",
    "Sfhig, Suhig = normalize(wave,Shig.FLUX[0],Shig.UNCERTAINTY[0])\n",
    "dhig = binhig-Sfhig"
   ]
  },
  {
   "cell_type": "code",
   "execution_count": 15,
   "metadata": {},
   "outputs": [],
   "source": [
    "start = time.time()\n",
    "flux_cols_dic = {}\n",
    "for j in range(len(singles['FLUX'][0])):\n",
    "    fluxcol=[]\n",
    "    for i in range(len(singles)):\n",
    "        fluxcol.append(singles['FLUX'][i][j])\n",
    "    fluxname='FLUX_'+str(j)\n",
    "    flux_cols_dic[fluxname] = fluxcol\n",
    "flux_cols_df = pd.DataFrame(flux_cols_dic)\n",
    "singles = pd.concat([singles, flux_cols_df], axis=1)\n",
    "\n",
    "singles = singles.sort_values(by=['SPT_NUM','J_SNR'], ascending=[True,False])\n",
    "singles.reset_index(drop=True, inplace=True)\n",
    "end = time.time()"
   ]
  },
  {
   "cell_type": "code",
   "execution_count": null,
   "metadata": {},
   "outputs": [],
   "source": []
  },
  {
   "attachments": {},
   "cell_type": "markdown",
   "metadata": {},
   "source": [
    "Multioutput Random Forest LOW snr (<50)"
   ]
  },
  {
   "cell_type": "code",
   "execution_count": 39,
   "metadata": {},
   "outputs": [],
   "source": [
    "with open('data/BinDF_low.pickle', 'rb') as f:\n",
    "        BinDF_low = pickle.load(f)"
   ]
  },
  {
   "cell_type": "code",
   "execution_count": 40,
   "metadata": {},
   "outputs": [],
   "source": [
    "BinDF_low = BinDF_low[BinDF_low.primary_type!=16]\n",
    "BinDF_low = BinDF_low[BinDF_low.primary_type<28]\n",
    "BinDF_low = BinDF_low[BinDF_low.secondary_type>30]\n",
    "BinDF_low = BinDF_low[BinDF_low.secondary_type<39]\n",
    "BinDF_low.reset_index(drop=True,inplace=True)"
   ]
  },
  {
   "cell_type": "code",
   "execution_count": 41,
   "metadata": {},
   "outputs": [],
   "source": [
    "with open('data/BinDF_low_Bard.pickle', 'wb') as f:\n",
    "        pickle.dump(BinDF_low, f)"
   ]
  },
  {
   "cell_type": "code",
   "execution_count": 42,
   "metadata": {},
   "outputs": [
    {
     "data": {
      "text/plain": [
       "(15.0, 39.0)"
      ]
     },
     "execution_count": 42,
     "metadata": {},
     "output_type": "execute_result"
    }
   ],
   "source": [
    "fastspt = [typeToNum(fast_classify(wave,fx,ns)) for fx, ns in zip(BinDF_low.system_interpolated_flux,BinDF_low.system_interpolated_noise)]\n",
    "min(fastspt), max(fastspt)"
   ]
  },
  {
   "cell_type": "code",
   "execution_count": 32,
   "metadata": {},
   "outputs": [
    {
     "name": "stdout",
     "output_type": "stream",
     "text": [
      "200.31315279006958\n"
     ]
    }
   ],
   "source": [
    "start = time.time()\n",
    "MO_low, data_low = binary_multiOutput_classifier(BinDF_low,max_depth=25,n_estimators=50,testdata=True)\n",
    "end = time.time()\n",
    "print(end-start)"
   ]
  },
  {
   "cell_type": "code",
   "execution_count": 34,
   "metadata": {},
   "outputs": [],
   "source": [
    "yput1 = []\n",
    "yput2 = []\n",
    "for i in data_low['y_test']:\n",
    "    yput1.append(i[0])\n",
    "    yput2.append(i[1])\n",
    "data_low_df = pd.DataFrame(data_low['x_test'])\n",
    "data_low_df['prim']=yput1\n",
    "data_low_df['seco']=yput2\n",
    "data_low_df.to_csv('data/data_low_Bard_50est.csv',index=False)"
   ]
  },
  {
   "cell_type": "code",
   "execution_count": 35,
   "metadata": {},
   "outputs": [
    {
     "name": "stdout",
     "output_type": "stream",
     "text": [
      "5280\n"
     ]
    }
   ],
   "source": [
    "x_test_low = data_low['x_test']\n",
    "y_test_low = data_low['y_test']\n",
    "print(len(x_test_low))"
   ]
  },
  {
   "cell_type": "code",
   "execution_count": 36,
   "metadata": {},
   "outputs": [
    {
     "data": {
      "text/plain": [
       "['MOclassifiers/MO_low_Bard_50est.pkl']"
      ]
     },
     "execution_count": 36,
     "metadata": {},
     "output_type": "execute_result"
    }
   ],
   "source": [
    "joblib.dump(MO_low, 'MOclassifiers/MO_low_Bard_50est.pkl')"
   ]
  },
  {
   "cell_type": "code",
   "execution_count": 37,
   "metadata": {},
   "outputs": [],
   "source": [
    "# MO_low = joblib.load('MOclassifiers/MO_low_Bard_50est.pkl')"
   ]
  },
  {
   "cell_type": "code",
   "execution_count": 38,
   "metadata": {},
   "outputs": [],
   "source": [
    "# df_data_low = pd.read_csv(r'data/data_low.csv')\n",
    "# x_test_low = [[df_data_low[str(col)][i] for col in range(409)] for i in range(len(df_data_low))]\n",
    "# y_test_low = [[df_data_low['prim'][i],df_data_low['seco'][i]] for i in range(len(df_data_low))]"
   ]
  },
  {
   "cell_type": "code",
   "execution_count": 39,
   "metadata": {},
   "outputs": [
    {
     "name": "stdout",
     "output_type": "stream",
     "text": [
      "22.679239988327026\n"
     ]
    }
   ],
   "source": [
    "start = time.time()\n",
    "df_avgdiffprim_low, df_avgdiffseco_low, df_stdprim_low, df_stdseco_low, predsprim_low, predssec_low, realprim_low, realsec_low = binaryPrecision(x_test_low,y_test_low,MO_low, predictions=True)\n",
    "end = time.time()\n",
    "print(end-start)"
   ]
  },
  {
   "cell_type": "code",
   "execution_count": 165,
   "metadata": {},
   "outputs": [
    {
     "name": "stdout",
     "output_type": "stream",
     "text": [
      "0.05958833874458886\n"
     ]
    },
    {
     "data": {
      "image/png": "[encoded data removed]",
      "text/plain": [
       "<Figure size 432x288 with 2 Axes>"
      ]
     },
     "metadata": {
      "needs_background": "light"
     },
     "output_type": "display_data"
    }
   ],
   "source": [
    "sns.heatmap(df_avgdiffprim_low.drop([16]+[i for i in range(28,40)],axis=1).drop([i for i in range(16,31)]+[38,39]),annot=False,linewidths=0.1,linecolor='black', cmap=\"plasma\",vmin=-2,vmax=0.75)\n",
    "print(df_avgdiffprim_low.mean(axis = 0, skipna = True).mean())"
   ]
  },
  {
   "cell_type": "code",
   "execution_count": 166,
   "metadata": {},
   "outputs": [
    {
     "name": "stdout",
     "output_type": "stream",
     "text": [
      "0.03689380884267282\n"
     ]
    },
    {
     "data": {
      "image/png": "[encoded data removed]",
      "text/plain": [
       "<Figure size 432x288 with 2 Axes>"
      ]
     },
     "metadata": {
      "needs_background": "light"
     },
     "output_type": "display_data"
    }
   ],
   "source": [
    "sns.heatmap(df_avgdiffseco_low.drop([16]+[i for i in range(28,40)],axis=1).drop([i for i in range(16,31)]+[38,39]),annot=False,linewidths=0.1,linecolor='black', cmap=\"plasma\",vmin=-7,vmax=9)\n",
    "print(df_avgdiffseco_low.mean(axis = 0, skipna = True).mean())"
   ]
  },
  {
   "cell_type": "code",
   "execution_count": 167,
   "metadata": {},
   "outputs": [
    {
     "name": "stdout",
     "output_type": "stream",
     "text": [
      "0.7448454821485352\n"
     ]
    },
    {
     "data": {
      "image/png": "[encoded data removed]",
      "text/plain": [
       "<Figure size 432x288 with 2 Axes>"
      ]
     },
     "metadata": {
      "needs_background": "light"
     },
     "output_type": "display_data"
    }
   ],
   "source": [
    "sns.heatmap(df_stdprim_low.drop([16]+[i for i in range(28,40)],axis=1).drop([i for i in range(16,31)]+[38,39]),annot=False,linewidths=0.1,linecolor='black', cmap=\"plasma\",vmin=0,vmax=1.5)\n",
    "print(df_stdprim_low.mean(axis = 0, skipna = True).mean())"
   ]
  },
  {
   "cell_type": "code",
   "execution_count": 47,
   "metadata": {},
   "outputs": [
    {
     "name": "stdout",
     "output_type": "stream",
     "text": [
      "0.5679989131848373\n"
     ]
    },
    {
     "data": {
      "image/png": "[encoded data removed]",
      "text/plain": [
       "<Figure size 432x288 with 2 Axes>"
      ]
     },
     "metadata": {
      "needs_background": "light"
     },
     "output_type": "display_data"
    }
   ],
   "source": [
    "sns.heatmap(df_stdseco_low.drop([16,28,29,30,31,32,33,34,35,36,37,38,39],axis=1).drop([16,17,18,19,20,21,22,23,24,25,26,27,28,29,30,38,39]),annot=False,linewidths=0.1,linecolor='black', cmap=\"plasma\",vmin=0,vmax=2)\n",
    "print(df_stdseco_low.mean(axis = 0, skipna = True).mean())"
   ]
  },
  {
   "cell_type": "code",
   "execution_count": 189,
   "metadata": {},
   "outputs": [
    {
     "data": {
      "text/plain": [
       "{'primary_type': {'wavegrid': [1.0466686,\n",
       "   1.0546899,\n",
       "   1.1078224,\n",
       "   1.1119732,\n",
       "   1.1161318,\n",
       "   1.1202984,\n",
       "   1.1665872,\n",
       "   1.1708316,\n",
       "   1.175081,\n",
       "   1.1793355,\n",
       "   2.0940266,\n",
       "   2.0972888,\n",
       "   2.1005466,\n",
       "   2.1037998,\n",
       "   2.1360815,\n",
       "   2.1392844,\n",
       "   2.1424825],\n",
       "  'importance': [0.01254182158048388,\n",
       "   0.029023961523897513,\n",
       "   0.08895874562070927,\n",
       "   0.04502496854109745,\n",
       "   0.1321746491073011,\n",
       "   0.010589410312437314,\n",
       "   0.049864401477090384,\n",
       "   0.19375226886754823,\n",
       "   0.04162032959218884,\n",
       "   0.022453734555832362,\n",
       "   0.01563352181505978,\n",
       "   0.01515615724594731,\n",
       "   0.01415451200067846,\n",
       "   0.010325397878480516,\n",
       "   0.009830304317486629,\n",
       "   0.019679258167653816,\n",
       "   0.015924916724878946]},\n",
       " 'secondary_type': {'wavegrid': [0.90129393,\n",
       "   0.9047135,\n",
       "   0.9081512,\n",
       "   0.9116069,\n",
       "   0.9150805,\n",
       "   0.9185718,\n",
       "   0.92208076,\n",
       "   0.9256072,\n",
       "   0.9291509,\n",
       "   0.9327118,\n",
       "   0.93628967,\n",
       "   0.9398844,\n",
       "   0.94349587,\n",
       "   0.9471239,\n",
       "   0.95076823,\n",
       "   0.9544288,\n",
       "   0.9581054,\n",
       "   0.96179783,\n",
       "   0.965506,\n",
       "   0.96922964,\n",
       "   0.97296864,\n",
       "   0.9767228,\n",
       "   0.9804918,\n",
       "   0.9842757,\n",
       "   0.9880741,\n",
       "   0.991887,\n",
       "   0.99571407,\n",
       "   0.9995551,\n",
       "   1.00341,\n",
       "   1.0072784,\n",
       "   1.0111604,\n",
       "   1.0150555,\n",
       "   1.0189637,\n",
       "   1.0228847,\n",
       "   1.0268184,\n",
       "   1.0307643,\n",
       "   1.0347227,\n",
       "   1.038693,\n",
       "   1.0426749,\n",
       "   1.0466686,\n",
       "   1.0506736,\n",
       "   1.0546899,\n",
       "   1.058717,\n",
       "   1.062755,\n",
       "   1.0668035,\n",
       "   1.0708623,\n",
       "   1.0749313,\n",
       "   1.0790101,\n",
       "   1.0830988,\n",
       "   1.0871968,\n",
       "   1.0913042,\n",
       "   1.0954207,\n",
       "   1.099546,\n",
       "   1.10368,\n",
       "   1.1078224,\n",
       "   1.1119732,\n",
       "   1.1161318,\n",
       "   1.1202984,\n",
       "   1.1244725,\n",
       "   1.128654,\n",
       "   1.1328428,\n",
       "   1.1370386,\n",
       "   1.1412411,\n",
       "   1.1454502,\n",
       "   1.1496657,\n",
       "   1.1538873,\n",
       "   1.1581149,\n",
       "   1.1623483,\n",
       "   1.1665872,\n",
       "   1.1708316,\n",
       "   1.175081,\n",
       "   1.1793355,\n",
       "   1.1835947,\n",
       "   1.1878585,\n",
       "   1.1921266,\n",
       "   1.196399,\n",
       "   1.2006752,\n",
       "   1.2049553,\n",
       "   1.2092391,\n",
       "   1.2135262,\n",
       "   1.2178166,\n",
       "   1.22211,\n",
       "   1.2264063,\n",
       "   1.2307053,\n",
       "   1.2350067,\n",
       "   1.2393105,\n",
       "   1.2436163,\n",
       "   1.2479242,\n",
       "   1.2522339,\n",
       "   1.2565451,\n",
       "   1.2608577,\n",
       "   1.2651716,\n",
       "   1.2694867,\n",
       "   1.2738026,\n",
       "   1.2781193,\n",
       "   1.2824366,\n",
       "   1.2867544,\n",
       "   1.2910724,\n",
       "   1.2953905,\n",
       "   1.2997085,\n",
       "   1.3040264,\n",
       "   1.3083439,\n",
       "   1.3126608,\n",
       "   1.3169771,\n",
       "   1.3212926,\n",
       "   1.3256073,\n",
       "   1.3299208,\n",
       "   1.3342329,\n",
       "   1.3385438,\n",
       "   1.3428532,\n",
       "   1.3471608,\n",
       "   1.3514667,\n",
       "   1.3557706,\n",
       "   1.3600725,\n",
       "   1.3643723,\n",
       "   1.3686696,\n",
       "   1.3729646,\n",
       "   1.377257,\n",
       "   1.3815467,\n",
       "   1.3858336,\n",
       "   1.3901176,\n",
       "   1.3943986,\n",
       "   1.3986764,\n",
       "   1.4029509,\n",
       "   1.4072222,\n",
       "   1.4114898,\n",
       "   1.415754,\n",
       "   1.4200144,\n",
       "   1.424271,\n",
       "   1.4285238,\n",
       "   1.4327725,\n",
       "   1.4370172,\n",
       "   1.4412577,\n",
       "   1.445494,\n",
       "   1.4497259,\n",
       "   1.4539534,\n",
       "   1.4581763,\n",
       "   1.4623946,\n",
       "   1.4666083,\n",
       "   1.4708171,\n",
       "   1.4750211,\n",
       "   1.4792202,\n",
       "   1.4834142,\n",
       "   1.4876032,\n",
       "   1.4917871,\n",
       "   1.4959657,\n",
       "   1.500139,\n",
       "   1.504307,\n",
       "   1.5084697,\n",
       "   1.5126268,\n",
       "   1.5167785,\n",
       "   1.5209244,\n",
       "   1.5250648,\n",
       "   1.5291995,\n",
       "   1.5333284,\n",
       "   1.5374516,\n",
       "   1.5415689,\n",
       "   1.5456803,\n",
       "   1.5497859,\n",
       "   1.5538853,\n",
       "   1.5579787,\n",
       "   1.5620662,\n",
       "   1.5661474,\n",
       "   1.5702226,\n",
       "   1.5742917,\n",
       "   1.5783545,\n",
       "   1.582411,\n",
       "   1.5864613,\n",
       "   1.5905054,\n",
       "   1.594543,\n",
       "   1.5985744,\n",
       "   1.6025993,\n",
       "   1.6066179,\n",
       "   1.61063,\n",
       "   1.6146357,\n",
       "   1.618635,\n",
       "   1.6226279,\n",
       "   1.6266141,\n",
       "   1.630594,\n",
       "   1.6345673,\n",
       "   1.6385341,\n",
       "   1.6424943,\n",
       "   1.646448,\n",
       "   1.6503952,\n",
       "   1.6543357,\n",
       "   1.6582698,\n",
       "   1.6621974,\n",
       "   1.6661183,\n",
       "   1.6700326,\n",
       "   1.6739404,\n",
       "   1.6778415,\n",
       "   1.6817362,\n",
       "   1.6856244,\n",
       "   1.6895059,\n",
       "   1.6933808,\n",
       "   1.6972493,\n",
       "   1.7011112,\n",
       "   1.7049665,\n",
       "   1.7088155,\n",
       "   1.7126578,\n",
       "   1.7164936,\n",
       "   1.720323,\n",
       "   1.7241459,\n",
       "   1.7279624,\n",
       "   1.7317723,\n",
       "   1.7355759,\n",
       "   1.739373,\n",
       "   1.7431637,\n",
       "   1.7469481,\n",
       "   1.7507261,\n",
       "   1.7544978,\n",
       "   1.7582631,\n",
       "   1.7620221,\n",
       "   1.7657748,\n",
       "   1.7695214,\n",
       "   1.7732615,\n",
       "   1.7769955,\n",
       "   1.7807233,\n",
       "   1.784445,\n",
       "   1.7881606,\n",
       "   1.7918699,\n",
       "   1.7955731,\n",
       "   1.7992704,\n",
       "   1.8029615,\n",
       "   1.8066466,\n",
       "   1.8103257,\n",
       "   1.8139989,\n",
       "   1.817666,\n",
       "   1.8213273,\n",
       "   1.8249828,\n",
       "   1.8286322,\n",
       "   1.832276,\n",
       "   1.8359139,\n",
       "   1.839546,\n",
       "   1.8431723,\n",
       "   1.8467929,\n",
       "   1.8504078,\n",
       "   1.8540171,\n",
       "   1.8576207,\n",
       "   1.8612187,\n",
       "   1.8648111,\n",
       "   1.868398,\n",
       "   1.8719792,\n",
       "   1.8755552,\n",
       "   1.8791255,\n",
       "   1.8826904,\n",
       "   1.8862499,\n",
       "   1.889804,\n",
       "   1.8933527,\n",
       "   1.8968961,\n",
       "   1.9004343,\n",
       "   1.903967,\n",
       "   1.9074945,\n",
       "   1.911017,\n",
       "   1.9145341,\n",
       "   1.918046,\n",
       "   1.9215528,\n",
       "   1.9250544,\n",
       "   1.9285511,\n",
       "   1.9320426,\n",
       "   1.935529,\n",
       "   1.9390105,\n",
       "   1.9424869,\n",
       "   1.9459583,\n",
       "   1.9494247,\n",
       "   1.9528863,\n",
       "   1.9563429,\n",
       "   1.9597946,\n",
       "   1.9632416,\n",
       "   1.9666836,\n",
       "   1.9701208,\n",
       "   1.9735531,\n",
       "   1.9769807,\n",
       "   1.9804034,\n",
       "   1.9838215,\n",
       "   1.9872348,\n",
       "   1.9906434,\n",
       "   1.9940472,\n",
       "   1.9974464,\n",
       "   2.000841,\n",
       "   2.0042307,\n",
       "   2.0076158,\n",
       "   2.0109963,\n",
       "   2.0143723,\n",
       "   2.0177436,\n",
       "   2.0211103,\n",
       "   2.0244722,\n",
       "   2.02783,\n",
       "   2.0311828,\n",
       "   2.034531,\n",
       "   2.037875,\n",
       "   2.041214,\n",
       "   2.0445487,\n",
       "   2.047879,\n",
       "   2.0512047,\n",
       "   2.0545256,\n",
       "   2.0578423,\n",
       "   2.0611544,\n",
       "   2.064462,\n",
       "   2.067765,\n",
       "   2.0710635,\n",
       "   2.0743575,\n",
       "   2.077647,\n",
       "   2.080932,\n",
       "   2.0842123,\n",
       "   2.0874882,\n",
       "   2.0907595,\n",
       "   2.0940266,\n",
       "   2.0972888,\n",
       "   2.1005466,\n",
       "   2.1037998,\n",
       "   2.1070485,\n",
       "   2.1102927,\n",
       "   2.1135323,\n",
       "   2.1167674,\n",
       "   2.119998,\n",
       "   2.1232238,\n",
       "   2.126445,\n",
       "   2.1296618,\n",
       "   2.132874,\n",
       "   2.1360815,\n",
       "   2.1392844,\n",
       "   2.1424825,\n",
       "   2.1456761,\n",
       "   2.148865,\n",
       "   2.152049,\n",
       "   2.1552286,\n",
       "   2.1584036,\n",
       "   2.1615736,\n",
       "   2.164739,\n",
       "   2.1678996,\n",
       "   2.1710556,\n",
       "   2.1742065,\n",
       "   2.177353,\n",
       "   2.1804943,\n",
       "   2.183631,\n",
       "   2.1867628,\n",
       "   2.18989,\n",
       "   2.193012,\n",
       "   2.196129,\n",
       "   2.1992414,\n",
       "   2.202349,\n",
       "   2.2054515,\n",
       "   2.208549,\n",
       "   2.2116416,\n",
       "   2.214729,\n",
       "   2.2178118,\n",
       "   2.2208893,\n",
       "   2.2239618,\n",
       "   2.2270296,\n",
       "   2.230092,\n",
       "   2.2331493,\n",
       "   2.2362018,\n",
       "   2.239249,\n",
       "   2.2422912,\n",
       "   2.2453282,\n",
       "   2.2483602,\n",
       "   2.251387,\n",
       "   2.2544086,\n",
       "   2.257425,\n",
       "   2.2604363,\n",
       "   2.2634425,\n",
       "   2.2664435,\n",
       "   2.2694392,\n",
       "   2.27243,\n",
       "   2.2754152,\n",
       "   2.2783954,\n",
       "   2.2813706,\n",
       "   2.2843404,\n",
       "   2.2873049,\n",
       "   2.2902644,\n",
       "   2.2932186,\n",
       "   2.2961676,\n",
       "   2.2991116,\n",
       "   2.30205,\n",
       "   2.3049839,\n",
       "   2.307912,\n",
       "   2.3108354,\n",
       "   2.3137536,\n",
       "   2.3166666,\n",
       "   2.3195744,\n",
       "   2.3224773,\n",
       "   2.325375,\n",
       "   2.3282678,\n",
       "   2.3311558,\n",
       "   2.3340385,\n",
       "   2.3369164,\n",
       "   2.3397894,\n",
       "   2.3426576,\n",
       "   2.345521,\n",
       "   2.3483794,\n",
       "   2.3512332,\n",
       "   2.3540823,\n",
       "   2.3569267,\n",
       "   2.3597667,\n",
       "   2.362602,\n",
       "   2.365433,\n",
       "   2.3682594,\n",
       "   2.3710816,\n",
       "   2.3738995,\n",
       "   2.3767133,\n",
       "   2.3795228,\n",
       "   2.3823283,\n",
       "   2.38513,\n",
       "   2.3879275,\n",
       "   2.3907216,\n",
       "   2.3935118,\n",
       "   2.3962984,\n",
       "   2.3990817],\n",
       "  'importance': [0.002032025596161826,\n",
       "   0.0022882294454024065,\n",
       "   0.0018739519334822325,\n",
       "   0.001499074834644747,\n",
       "   0.0019369010387330638,\n",
       "   0.0019401614679176089,\n",
       "   0.0019121317514059278,\n",
       "   0.0022827027272725718,\n",
       "   0.002020723181903305,\n",
       "   0.0024319032315009564,\n",
       "   0.0021120773092022887,\n",
       "   0.0022030429339536277,\n",
       "   0.001791909239923191,\n",
       "   0.002165106017058129,\n",
       "   0.0019699401000296195,\n",
       "   0.0015944365752565165,\n",
       "   0.002022725996842642,\n",
       "   0.0016166694543187552,\n",
       "   0.0016075087258343836,\n",
       "   0.001961026118478373,\n",
       "   0.0016639947592126856,\n",
       "   0.001863083183129599,\n",
       "   0.0018629639524414552,\n",
       "   0.0023901233212212936,\n",
       "   0.0019960285709765234,\n",
       "   0.0017657279390499384,\n",
       "   0.0019007591140340824,\n",
       "   0.0014291672156709803,\n",
       "   0.0017516794790060838,\n",
       "   0.001777354978366212,\n",
       "   0.0018288255360892941,\n",
       "   0.0018277873791970236,\n",
       "   0.0017787012373032865,\n",
       "   0.001773106643054841,\n",
       "   0.0019464872843494114,\n",
       "   0.001793495686660782,\n",
       "   0.0017413161018610132,\n",
       "   0.002278287233231224,\n",
       "   0.001947892505703065,\n",
       "   0.0016412421359362833,\n",
       "   0.001890682928050298,\n",
       "   0.001629584824255881,\n",
       "   0.0021446973743844844,\n",
       "   0.0018021362867856347,\n",
       "   0.001974255093801091,\n",
       "   0.0018212288284706907,\n",
       "   0.0018254908121145283,\n",
       "   0.0017830559436708764,\n",
       "   0.001988355212792202,\n",
       "   0.0016946194440767431,\n",
       "   0.0017956773739233381,\n",
       "   0.0017411527561533022,\n",
       "   0.0014032098012315274,\n",
       "   0.002208324913328744,\n",
       "   0.0018640069009431867,\n",
       "   0.0020414093600842624,\n",
       "   0.0015587245204692125,\n",
       "   0.0016543809930878559,\n",
       "   0.0023920959888860823,\n",
       "   0.0020675017520018876,\n",
       "   0.002101303360682376,\n",
       "   0.0016687256408378986,\n",
       "   0.0015788434588348069,\n",
       "   0.001825057364689839,\n",
       "   0.002846645845259886,\n",
       "   0.0020056662126620053,\n",
       "   0.0022582593222468866,\n",
       "   0.002019969024860118,\n",
       "   0.0019309113418239526,\n",
       "   0.001901595372612927,\n",
       "   0.0020718247417292842,\n",
       "   0.002353279202599629,\n",
       "   0.0025669541254332447,\n",
       "   0.0051111397173006804,\n",
       "   0.004215283244961376,\n",
       "   0.012686445383152016,\n",
       "   0.01649160729114511,\n",
       "   0.01628534316251704,\n",
       "   0.007144418068057633,\n",
       "   0.010773560446748853,\n",
       "   0.003828303239114103,\n",
       "   0.00388071405978678,\n",
       "   0.0035357295703884973,\n",
       "   0.0031438972940732767,\n",
       "   0.0022484976796016847,\n",
       "   0.00194326536389777,\n",
       "   0.002015444548345219,\n",
       "   0.0019064111768401209,\n",
       "   0.0024607816676503204,\n",
       "   0.0027527902815627065,\n",
       "   0.0025732510341741916,\n",
       "   0.0023656407304920336,\n",
       "   0.0027991229686418688,\n",
       "   0.0024865883526688213,\n",
       "   0.002329977936019946,\n",
       "   0.002436513000992359,\n",
       "   0.002615887043626885,\n",
       "   0.002108510899915674,\n",
       "   0.002895307933358826,\n",
       "   0.00429542031517089,\n",
       "   0.004418268386895948,\n",
       "   0.009082052520693303,\n",
       "   0.006291401714674667,\n",
       "   0.011920749080069308,\n",
       "   0.006659364037932229,\n",
       "   0.0033786509226295543,\n",
       "   0.002603018462080409,\n",
       "   0.0018841423469295017,\n",
       "   0.0023059164023949306,\n",
       "   0.005418028583678086,\n",
       "   0.005179677470571245,\n",
       "   0.004450876891499381,\n",
       "   0.003712639489237345,\n",
       "   0.0024692622448152504,\n",
       "   0.0026610333301154594,\n",
       "   0.002211296445452571,\n",
       "   0.00208423101801779,\n",
       "   0.002110199351693913,\n",
       "   0.002570221073045798,\n",
       "   0.0032836569054236126,\n",
       "   0.0018335947910614388,\n",
       "   0.002326594851697904,\n",
       "   0.0019479058485180045,\n",
       "   0.0025952274046458757,\n",
       "   0.002346610027462662,\n",
       "   0.002134763862980786,\n",
       "   0.0016855019567287282,\n",
       "   0.003841197074314839,\n",
       "   0.003067609369397532,\n",
       "   0.002559651596793507,\n",
       "   0.003487548497434051,\n",
       "   0.004235714792413742,\n",
       "   0.005549013732331023,\n",
       "   0.0026988439640780464,\n",
       "   0.0020543816226124734,\n",
       "   0.0022368221130214506,\n",
       "   0.002170333550999748,\n",
       "   0.0020760302600239043,\n",
       "   0.0020501873615470733,\n",
       "   0.002263973703430385,\n",
       "   0.0017525914766593007,\n",
       "   0.0023741504040680488,\n",
       "   0.0027100620272375387,\n",
       "   0.001741975353801559,\n",
       "   0.0020280532019532555,\n",
       "   0.0022231248386428604,\n",
       "   0.0022237799298824193,\n",
       "   0.002175857638703444,\n",
       "   0.002232631404013982,\n",
       "   0.0019422108316083388,\n",
       "   0.0023823372945415322,\n",
       "   0.002175130516094162,\n",
       "   0.0026016638070693286,\n",
       "   0.002200259850640836,\n",
       "   0.0019486073552747673,\n",
       "   0.001963418253753079,\n",
       "   0.0017773763201444964,\n",
       "   0.0015565277978264516,\n",
       "   0.0020462387585772927,\n",
       "   0.0020250068069793048,\n",
       "   0.002185413726185636,\n",
       "   0.0023442702574955378,\n",
       "   0.0018457827464515202,\n",
       "   0.0020584962850317585,\n",
       "   0.0020419162799510727,\n",
       "   0.002286921902084788,\n",
       "   0.0024673844312238223,\n",
       "   0.0020409685016357535,\n",
       "   0.002172835662914294,\n",
       "   0.0016235929538927919,\n",
       "   0.0023215343974269977,\n",
       "   0.0029697610520287134,\n",
       "   0.0026730123505346376,\n",
       "   0.003879464021658853,\n",
       "   0.0038009711099002484,\n",
       "   0.007196209615036653,\n",
       "   0.008999125924915075,\n",
       "   0.010594036480083231,\n",
       "   0.0052138912038246455,\n",
       "   0.0045243351166574,\n",
       "   0.005996839700652774,\n",
       "   0.003691421239538904,\n",
       "   0.002891185030796364,\n",
       "   0.00953506676598947,\n",
       "   0.0036326528823331862,\n",
       "   0.009711276169087502,\n",
       "   0.009818385383557539,\n",
       "   0.0022532617130750394,\n",
       "   0.0028518629175936995,\n",
       "   0.0026067254765481883,\n",
       "   0.0038727124370683415,\n",
       "   0.003333644273760778,\n",
       "   0.0032614016898105834,\n",
       "   0.0029258073245935078,\n",
       "   0.0029458305862124605,\n",
       "   0.0040853340595892445,\n",
       "   0.002603338717819172,\n",
       "   0.003136684582374128,\n",
       "   0.0023487428949477652,\n",
       "   0.002239301158142971,\n",
       "   0.002501437932812532,\n",
       "   0.0020288497920012026,\n",
       "   0.0019137848657597547,\n",
       "   0.0018501775063217126,\n",
       "   0.00240066506844834,\n",
       "   0.0020940625637838215,\n",
       "   0.0025460294383215483,\n",
       "   0.0015964951677593755,\n",
       "   0.0014644542100412108,\n",
       "   0.001639667654593854,\n",
       "   0.0018860909405063778,\n",
       "   0.001753512138523289,\n",
       "   0.0014895135642824838,\n",
       "   0.0017498112937218565,\n",
       "   0.0020596916840946926,\n",
       "   0.0017048381715165958,\n",
       "   0.0019517204528667214,\n",
       "   0.0016670516832902151,\n",
       "   0.002128856239538514,\n",
       "   0.0018278090435156142,\n",
       "   0.0017740436901749858,\n",
       "   0.001612268020891387,\n",
       "   0.0018684820505526867,\n",
       "   0.001975269197177232,\n",
       "   0.0016855658687510008,\n",
       "   0.0015017661923646826,\n",
       "   0.0016608325440067898,\n",
       "   0.00169128995258981,\n",
       "   0.0021960107275828134,\n",
       "   0.0018608991211595768,\n",
       "   0.0022675593195336016,\n",
       "   0.0019891952885110627,\n",
       "   0.0017467612786603063,\n",
       "   0.0019367611155573909,\n",
       "   0.0018965482461648483,\n",
       "   0.0019407586935008163,\n",
       "   0.0020467403595851408,\n",
       "   0.00210996199688277,\n",
       "   0.0017983349368265425,\n",
       "   0.001494149610334161,\n",
       "   0.0022111422355430505,\n",
       "   0.002096363568160191,\n",
       "   0.002109583903070294,\n",
       "   0.0022306233175841393,\n",
       "   0.002470653418139417,\n",
       "   0.0019281693037245062,\n",
       "   0.001938705397828109,\n",
       "   0.002544229726086476,\n",
       "   0.0018406640895066596,\n",
       "   0.0015048789778605834,\n",
       "   0.001981201533333134,\n",
       "   0.0019079414606209576,\n",
       "   0.0023257918818291633,\n",
       "   0.0018661886271922742,\n",
       "   0.0021894611996531236,\n",
       "   0.0021173533221046244,\n",
       "   0.0015404857395635515,\n",
       "   0.0017143673214043231,\n",
       "   0.0025225322552489505,\n",
       "   0.0016189963655415809,\n",
       "   0.002208503851927358,\n",
       "   0.002551764454389601,\n",
       "   0.0020618965048243357,\n",
       "   0.0018832210040272722,\n",
       "   0.001956445379140804,\n",
       "   0.002450535266196147,\n",
       "   0.002352035091501241,\n",
       "   0.0020777962489762153,\n",
       "   0.002492988311154527,\n",
       "   0.00209589599214135,\n",
       "   0.002028224561909475,\n",
       "   0.0017904656529124058,\n",
       "   0.0020316491040468856,\n",
       "   0.001564976942710889,\n",
       "   0.001783462416889998,\n",
       "   0.0019159302231380527,\n",
       "   0.0018769917740516866,\n",
       "   0.0016238601101397302,\n",
       "   0.0018510009740955976,\n",
       "   0.0021771421270537225,\n",
       "   0.0022754235496817068,\n",
       "   0.0023030847016237603,\n",
       "   0.002257893736175145,\n",
       "   0.0019393453541752172,\n",
       "   0.0015422162403957596,\n",
       "   0.0019217929269380093,\n",
       "   0.0018819513248525977,\n",
       "   0.001540344413054702,\n",
       "   0.0016685575425905424,\n",
       "   0.0015957667671851333,\n",
       "   0.0017879522394781053,\n",
       "   0.0015968910763695784,\n",
       "   0.0019032696042549824,\n",
       "   0.0015951200264589943,\n",
       "   0.0017085162482334557,\n",
       "   0.0016372897395098797,\n",
       "   0.001869227120718237,\n",
       "   0.0018706400266093118,\n",
       "   0.0016482173275658605,\n",
       "   0.001254961046472309,\n",
       "   0.0019661716872152453,\n",
       "   0.0017342536859352741,\n",
       "   0.0017889719918409589,\n",
       "   0.0014287625437335342,\n",
       "   0.001605536470015275,\n",
       "   0.0014715520296976084,\n",
       "   0.0020607792493685427,\n",
       "   0.0012704969017034834,\n",
       "   0.0014956302427141205,\n",
       "   0.0019731171950497137,\n",
       "   0.0013929048213452027,\n",
       "   0.0014798278029854045,\n",
       "   0.0013136309393406243,\n",
       "   0.001833040404890033,\n",
       "   0.0014518846701939076,\n",
       "   0.0016136673583760559,\n",
       "   0.0013701575891297759,\n",
       "   0.0012328915058065332,\n",
       "   0.001090228882632289,\n",
       "   0.0013491738456191818,\n",
       "   0.001489057835536252,\n",
       "   0.0013840721586236727,\n",
       "   0.0016179536246007417,\n",
       "   0.0019866524389902758,\n",
       "   0.0016016564031075648,\n",
       "   0.0018888756544488108,\n",
       "   0.0017268305929919318,\n",
       "   0.0012172769485291341,\n",
       "   0.0013933036715044638,\n",
       "   0.0017378957187096594,\n",
       "   0.0014175948772521775,\n",
       "   0.0013646791476672807,\n",
       "   0.0011677441499038758,\n",
       "   0.0014508148775725963,\n",
       "   0.0012149953588983038,\n",
       "   0.0015628183640803883,\n",
       "   0.0014402190059347936,\n",
       "   0.0016921184646353066,\n",
       "   0.0015846723282191913,\n",
       "   0.0013810874073986639,\n",
       "   0.0016052962772240245,\n",
       "   0.0016887719096815113,\n",
       "   0.0018465554279472188,\n",
       "   0.001706664126420583,\n",
       "   0.0020588418110104364,\n",
       "   0.0021509795171475578,\n",
       "   0.002056423808537365,\n",
       "   0.0017140953031233846,\n",
       "   0.0015685642637535018,\n",
       "   0.0017875796044848251,\n",
       "   0.0012730283302795592,\n",
       "   0.0018983951282789844,\n",
       "   0.001570866563500016,\n",
       "   0.002009568854246806,\n",
       "   0.0016044902659440108,\n",
       "   0.0018930205519037777,\n",
       "   0.001491963022642572,\n",
       "   0.0017437921397097458,\n",
       "   0.0018023862766892711,\n",
       "   0.0017126225697380367,\n",
       "   0.0019962037844061596,\n",
       "   0.0019140609150250889,\n",
       "   0.0028638610911456445,\n",
       "   0.002554974186886556,\n",
       "   0.0023977289408896557,\n",
       "   0.0021847150463471217,\n",
       "   0.001769473840122914,\n",
       "   0.0019180048735546532,\n",
       "   0.0018718255498809005,\n",
       "   0.002445341092954686,\n",
       "   0.0018883188197169531,\n",
       "   0.002109685598319642,\n",
       "   0.002156603411104432,\n",
       "   0.0025981430491237136,\n",
       "   0.001813948654416714,\n",
       "   0.001725895942475189,\n",
       "   0.001815806361190826,\n",
       "   0.002145605086893826,\n",
       "   0.0016779154029194542,\n",
       "   0.002919698643637322,\n",
       "   0.002352062214311094,\n",
       "   0.004592792289895662,\n",
       "   0.002317458509166427,\n",
       "   0.0023115564409808263,\n",
       "   0.002363527168992392,\n",
       "   0.00185505836920749,\n",
       "   0.002618695831909098,\n",
       "   0.0023296103224268137,\n",
       "   0.0017349228022483245,\n",
       "   0.0021463094156949983,\n",
       "   0.002308576461246551,\n",
       "   0.0018112630132909805,\n",
       "   0.002351295883012908,\n",
       "   0.0021698882615504424,\n",
       "   0.0015395700026638044,\n",
       "   0.0015478735960024479,\n",
       "   0.0018949501232904706,\n",
       "   0.0017436960644096281,\n",
       "   0.0022755368208975603,\n",
       "   0.001822003177128116,\n",
       "   0.0028556926279397947,\n",
       "   0.0023010228990801664,\n",
       "   0.001978040070416792,\n",
       "   0.0018172215219997491,\n",
       "   0.0023192347367394176,\n",
       "   0.0016444927582103827,\n",
       "   0.0019784950386763163,\n",
       "   0.0024078478321945887,\n",
       "   0.001997946168824157]}}"
      ]
     },
     "execution_count": 189,
     "metadata": {},
     "output_type": "execute_result"
    },
    {
     "data": {
      "image/png": "[encoded data removed]",
      "text/plain": [
       "<Figure size 432x288 with 2 Axes>"
      ]
     },
     "metadata": {
      "needs_background": "light"
     },
     "output_type": "display_data"
    }
   ],
   "source": [
    "fig, ax = plt.subplots(2,1,sharex=True)\n",
    "\n",
    "ax[0].plot(wavegrid,f17low)\n",
    "ax[0].plot(wavegrid,f24low)\n",
    "ax[0].set_ylabel('Normalized Flux ($\\\\frac{erg}{cm}\\\\frac{1}{s}$)')\n",
    "ax[0].legend(['M7 normalized flux','L4 normalized flux'])\n",
    "\n",
    "feat_impts_low = {'primary_type':{},'secondary_type':{}}\n",
    "ddd = []\n",
    "eee = []\n",
    "for clf in MO_low.estimators_:\n",
    "    ax[1].plot(wavegrid,clf.feature_importances_, alpha=0.8)\n",
    "    max_imp = max(clf.feature_importances_)\n",
    "    dd = []\n",
    "    ee = []\n",
    "    for i in np.where(clf.feature_importances_ >= 0.05*max_imp)[0]:\n",
    "        dd.append(wavegrid[i])\n",
    "        ee.append(clf.feature_importances_[i])\n",
    "    ddd.append(dd)\n",
    "    eee.append(ee)\n",
    "ax[0].axvspan(1.35,1.42, alpha=0.3, color='k')\n",
    "ax[1].axvspan(1.35,1.42, alpha=0.3, color='k')\n",
    "ax[0].axvspan(1.80,1.95, alpha=0.3, color='k')\n",
    "ax[1].axvspan(1.80,1.95, alpha=0.3, color='k')\n",
    "ax[1].legend(['primary type', 'secondary type', 'telluric band'])\n",
    "plt.subplots_adjust(hspace=0)\n",
    "fig.suptitle('Feature importance and M7+L4 binary template')\n",
    "plt.xlabel('wavelength ($\\mu$m)')\n",
    "feat_impts_low['primary_type']['wavegrid'] = ddd[0]\n",
    "feat_impts_low['primary_type']['importance'] = eee[0]\n",
    "feat_impts_low['secondary_type']['wavegrid'] = ddd[1]\n",
    "feat_impts_low['secondary_type']['importance'] = eee[1]\n",
    "feat_impts_low"
   ]
  },
  {
   "cell_type": "code",
   "execution_count": 49,
   "metadata": {},
   "outputs": [],
   "source": [
    "precisionprim_low1, recallprim_low1, f1_scoreprim_low1, accuracyprim_low1 = calculate_metrics(realprim_low,predsprim_low,1)\n",
    "precisionsec_low1, recallsec_low1, f1_scoresec_low1, accuracysec_low1 = calculate_metrics(realsec_low,predssec_low,1)\n",
    "precisionprim_low3, recallprim_low3, f1_scoreprim_low3, accuracyprim_low3 = calculate_metrics(realprim_low,predsprim_low,3)\n",
    "precisionsec_low3, recallsec_low3, f1_scoresec_low3, accuracysec_low3 = calculate_metrics(realsec_low,predssec_low,3)"
   ]
  },
  {
   "cell_type": "code",
   "execution_count": 50,
   "metadata": {},
   "outputs": [],
   "source": [
    "with open('data/precisionprim_low1_Bard_50est.pickle', 'wb') as file:\n",
    "    pickle.dump(precisionprim_low1, file)\n",
    "with open('data/recallprim_low1_Bard_50est.pickle', 'wb') as file:\n",
    "    pickle.dump(recallprim_low1, file)\n",
    "with open('data/f1_scoreprim_low1_Bard_50est.pickle', 'wb') as file:\n",
    "    pickle.dump(f1_scoreprim_low1, file)\n",
    "with open('data/accuracyprim_low1_Bard_50est.pickle', 'wb') as file:\n",
    "    pickle.dump(accuracyprim_low1, file)"
   ]
  },
  {
   "cell_type": "code",
   "execution_count": 51,
   "metadata": {},
   "outputs": [],
   "source": [
    "with open('data/precisionsec_low1_Bard_50est.pickle', 'wb') as file:\n",
    "    pickle.dump(precisionsec_low1, file)\n",
    "with open('data/recallsec_low1_Bard_50est.pickle', 'wb') as file:\n",
    "    pickle.dump(recallsec_low1, file)\n",
    "with open('data/f1_scoresec_low1_Bard_50est.pickle', 'wb') as file:\n",
    "    pickle.dump(f1_scoresec_low1, file)\n",
    "with open('data/accuracysec_low1_Bard_50est.pickle', 'wb') as file:\n",
    "    pickle.dump(accuracysec_low1, file)"
   ]
  },
  {
   "cell_type": "code",
   "execution_count": 52,
   "metadata": {},
   "outputs": [],
   "source": [
    "with open('data/precisionprim_low3_Bard_50est.pickle', 'wb') as file:\n",
    "    pickle.dump(precisionprim_low3, file)\n",
    "with open('data/recallprim_low3_Bard_50est.pickle', 'wb') as file:\n",
    "    pickle.dump(recallprim_low3, file)\n",
    "with open('data/f1_scoreprim_low3_Bard_50est.pickle', 'wb') as file:\n",
    "    pickle.dump(f1_scoreprim_low3, file)\n",
    "with open('data/accuracyprim_low3_Bard_50est.pickle', 'wb') as file:\n",
    "    pickle.dump(accuracyprim_low3, file)"
   ]
  },
  {
   "cell_type": "code",
   "execution_count": 53,
   "metadata": {},
   "outputs": [],
   "source": [
    "with open('data/precisionsec_low3_Bard_50est.pickle', 'wb') as file:\n",
    "    pickle.dump(precisionsec_low3, file)\n",
    "with open('data/recallsec_low3_Bard_50est.pickle', 'wb') as file:\n",
    "    pickle.dump(recallsec_low3, file)\n",
    "with open('data/f1_scoresec_low3_Bard_50est.pickle', 'wb') as file:\n",
    "    pickle.dump(f1_scoresec_low3, file)\n",
    "with open('data/accuracysec_low3_Bard_50est.pickle', 'wb') as file:\n",
    "    pickle.dump(accuracysec_low3, file)"
   ]
  },
  {
   "cell_type": "code",
   "execution_count": null,
   "metadata": {},
   "outputs": [],
   "source": []
  },
  {
   "attachments": {},
   "cell_type": "markdown",
   "metadata": {},
   "source": [
    "Multioutput Random Fores MID snr (50<snr<100)"
   ]
  },
  {
   "cell_type": "code",
   "execution_count": 43,
   "metadata": {},
   "outputs": [],
   "source": [
    "with open('data/BinDF_mid.pickle', 'rb') as f:\n",
    "        BinDF_mid = pickle.load(f)"
   ]
  },
  {
   "cell_type": "code",
   "execution_count": 44,
   "metadata": {},
   "outputs": [],
   "source": [
    "BinDF_mid = BinDF_mid[BinDF_mid.primary_type!=16]\n",
    "BinDF_mid = BinDF_mid[BinDF_mid.primary_type<28]\n",
    "BinDF_mid = BinDF_mid[BinDF_mid.secondary_type>30]\n",
    "BinDF_mid = BinDF_mid[BinDF_mid.secondary_type<39]\n",
    "BinDF_mid.reset_index(drop=True,inplace=True)"
   ]
  },
  {
   "cell_type": "code",
   "execution_count": 45,
   "metadata": {},
   "outputs": [],
   "source": [
    "with open('data/BinDF_mid_Bard.pickle', 'wb') as f:\n",
    "        pickle.dump(BinDF_mid, f)"
   ]
  },
  {
   "cell_type": "code",
   "execution_count": 46,
   "metadata": {},
   "outputs": [
    {
     "data": {
      "text/plain": [
       "(16.0, 33.0)"
      ]
     },
     "execution_count": 46,
     "metadata": {},
     "output_type": "execute_result"
    }
   ],
   "source": [
    "fastspt = [typeToNum(fast_classify(wave,fx,ns)) for fx, ns in zip(BinDF_mid.system_interpolated_flux,BinDF_mid.system_interpolated_noise)]\n",
    "min(fastspt), max(fastspt)"
   ]
  },
  {
   "cell_type": "code",
   "execution_count": 58,
   "metadata": {},
   "outputs": [
    {
     "name": "stdout",
     "output_type": "stream",
     "text": [
      "216.4756121635437\n"
     ]
    }
   ],
   "source": [
    "start = time.time()\n",
    "clfmid, data_mid = binary_multiOutput_classifier(BinDF_mid,max_depth=25,n_estimators=50,testdata=True)\n",
    "end = time.time()\n",
    "print(end-start)"
   ]
  },
  {
   "cell_type": "code",
   "execution_count": 59,
   "metadata": {},
   "outputs": [],
   "source": [
    "x_test_mid = data_mid['x_test']\n",
    "y_test_mid = data_mid['y_test']"
   ]
  },
  {
   "cell_type": "code",
   "execution_count": 60,
   "metadata": {},
   "outputs": [],
   "source": [
    "yput1 = []\n",
    "yput2 = []\n",
    "for i in data_mid['y_test']:\n",
    "    yput1.append(i[0])\n",
    "    yput2.append(i[1])\n",
    "data_mid_df = pd.DataFrame(data_mid['x_test'])\n",
    "data_mid_df['prim']=yput1\n",
    "data_mid_df['seco']=yput2\n",
    "data_mid_df.to_csv('data/data_mid_Bard_50est.csv',index=False)"
   ]
  },
  {
   "cell_type": "code",
   "execution_count": 61,
   "metadata": {},
   "outputs": [
    {
     "data": {
      "text/plain": [
       "['MOclassifiers/MO_mid_Bard_50est.pkl']"
      ]
     },
     "execution_count": 61,
     "metadata": {},
     "output_type": "execute_result"
    }
   ],
   "source": [
    "joblib.dump(clfmid, 'MOclassifiers/MO_mid_Bard_50est.pkl')"
   ]
  },
  {
   "cell_type": "code",
   "execution_count": 62,
   "metadata": {},
   "outputs": [],
   "source": [
    "MO_mid = joblib.load('MOclassifiers/MO_mid_Bard_50est.pkl')"
   ]
  },
  {
   "cell_type": "code",
   "execution_count": 63,
   "metadata": {},
   "outputs": [],
   "source": [
    "# df_data_mid = pd.read_csv(r'data/data_mid.csv')\n",
    "# x_test_mid = [[df_data_mid[str(col)][i] for col in range(409)] for i in range(len(df_data_mid))]\n",
    "# y_test_mid = [[df_data_mid['prim'][i],df_data_mid['seco'][i]] for i in range(len(df_data_mid))]"
   ]
  },
  {
   "cell_type": "code",
   "execution_count": 64,
   "metadata": {},
   "outputs": [
    {
     "name": "stdout",
     "output_type": "stream",
     "text": [
      "20.611217737197876\n"
     ]
    }
   ],
   "source": [
    "start = time.time()\n",
    "df_avgdiffprim_mid, df_avgdiffseco_mid, df_stdprim_mid, df_stdseco_mid, predsprim_mid, predssec_mid, realprim_mid, realsec_mid = binaryPrecision(x_test_mid,y_test_mid,MO_mid,predictions=True)\n",
    "end = time.time()\n",
    "print(end-start)"
   ]
  },
  {
   "cell_type": "code",
   "execution_count": 168,
   "metadata": {},
   "outputs": [
    {
     "name": "stdout",
     "output_type": "stream",
     "text": [
      "0.005299346875821464\n"
     ]
    },
    {
     "data": {
      "image/png": "[encoded data removed]",
      "text/plain": [
       "<Figure size 432x288 with 2 Axes>"
      ]
     },
     "metadata": {
      "needs_background": "light"
     },
     "output_type": "display_data"
    }
   ],
   "source": [
    "sns.heatmap(df_avgdiffprim_mid.drop([16]+[i for i in range(28,40)],axis=1).drop([i for i in range(16,31)]+[38,39]),annot=False,linewidths=0.1,linecolor='black', cmap=\"plasma\",vmin=-2,vmax=0.75)\n",
    "print(df_avgdiffprim_mid.mean(axis = 0, skipna = True).mean())"
   ]
  },
  {
   "cell_type": "code",
   "execution_count": 169,
   "metadata": {},
   "outputs": [
    {
     "name": "stdout",
     "output_type": "stream",
     "text": [
      "0.005573903158533042\n"
     ]
    },
    {
     "data": {
      "image/png": "[encoded data removed]",
      "text/plain": [
       "<Figure size 432x288 with 2 Axes>"
      ]
     },
     "metadata": {
      "needs_background": "light"
     },
     "output_type": "display_data"
    }
   ],
   "source": [
    "sns.heatmap(df_avgdiffseco_mid.drop([16]+[i for i in range(28,40)],axis=1).drop([i for i in range(16,31)]+[38,39]),annot=False,linewidths=0.1,linecolor='black', cmap=\"plasma\",vmin=-7,vmax=9)\n",
    "print(df_avgdiffseco_mid.mean(axis = 0, skipna = True).mean())"
   ]
  },
  {
   "cell_type": "code",
   "execution_count": 170,
   "metadata": {},
   "outputs": [
    {
     "name": "stdout",
     "output_type": "stream",
     "text": [
      "0.27727004438078223\n"
     ]
    },
    {
     "data": {
      "image/png": "[encoded data removed]",
      "text/plain": [
       "<Figure size 432x288 with 2 Axes>"
      ]
     },
     "metadata": {
      "needs_background": "light"
     },
     "output_type": "display_data"
    }
   ],
   "source": [
    "sns.heatmap(df_stdprim_mid.drop([16]+[i for i in range(28,40)],axis=1).drop([i for i in range(16,31)]+[38,39]),annot=False,linewidths=0.1,linecolor='black', cmap=\"plasma\",vmin=0,vmax=1.5)\n",
    "print(df_stdprim_mid.mean(axis = 0, skipna = True).mean())"
   ]
  },
  {
   "cell_type": "code",
   "execution_count": 171,
   "metadata": {},
   "outputs": [
    {
     "name": "stdout",
     "output_type": "stream",
     "text": [
      "0.6533792803311141\n"
     ]
    },
    {
     "data": {
      "image/png": "[encoded data removed]",
      "text/plain": [
       "<Figure size 432x288 with 2 Axes>"
      ]
     },
     "metadata": {
      "needs_background": "light"
     },
     "output_type": "display_data"
    }
   ],
   "source": [
    "sns.heatmap(df_stdseco_mid.drop([16]+[i for i in range(28,40)],axis=1).drop([i for i in range(16,31)]+[38,39]),annot=False,linewidths=0.1,linecolor='black', cmap=\"plasma\",vmin=0,vmax=2)\n",
    "print(df_stdseco_mid.mean(axis = 0, skipna = True).mean())"
   ]
  },
  {
   "cell_type": "code",
   "execution_count": 188,
   "metadata": {},
   "outputs": [
    {
     "data": {
      "text/plain": [
       "{'primary_type': {'wavegrid': [1.0546899, 1.0954207],\n",
       "  'importance': [0.046769523387252085, 0.7255794774724958]},\n",
       " 'secondary_type': {'wavegrid': [1.1921266,\n",
       "   1.196399,\n",
       "   1.2006752,\n",
       "   1.2049553,\n",
       "   1.2092391,\n",
       "   1.2135262,\n",
       "   1.2608577,\n",
       "   1.2651716,\n",
       "   1.2694867,\n",
       "   1.2738026,\n",
       "   1.2781193,\n",
       "   1.2824366,\n",
       "   1.2867544,\n",
       "   1.2910724,\n",
       "   1.2953905,\n",
       "   1.2997085,\n",
       "   1.3040264,\n",
       "   1.3083439,\n",
       "   1.3126608,\n",
       "   1.3169771,\n",
       "   1.3212926,\n",
       "   1.3256073,\n",
       "   1.3428532,\n",
       "   1.3471608,\n",
       "   1.3514667,\n",
       "   1.3557706,\n",
       "   1.424271,\n",
       "   1.4327725,\n",
       "   1.4370172,\n",
       "   1.4412577,\n",
       "   1.4581763,\n",
       "   1.4666083,\n",
       "   1.4708171,\n",
       "   1.5661474,\n",
       "   1.594543,\n",
       "   1.6025993,\n",
       "   1.6066179,\n",
       "   1.61063,\n",
       "   1.6146357,\n",
       "   1.618635,\n",
       "   1.6226279,\n",
       "   1.6266141,\n",
       "   1.630594,\n",
       "   1.6345673,\n",
       "   1.6385341,\n",
       "   1.6424943,\n",
       "   1.646448,\n",
       "   1.6503952,\n",
       "   1.6543357,\n",
       "   1.6582698,\n",
       "   1.6621974,\n",
       "   1.6661183,\n",
       "   1.6700326,\n",
       "   1.6739404,\n",
       "   1.6778415,\n",
       "   1.6856244,\n",
       "   1.6933808,\n",
       "   1.784445,\n",
       "   2.2544086,\n",
       "   2.2754152,\n",
       "   2.2783954,\n",
       "   2.2843404,\n",
       "   2.3137536,\n",
       "   2.3166666,\n",
       "   2.3195744,\n",
       "   2.3397894,\n",
       "   2.3426576,\n",
       "   2.3879275],\n",
       "  'importance': [0.004569506073304577,\n",
       "   0.00984541984154202,\n",
       "   0.025602008599276103,\n",
       "   0.052307254411837055,\n",
       "   0.03184651138265657,\n",
       "   0.003046334988861122,\n",
       "   0.004470603805536921,\n",
       "   0.0046238182322671205,\n",
       "   0.0041446749922621155,\n",
       "   0.002997765263725764,\n",
       "   0.002724036617508852,\n",
       "   0.0026813427222528536,\n",
       "   0.0026570864787197955,\n",
       "   0.0028350029540059407,\n",
       "   0.003037718244134317,\n",
       "   0.0038986779605853002,\n",
       "   0.008155331939218208,\n",
       "   0.009453538764216944,\n",
       "   0.014005976864863903,\n",
       "   0.005481335905788258,\n",
       "   0.005899978814942121,\n",
       "   0.002925819776924427,\n",
       "   0.007657274308218363,\n",
       "   0.0072328787910819654,\n",
       "   0.006500681283609275,\n",
       "   0.0029009559902618766,\n",
       "   0.003056247412313893,\n",
       "   0.005290703172521441,\n",
       "   0.006476287807798299,\n",
       "   0.003766235930004939,\n",
       "   0.003899102109727706,\n",
       "   0.0031580243644420574,\n",
       "   0.005455844145147246,\n",
       "   0.002996799505579231,\n",
       "   0.0028512586870632546,\n",
       "   0.0033633460552526346,\n",
       "   0.0041034602662702955,\n",
       "   0.004827636655224957,\n",
       "   0.034255803631227384,\n",
       "   0.011673090063731175,\n",
       "   0.03065113166741829,\n",
       "   0.015959724483264468,\n",
       "   0.015107413227342534,\n",
       "   0.008447085298269832,\n",
       "   0.007980378570105764,\n",
       "   0.003559712379116239,\n",
       "   0.005718530208845911,\n",
       "   0.006803699685805852,\n",
       "   0.006642513009770828,\n",
       "   0.006075832894953562,\n",
       "   0.005886228420281974,\n",
       "   0.003290357179307624,\n",
       "   0.0037614586320004017,\n",
       "   0.005120515591758259,\n",
       "   0.002859230738308566,\n",
       "   0.002799272437564922,\n",
       "   0.003021138074217673,\n",
       "   0.002806098987858489,\n",
       "   0.0026279832089895106,\n",
       "   0.0027539537921945478,\n",
       "   0.0037464144506712555,\n",
       "   0.0035777306855953915,\n",
       "   0.0027660571705972036,\n",
       "   0.0031911917878129736,\n",
       "   0.003416444047625496,\n",
       "   0.004659118267214858,\n",
       "   0.0026435089391462006,\n",
       "   0.002638867138681408]}}"
      ]
     },
     "execution_count": 188,
     "metadata": {},
     "output_type": "execute_result"
    },
    {
     "data": {
      "image/png": "[encoded data removed]",
      "text/plain": [
       "<Figure size 432x288 with 2 Axes>"
      ]
     },
     "metadata": {
      "needs_background": "light"
     },
     "output_type": "display_data"
    }
   ],
   "source": [
    "fig, ax = plt.subplots(2,1,sharex=True)\n",
    "\n",
    "ax[0].plot(wavegrid,f17mid)\n",
    "ax[0].plot(wavegrid,f24mid)\n",
    "ax[0].set_ylabel('Normalized Flux ($\\\\frac{erg}{cm}\\\\frac{1}{s}$)')\n",
    "ax[0].legend(['M7 normalized flux','L4 normalized flux'])\n",
    "\n",
    "feat_impts_mid = {'primary_type':{},'secondary_type':{}}\n",
    "ddd = []\n",
    "eee = []\n",
    "for clf in MO_mid.estimators_:\n",
    "    ax[1].plot(wavegrid,clf.feature_importances_, alpha=0.8)\n",
    "    max_imp = max(clf.feature_importances_)\n",
    "    dd = []\n",
    "    ee = []\n",
    "    for i in np.where(clf.feature_importances_ >= 0.05*max_imp)[0]:\n",
    "        dd.append(wavegrid[i])\n",
    "        ee.append(clf.feature_importances_[i])\n",
    "    ddd.append(dd)\n",
    "    eee.append(ee)\n",
    "ax[0].axvspan(1.35,1.42, alpha=0.3, color='k')\n",
    "ax[1].axvspan(1.35,1.42, alpha=0.3, color='k')\n",
    "ax[0].axvspan(1.80,1.95, alpha=0.3, color='k')\n",
    "ax[1].axvspan(1.80,1.95, alpha=0.3, color='k')\n",
    "ax[1].legend(['primary type', 'secondary type', 'telluric band'])\n",
    "plt.subplots_adjust(hspace=0)\n",
    "fig.suptitle('Feature importance and M7+L4 binary template')\n",
    "plt.xlabel('wavelength ($\\mu$m)')\n",
    "feat_impts_mid['primary_type']['wavegrid'] = ddd[0]\n",
    "feat_impts_mid['primary_type']['importance'] = eee[0]\n",
    "feat_impts_mid['secondary_type']['wavegrid'] = ddd[1]\n",
    "feat_impts_mid['secondary_type']['importance'] = eee[1]\n",
    "feat_impts_mid"
   ]
  },
  {
   "cell_type": "code",
   "execution_count": 70,
   "metadata": {},
   "outputs": [],
   "source": [
    "precisionprim_mid1, recallprim_mid1, f1_scoreprim_mid1, accuracyprim_mid1 = calculate_metrics(realprim_mid,predsprim_mid,1)\n",
    "precisionsec_mid1, recallsec_mid1, f1_scoresec_mid1, accuracysec_mid1 = calculate_metrics(realsec_mid,predssec_mid,1)\n",
    "precisionprim_mid3, recallprim_mid3, f1_scoreprim_mid3, accuracyprim_mid3 = calculate_metrics(realprim_mid,predsprim_mid,3)\n",
    "precisionsec_mid3, recallsec_mid3, f1_scoresec_mid3, accuracysec_mid3 = calculate_metrics(realsec_mid,predssec_mid,3)"
   ]
  },
  {
   "cell_type": "code",
   "execution_count": 71,
   "metadata": {},
   "outputs": [],
   "source": [
    "with open('data/precisionprim_mid1_Bard_50est.pickle', 'wb') as file:\n",
    "    pickle.dump(precisionprim_mid1, file)\n",
    "with open('data/recallprim_mid1_Bard_50est.pickle', 'wb') as file:\n",
    "    pickle.dump(recallprim_mid1, file)\n",
    "with open('data/f1_scoreprim_mid1_Bard_50est.pickle', 'wb') as file:\n",
    "    pickle.dump(f1_scoreprim_mid1, file)\n",
    "with open('data/accuracyprim_mid1_Bard_50est.pickle', 'wb') as file:\n",
    "    pickle.dump(accuracyprim_mid1, file)"
   ]
  },
  {
   "cell_type": "code",
   "execution_count": 72,
   "metadata": {},
   "outputs": [],
   "source": [
    "with open('data/precisionsec_mid1_Bard_50est.pickle', 'wb') as file:\n",
    "    pickle.dump(precisionsec_mid1, file)\n",
    "with open('data/recallsec_mid1_Bard_50est.pickle', 'wb') as file:\n",
    "    pickle.dump(recallsec_mid1, file)\n",
    "with open('data/f1_scoresec_mid1_Bard_50est.pickle', 'wb') as file:\n",
    "    pickle.dump(f1_scoresec_mid1, file)\n",
    "with open('data/accuracysec_mid1_Bard_50est.pickle', 'wb') as file:\n",
    "    pickle.dump(accuracysec_mid1, file)"
   ]
  },
  {
   "cell_type": "code",
   "execution_count": 73,
   "metadata": {},
   "outputs": [],
   "source": [
    "with open('data/precisionprim_mid3_Bard_50est.pickle', 'wb') as file:\n",
    "    pickle.dump(precisionprim_mid3, file)\n",
    "with open('data/recallprim_mid3_Bard_50est.pickle', 'wb') as file:\n",
    "    pickle.dump(recallprim_mid3, file)\n",
    "with open('data/f1_scoreprim_mid3_Bard_50est.pickle', 'wb') as file:\n",
    "    pickle.dump(f1_scoreprim_mid3, file)\n",
    "with open('data/accuracyprim_mid3_Bard_50est.pickle', 'wb') as file:\n",
    "    pickle.dump(accuracyprim_mid3, file)"
   ]
  },
  {
   "cell_type": "code",
   "execution_count": 74,
   "metadata": {},
   "outputs": [],
   "source": [
    "with open('data/precisionsec_mid3_Bard_50est.pickle', 'wb') as file:\n",
    "    pickle.dump(precisionsec_mid3, file)\n",
    "with open('data/recallsec_mid3_Bard_50est.pickle', 'wb') as file:\n",
    "    pickle.dump(recallsec_mid3, file)\n",
    "with open('data/f1_scoresec_mid3_Bard_50est.pickle', 'wb') as file:\n",
    "    pickle.dump(f1_scoresec_mid3, file)\n",
    "with open('data/accuracysec_mid3_Bard_50est.pickle', 'wb') as file:\n",
    "    pickle.dump(accuracysec_mid3, file)"
   ]
  },
  {
   "cell_type": "code",
   "execution_count": null,
   "metadata": {},
   "outputs": [],
   "source": []
  },
  {
   "attachments": {},
   "cell_type": "markdown",
   "metadata": {},
   "source": [
    "Multioutput Random Forest HIG snr (>100)"
   ]
  },
  {
   "cell_type": "code",
   "execution_count": 47,
   "metadata": {},
   "outputs": [],
   "source": [
    "with open('data/BinDF_hig.pickle', 'rb') as f:\n",
    "        BinDF_hig = pickle.load(f)"
   ]
  },
  {
   "cell_type": "code",
   "execution_count": 48,
   "metadata": {},
   "outputs": [],
   "source": [
    "BinDF_hig = BinDF_hig[BinDF_hig.primary_type!=16]\n",
    "BinDF_hig = BinDF_hig[BinDF_hig.primary_type<28]\n",
    "BinDF_hig = BinDF_hig[BinDF_hig.secondary_type>30]\n",
    "BinDF_hig = BinDF_hig[BinDF_hig.secondary_type<39]\n",
    "BinDF_hig.reset_index(drop=True,inplace=True)"
   ]
  },
  {
   "cell_type": "code",
   "execution_count": 49,
   "metadata": {},
   "outputs": [],
   "source": [
    "with open('data/BinDF_hig_Bard.pickle', 'wb') as f:\n",
    "        pickle.dump(BinDF_hig, f)"
   ]
  },
  {
   "cell_type": "code",
   "execution_count": 51,
   "metadata": {},
   "outputs": [
    {
     "data": {
      "text/plain": [
       "(17.0, 33.0)"
      ]
     },
     "execution_count": 51,
     "metadata": {},
     "output_type": "execute_result"
    }
   ],
   "source": [
    "fastspt = [typeToNum(fast_classify(wave,fx,ns)) for fx, ns in zip(BinDF_hig.system_interpolated_flux,BinDF_hig.system_interpolated_noise)]\n",
    "min(fastspt), max(fastspt)"
   ]
  },
  {
   "cell_type": "code",
   "execution_count": 78,
   "metadata": {},
   "outputs": [
    {
     "data": {
      "text/plain": [
       "Text(0.5, 1.0, 'SNR Distribution')"
      ]
     },
     "execution_count": 78,
     "metadata": {},
     "output_type": "execute_result"
    },
    {
     "data": {
      "image/png": "[encoded data removed]",
      "text/plain": [
       "<Figure size 432x288 with 1 Axes>"
      ]
     },
     "metadata": {
      "needs_background": "light"
     },
     "output_type": "display_data"
    }
   ],
   "source": [
    "fig, axe = plt.subplots()\n",
    "axe.hist(BinDF_hig['J_SNR'],bins=60)\n",
    "plt.xlabel('j snr')\n",
    "plt.title('SNR Distribution')"
   ]
  },
  {
   "cell_type": "code",
   "execution_count": 79,
   "metadata": {},
   "outputs": [
    {
     "name": "stdout",
     "output_type": "stream",
     "text": [
      "108.93610143661499\n"
     ]
    }
   ],
   "source": [
    "start = time.time()\n",
    "clfhig, data_hig = binary_multiOutput_classifier(BinDF_hig,max_depth=25,n_estimators=50,testdata=True)\n",
    "end = time.time()\n",
    "print(end-start)"
   ]
  },
  {
   "cell_type": "code",
   "execution_count": 80,
   "metadata": {},
   "outputs": [],
   "source": [
    "yput1 = []\n",
    "yput2 = []\n",
    "for i in data_hig['y_test']:\n",
    "    yput1.append(i[0])\n",
    "    yput2.append(i[1])\n",
    "data_hig_df = pd.DataFrame(data_hig['x_test'])\n",
    "data_hig_df['prim']=yput1\n",
    "data_hig_df['seco']=yput2\n",
    "data_hig_df\n",
    "data_hig_df.to_csv('data/data_hig_Bard_50est.csv',index=False)"
   ]
  },
  {
   "cell_type": "code",
   "execution_count": 81,
   "metadata": {},
   "outputs": [],
   "source": [
    "x_test_hig = data_hig['x_test']\n",
    "y_test_hig = data_hig['y_test']"
   ]
  },
  {
   "cell_type": "code",
   "execution_count": 82,
   "metadata": {},
   "outputs": [
    {
     "data": {
      "text/plain": [
       "['MOclassifiers/MO_hig_Bard_50est.pkl']"
      ]
     },
     "execution_count": 82,
     "metadata": {},
     "output_type": "execute_result"
    }
   ],
   "source": [
    "joblib.dump(clfhig, 'MOclassifiers/MO_hig_Bard_50est.pkl')"
   ]
  },
  {
   "cell_type": "code",
   "execution_count": 83,
   "metadata": {},
   "outputs": [],
   "source": [
    "MO_hig = joblib.load('MOclassifiers/MO_hig_Bard_50est.pkl')"
   ]
  },
  {
   "cell_type": "code",
   "execution_count": 84,
   "metadata": {},
   "outputs": [],
   "source": [
    "# df_data_hig = pd.read_csv(r'data/data_hig.csv')\n",
    "# x_test_hig = [[df_data_hig[str(col)][i] for col in range(409)] for i in range(len(df_data_hig))]\n",
    "# y_test_hig = [[df_data_hig['prim'][i],df_data_hig['seco'][i]] for i in range(len(df_data_hig))]"
   ]
  },
  {
   "cell_type": "code",
   "execution_count": 85,
   "metadata": {},
   "outputs": [
    {
     "name": "stdout",
     "output_type": "stream",
     "text": [
      "13.458523988723755\n"
     ]
    }
   ],
   "source": [
    "start = time.time()\n",
    "df_avgdiffprim_hig, df_avgdiffseco_hig, df_stdprim_hig, df_stdseco_hig, predsprim_hig, predssec_hig, realprim_hig, realsec_hig = binaryPrecision(x_test_hig,y_test_hig,MO_hig, predictions=True)\n",
    "end = time.time()\n",
    "print(end-start)"
   ]
  },
  {
   "cell_type": "code",
   "execution_count": 172,
   "metadata": {},
   "outputs": [
    {
     "name": "stdout",
     "output_type": "stream",
     "text": [
      "0.002110606060606364\n"
     ]
    },
    {
     "data": {
      "image/png": "[encoded data removed]",
      "text/plain": [
       "<Figure size 432x288 with 2 Axes>"
      ]
     },
     "metadata": {
      "needs_background": "light"
     },
     "output_type": "display_data"
    }
   ],
   "source": [
    "sns.heatmap(df_avgdiffprim_hig.drop([16]+[i for i in range(28,40)],axis=1).drop([i for i in range(16,31)]+[38,39]),annot=False,linewidths=0.1,linecolor='black', cmap=\"plasma\",vmin=-2,vmax=0.75)\n",
    "print(df_avgdiffprim_hig.mean(axis = 0, skipna = True).mean())"
   ]
  },
  {
   "cell_type": "code",
   "execution_count": 173,
   "metadata": {},
   "outputs": [
    {
     "name": "stdout",
     "output_type": "stream",
     "text": [
      "-0.0010536400092924212\n"
     ]
    },
    {
     "data": {
      "image/png": "[encoded data removed]",
      "text/plain": [
       "<Figure size 432x288 with 2 Axes>"
      ]
     },
     "metadata": {
      "needs_background": "light"
     },
     "output_type": "display_data"
    }
   ],
   "source": [
    "sns.heatmap(df_avgdiffseco_hig.drop([16]+[i for i in range(28,40)],axis=1).drop([i for i in range(16,31)]+[38,39]),annot=False,linewidths=0.1,linecolor='black', cmap=\"plasma\",vmin=-7,vmax=9)\n",
    "print(df_avgdiffseco_hig.mean(axis = 0, skipna = True).mean())"
   ]
  },
  {
   "cell_type": "code",
   "execution_count": 174,
   "metadata": {},
   "outputs": [
    {
     "name": "stdout",
     "output_type": "stream",
     "text": [
      "0.17826620517478323\n"
     ]
    },
    {
     "data": {
      "image/png": "[encoded data removed]",
      "text/plain": [
       "<Figure size 432x288 with 2 Axes>"
      ]
     },
     "metadata": {
      "needs_background": "light"
     },
     "output_type": "display_data"
    }
   ],
   "source": [
    "sns.heatmap(df_stdprim_hig.drop([16]+[i for i in range(28,40)],axis=1).drop([i for i in range(16,31)]+[38,39]),annot=False,linewidths=0.1,linecolor='black', cmap=\"plasma\",vmin=0,vmax=1.5)\n",
    "print(df_stdprim_hig.mean(axis = 0, skipna = True).mean())"
   ]
  },
  {
   "cell_type": "code",
   "execution_count": 175,
   "metadata": {},
   "outputs": [
    {
     "name": "stdout",
     "output_type": "stream",
     "text": [
      "0.42352232534603346\n"
     ]
    },
    {
     "data": {
      "image/png": "[encoded data removed]",
      "text/plain": [
       "<Figure size 432x288 with 2 Axes>"
      ]
     },
     "metadata": {
      "needs_background": "light"
     },
     "output_type": "display_data"
    }
   ],
   "source": [
    "sns.heatmap(df_stdseco_hig.drop([16]+[i for i in range(28,40)],axis=1).drop([i for i in range(16,31)]+[38,39]),annot=False,linewidths=0.1,linecolor='black', cmap=\"plasma\",vmin=0,vmax=2)\n",
    "print(df_stdseco_hig.mean(axis = 0, skipna = True).mean())"
   ]
  },
  {
   "cell_type": "code",
   "execution_count": 190,
   "metadata": {},
   "outputs": [
    {
     "data": {
      "text/plain": [
       "{'primary_type': {'wavegrid': [0.9256072,\n",
       "   0.9291509,\n",
       "   0.96922964,\n",
       "   1.0913042,\n",
       "   1.0954207],\n",
       "  'importance': [0.022393275223992388,\n",
       "   0.058031780298869205,\n",
       "   0.029694379697319185,\n",
       "   0.25131473843367935,\n",
       "   0.43065417635255104]},\n",
       " 'secondary_type': {'wavegrid': [1.1244725,\n",
       "   1.1878585,\n",
       "   1.2006752,\n",
       "   1.2049553,\n",
       "   1.3212926,\n",
       "   1.424271,\n",
       "   1.6226279,\n",
       "   1.6266141,\n",
       "   1.630594,\n",
       "   1.6345673,\n",
       "   1.6385341,\n",
       "   1.6424943,\n",
       "   1.6739404,\n",
       "   1.6778415,\n",
       "   2.0244722,\n",
       "   2.037875],\n",
       "  'importance': [0.009251832086139685,\n",
       "   0.009050924108888754,\n",
       "   0.11139266377582857,\n",
       "   0.06243273440744156,\n",
       "   0.014611951891442687,\n",
       "   0.010982502611547255,\n",
       "   0.023877765969454803,\n",
       "   0.13899609597068247,\n",
       "   0.0451342620050033,\n",
       "   0.0173075299924188,\n",
       "   0.015844110610112084,\n",
       "   0.007776265280053473,\n",
       "   0.008402732459958897,\n",
       "   0.014592877644395277,\n",
       "   0.008130942861155647,\n",
       "   0.008265022915194563]}}"
      ]
     },
     "execution_count": 190,
     "metadata": {},
     "output_type": "execute_result"
    },
    {
     "data": {
      "image/png": "[encoded data removed]",
      "text/plain": [
       "<Figure size 432x288 with 2 Axes>"
      ]
     },
     "metadata": {
      "needs_background": "light"
     },
     "output_type": "display_data"
    }
   ],
   "source": [
    "fig, ax = plt.subplots(2,1,sharex=True)\n",
    "\n",
    "ax[0].plot(wavegrid,f17hig)\n",
    "ax[0].plot(wavegrid,f24hig)\n",
    "ax[0].set_ylabel('Normalized Flux ($\\\\frac{erg}{cm}\\\\frac{1}{s}$)')\n",
    "ax[0].legend(['M7 normalized flux','L4 normalized flux'])\n",
    "\n",
    "feat_impts_hig = {'primary_type':{},'secondary_type':{}}\n",
    "ddd = []\n",
    "eee = []\n",
    "for clf in clfhig.estimators_:\n",
    "    ax[1].plot(wavegrid,clf.feature_importances_, alpha=0.8)\n",
    "    max_imp = max(clf.feature_importances_)\n",
    "    dd = []\n",
    "    ee = []\n",
    "    for i in np.where(clf.feature_importances_ >= 0.05*max_imp)[0]:\n",
    "        dd.append(wavegrid[i])\n",
    "        ee.append(clf.feature_importances_[i])\n",
    "    ddd.append(dd)\n",
    "    eee.append(ee)\n",
    "ax[0].axvspan(1.35,1.42, alpha=0.3, color='k')\n",
    "ax[1].axvspan(1.35,1.42, alpha=0.3, color='k')\n",
    "ax[0].axvspan(1.80,1.95, alpha=0.3, color='k')\n",
    "ax[1].axvspan(1.80,1.95, alpha=0.3, color='k')\n",
    "ax[1].legend(['primary type', 'secondary type', 'telluric band'])\n",
    "plt.subplots_adjust(hspace=0)\n",
    "fig.suptitle('Feature importance and M7+L4 binary template')\n",
    "plt.xlabel('wavelength ($\\mu$m)')\n",
    "feat_impts_hig['primary_type']['wavegrid'] = ddd[0]\n",
    "feat_impts_hig['primary_type']['importance'] = eee[0]\n",
    "feat_impts_hig['secondary_type']['wavegrid'] = ddd[1]\n",
    "feat_impts_hig['secondary_type']['importance'] = eee[1]\n",
    "feat_impts_hig"
   ]
  },
  {
   "cell_type": "code",
   "execution_count": 91,
   "metadata": {},
   "outputs": [],
   "source": [
    "precisionprim_hig1, recallprim_hig1, f1_scoreprim_hig1, accuracyprim_hig1 = calculate_metrics(realprim_hig,predsprim_hig,1)\n",
    "precisionsec_hig1, recallsec_hig1, f1_scoresec_hig1, accuracysec_hig1 = calculate_metrics(realsec_hig,predssec_hig,1)\n",
    "precisionprim_hig3, recallprim_hig3, f1_scoreprim_hig3, accuracyprim_hig3 = calculate_metrics(realprim_hig,predsprim_hig,3)\n",
    "precisionsec_hig3, recallsec_hig3, f1_scoresec_hig3, accuracysec_hig3 = calculate_metrics(realsec_hig,predssec_hig,3)"
   ]
  },
  {
   "cell_type": "code",
   "execution_count": 92,
   "metadata": {},
   "outputs": [],
   "source": [
    "with open('data/precisionprim_hig1_Bard_50est.pickle', 'wb') as file:\n",
    "    pickle.dump(precisionprim_hig1, file)\n",
    "with open('data/recallprim_hig1_Bard_50est.pickle', 'wb') as file:\n",
    "    pickle.dump(recallprim_hig1, file)\n",
    "with open('data/f1_scoreprim_hig1_Bard_50est.pickle', 'wb') as file:\n",
    "    pickle.dump(f1_scoreprim_hig1, file)\n",
    "with open('data/accuracyprim_hig1_Bard_50est.pickle', 'wb') as file:\n",
    "    pickle.dump(accuracyprim_hig1, file)"
   ]
  },
  {
   "cell_type": "code",
   "execution_count": 93,
   "metadata": {},
   "outputs": [],
   "source": [
    "with open('data/precisionsec_hig1_Bard_50est.pickle', 'wb') as file:\n",
    "    pickle.dump(precisionsec_hig1, file)\n",
    "with open('data/recallsec_hig1_Bard_50est.pickle', 'wb') as file:\n",
    "    pickle.dump(recallsec_hig1, file)\n",
    "with open('data/f1_scoresec_hig1_Bard_50est.pickle', 'wb') as file:\n",
    "    pickle.dump(f1_scoresec_hig1, file)\n",
    "with open('data/accuracysec_hig1_Bard_50est.pickle', 'wb') as file:\n",
    "    pickle.dump(accuracysec_hig1, file)"
   ]
  },
  {
   "cell_type": "code",
   "execution_count": 94,
   "metadata": {},
   "outputs": [],
   "source": [
    "with open('data/precisionprim_hig3_Bard_50est.pickle', 'wb') as file:\n",
    "    pickle.dump(precisionprim_hig3, file)\n",
    "with open('data/recallprim_hig3_Bard_50est.pickle', 'wb') as file:\n",
    "    pickle.dump(recallprim_hig3, file)\n",
    "with open('data/f1_scoreprim_hig3_Bard_50est.pickle', 'wb') as file:\n",
    "    pickle.dump(f1_scoreprim_hig3, file)\n",
    "with open('data/accuracyprim_hig3_Bard_50est.pickle', 'wb') as file:\n",
    "    pickle.dump(accuracyprim_hig3, file)"
   ]
  },
  {
   "cell_type": "code",
   "execution_count": 95,
   "metadata": {},
   "outputs": [],
   "source": [
    "with open('data/precisionsec_hig3_Bard_50est.pickle', 'wb') as file:\n",
    "    pickle.dump(precisionsec_hig3, file)\n",
    "with open('data/recallsec_hig3_Bard_50est.pickle', 'wb') as file:\n",
    "    pickle.dump(recallsec_hig3, file)\n",
    "with open('data/f1_scoresec_hig3_Bard_50est.pickle', 'wb') as file:\n",
    "    pickle.dump(f1_scoresec_hig3, file)\n",
    "with open('data/accuracysec_hig3_Bard_50est.pickle', 'wb') as file:\n",
    "    pickle.dump(accuracysec_hig3, file)"
   ]
  },
  {
   "cell_type": "code",
   "execution_count": null,
   "metadata": {},
   "outputs": [],
   "source": []
  },
  {
   "attachments": {},
   "cell_type": "markdown",
   "metadata": {},
   "source": [
    "Including Difference Spectrum"
   ]
  },
  {
   "attachments": {},
   "cell_type": "markdown",
   "metadata": {},
   "source": [
    "Low"
   ]
  },
  {
   "cell_type": "code",
   "execution_count": 96,
   "metadata": {},
   "outputs": [],
   "source": [
    "with open('data/BinDF_low_d.pickle', 'rb') as f:\n",
    "        BinDF_low_d = pickle.load(f)"
   ]
  },
  {
   "cell_type": "code",
   "execution_count": 97,
   "metadata": {},
   "outputs": [],
   "source": [
    "BinDF_low_d = BinDF_low_d[BinDF_low_d.primary_type!=16]\n",
    "BinDF_low_d = BinDF_low_d[BinDF_low_d.primary_type<28]\n",
    "BinDF_low_d = BinDF_low_d[BinDF_low_d.secondary_type>30]\n",
    "BinDF_low_d = BinDF_low_d[BinDF_low_d.secondary_type<39]\n",
    "BinDF_low_d.reset_index(drop=True,inplace=True)"
   ]
  },
  {
   "cell_type": "code",
   "execution_count": 98,
   "metadata": {},
   "outputs": [],
   "source": [
    "with open('data/BinDF_low_d_Bard.pickle', 'wb') as f:\n",
    "        pickle.dump(BinDF_low_d, f)"
   ]
  },
  {
   "cell_type": "code",
   "execution_count": 99,
   "metadata": {},
   "outputs": [
    {
     "data": {
      "text/plain": [
       "Text(0.5, 1.0, 'SNR Distribution')"
      ]
     },
     "execution_count": 99,
     "metadata": {},
     "output_type": "execute_result"
    },
    {
     "data": {
      "image/png": "[encoded data removed]",
      "text/plain": [
       "<Figure size 432x288 with 1 Axes>"
      ]
     },
     "metadata": {
      "needs_background": "light"
     },
     "output_type": "display_data"
    }
   ],
   "source": [
    "fig, axe = plt.subplots()\n",
    "axe.hist(BinDF_low_d['J_SNR'],bins=60)\n",
    "plt.xlabel('j snr')\n",
    "plt.title('SNR Distribution')"
   ]
  },
  {
   "cell_type": "code",
   "execution_count": 100,
   "metadata": {},
   "outputs": [
    {
     "name": "stdout",
     "output_type": "stream",
     "text": [
      "425.4574131965637\n"
     ]
    }
   ],
   "source": [
    "start = time.time()\n",
    "clflow_d, data_low_d = binary_multiOutput_classifier(BinDF_low_d,difference=True,max_depth=25,n_estimators=50,testdata=True)\n",
    "end = time.time()\n",
    "print(end-start)"
   ]
  },
  {
   "cell_type": "code",
   "execution_count": 101,
   "metadata": {},
   "outputs": [],
   "source": [
    "yput1 = []\n",
    "yput2 = []\n",
    "for i in data_low_d['y_test']:\n",
    "    yput1.append(i[0])\n",
    "    yput2.append(i[1])\n",
    "data_low_d_df = pd.DataFrame(data_low_d['x_test'])\n",
    "data_low_d_df['prim']=yput1\n",
    "data_low_d_df['seco']=yput2\n",
    "data_low_d_df.to_csv('data/data_low_d_Bard_50est.csv',index=False)"
   ]
  },
  {
   "cell_type": "code",
   "execution_count": 102,
   "metadata": {},
   "outputs": [],
   "source": [
    "x_test_low_d = data_low_d['x_test']\n",
    "y_test_low_d = data_low_d['y_test']"
   ]
  },
  {
   "cell_type": "code",
   "execution_count": 103,
   "metadata": {},
   "outputs": [
    {
     "data": {
      "text/plain": [
       "['MOclassifiers/MO_low_d_Bard_50est.pkl']"
      ]
     },
     "execution_count": 103,
     "metadata": {},
     "output_type": "execute_result"
    }
   ],
   "source": [
    "joblib.dump(clflow_d, 'MOclassifiers/MO_low_d_Bard_50est.pkl')"
   ]
  },
  {
   "cell_type": "code",
   "execution_count": 104,
   "metadata": {},
   "outputs": [],
   "source": [
    "MO_low_d = joblib.load('MOclassifiers/MO_low_d_Bard_50est.pkl')"
   ]
  },
  {
   "cell_type": "code",
   "execution_count": 105,
   "metadata": {},
   "outputs": [],
   "source": [
    "# df_data_low_d = pd.read_csv(r'data/data_low_d.csv')\n",
    "# x_test_low_d = [[df_data_low_d[str(col)][i] for col in range(818)] for i in range(len(df_data_low_d))]\n",
    "# y_test_low_d = [[df_data_low_d['prim'][i],df_data_low_d['seco'][i]] for i in range(len(df_data_low_d))]"
   ]
  },
  {
   "cell_type": "code",
   "execution_count": 106,
   "metadata": {},
   "outputs": [
    {
     "name": "stdout",
     "output_type": "stream",
     "text": [
      "21.125242233276367\n"
     ]
    }
   ],
   "source": [
    "start = time.time()\n",
    "df_avgdiffprim_low_d, df_avgdiffseco_low_d, df_stdprim_low_d, df_stdseco_low_d, predsprim_low_d, predssec_low_d, realprim_low_d, realsec_low_d = binaryPrecision(x_test_low_d,y_test_low_d,MO_low_d, predictions=True)\n",
    "end = time.time()\n",
    "print(end-start)"
   ]
  },
  {
   "cell_type": "code",
   "execution_count": 176,
   "metadata": {},
   "outputs": [
    {
     "name": "stdout",
     "output_type": "stream",
     "text": [
      "-0.0025158850280271924\n"
     ]
    },
    {
     "data": {
      "image/png": "[encoded data removed]",
      "text/plain": [
       "<Figure size 432x288 with 2 Axes>"
      ]
     },
     "metadata": {
      "needs_background": "light"
     },
     "output_type": "display_data"
    }
   ],
   "source": [
    "sns.heatmap(df_avgdiffprim_low_d.drop([16]+[i for i in range(28,40)],axis=1).drop([i for i in range(16,31)]+[38,39]),annot=False,linewidths=0.1,linecolor='black', cmap=\"plasma\",vmin=-2,vmax=0.75)\n",
    "print(df_avgdiffprim_low_d.mean(axis = 0, skipna = True).mean())"
   ]
  },
  {
   "cell_type": "code",
   "execution_count": 177,
   "metadata": {},
   "outputs": [
    {
     "name": "stdout",
     "output_type": "stream",
     "text": [
      "0.0074470583267120475\n"
     ]
    },
    {
     "data": {
      "image/png": "[encoded data removed]",
      "text/plain": [
       "<Figure size 432x288 with 2 Axes>"
      ]
     },
     "metadata": {
      "needs_background": "light"
     },
     "output_type": "display_data"
    }
   ],
   "source": [
    "sns.heatmap(df_avgdiffseco_low_d.drop([16]+[i for i in range(28,40)],axis=1).drop([i for i in range(16,31)]+[38,39]),annot=False,linewidths=0.1,linecolor='black', cmap=\"plasma\",vmin=-7,vmax=9)\n",
    "print(df_avgdiffseco_low_d.mean(axis = 0, skipna = True).mean())"
   ]
  },
  {
   "cell_type": "code",
   "execution_count": 178,
   "metadata": {},
   "outputs": [
    {
     "name": "stdout",
     "output_type": "stream",
     "text": [
      "0.29238234336127583\n"
     ]
    },
    {
     "data": {
      "image/png": "[encoded data removed]",
      "text/plain": [
       "<Figure size 432x288 with 2 Axes>"
      ]
     },
     "metadata": {
      "needs_background": "light"
     },
     "output_type": "display_data"
    }
   ],
   "source": [
    "sns.heatmap(df_stdprim_low_d.drop([16]+[i for i in range(28,40)],axis=1).drop([i for i in range(16,31)]+[38,39]),annot=False,linewidths=0.1,linecolor='black', cmap=\"plasma\",vmin=0,vmax=1.5)\n",
    "print(df_stdprim_low_d.mean(axis = 0, skipna = True).mean())"
   ]
  },
  {
   "cell_type": "code",
   "execution_count": 179,
   "metadata": {},
   "outputs": [
    {
     "name": "stdout",
     "output_type": "stream",
     "text": [
      "0.6723634337768938\n"
     ]
    },
    {
     "data": {
      "image/png": "[encoded data removed]",
      "text/plain": [
       "<Figure size 432x288 with 2 Axes>"
      ]
     },
     "metadata": {
      "needs_background": "light"
     },
     "output_type": "display_data"
    }
   ],
   "source": [
    "sns.heatmap(df_stdseco_low_d.drop([16]+[i for i in range(28,40)],axis=1).drop([i for i in range(16,31)]+[38,39]),annot=False,linewidths=0.1,linecolor='black', cmap=\"plasma\",vmin=0,vmax=2)\n",
    "print(df_stdseco_low_d.mean(axis = 0, skipna = True).mean())"
   ]
  },
  {
   "cell_type": "code",
   "execution_count": 111,
   "metadata": {},
   "outputs": [
    {
     "data": {
      "text/plain": [
       "{'primary_type': {'wavegrid': [0.9471239,\n",
       "   0.97296864,\n",
       "   1.0668035,\n",
       "   1.0913042,\n",
       "   1.0954207,\n",
       "   1.099546],\n",
       "  'importance': [0.023206218560021447,\n",
       "   0.030091211351806566,\n",
       "   0.022063206238930592,\n",
       "   0.4122608920437033,\n",
       "   0.10311958284879008,\n",
       "   0.1763225742492186]},\n",
       " 'secondary_type': {'wavegrid': [0.9116069,\n",
       "   1.1921266,\n",
       "   1.196399,\n",
       "   1.2006752,\n",
       "   1.2049553,\n",
       "   1.2092391,\n",
       "   1.2135262,\n",
       "   1.2178166,\n",
       "   1.22211,\n",
       "   1.2608577,\n",
       "   1.2651716,\n",
       "   1.2694867,\n",
       "   1.3040264,\n",
       "   1.3083439,\n",
       "   1.3126608,\n",
       "   1.3169771,\n",
       "   1.3212926,\n",
       "   1.3428532,\n",
       "   1.3471608,\n",
       "   1.3514667,\n",
       "   1.3557706,\n",
       "   1.3986764,\n",
       "   1.4285238,\n",
       "   1.4370172,\n",
       "   1.4497259,\n",
       "   1.61063,\n",
       "   1.6146357,\n",
       "   1.618635,\n",
       "   1.6226279,\n",
       "   1.6266141,\n",
       "   1.630594,\n",
       "   1.6345673,\n",
       "   1.6385341,\n",
       "   1.6424943,\n",
       "   1.646448,\n",
       "   1.6503952,\n",
       "   1.6543357,\n",
       "   1.6582698,\n",
       "   1.6621974,\n",
       "   1.6739404,\n",
       "   1.7657748,\n",
       "   1.8066466],\n",
       "  'importance': [0.002686674125051276,\n",
       "   0.0029181213070086746,\n",
       "   0.015943355204350928,\n",
       "   0.03428730110722156,\n",
       "   0.05315910934306793,\n",
       "   0.015383483822078778,\n",
       "   0.004016657125916192,\n",
       "   0.002681589431644973,\n",
       "   0.003083045794515779,\n",
       "   0.004129295464037028,\n",
       "   0.0033194040463523046,\n",
       "   0.0033465065687015697,\n",
       "   0.01179505399406072,\n",
       "   0.008054756098538954,\n",
       "   0.008426487145852092,\n",
       "   0.007144379981082539,\n",
       "   0.003260917723793233,\n",
       "   0.002688473605126594,\n",
       "   0.00521637402714542,\n",
       "   0.0033291610939683793,\n",
       "   0.003519333730242325,\n",
       "   0.004046575863608196,\n",
       "   0.008208162487357288,\n",
       "   0.003607433682431921,\n",
       "   0.007657214086961191,\n",
       "   0.03202973077790847,\n",
       "   0.004390179699616022,\n",
       "   0.0086420088712694,\n",
       "   0.030258816946360293,\n",
       "   0.01150803919365931,\n",
       "   0.012388485677929849,\n",
       "   0.005302020085835631,\n",
       "   0.004173095523287211,\n",
       "   0.0027951003491961213,\n",
       "   0.002902321648908817,\n",
       "   0.005153939983764827,\n",
       "   0.005161316831627315,\n",
       "   0.0037646613772741333,\n",
       "   0.007513869282440867,\n",
       "   0.002811078617208655,\n",
       "   0.0031426992731691627,\n",
       "   0.002912866671559417]}}"
      ]
     },
     "execution_count": 111,
     "metadata": {},
     "output_type": "execute_result"
    },
    {
     "data": {
      "image/png": "[encoded data removed]",
      "text/plain": [
       "<Figure size 432x288 with 2 Axes>"
      ]
     },
     "metadata": {
      "needs_background": "light"
     },
     "output_type": "display_data"
    }
   ],
   "source": [
    "fig, ax = plt.subplots(2,1,sharex=True)\n",
    "\n",
    "ax[0].plot(wavegrid,f17low)\n",
    "ax[0].plot(wavegrid,f24low)\n",
    "ax[0].set_ylabel('Normalized Flux ($\\\\frac{erg}{cm}\\\\frac{1}{s}$)')\n",
    "ax[0].legend(['M7 normalized flux','L4 normalized flux'])\n",
    "\n",
    "feat_impts_low_d = {'primary_type':{},'secondary_type':{}}\n",
    "ddd = []\n",
    "eee = []\n",
    "for clf in MO_low_d.estimators_:\n",
    "    ax[1].plot(wavegrid,clf.feature_importances_[:409], alpha=0.8)\n",
    "    max_imp = max(clf.feature_importances_)\n",
    "    dd = []\n",
    "    ee = []\n",
    "    for i in np.where(clf.feature_importances_ >= 0.05*max_imp)[0]:\n",
    "        wavegrid2 = list(wavegrid)+list(wavegrid)\n",
    "        dd.append(wavegrid2[i])\n",
    "        ee.append(clf.feature_importances_[i])\n",
    "    ddd.append(dd)\n",
    "    eee.append(ee)\n",
    "\n",
    "ax[0].axvspan(1.35,1.42, alpha=0.3, color='k')\n",
    "ax[1].axvspan(1.35,1.42, alpha=0.3, color='k')\n",
    "ax[0].axvspan(1.80,1.95, alpha=0.3, color='k')\n",
    "ax[1].axvspan(1.80,1.95, alpha=0.3, color='k')\n",
    "ax[1].legend(['primary type', 'secondary type', 'telluric band'])\n",
    "plt.subplots_adjust(hspace=0)\n",
    "fig.suptitle('Feature importance and M7, L4 normalized flux')\n",
    "plt.xlabel('wavelength ($\\mu$m)')\n",
    "feat_impts_low_d['primary_type']['wavegrid'] = ddd[0]\n",
    "feat_impts_low_d['primary_type']['importance'] = eee[0]\n",
    "feat_impts_low_d['secondary_type']['wavegrid'] = ddd[1]\n",
    "feat_impts_low_d['secondary_type']['importance'] = eee[1]\n",
    "feat_impts_low_d"
   ]
  },
  {
   "cell_type": "code",
   "execution_count": 112,
   "metadata": {},
   "outputs": [
    {
     "data": {
      "text/plain": [
       "{'primary_type': {'wavegrid': [0.9471239,\n",
       "   0.97296864,\n",
       "   1.0668035,\n",
       "   1.0913042,\n",
       "   1.0954207,\n",
       "   1.099546],\n",
       "  'importance': [0.023206218560021447,\n",
       "   0.030091211351806566,\n",
       "   0.022063206238930592,\n",
       "   0.4122608920437033,\n",
       "   0.10311958284879008,\n",
       "   0.1763225742492186]},\n",
       " 'secondary_type': {'wavegrid': [0.9116069,\n",
       "   1.1921266,\n",
       "   1.196399,\n",
       "   1.2006752,\n",
       "   1.2049553,\n",
       "   1.2092391,\n",
       "   1.2135262,\n",
       "   1.2178166,\n",
       "   1.22211,\n",
       "   1.2608577,\n",
       "   1.2651716,\n",
       "   1.2694867,\n",
       "   1.3040264,\n",
       "   1.3083439,\n",
       "   1.3126608,\n",
       "   1.3169771,\n",
       "   1.3212926,\n",
       "   1.3428532,\n",
       "   1.3471608,\n",
       "   1.3514667,\n",
       "   1.3557706,\n",
       "   1.3986764,\n",
       "   1.4285238,\n",
       "   1.4370172,\n",
       "   1.4497259,\n",
       "   1.61063,\n",
       "   1.6146357,\n",
       "   1.618635,\n",
       "   1.6226279,\n",
       "   1.6266141,\n",
       "   1.630594,\n",
       "   1.6345673,\n",
       "   1.6385341,\n",
       "   1.6424943,\n",
       "   1.646448,\n",
       "   1.6503952,\n",
       "   1.6543357,\n",
       "   1.6582698,\n",
       "   1.6621974,\n",
       "   1.6739404,\n",
       "   1.7657748,\n",
       "   1.8066466],\n",
       "  'importance': [0.002686674125051276,\n",
       "   0.0029181213070086746,\n",
       "   0.015943355204350928,\n",
       "   0.03428730110722156,\n",
       "   0.05315910934306793,\n",
       "   0.015383483822078778,\n",
       "   0.004016657125916192,\n",
       "   0.002681589431644973,\n",
       "   0.003083045794515779,\n",
       "   0.004129295464037028,\n",
       "   0.0033194040463523046,\n",
       "   0.0033465065687015697,\n",
       "   0.01179505399406072,\n",
       "   0.008054756098538954,\n",
       "   0.008426487145852092,\n",
       "   0.007144379981082539,\n",
       "   0.003260917723793233,\n",
       "   0.002688473605126594,\n",
       "   0.00521637402714542,\n",
       "   0.0033291610939683793,\n",
       "   0.003519333730242325,\n",
       "   0.004046575863608196,\n",
       "   0.008208162487357288,\n",
       "   0.003607433682431921,\n",
       "   0.007657214086961191,\n",
       "   0.03202973077790847,\n",
       "   0.004390179699616022,\n",
       "   0.0086420088712694,\n",
       "   0.030258816946360293,\n",
       "   0.01150803919365931,\n",
       "   0.012388485677929849,\n",
       "   0.005302020085835631,\n",
       "   0.004173095523287211,\n",
       "   0.0027951003491961213,\n",
       "   0.002902321648908817,\n",
       "   0.005153939983764827,\n",
       "   0.005161316831627315,\n",
       "   0.0037646613772741333,\n",
       "   0.007513869282440867,\n",
       "   0.002811078617208655,\n",
       "   0.0031426992731691627,\n",
       "   0.002912866671559417]}}"
      ]
     },
     "execution_count": 112,
     "metadata": {},
     "output_type": "execute_result"
    },
    {
     "data": {
      "image/png": "[encoded data removed]",
      "text/plain": [
       "<Figure size 432x288 with 2 Axes>"
      ]
     },
     "metadata": {
      "needs_background": "light"
     },
     "output_type": "display_data"
    }
   ],
   "source": [
    "fig, ax = plt.subplots(2,1,sharex=True)\n",
    "\n",
    "\n",
    "ax[0].plot(wavegrid,binlow)\n",
    "ax[0].plot(wavegrid,dlow)\n",
    "ax[0].set_ylabel('Normalized Flux ($\\\\frac{erg}{cm}\\\\frac{1}{s}$)')\n",
    "ax[0].legend(['M7+L4 normalized binary','M7+L4 - standard difference flux'])\n",
    "\n",
    "feat_impts_low_d = {'primary_type':{},'secondary_type':{}}\n",
    "ddd = []\n",
    "eee = []\n",
    "for clf in MO_low_d.estimators_:\n",
    "    max_imp = max(clf.feature_importances_)\n",
    "    dd = []\n",
    "    ee = []\n",
    "    for i in np.where(clf.feature_importances_ >= 0.05*max_imp)[0]:\n",
    "        wavegrid2 = list(wavegrid)+list(wavegrid)\n",
    "        dd.append(wavegrid2[i])\n",
    "        ee.append(clf.feature_importances_[i])\n",
    "    ddd.append(dd)\n",
    "    eee.append(ee)\n",
    "\n",
    "for clf in MO_low_d.estimators_:\n",
    "    ax[1].plot(wavegrid,clf.feature_importances_[409:], alpha=0.8)\n",
    "\n",
    "ax[0].axvspan(1.35,1.42, alpha=0.3, color='k')\n",
    "ax[1].axvspan(1.35,1.42, alpha=0.3, color='k')\n",
    "ax[0].axvspan(1.80,1.95, alpha=0.3, color='k')\n",
    "ax[1].axvspan(1.80,1.95, alpha=0.3, color='k')\n",
    "ax[1].legend(['primary type diff', 'secondary type diff', 'telluric band'])\n",
    "plt.subplots_adjust(hspace=0)\n",
    "fig.suptitle('Feature importance and M7+L4 binary flux')\n",
    "plt.xlabel('wavelength ($\\mu$m)')\n",
    "feat_impts_low_d['primary_type']['wavegrid'] = ddd[0]\n",
    "feat_impts_low_d['primary_type']['importance'] = eee[0]\n",
    "feat_impts_low_d['secondary_type']['wavegrid'] = ddd[1]\n",
    "feat_impts_low_d['secondary_type']['importance'] = eee[1]\n",
    "feat_impts_low_d"
   ]
  },
  {
   "cell_type": "code",
   "execution_count": 113,
   "metadata": {},
   "outputs": [],
   "source": [
    "precisionprim_lowd1, recallprim_lowd1, f1_scoreprim_lowd1, accuracyprim_lowd1 = calculate_metrics(realprim_low_d,predsprim_low_d,1)\n",
    "precisionsec_lowd1, recallsec_lowd1, f1_scoresec_lowd1, accuracysec_lowd1 = calculate_metrics(realsec_low_d,predssec_low_d,1)\n",
    "precisionprim_lowd3, recallprim_lowd3, f1_scoreprim_lowd3, accuracyprim_lowd3 = calculate_metrics(realprim_low_d,predsprim_low_d,3)\n",
    "precisionsec_lowd3, recallsec_lowd3, f1_scoresec_lowd3, accuracysec_lowd3 = calculate_metrics(realsec_low_d,predssec_low_d,3)"
   ]
  },
  {
   "cell_type": "code",
   "execution_count": 114,
   "metadata": {},
   "outputs": [],
   "source": [
    "with open('data/precisionprim_lowd1_Bard_50est.pickle', 'wb') as file:\n",
    "    pickle.dump(precisionprim_lowd1, file)\n",
    "with open('data/recallprim_lowd1_Bard_50est.pickle', 'wb') as file:\n",
    "    pickle.dump(recallprim_lowd1, file)\n",
    "with open('data/f1_scoreprim_lowd1_Bard_50est.pickle', 'wb') as file:\n",
    "    pickle.dump(f1_scoreprim_lowd1, file)\n",
    "with open('data/accuracyprim_lowd1_Bard_50est.pickle', 'wb') as file:\n",
    "    pickle.dump(accuracyprim_lowd1, file)"
   ]
  },
  {
   "cell_type": "code",
   "execution_count": 115,
   "metadata": {},
   "outputs": [],
   "source": [
    "with open('data/precisionsec_lowd1_Bard_50est.pickle', 'wb') as file:\n",
    "    pickle.dump(precisionsec_lowd1, file)\n",
    "with open('data/recallsec_lowd1_Bard_50est.pickle', 'wb') as file:\n",
    "    pickle.dump(recallsec_lowd1, file)\n",
    "with open('data/f1_scoresec_lowd1_Bard_50est.pickle', 'wb') as file:\n",
    "    pickle.dump(f1_scoresec_lowd1, file)\n",
    "with open('data/accuracysec_lowd1_Bard_50est.pickle', 'wb') as file:\n",
    "    pickle.dump(accuracysec_lowd1, file)"
   ]
  },
  {
   "cell_type": "code",
   "execution_count": 116,
   "metadata": {},
   "outputs": [],
   "source": [
    "with open('data/precisionprim_lowd3_Bard_50est.pickle', 'wb') as file:\n",
    "    pickle.dump(precisionprim_lowd3, file)\n",
    "with open('data/recallprim_lowd3_Bard_50est.pickle', 'wb') as file:\n",
    "    pickle.dump(recallprim_lowd3, file)\n",
    "with open('data/f1_scoreprim_lowd3_Bard_50est.pickle', 'wb') as file:\n",
    "    pickle.dump(f1_scoreprim_lowd3, file)\n",
    "with open('data/accuracyprim_lowd3_Bard_50est.pickle', 'wb') as file:\n",
    "    pickle.dump(accuracyprim_lowd3, file)"
   ]
  },
  {
   "cell_type": "code",
   "execution_count": 117,
   "metadata": {},
   "outputs": [],
   "source": [
    "with open('data/precisionsec_lowd3_Bard_50est.pickle', 'wb') as file:\n",
    "    pickle.dump(precisionsec_lowd3, file)\n",
    "with open('data/recallsec_lowd3_Bard_50est.pickle', 'wb') as file:\n",
    "    pickle.dump(recallsec_lowd3, file)\n",
    "with open('data/f1_scoresec_lowd3_Bard_50est.pickle', 'wb') as file:\n",
    "    pickle.dump(f1_scoresec_lowd3, file)\n",
    "with open('data/accuracysec_lowd3_Bard_50est.pickle', 'wb') as file:\n",
    "    pickle.dump(accuracysec_lowd3, file)"
   ]
  },
  {
   "cell_type": "code",
   "execution_count": null,
   "metadata": {},
   "outputs": [],
   "source": []
  },
  {
   "attachments": {},
   "cell_type": "markdown",
   "metadata": {},
   "source": [
    "DIFFERENCE\n",
    "\n",
    "Mid Snr"
   ]
  },
  {
   "cell_type": "code",
   "execution_count": 118,
   "metadata": {},
   "outputs": [],
   "source": [
    "with open('data/BinDF_mid_d.pickle', 'rb') as f:\n",
    "        BinDF_mid_d = pickle.load(f)"
   ]
  },
  {
   "cell_type": "code",
   "execution_count": 119,
   "metadata": {},
   "outputs": [],
   "source": [
    "BinDF_mid_d = BinDF_mid_d[BinDF_mid_d.primary_type!=16]\n",
    "BinDF_mid_d = BinDF_mid_d[BinDF_mid_d.primary_type<28]\n",
    "BinDF_mid_d = BinDF_mid_d[BinDF_mid_d.secondary_type>30]\n",
    "BinDF_mid_d = BinDF_mid_d[BinDF_mid_d.secondary_type<39]\n",
    "BinDF_mid_d.reset_index(drop=True,inplace=True)"
   ]
  },
  {
   "cell_type": "code",
   "execution_count": 120,
   "metadata": {},
   "outputs": [],
   "source": [
    "with open('data/BinDF_mid_d_Bard.pickle', 'wb') as f:\n",
    "        pickle.dump(BinDF_mid_d, f)"
   ]
  },
  {
   "cell_type": "code",
   "execution_count": 121,
   "metadata": {},
   "outputs": [
    {
     "data": {
      "text/plain": [
       "Text(0.5, 1.0, 'SNR Distribution')"
      ]
     },
     "execution_count": 121,
     "metadata": {},
     "output_type": "execute_result"
    },
    {
     "data": {
      "image/png": "[encoded data removed]",
      "text/plain": [
       "<Figure size 432x288 with 1 Axes>"
      ]
     },
     "metadata": {
      "needs_background": "light"
     },
     "output_type": "display_data"
    }
   ],
   "source": [
    "fig, axe = plt.subplots()\n",
    "axe.hist(BinDF_mid_d['J_SNR'],bins=60)\n",
    "plt.xlabel('j snr')\n",
    "plt.title('SNR Distribution')"
   ]
  },
  {
   "cell_type": "code",
   "execution_count": 122,
   "metadata": {},
   "outputs": [
    {
     "name": "stdout",
     "output_type": "stream",
     "text": [
      "414.6358768939972\n"
     ]
    }
   ],
   "source": [
    "start = time.time()\n",
    "clfmid_d, data_mid_d = binary_multiOutput_classifier(BinDF_mid_d,difference=True,max_depth=25,n_estimators=50,testdata=True)\n",
    "end = time.time()\n",
    "print(end-start)"
   ]
  },
  {
   "cell_type": "code",
   "execution_count": 123,
   "metadata": {},
   "outputs": [],
   "source": [
    "yput1 = []\n",
    "yput2 = []\n",
    "for i in data_mid_d['y_test']:\n",
    "    yput1.append(i[0])\n",
    "    yput2.append(i[1])\n",
    "data_mid_d_df = pd.DataFrame(data_mid_d['x_test'])\n",
    "data_mid_d_df['prim']=yput1\n",
    "data_mid_d_df['seco']=yput2\n",
    "data_mid_d_df.to_csv('data/data_mid_d_Bard_50est.csv',index=False)"
   ]
  },
  {
   "cell_type": "code",
   "execution_count": 124,
   "metadata": {},
   "outputs": [],
   "source": [
    "x_test_mid_d = data_mid_d['x_test']\n",
    "y_test_mid_d = data_mid_d['y_test']"
   ]
  },
  {
   "cell_type": "code",
   "execution_count": 125,
   "metadata": {},
   "outputs": [
    {
     "data": {
      "text/plain": [
       "['MOclassifiers/MO_mid_d_Bard_50est.pkl']"
      ]
     },
     "execution_count": 125,
     "metadata": {},
     "output_type": "execute_result"
    }
   ],
   "source": [
    "joblib.dump(clfmid_d, 'MOclassifiers/MO_mid_d_Bard_50est.pkl')"
   ]
  },
  {
   "cell_type": "code",
   "execution_count": 126,
   "metadata": {},
   "outputs": [],
   "source": [
    "# MO_mid_d = joblib.load('MOclassifiers/MO_mid_d_Bard_50est.pkl')"
   ]
  },
  {
   "cell_type": "code",
   "execution_count": 127,
   "metadata": {},
   "outputs": [],
   "source": [
    "# df_data_mid_d = pd.read_csv(r'data/data_mid_d.csv')\n",
    "# x_test_mid_d = [[df_data_mid_d[str(col)][i] for col in range(818)] for i in range(len(df_data_mid_d))]\n",
    "# y_test_mid_d = [[df_data_mid_d['prim'][i],df_data_mid_d['seco'][i]] for i in range(len(df_data_mid_d))]"
   ]
  },
  {
   "cell_type": "code",
   "execution_count": 128,
   "metadata": {},
   "outputs": [
    {
     "name": "stdout",
     "output_type": "stream",
     "text": [
      "21.93805980682373\n"
     ]
    }
   ],
   "source": [
    "start = time.time()\n",
    "df_avgdiffprim_mid_d, df_avgdiffseco_mid_d, df_stdprim_mid_d, df_stdseco_mid_d, predsprim_mid_d, predssec_mid_d, realprim_mid_d, realsec_mid_d = binaryPrecision(x_test_mid_d,y_test_mid_d,clfmid_d, predictions=True)\n",
    "end = time.time()\n",
    "print(end-start)"
   ]
  },
  {
   "cell_type": "code",
   "execution_count": 180,
   "metadata": {},
   "outputs": [
    {
     "name": "stdout",
     "output_type": "stream",
     "text": [
      "0.00638667725873118\n"
     ]
    },
    {
     "data": {
      "image/png": "[encoded data removed]",
      "text/plain": [
       "<Figure size 432x288 with 2 Axes>"
      ]
     },
     "metadata": {
      "needs_background": "light"
     },
     "output_type": "display_data"
    }
   ],
   "source": [
    "sns.heatmap(df_avgdiffprim_mid_d.drop([16]+[i for i in range(28,40)],axis=1).drop([i for i in range(16,31)]+[38,39]),annot=False,linewidths=0.1,linecolor='black', cmap=\"plasma\",vmin=-2,vmax=0.75)\n",
    "print(df_avgdiffprim_mid_d.mean(axis = 0, skipna = True).mean())"
   ]
  },
  {
   "cell_type": "code",
   "execution_count": 181,
   "metadata": {},
   "outputs": [
    {
     "name": "stdout",
     "output_type": "stream",
     "text": [
      "-0.003902498505596491\n"
     ]
    },
    {
     "data": {
      "image/png": "[encoded data removed]",
      "text/plain": [
       "<Figure size 432x288 with 2 Axes>"
      ]
     },
     "metadata": {
      "needs_background": "light"
     },
     "output_type": "display_data"
    }
   ],
   "source": [
    "sns.heatmap(df_avgdiffseco_mid_d.drop([16]+[i for i in range(28,40)],axis=1).drop([i for i in range(16,31)]+[38,39]),annot=False,linewidths=0.1,linecolor='black', cmap=\"plasma\",vmin=-7,vmax=9)\n",
    "print(df_avgdiffseco_mid_d.mean(axis = 0, skipna = True).mean())"
   ]
  },
  {
   "cell_type": "code",
   "execution_count": 182,
   "metadata": {},
   "outputs": [
    {
     "name": "stdout",
     "output_type": "stream",
     "text": [
      "0.2462327711794521\n"
     ]
    },
    {
     "data": {
      "image/png": "[encoded data removed]",
      "text/plain": [
       "<Figure size 432x288 with 2 Axes>"
      ]
     },
     "metadata": {
      "needs_background": "light"
     },
     "output_type": "display_data"
    }
   ],
   "source": [
    "sns.heatmap(df_stdprim_mid_d.drop([16]+[i for i in range(28,40)],axis=1).drop([i for i in range(16,31)]+[38,39]),annot=False,linewidths=0.1,linecolor='black', cmap=\"plasma\",vmin=0,vmax=1.5)\n",
    "print(df_stdprim_mid_d.mean(axis = 0, skipna = True).mean())"
   ]
  },
  {
   "cell_type": "code",
   "execution_count": 183,
   "metadata": {},
   "outputs": [
    {
     "name": "stdout",
     "output_type": "stream",
     "text": [
      "0.6754573374194943\n"
     ]
    },
    {
     "data": {
      "image/png": "[encoded data removed]",
      "text/plain": [
       "<Figure size 432x288 with 2 Axes>"
      ]
     },
     "metadata": {
      "needs_background": "light"
     },
     "output_type": "display_data"
    }
   ],
   "source": [
    "sns.heatmap(df_stdseco_mid_d.drop([16]+[i for i in range(28,40)],axis=1).drop([i for i in range(16,31)]+[38,39]),annot=False,linewidths=0.1,linecolor='black', cmap=\"plasma\",vmin=0,vmax=2)\n",
    "print(df_stdseco_mid_d.mean(axis = 0, skipna = True).mean())"
   ]
  },
  {
   "cell_type": "code",
   "execution_count": 133,
   "metadata": {},
   "outputs": [
    {
     "data": {
      "text/plain": [
       "{'primary_type': {'wavegrid': [1.0546899,\n",
       "   1.0913042,\n",
       "   1.0954207,\n",
       "   1.099546,\n",
       "   2.077647],\n",
       "  'importance': [0.04897453378170265,\n",
       "   0.5912924012200241,\n",
       "   0.10429884640322584,\n",
       "   0.04434911805363128,\n",
       "   0.0366457981635418]},\n",
       " 'secondary_type': {'wavegrid': [1.3428532,\n",
       "   1.6146357,\n",
       "   1.6226279,\n",
       "   1.6266141,\n",
       "   1.6345673,\n",
       "   1.2006752,\n",
       "   1.3040264,\n",
       "   1.3083439,\n",
       "   1.3126608,\n",
       "   1.3428532,\n",
       "   1.3557706,\n",
       "   1.6226279,\n",
       "   1.6266141,\n",
       "   1.630594,\n",
       "   1.6345673,\n",
       "   1.6385341],\n",
       "  'importance': [0.006314400568802122,\n",
       "   0.010057793083967887,\n",
       "   0.03535390282777456,\n",
       "   0.007975071388892536,\n",
       "   0.007271033732115205,\n",
       "   0.10279400512974139,\n",
       "   0.00824037941041294,\n",
       "   0.009300192510145544,\n",
       "   0.012017411288262256,\n",
       "   0.014056087653878866,\n",
       "   0.011485601062056134,\n",
       "   0.023343104127594376,\n",
       "   0.009445521649485733,\n",
       "   0.00524651356443994,\n",
       "   0.008258270268710115,\n",
       "   0.009476580667227409]}}"
      ]
     },
     "execution_count": 133,
     "metadata": {},
     "output_type": "execute_result"
    },
    {
     "data": {
      "image/png": "[encoded data removed]",
      "text/plain": [
       "<Figure size 432x288 with 2 Axes>"
      ]
     },
     "metadata": {
      "needs_background": "light"
     },
     "output_type": "display_data"
    }
   ],
   "source": [
    "fig, ax = plt.subplots(2,1,sharex=True)\n",
    "\n",
    "ax[0].plot(wavegrid,f17mid)\n",
    "ax[0].plot(wavegrid,f24mid)\n",
    "ax[0].set_ylabel('Normalized Flux ($\\\\frac{erg}{cm}\\\\frac{1}{s}$)')\n",
    "ax[0].legend(['M7 normalized flux','L4 normalized flux'])\n",
    "\n",
    "feat_impts_mid_d = {'primary_type':{},'secondary_type':{}}\n",
    "ddd = []\n",
    "eee = []\n",
    "for clf in clfmid_d.estimators_:\n",
    "    ax[1].plot(wavegrid,clf.feature_importances_[:409], alpha=0.8)\n",
    "    max_imp = max(clf.feature_importances_)\n",
    "    dd = []\n",
    "    ee = []\n",
    "    for i in np.where(clf.feature_importances_ >= 0.05*max_imp)[0]:\n",
    "        wavegrid2 = list(wavegrid)+list(wavegrid)\n",
    "        dd.append(wavegrid2[i])\n",
    "        ee.append(clf.feature_importances_[i])\n",
    "    ddd.append(dd)\n",
    "    eee.append(ee)\n",
    "\n",
    "ax[0].axvspan(1.35,1.42, alpha=0.3, color='k')\n",
    "ax[1].axvspan(1.35,1.42, alpha=0.3, color='k')\n",
    "ax[0].axvspan(1.80,1.95, alpha=0.3, color='k')\n",
    "ax[1].axvspan(1.80,1.95, alpha=0.3, color='k')\n",
    "ax[1].legend(['primary type', 'secondary type', 'telluric band'])\n",
    "plt.subplots_adjust(hspace=0)\n",
    "fig.suptitle('Feature importance and M7, L4 normalized flux')\n",
    "plt.xlabel('wavelength ($\\mu$m)')\n",
    "feat_impts_mid_d['primary_type']['wavegrid'] = ddd[0]\n",
    "feat_impts_mid_d['primary_type']['importance'] = eee[0]\n",
    "feat_impts_mid_d['secondary_type']['wavegrid'] = ddd[1]\n",
    "feat_impts_mid_d['secondary_type']['importance'] = eee[1]\n",
    "feat_impts_mid_d"
   ]
  },
  {
   "cell_type": "code",
   "execution_count": 134,
   "metadata": {},
   "outputs": [
    {
     "data": {
      "text/plain": [
       "{'primary_type': {'wavegrid': [1.0546899,\n",
       "   1.0913042,\n",
       "   1.0954207,\n",
       "   1.099546,\n",
       "   2.077647],\n",
       "  'importance': [0.04897453378170265,\n",
       "   0.5912924012200241,\n",
       "   0.10429884640322584,\n",
       "   0.04434911805363128,\n",
       "   0.0366457981635418]},\n",
       " 'secondary_type': {'wavegrid': [1.3428532,\n",
       "   1.6146357,\n",
       "   1.6226279,\n",
       "   1.6266141,\n",
       "   1.6345673,\n",
       "   1.2006752,\n",
       "   1.3040264,\n",
       "   1.3083439,\n",
       "   1.3126608,\n",
       "   1.3428532,\n",
       "   1.3557706,\n",
       "   1.6226279,\n",
       "   1.6266141,\n",
       "   1.630594,\n",
       "   1.6345673,\n",
       "   1.6385341],\n",
       "  'importance': [0.006314400568802122,\n",
       "   0.010057793083967887,\n",
       "   0.03535390282777456,\n",
       "   0.007975071388892536,\n",
       "   0.007271033732115205,\n",
       "   0.10279400512974139,\n",
       "   0.00824037941041294,\n",
       "   0.009300192510145544,\n",
       "   0.012017411288262256,\n",
       "   0.014056087653878866,\n",
       "   0.011485601062056134,\n",
       "   0.023343104127594376,\n",
       "   0.009445521649485733,\n",
       "   0.00524651356443994,\n",
       "   0.008258270268710115,\n",
       "   0.009476580667227409]}}"
      ]
     },
     "execution_count": 134,
     "metadata": {},
     "output_type": "execute_result"
    },
    {
     "data": {
      "image/png": "[encoded data removed]",
      "text/plain": [
       "<Figure size 432x288 with 2 Axes>"
      ]
     },
     "metadata": {
      "needs_background": "light"
     },
     "output_type": "display_data"
    }
   ],
   "source": [
    "fig, ax = plt.subplots(2,1,sharex=True)\n",
    "\n",
    "ax[0].plot(wavegrid,binmid)\n",
    "ax[0].plot(wavegrid,dmid)\n",
    "ax[0].set_ylabel('Normalized Flux ($\\\\frac{erg}{cm}\\\\frac{1}{s}$)')\n",
    "ax[0].legend(['M7+L4 normalized binary','M7+L4 - standard difference flux'])\n",
    "\n",
    "feat_impts_mid_d = {'primary_type':{},'secondary_type':{}}\n",
    "ddd = []\n",
    "eee = []\n",
    "for clf in clfmid_d.estimators_:\n",
    "    max_imp = max(clf.feature_importances_)\n",
    "    dd = []\n",
    "    ee = []\n",
    "    for i in np.where(clf.feature_importances_ >= 0.05*max_imp)[0]:\n",
    "        wavegrid2 = list(wavegrid)+list(wavegrid)\n",
    "        dd.append(wavegrid2[i])\n",
    "        ee.append(clf.feature_importances_[i])\n",
    "    ddd.append(dd)\n",
    "    eee.append(ee)\n",
    "\n",
    "for clf in clfmid_d.estimators_:\n",
    "    ax[1].plot(wavegrid,clf.feature_importances_[409:], alpha=0.8)\n",
    "\n",
    "ax[0].axvspan(1.35,1.42, alpha=0.3, color='k')\n",
    "ax[1].axvspan(1.35,1.42, alpha=0.3, color='k')\n",
    "ax[0].axvspan(1.80,1.95, alpha=0.3, color='k')\n",
    "ax[1].axvspan(1.80,1.95, alpha=0.3, color='k')\n",
    "ax[1].legend(['primary type diff', 'secondary type diff', 'telluric band'])\n",
    "plt.subplots_adjust(hspace=0)\n",
    "fig.suptitle('Feature importance and M7+L4 binary')\n",
    "plt.xlabel('wavelength ($\\mu$m)')\n",
    "feat_impts_mid_d['primary_type']['wavegrid'] = ddd[0]\n",
    "feat_impts_mid_d['primary_type']['importance'] = eee[0]\n",
    "feat_impts_mid_d['secondary_type']['wavegrid'] = ddd[1]\n",
    "feat_impts_mid_d['secondary_type']['importance'] = eee[1]\n",
    "feat_impts_mid_d"
   ]
  },
  {
   "cell_type": "code",
   "execution_count": 135,
   "metadata": {},
   "outputs": [],
   "source": [
    "precisionprim_midd1, recallprim_midd1, f1_scoreprim_midd1, accuracyprim_midd1 = calculate_metrics(realprim_mid_d,predsprim_mid_d,1)\n",
    "precisionsec_midd1, recallsec_midd1, f1_scoresec_midd1, accuracysec_midd1 = calculate_metrics(realsec_mid_d,predssec_mid_d,1)\n",
    "precisionprim_midd3, recallprim_midd3, f1_scoreprim_midd3, accuracyprim_midd3 = calculate_metrics(realprim_mid_d,predsprim_mid_d,3)\n",
    "precisionsec_midd3, recallsec_midd3, f1_scoresec_midd3, accuracysec_midd3 = calculate_metrics(realsec_mid_d,predssec_mid_d,3)"
   ]
  },
  {
   "cell_type": "code",
   "execution_count": 136,
   "metadata": {},
   "outputs": [],
   "source": [
    "with open('data/precisionprim_midd1_Bard_50est.pickle', 'wb') as file:\n",
    "    pickle.dump(precisionprim_midd1, file)\n",
    "with open('data/recallprim_midd1_Bard_50est.pickle', 'wb') as file:\n",
    "    pickle.dump(recallprim_midd1, file)\n",
    "with open('data/f1_scoreprim_midd1_Bard_50est.pickle', 'wb') as file:\n",
    "    pickle.dump(f1_scoreprim_midd1, file)\n",
    "with open('data/accuracyprim_midd1_Bard_50est.pickle', 'wb') as file:\n",
    "    pickle.dump(accuracyprim_midd1, file)"
   ]
  },
  {
   "cell_type": "code",
   "execution_count": 137,
   "metadata": {},
   "outputs": [],
   "source": [
    "with open('data/precisionsec_midd1_Bard_50est.pickle', 'wb') as file:\n",
    "    pickle.dump(precisionsec_midd1, file)\n",
    "with open('data/recallsec_midd1_Bard_50est.pickle', 'wb') as file:\n",
    "    pickle.dump(recallsec_midd1, file)\n",
    "with open('data/f1_scoresec_midd1_Bard_50est.pickle', 'wb') as file:\n",
    "    pickle.dump(f1_scoresec_midd1, file)\n",
    "with open('data/accuracysec_midd1_Bard_50est.pickle', 'wb') as file:\n",
    "    pickle.dump(accuracysec_midd1, file)"
   ]
  },
  {
   "cell_type": "code",
   "execution_count": 138,
   "metadata": {},
   "outputs": [],
   "source": [
    "with open('data/precisionprim_midd3_Bard_50est.pickle', 'wb') as file:\n",
    "    pickle.dump(precisionprim_midd3, file)\n",
    "with open('data/recallprim_midd3_Bard_50est.pickle', 'wb') as file:\n",
    "    pickle.dump(recallprim_midd3, file)\n",
    "with open('data/f1_scoreprim_midd3_Bard_50est.pickle', 'wb') as file:\n",
    "    pickle.dump(f1_scoreprim_midd3, file)\n",
    "with open('data/accuracyprim_midd3_Bard_50est.pickle', 'wb') as file:\n",
    "    pickle.dump(accuracyprim_midd3, file)"
   ]
  },
  {
   "cell_type": "code",
   "execution_count": 139,
   "metadata": {},
   "outputs": [],
   "source": [
    "with open('data/precisionsec_midd3_Bard_50est.pickle', 'wb') as file:\n",
    "    pickle.dump(precisionsec_midd3, file)\n",
    "with open('data/recallsec_midd3_Bard_50est.pickle', 'wb') as file:\n",
    "    pickle.dump(recallsec_midd3, file)\n",
    "with open('data/f1_scoresec_midd3_Bard_50est.pickle', 'wb') as file:\n",
    "    pickle.dump(f1_scoresec_midd3, file)\n",
    "with open('data/accuracysec_midd3_Bard_50est.pickle', 'wb') as file:\n",
    "    pickle.dump(accuracysec_midd3, file)"
   ]
  },
  {
   "cell_type": "code",
   "execution_count": null,
   "metadata": {},
   "outputs": [],
   "source": []
  },
  {
   "attachments": {},
   "cell_type": "markdown",
   "metadata": {},
   "source": [
    "DIFFERENCE\n",
    "\n",
    "Hig Snr"
   ]
  },
  {
   "cell_type": "code",
   "execution_count": 140,
   "metadata": {},
   "outputs": [],
   "source": [
    "with open('data/BinDF_hig_d.pickle', 'rb') as f:\n",
    "        BinDF_hig_d = pickle.load(f)"
   ]
  },
  {
   "cell_type": "code",
   "execution_count": 141,
   "metadata": {},
   "outputs": [],
   "source": [
    "BinDF_hig_d = BinDF_hig_d[BinDF_hig_d.primary_type!=16]\n",
    "BinDF_hig_d = BinDF_hig_d[BinDF_hig_d.primary_type<28]\n",
    "BinDF_hig_d = BinDF_hig_d[BinDF_hig_d.secondary_type>30]\n",
    "BinDF_hig_d = BinDF_hig_d[BinDF_hig_d.secondary_type<39]\n",
    "BinDF_hig_d.reset_index(drop=True,inplace=True)"
   ]
  },
  {
   "cell_type": "code",
   "execution_count": 142,
   "metadata": {},
   "outputs": [],
   "source": [
    "with open('data/BinDF_hig_d_Bard.pickle', 'wb') as f:\n",
    "        pickle.dump(BinDF_hig_d, f)"
   ]
  },
  {
   "cell_type": "code",
   "execution_count": 143,
   "metadata": {},
   "outputs": [
    {
     "data": {
      "text/plain": [
       "Text(0.5, 1.0, 'SNR Distribution')"
      ]
     },
     "execution_count": 143,
     "metadata": {},
     "output_type": "execute_result"
    },
    {
     "data": {
      "image/png": "[encoded data removed]",
      "text/plain": [
       "<Figure size 432x288 with 1 Axes>"
      ]
     },
     "metadata": {
      "needs_background": "light"
     },
     "output_type": "display_data"
    }
   ],
   "source": [
    "fig, axe = plt.subplots()\n",
    "axe.hist(BinDF_hig_d['J_SNR'],bins=60)\n",
    "plt.xlabel('j snr')\n",
    "plt.title('SNR Distribution')"
   ]
  },
  {
   "cell_type": "code",
   "execution_count": 144,
   "metadata": {},
   "outputs": [
    {
     "name": "stdout",
     "output_type": "stream",
     "text": [
      "219.41578602790833\n"
     ]
    }
   ],
   "source": [
    "start = time.time()\n",
    "clfhig_d, data_hig_d = binary_multiOutput_classifier(BinDF_hig_d,difference=True,max_depth=25,n_estimators=50,testdata=True)\n",
    "end = time.time()\n",
    "print(end-start)"
   ]
  },
  {
   "cell_type": "code",
   "execution_count": 145,
   "metadata": {},
   "outputs": [],
   "source": [
    "yput1 = []\n",
    "yput2 = []\n",
    "for i in data_hig_d['y_test']:\n",
    "    yput1.append(i[0])\n",
    "    yput2.append(i[1])\n",
    "data_hig_d_df = pd.DataFrame(data_hig_d['x_test'])\n",
    "data_hig_d_df['prim']=yput1\n",
    "data_hig_d_df['seco']=yput2\n",
    "data_hig_d_df.to_csv('data/data_hig_d_Bard_50est.csv',index=False)"
   ]
  },
  {
   "cell_type": "code",
   "execution_count": 146,
   "metadata": {},
   "outputs": [],
   "source": [
    "x_test_hig_d = data_hig_d['x_test']\n",
    "y_test_hig_d = data_hig_d['y_test']"
   ]
  },
  {
   "cell_type": "code",
   "execution_count": 147,
   "metadata": {},
   "outputs": [
    {
     "data": {
      "text/plain": [
       "['MOclassifiers/MO_hig_d_Bard_50est.pkl']"
      ]
     },
     "execution_count": 147,
     "metadata": {},
     "output_type": "execute_result"
    }
   ],
   "source": [
    "joblib.dump(clfhig_d, 'MOclassifiers/MO_hig_d_Bard_50est.pkl')"
   ]
  },
  {
   "cell_type": "code",
   "execution_count": 148,
   "metadata": {},
   "outputs": [],
   "source": [
    "# MO_hig_d = joblib.load('MOclassifiers/MO_hig_d_Bard_50est.pkl')"
   ]
  },
  {
   "cell_type": "code",
   "execution_count": 149,
   "metadata": {},
   "outputs": [],
   "source": [
    "# df_data_hig_d = pd.read_csv(r'data/data_hig_d.csv')\n",
    "# x_test_hig_d = [[df_data_hig_d[str(col)][i] for col in range(818)] for i in range(len(df_data_hig_d))]\n",
    "# y_test_hig_d = [[df_data_hig_d['prim'][i],df_data_hig_d['seco'][i]] for i in range(len(df_data_hig_d))]"
   ]
  },
  {
   "cell_type": "code",
   "execution_count": 150,
   "metadata": {},
   "outputs": [
    {
     "name": "stdout",
     "output_type": "stream",
     "text": [
      "12.58711862564087\n"
     ]
    }
   ],
   "source": [
    "start = time.time()\n",
    "df_avgdiffprim_hig_d, df_avgdiffseco_hig_d, df_stdprim_hig_d, df_stdseco_hig_d, predsprim_hig_d, predssec_hig_d, realprim_hig_d, realsec_hig_d = binaryPrecision(x_test_hig_d,y_test_hig_d,clfhig_d, predictions=True)\n",
    "end = time.time()\n",
    "print(end-start)"
   ]
  },
  {
   "cell_type": "code",
   "execution_count": 184,
   "metadata": {},
   "outputs": [
    {
     "name": "stdout",
     "output_type": "stream",
     "text": [
      "-0.0021173160173159926\n"
     ]
    },
    {
     "data": {
      "image/png": "[encoded data removed]",
      "text/plain": [
       "<Figure size 432x288 with 2 Axes>"
      ]
     },
     "metadata": {
      "needs_background": "light"
     },
     "output_type": "display_data"
    }
   ],
   "source": [
    "sns.heatmap(df_avgdiffprim_hig_d.drop([16]+[i for i in range(28,40)],axis=1).drop([i for i in range(16,31)]+[38,39]),annot=False,linewidths=0.1,linecolor='black', cmap=\"plasma\",vmin=-2,vmax=0.75)\n",
    "print(df_avgdiffprim_hig_d.mean(axis = 0, skipna = True).mean())"
   ]
  },
  {
   "cell_type": "code",
   "execution_count": 185,
   "metadata": {},
   "outputs": [
    {
     "name": "stdout",
     "output_type": "stream",
     "text": [
      "0.008586720303003052\n"
     ]
    },
    {
     "data": {
      "image/png": "[encoded data removed]",
      "text/plain": [
       "<Figure size 432x288 with 2 Axes>"
      ]
     },
     "metadata": {
      "needs_background": "light"
     },
     "output_type": "display_data"
    }
   ],
   "source": [
    "sns.heatmap(df_avgdiffseco_hig_d.drop([16]+[i for i in range(28,40)],axis=1).drop([i for i in range(16,31)]+[38,39]),annot=False,linewidths=0.1,linecolor='black', cmap=\"plasma\",vmin=-7,vmax=9)\n",
    "print(df_avgdiffseco_hig_d.mean(axis = 0, skipna = True).mean())"
   ]
  },
  {
   "cell_type": "code",
   "execution_count": 186,
   "metadata": {},
   "outputs": [
    {
     "name": "stdout",
     "output_type": "stream",
     "text": [
      "0.18224844709381038\n"
     ]
    },
    {
     "data": {
      "image/png": "[encoded data removed]",
      "text/plain": [
       "<Figure size 432x288 with 2 Axes>"
      ]
     },
     "metadata": {
      "needs_background": "light"
     },
     "output_type": "display_data"
    }
   ],
   "source": [
    "sns.heatmap(df_stdprim_hig_d.drop([16]+[i for i in range(28,40)],axis=1).drop([i for i in range(16,31)]+[38,39]),annot=False,linewidths=0.1,linecolor='black', cmap=\"plasma\",vmin=0,vmax=1.5)\n",
    "print(df_stdprim_hig_d.mean(axis = 0, skipna = True).mean())"
   ]
  },
  {
   "cell_type": "code",
   "execution_count": 187,
   "metadata": {},
   "outputs": [
    {
     "name": "stdout",
     "output_type": "stream",
     "text": [
      "0.42525493673887027\n"
     ]
    },
    {
     "data": {
      "image/png": "[encoded data removed]",
      "text/plain": [
       "<Figure size 432x288 with 2 Axes>"
      ]
     },
     "metadata": {
      "needs_background": "light"
     },
     "output_type": "display_data"
    }
   ],
   "source": [
    "sns.heatmap(df_stdseco_hig_d.drop([16]+[i for i in range(28,40)],axis=1).drop([i for i in range(16,31)]+[38,39]),annot=False,linewidths=0.1,linecolor='black', cmap=\"plasma\",vmin=0,vmax=2)\n",
    "print(df_stdseco_hig_d.mean(axis = 0, skipna = True).mean())"
   ]
  },
  {
   "cell_type": "code",
   "execution_count": 155,
   "metadata": {},
   "outputs": [
    {
     "data": {
      "text/plain": [
       "{'primary_type': {'wavegrid': [0.9291509,\n",
       "   1.0913042,\n",
       "   2.077647,\n",
       "   0.9291509,\n",
       "   0.96179783,\n",
       "   1.0913042,\n",
       "   2.077647],\n",
       "  'importance': [0.02173248424811806,\n",
       "   0.36963417357613376,\n",
       "   0.022537775006516443,\n",
       "   0.03349481200287372,\n",
       "   0.02537318559552358,\n",
       "   0.35526037584391645,\n",
       "   0.02169669352857603]},\n",
       " 'secondary_type': {'wavegrid': [1.196399,\n",
       "   1.2006752,\n",
       "   1.2049553,\n",
       "   1.3169771,\n",
       "   1.3212926,\n",
       "   1.424271,\n",
       "   1.6226279,\n",
       "   1.6266141,\n",
       "   1.630594,\n",
       "   1.6345673,\n",
       "   1.6385341,\n",
       "   1.6424943,\n",
       "   1.6739404,\n",
       "   1.7881606,\n",
       "   2.0244722,\n",
       "   1.1878585,\n",
       "   1.196399,\n",
       "   1.2006752,\n",
       "   1.2049553,\n",
       "   1.3169771,\n",
       "   1.3212926,\n",
       "   1.424271,\n",
       "   1.618635,\n",
       "   1.6226279,\n",
       "   1.6266141,\n",
       "   1.630594,\n",
       "   1.6345673,\n",
       "   1.6385341,\n",
       "   1.6424943,\n",
       "   2.0244722],\n",
       "  'importance': [0.007907608330518623,\n",
       "   0.007130962924846265,\n",
       "   0.07436095730080744,\n",
       "   0.008742101875062205,\n",
       "   0.004395999249223243,\n",
       "   0.006208433786979335,\n",
       "   0.02617926419381611,\n",
       "   0.031340894197295584,\n",
       "   0.022914250977442926,\n",
       "   0.006490035135903635,\n",
       "   0.012164322439931622,\n",
       "   0.006370785525553075,\n",
       "   0.005269417434113438,\n",
       "   0.004058219439144865,\n",
       "   0.009423666535439081,\n",
       "   0.004008466242294633,\n",
       "   0.005147799562786392,\n",
       "   0.022351475788987316,\n",
       "   0.06912037724566444,\n",
       "   0.010301492544971399,\n",
       "   0.006525437140651753,\n",
       "   0.00892377240448211,\n",
       "   0.0037207128499942115,\n",
       "   0.04700027922865907,\n",
       "   0.03589297359868684,\n",
       "   0.02925168929834232,\n",
       "   0.009528943000674122,\n",
       "   0.011478234890391771,\n",
       "   0.005571806382699072,\n",
       "   0.0050013673640264345]}}"
      ]
     },
     "execution_count": 155,
     "metadata": {},
     "output_type": "execute_result"
    },
    {
     "data": {
      "image/png": "[encoded data removed]",
      "text/plain": [
       "<Figure size 432x288 with 2 Axes>"
      ]
     },
     "metadata": {
      "needs_background": "light"
     },
     "output_type": "display_data"
    }
   ],
   "source": [
    "fig, ax = plt.subplots(2,1,sharex=True)\n",
    "\n",
    "\n",
    "ax[0].plot(wavegrid,f17hig)\n",
    "ax[0].plot(wavegrid,f24hig)\n",
    "ax[0].set_ylabel('Normalized Flux ($\\\\frac{erg}{cm}\\\\frac{1}{s}$)')\n",
    "ax[0].legend(['M7 normalized flux','L4 normalized flux'])\n",
    "\n",
    "feat_impts_hig_d = {'primary_type':{},'secondary_type':{}}\n",
    "ddd = []\n",
    "eee = []\n",
    "for clf in clfhig_d.estimators_:\n",
    "    ax[1].plot(wavegrid,clf.feature_importances_[:409], alpha=0.8)\n",
    "    max_imp = max(clf.feature_importances_)\n",
    "    dd = []\n",
    "    ee = []\n",
    "    for i in np.where(clf.feature_importances_ >= 0.05*max_imp)[0]:\n",
    "        wavegrid2 = list(wavegrid)+list(wavegrid)\n",
    "        dd.append(wavegrid2[i])\n",
    "        ee.append(clf.feature_importances_[i])\n",
    "    ddd.append(dd)\n",
    "    eee.append(ee)\n",
    "\n",
    "ax[0].axvspan(1.35,1.42, alpha=0.3, color='k')\n",
    "ax[1].axvspan(1.35,1.42, alpha=0.3, color='k')\n",
    "ax[0].axvspan(1.80,1.95, alpha=0.3, color='k')\n",
    "ax[1].axvspan(1.80,1.95, alpha=0.3, color='k')\n",
    "ax[1].legend(['primary type', 'secondary type', 'telluric band'])\n",
    "plt.subplots_adjust(hspace=0)\n",
    "fig.suptitle('Feature importance and M7, L4 normalized flux')\n",
    "plt.xlabel('wavelength ($\\mu$m)')\n",
    "feat_impts_hig_d['primary_type']['wavegrid'] = ddd[0]\n",
    "feat_impts_hig_d['primary_type']['importance'] = eee[0]\n",
    "feat_impts_hig_d['secondary_type']['wavegrid'] = ddd[1]\n",
    "feat_impts_hig_d['secondary_type']['importance'] = eee[1]\n",
    "feat_impts_hig_d"
   ]
  },
  {
   "cell_type": "code",
   "execution_count": 156,
   "metadata": {},
   "outputs": [
    {
     "data": {
      "text/plain": [
       "{'primary_type': {'wavegrid': [0.9291509,\n",
       "   1.0913042,\n",
       "   2.077647,\n",
       "   0.9291509,\n",
       "   0.96179783,\n",
       "   1.0913042,\n",
       "   2.077647],\n",
       "  'importance': [0.02173248424811806,\n",
       "   0.36963417357613376,\n",
       "   0.022537775006516443,\n",
       "   0.03349481200287372,\n",
       "   0.02537318559552358,\n",
       "   0.35526037584391645,\n",
       "   0.02169669352857603]},\n",
       " 'secondary_type': {'wavegrid': [1.196399,\n",
       "   1.2006752,\n",
       "   1.2049553,\n",
       "   1.3169771,\n",
       "   1.3212926,\n",
       "   1.424271,\n",
       "   1.6226279,\n",
       "   1.6266141,\n",
       "   1.630594,\n",
       "   1.6345673,\n",
       "   1.6385341,\n",
       "   1.6424943,\n",
       "   1.6739404,\n",
       "   1.7881606,\n",
       "   2.0244722,\n",
       "   1.1878585,\n",
       "   1.196399,\n",
       "   1.2006752,\n",
       "   1.2049553,\n",
       "   1.3169771,\n",
       "   1.3212926,\n",
       "   1.424271,\n",
       "   1.618635,\n",
       "   1.6226279,\n",
       "   1.6266141,\n",
       "   1.630594,\n",
       "   1.6345673,\n",
       "   1.6385341,\n",
       "   1.6424943,\n",
       "   2.0244722],\n",
       "  'importance': [0.007907608330518623,\n",
       "   0.007130962924846265,\n",
       "   0.07436095730080744,\n",
       "   0.008742101875062205,\n",
       "   0.004395999249223243,\n",
       "   0.006208433786979335,\n",
       "   0.02617926419381611,\n",
       "   0.031340894197295584,\n",
       "   0.022914250977442926,\n",
       "   0.006490035135903635,\n",
       "   0.012164322439931622,\n",
       "   0.006370785525553075,\n",
       "   0.005269417434113438,\n",
       "   0.004058219439144865,\n",
       "   0.009423666535439081,\n",
       "   0.004008466242294633,\n",
       "   0.005147799562786392,\n",
       "   0.022351475788987316,\n",
       "   0.06912037724566444,\n",
       "   0.010301492544971399,\n",
       "   0.006525437140651753,\n",
       "   0.00892377240448211,\n",
       "   0.0037207128499942115,\n",
       "   0.04700027922865907,\n",
       "   0.03589297359868684,\n",
       "   0.02925168929834232,\n",
       "   0.009528943000674122,\n",
       "   0.011478234890391771,\n",
       "   0.005571806382699072,\n",
       "   0.0050013673640264345]}}"
      ]
     },
     "execution_count": 156,
     "metadata": {},
     "output_type": "execute_result"
    },
    {
     "data": {
      "image/png": "[encoded data removed]",
      "text/plain": [
       "<Figure size 432x288 with 2 Axes>"
      ]
     },
     "metadata": {
      "needs_background": "light"
     },
     "output_type": "display_data"
    }
   ],
   "source": [
    "fig, ax = plt.subplots(2,1,sharex=True)\n",
    "\n",
    "ax[0].plot(wavegrid,binhig)\n",
    "ax[0].plot(wavegrid,dhig)\n",
    "ax[0].set_ylabel('Normalized Flux ($\\\\frac{erg}{cm}\\\\frac{1}{s}$)')\n",
    "ax[0].legend(['M7+L4 normalized binary','M7+L4 - standard difference flux'])\n",
    "\n",
    "feat_impts_hig_d = {'primary_type':{},'secondary_type':{}}\n",
    "ddd = []\n",
    "eee = []\n",
    "for clf in clfhig_d.estimators_:\n",
    "    max_imp = max(clf.feature_importances_)\n",
    "    dd = []\n",
    "    ee = []\n",
    "    for i in np.where(clf.feature_importances_ >= 0.05*max_imp)[0]:\n",
    "        wavegrid2 = list(wavegrid)+list(wavegrid)\n",
    "        dd.append(wavegrid2[i])\n",
    "        ee.append(clf.feature_importances_[i])\n",
    "    ddd.append(dd)\n",
    "    eee.append(ee)\n",
    "\n",
    "for clf in clfhig_d.estimators_:\n",
    "    ax[1].plot(wavegrid,clf.feature_importances_[409:], alpha=0.8)\n",
    "\n",
    "ax[0].axvspan(1.35,1.42, alpha=0.3, color='k')\n",
    "ax[1].axvspan(1.35,1.42, alpha=0.3, color='k')\n",
    "ax[0].axvspan(1.80,1.95, alpha=0.3, color='k')\n",
    "ax[1].axvspan(1.80,1.95, alpha=0.3, color='k')\n",
    "ax[1].legend(['primary type diff', 'secondary type diff', 'telluric band'])\n",
    "plt.subplots_adjust(hspace=0)\n",
    "fig.suptitle('Feature importance and M7+L4 binary flux')\n",
    "plt.xlabel('wavelength ($\\mu$m)')\n",
    "feat_impts_hig_d['primary_type']['wavegrid'] = ddd[0]\n",
    "feat_impts_hig_d['primary_type']['importance'] = eee[0]\n",
    "feat_impts_hig_d['secondary_type']['wavegrid'] = ddd[1]\n",
    "feat_impts_hig_d['secondary_type']['importance'] = eee[1]\n",
    "feat_impts_hig_d"
   ]
  },
  {
   "cell_type": "code",
   "execution_count": 157,
   "metadata": {},
   "outputs": [],
   "source": [
    "precisionprim_higd1, recallprim_higd1, f1_scoreprim_higd1, accuracyprim_higd1 = calculate_metrics(realprim_hig_d,predsprim_hig_d,1)\n",
    "precisionsec_higd1, recallsec_higd1, f1_scoresec_higd1, accuracysec_higd1 = calculate_metrics(realsec_hig_d,predssec_hig_d,1)\n",
    "precisionprim_higd3, recallprim_higd3, f1_scoreprim_higd3, accuracyprim_higd3 = calculate_metrics(realprim_hig_d,predsprim_hig_d,3)\n",
    "precisionsec_higd3, recallsec_higd3, f1_scoresec_higd3, accuracysec_higd3 = calculate_metrics(realsec_hig_d,predssec_hig_d,3)"
   ]
  },
  {
   "cell_type": "code",
   "execution_count": 158,
   "metadata": {},
   "outputs": [],
   "source": [
    "with open('data/precisionprim_higd1_Bard_50est.pickle', 'wb') as file:\n",
    "    pickle.dump(precisionprim_higd1, file)\n",
    "with open('data/recallprim_higd1_Bard_50est.pickle', 'wb') as file:\n",
    "    pickle.dump(recallprim_higd1, file)\n",
    "with open('data/f1_scoreprim_higd1_Bard_50est.pickle', 'wb') as file:\n",
    "    pickle.dump(f1_scoreprim_higd1, file)\n",
    "with open('data/accuracyprim_higd1_Bard_50est.pickle', 'wb') as file:\n",
    "    pickle.dump(accuracyprim_higd1, file)"
   ]
  },
  {
   "cell_type": "code",
   "execution_count": 159,
   "metadata": {},
   "outputs": [],
   "source": [
    "with open('data/precisionsec_higd1_Bard_50est.pickle', 'wb') as file:\n",
    "    pickle.dump(precisionsec_higd1, file)\n",
    "with open('data/recallsec_higd1_Bard_50est.pickle', 'wb') as file:\n",
    "    pickle.dump(recallsec_higd1, file)\n",
    "with open('data/f1_scoresec_higd1_Bard_50est.pickle', 'wb') as file:\n",
    "    pickle.dump(f1_scoresec_higd1, file)\n",
    "with open('data/accuracysec_higd1_Bard_50est.pickle', 'wb') as file:\n",
    "    pickle.dump(accuracysec_higd1, file)"
   ]
  },
  {
   "cell_type": "code",
   "execution_count": 160,
   "metadata": {},
   "outputs": [],
   "source": [
    "with open('data/precisionprim_higd3_Bard_50est.pickle', 'wb') as file:\n",
    "    pickle.dump(precisionprim_higd3, file)\n",
    "with open('data/recallprim_higd3_Bard_50est.pickle', 'wb') as file:\n",
    "    pickle.dump(recallprim_higd3, file)\n",
    "with open('data/f1_scoreprim_higd3_Bard_50est.pickle', 'wb') as file:\n",
    "    pickle.dump(f1_scoreprim_higd3, file)\n",
    "with open('data/accuracyprim_higd3_Bard_50est.pickle', 'wb') as file:\n",
    "    pickle.dump(accuracyprim_higd3, file)"
   ]
  },
  {
   "cell_type": "code",
   "execution_count": 161,
   "metadata": {},
   "outputs": [],
   "source": [
    "with open('data/precisionsec_higd3_Bard_50est.pickle', 'wb') as file:\n",
    "    pickle.dump(precisionsec_higd3, file)\n",
    "with open('data/recallsec_higd3_Bard_50est.pickle', 'wb') as file:\n",
    "    pickle.dump(recallsec_higd3, file)\n",
    "with open('data/f1_scoresec_higd3_Bard_50est.pickle', 'wb') as file:\n",
    "    pickle.dump(f1_scoresec_higd3, file)\n",
    "with open('data/accuracysec_higd3_Bard_50est.pickle', 'wb') as file:\n",
    "    pickle.dump(accuracysec_higd3, file)"
   ]
  },
  {
   "cell_type": "code",
   "execution_count": null,
   "metadata": {},
   "outputs": [],
   "source": []
  }
 ],
 "metadata": {
  "kernelspec": {
   "display_name": "Python 3",
   "language": "python",
   "name": "python3"
  },
  "language_info": {
   "codemirror_mode": {
    "name": "ipython",
    "version": 3
   },
   "file_extension": ".py",
   "mimetype": "text/x-python",
   "name": "python",
   "nbconvert_exporter": "python",
   "pygments_lexer": "ipython3",
   "version": "3.10.1"
  },
  "orig_nbformat": 4,
  "vscode": {
   "interpreter": {
    "hash": "d3e10ef16274dd72e574b8fa73b58450b957d8421a2901baded3cca26fcf5dda"
   }
  }
 },
 "nbformat": 4,
 "nbformat_minor": 2
}
