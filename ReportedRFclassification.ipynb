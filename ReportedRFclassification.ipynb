{
 "cells": [
  {
   "cell_type": "code",
   "execution_count": 1,
   "metadata": {},
   "outputs": [
    {
     "name": "stdout",
     "output_type": "stream",
     "text": [
      "\n",
      "\n",
      "Welcome to the Spex Prism Library Analysis Toolkit (SPLAT)!\n",
      "If you make use of any features of this toolkit for your research, please remember to cite the SPLAT paper:\n",
      "\n",
      "Burgasser et al. (2017, Astro. Soc. India Conf. Series 14, p. 7); Bibcode: 2017ASInC..14....7B\n",
      "\n",
      "If you make use of any spectra or models in this toolkit, please remember to cite the original source.\n",
      "Please report any errors are feature requests to our github page, https://github.com/aburgasser/splat/\n",
      "\n",
      "\n"
     ]
    }
   ],
   "source": [
    "import splat as sp\n",
    "import joblib\n",
    "import sklearn\n",
    "import seaborn as sns\n",
    "import pickle\n",
    "from astropy.io import fits\n",
    "from zipfile import ZipFile\n",
    "import matplotlib.pyplot as plt\n",
    "from multioutput_functions import *\n",
    "import math\n",
    "singles = pd.read_hdf(r'C:/Users/juand/Research/h5_files/singles_230801.h5')\n",
    "wave = singles['WAVE'][0]\n",
    "wavegrid_list=list(wave)\n",
    "wave = np.array(wave)\n",
    "wavegrid=wave"
   ]
  },
  {
   "cell_type": "code",
   "execution_count": 2,
   "metadata": {},
   "outputs": [],
   "source": [
    "mod = '_G1'\n",
    "rf_low_G1 = joblib.load('RFclassifiers/RF_low'+mod+'.joblib')\n",
    "rf_mid_G1 = joblib.load('RFclassifiers/RF_mid'+mod+'.joblib')\n",
    "rf_hig_G1 = joblib.load('RFclassifiers/RF_hig'+mod+'.joblib')\n",
    "mod = '_G2'\n",
    "rf_low_G2 = joblib.load('RFclassifiers/RF_low'+mod+'.joblib')\n",
    "rf_mid_G2 = joblib.load('RFclassifiers/RF_mid'+mod+'.joblib')\n",
    "rf_hig_G2 = joblib.load('RFclassifiers/RF_hig'+mod+'.joblib')\n",
    "mod = '_G3'\n",
    "rf_low_G3 = joblib.load('RFclassifiers/RF_low'+mod+'.joblib')\n",
    "rf_mid_G3 = joblib.load('RFclassifiers/RF_mid'+mod+'.joblib')\n",
    "rf_hig_G3 = joblib.load('RFclassifiers/RF_hig'+mod+'.joblib')\n",
    "mod = '_G4'\n",
    "rf_low_G4 = joblib.load('RFclassifiers/RF_low'+mod+'.joblib')\n",
    "rf_mid_G4 = joblib.load('RFclassifiers/RF_mid'+mod+'.joblib')\n",
    "rf_hig_G4 = joblib.load('RFclassifiers/RF_hig'+mod+'.joblib')"
   ]
  },
  {
   "cell_type": "code",
   "execution_count": 3,
   "metadata": {},
   "outputs": [],
   "source": [
    "def findname(namestring):\n",
    "    name_match = re.search(r\"\\d*\\s*(J*\\d+\\.*\\d*\\+*\\-*\\d+\\.*\\d*)\", namestring)\n",
    "    if name_match:\n",
    "        name = name_match.group(1)\n",
    "        name1= name[:5]\n",
    "        name2= re.search(r\"J*\\d+\\.*\\d*(\\+*\\-*\\d+\\.*\\d*)\", name).group(1)[:5]\n",
    "        name = name1+name2\n",
    "    else:\n",
    "        name = ''\n",
    "    return name"
   ]
  },
  {
   "cell_type": "code",
   "execution_count": 4,
   "metadata": {},
   "outputs": [
    {
     "data": {
      "text/html": [
       "<div>\n",
       "<style scoped>\n",
       "    .dataframe tbody tr th:only-of-type {\n",
       "        vertical-align: middle;\n",
       "    }\n",
       "\n",
       "    .dataframe tbody tr th {\n",
       "        vertical-align: top;\n",
       "    }\n",
       "\n",
       "    .dataframe thead th {\n",
       "        text-align: right;\n",
       "    }\n",
       "</style>\n",
       "<table border=\"1\" class=\"dataframe\">\n",
       "  <thead>\n",
       "    <tr style=\"text-align: right;\">\n",
       "      <th></th>\n",
       "      <th>name</th>\n",
       "      <th>type_binary</th>\n",
       "      <th>spt_pri</th>\n",
       "      <th>spt_sec</th>\n",
       "      <th>sptnum_pri</th>\n",
       "      <th>sptnumerr_pri</th>\n",
       "      <th>sptnum_sec</th>\n",
       "      <th>sptnumerr_sec</th>\n",
       "      <th>spt_method_bin</th>\n",
       "      <th>ref_spt_bin</th>\n",
       "    </tr>\n",
       "  </thead>\n",
       "  <tbody>\n",
       "    <tr>\n",
       "      <th>0</th>\n",
       "      <td>SDSS J000649.16-085246.3</td>\n",
       "      <td>SB1</td>\n",
       "      <td>M8.5</td>\n",
       "      <td>T5</td>\n",
       "      <td>18.5</td>\n",
       "      <td>0.5</td>\n",
       "      <td>35.0</td>\n",
       "      <td>1.0</td>\n",
       "      <td>IR-decomp</td>\n",
       "      <td>Burg12b</td>\n",
       "    </tr>\n",
       "    <tr>\n",
       "      <th>1</th>\n",
       "      <td>2MASS J01303563-4445411</td>\n",
       "      <td>visual</td>\n",
       "      <td>M9</td>\n",
       "      <td>L6</td>\n",
       "      <td>19.0</td>\n",
       "      <td>0.5</td>\n",
       "      <td>26.0</td>\n",
       "      <td>1.0</td>\n",
       "      <td>IR-direct</td>\n",
       "      <td>Dhit11</td>\n",
       "    </tr>\n",
       "    <tr>\n",
       "      <th>2</th>\n",
       "      <td>2MASSW J0320284-044636</td>\n",
       "      <td>SB1</td>\n",
       "      <td>M8.5</td>\n",
       "      <td>T5</td>\n",
       "      <td>18.5</td>\n",
       "      <td>0.5</td>\n",
       "      <td>35.0</td>\n",
       "      <td>1.0</td>\n",
       "      <td>IR-decomp</td>\n",
       "      <td>Burg08c</td>\n",
       "    </tr>\n",
       "    <tr>\n",
       "      <th>3</th>\n",
       "      <td>DENIS-P J035726.9-441730</td>\n",
       "      <td>visual</td>\n",
       "      <td>M9</td>\n",
       "      <td>L1.5</td>\n",
       "      <td>19.0</td>\n",
       "      <td>NaN</td>\n",
       "      <td>21.5</td>\n",
       "      <td>NaN</td>\n",
       "      <td>Opt-direct</td>\n",
       "      <td>Mart06b</td>\n",
       "    </tr>\n",
       "    <tr>\n",
       "      <th>4</th>\n",
       "      <td>SDSSp J042348.57-041403.5</td>\n",
       "      <td>visual</td>\n",
       "      <td>L6.5:</td>\n",
       "      <td>T2</td>\n",
       "      <td>26.5</td>\n",
       "      <td>1.0</td>\n",
       "      <td>32.0</td>\n",
       "      <td>0.5</td>\n",
       "      <td>IR-decomp</td>\n",
       "      <td>Dupu12</td>\n",
       "    </tr>\n",
       "  </tbody>\n",
       "</table>\n",
       "</div>"
      ],
      "text/plain": [
       "                        name type_binary spt_pri spt_sec  sptnum_pri  \\\n",
       "0   SDSS J000649.16-085246.3         SB1    M8.5      T5        18.5   \n",
       "1    2MASS J01303563-4445411      visual      M9      L6        19.0   \n",
       "2     2MASSW J0320284-044636         SB1    M8.5      T5        18.5   \n",
       "3   DENIS-P J035726.9-441730      visual      M9    L1.5        19.0   \n",
       "4  SDSSp J042348.57-041403.5      visual   L6.5:      T2        26.5   \n",
       "\n",
       "   sptnumerr_pri  sptnum_sec  sptnumerr_sec spt_method_bin ref_spt_bin  \n",
       "0            0.5        35.0            1.0      IR-decomp     Burg12b  \n",
       "1            0.5        26.0            1.0      IR-direct      Dhit11  \n",
       "2            0.5        35.0            1.0      IR-decomp     Burg08c  \n",
       "3            NaN        21.5            NaN     Opt-direct     Mart06b  \n",
       "4            1.0        32.0            0.5      IR-decomp      Dupu12  "
      ]
     },
     "execution_count": 4,
     "metadata": {},
     "output_type": "execute_result"
    }
   ],
   "source": [
    "with open(r'C:/Users/juand/Research/h5_files/splatzenodo.pickle', 'rb') as f:\n",
    "        ultracs = pickle.load(f)\n",
    "with open(r'C:/Users/juand/Research/h5_files/barddf.pickle', 'rb') as f:\n",
    "        bardalez = pickle.load(f)\n",
    "confbin = pd.concat([ultracs,bardalez]).reset_index(drop=True)\n",
    "confbin.head()"
   ]
  },
  {
   "cell_type": "code",
   "execution_count": 5,
   "metadata": {},
   "outputs": [],
   "source": [
    "def classifstars(df):\n",
    "    tm = np.logical_or(np.logical_and(wave > 1.35,wave < 1.42), np.logical_and(wave > 1.8,wave < 1.95))\n",
    "    classif_G1=[]\n",
    "    classif_G2=[]\n",
    "    classif_G3=[]\n",
    "    classif_G4=[]\n",
    "    for i in range(len(df)):\n",
    "        name = findname(df.name.iloc[i])   \n",
    "        sp0= sp.getSpectrum(shortname = name)[0]    \n",
    "        wave0  = sp0.wave.value\n",
    "        flux0  = np.array(interpolate_flux_wave(wave0, sp0.flux.value, wgrid=wavegrid))\n",
    "        noise0 = interpolate_flux_wave(wave0, sp0.noise.value, wgrid=wavegrid)\n",
    "        flux0, noise0 = normalize(wave, flux0, noise0)\n",
    "        # fluxT = flux0[~tm]\n",
    "        # noiseT = noise0[~tm]\n",
    "        SNR = measureSN(wave, flux0, noise0, rng=[1.2, 1.35])\n",
    "        # fastspt = typeToNum(fast_classify(wave,flux0,noise0))\n",
    "        if SNR<50:\n",
    "            classif_G1.append(list(rf_low_G1.predict([flux0]))[0])\n",
    "            classif_G2.append(list(rf_low_G2.predict([flux0]))[0])\n",
    "            classif_G3.append(list(rf_low_G3.predict([flux0]))[0])\n",
    "            classif_G4.append(list(rf_low_G4.predict([flux0]))[0])\n",
    "        elif SNR>100:\n",
    "            classif_G1.append(list(rf_mid_G1.predict([flux0]))[0])\n",
    "            classif_G2.append(list(rf_mid_G2.predict([flux0]))[0])\n",
    "            classif_G3.append(list(rf_mid_G3.predict([flux0]))[0])\n",
    "            classif_G4.append(list(rf_mid_G4.predict([flux0]))[0])\n",
    "        else:\n",
    "            classif_G1.append(list(rf_hig_G1.predict([flux0]))[0])\n",
    "            classif_G2.append(list(rf_hig_G2.predict([flux0]))[0])\n",
    "            classif_G3.append(list(rf_hig_G3.predict([flux0]))[0])\n",
    "            classif_G4.append(list(rf_hig_G4.predict([flux0]))[0])\n",
    "    return classif_G1, classif_G2, classif_G3, classif_G4"
   ]
  },
  {
   "cell_type": "code",
   "execution_count": 6,
   "metadata": {},
   "outputs": [
    {
     "name": "stdout",
     "output_type": "stream",
     "text": [
      "\n",
      "Retrieving 1 file\n",
      "\n",
      "\n",
      "Retrieving 2 files\n",
      "\n",
      "\n",
      "Retrieving 1 file\n",
      "\n",
      "\n",
      "Retrieving 1 file\n",
      "\n",
      "\n",
      "Retrieving 2 files\n",
      "\n",
      "\n",
      "Retrieving 1 file\n",
      "\n",
      "\n",
      "Retrieving 1 file\n",
      "\n",
      "\n",
      "Retrieving 1 file\n",
      "\n",
      "\n",
      "Retrieving 1 file\n",
      "\n",
      "\n",
      "Retrieving 2 files\n",
      "\n",
      "\n",
      "Retrieving 2 files\n",
      "\n",
      "\n",
      "Retrieving 1 file\n",
      "\n",
      "\n",
      "Retrieving 3 files\n",
      "\n",
      "\n",
      "Retrieving 2 files\n",
      "\n",
      "\n",
      "Retrieving 1 file\n",
      "\n",
      "\n",
      "Retrieving 1 file\n",
      "\n",
      "\n",
      "Retrieving 1 file\n",
      "\n",
      "\n",
      "Retrieving 1 file\n",
      "\n",
      "\n",
      "Retrieving 1 file\n",
      "\n",
      "\n",
      "Retrieving 1 file\n",
      "\n",
      "\n",
      "Retrieving 2 files\n",
      "\n",
      "\n",
      "Retrieving 2 files\n",
      "\n",
      "\n",
      "Retrieving 1 file\n",
      "\n",
      "\n",
      "Retrieving 1 file\n",
      "\n",
      "\n",
      "Retrieving 1 file\n",
      "\n",
      "\n",
      "Retrieving 1 file\n",
      "\n",
      "\n",
      "Retrieving 1 file\n",
      "\n",
      "\n",
      "Retrieving 2 files\n",
      "\n",
      "\n",
      "Retrieving 2 files\n",
      "\n",
      "\n",
      "Retrieving 1 file\n",
      "\n",
      "\n",
      "Retrieving 1 file\n",
      "\n",
      "\n",
      "Retrieving 3 files\n",
      "\n",
      "\n",
      "Retrieving 1 file\n",
      "\n",
      "\n",
      "Retrieving 3 files\n",
      "\n",
      "\n",
      "Retrieving 1 file\n",
      "\n",
      "\n",
      "Retrieving 2 files\n",
      "\n",
      "\n",
      "Retrieving 3 files\n",
      "\n",
      "\n",
      "Retrieving 3 files\n",
      "\n",
      "\n",
      "Retrieving 1 file\n",
      "\n",
      "\n",
      "Retrieving 2 files\n",
      "\n",
      "\n",
      "Retrieving 2 files\n",
      "\n",
      "\n",
      "Retrieving 1 file\n",
      "\n",
      "\n",
      "Retrieving 1 file\n",
      "\n",
      "\n",
      "Retrieving 1 file\n",
      "\n",
      "\n",
      "Retrieving 1 file\n",
      "\n",
      "\n",
      "Retrieving 2 files\n",
      "\n",
      "\n",
      "Retrieving 2 files\n",
      "\n",
      "\n",
      "Retrieving 1 file\n",
      "\n",
      "\n",
      "Retrieving 1 file\n",
      "\n",
      "\n",
      "Retrieving 2 files\n",
      "\n",
      "\n",
      "Retrieving 1 file\n",
      "\n",
      "\n",
      "Retrieving 1 file\n",
      "\n",
      "\n",
      "Retrieving 2 files\n",
      "\n",
      "\n",
      "Retrieving 3 files\n",
      "\n"
     ]
    }
   ],
   "source": [
    "G1,G2,G3,G4 = classifstars(confbin)"
   ]
  },
  {
   "cell_type": "code",
   "execution_count": 7,
   "metadata": {},
   "outputs": [
    {
     "data": {
      "text/plain": [
       "0.37037037037037035"
      ]
     },
     "execution_count": 7,
     "metadata": {},
     "output_type": "execute_result"
    }
   ],
   "source": [
    "np.mean(G1)"
   ]
  },
  {
   "cell_type": "code",
   "execution_count": 8,
   "metadata": {},
   "outputs": [
    {
     "data": {
      "text/plain": [
       "0.25925925925925924"
      ]
     },
     "execution_count": 8,
     "metadata": {},
     "output_type": "execute_result"
    }
   ],
   "source": [
    "np.mean(G2)"
   ]
  },
  {
   "cell_type": "code",
   "execution_count": 9,
   "metadata": {},
   "outputs": [
    {
     "data": {
      "text/plain": [
       "0.7777777777777778"
      ]
     },
     "execution_count": 9,
     "metadata": {},
     "output_type": "execute_result"
    }
   ],
   "source": [
    "np.mean(G3)"
   ]
  },
  {
   "cell_type": "code",
   "execution_count": 10,
   "metadata": {},
   "outputs": [
    {
     "data": {
      "text/plain": [
       "0.5925925925925926"
      ]
     },
     "execution_count": 10,
     "metadata": {},
     "output_type": "execute_result"
    }
   ],
   "source": [
    "np.mean(G4)"
   ]
  },
  {
   "cell_type": "code",
   "execution_count": 12,
   "metadata": {},
   "outputs": [
    {
     "data": {
      "text/plain": [
       "54"
      ]
     },
     "execution_count": 12,
     "metadata": {},
     "output_type": "execute_result"
    }
   ],
   "source": [
    "len(G3)"
   ]
  },
  {
   "cell_type": "code",
   "execution_count": 14,
   "metadata": {},
   "outputs": [
    {
     "data": {
      "text/plain": [
       "12"
      ]
     },
     "execution_count": 14,
     "metadata": {},
     "output_type": "execute_result"
    }
   ],
   "source": [
    "G3.count(0)"
   ]
  },
  {
   "cell_type": "code",
   "execution_count": 20,
   "metadata": {},
   "outputs": [
    {
     "data": {
      "text/plain": [
       "array([ 3,  5, 18, 22, 23, 25, 30, 32, 34, 37, 39, 51], dtype=int64)"
      ]
     },
     "execution_count": 20,
     "metadata": {},
     "output_type": "execute_result"
    }
   ],
   "source": [
    "np.where(np.array(G3)==0)[0]"
   ]
  },
  {
   "cell_type": "code",
   "execution_count": 21,
   "metadata": {},
   "outputs": [
    {
     "data": {
      "text/plain": [
       "3     19.0\n",
       "5     38.5\n",
       "18    27.0\n",
       "22    35.5\n",
       "23    25.5\n",
       "25    22.5\n",
       "30    34.5\n",
       "32    36.5\n",
       "34    38.0\n",
       "37    27.0\n",
       "39    19.0\n",
       "51    22.3\n",
       "Name: sptnum_pri, dtype: float64"
      ]
     },
     "execution_count": 21,
     "metadata": {},
     "output_type": "execute_result"
    }
   ],
   "source": [
    "confbin.sptnum_pri[np.where(np.array(G3)==0)[0]]"
   ]
  },
  {
   "cell_type": "code",
   "execution_count": 28,
   "metadata": {},
   "outputs": [],
   "source": [
    "pri = np.array(confbin.sptnum_pri)\n",
    "sec = np.array(confbin.sptnum_sec)\n",
    "fpri = np.array([math.floor(i) for i in pri])\n",
    "fsec = np.array([math.floor(i) for i in sec])\n",
    "upri = unique(fpri)\n",
    "usec = unique(fsec)"
   ]
  },
  {
   "cell_type": "code",
   "execution_count": 32,
   "metadata": {},
   "outputs": [
    {
     "data": {
      "image/png": "[encoded data removed]",
      "text/plain": [
       "<Figure size 720x432 with 1 Axes>"
      ]
     },
     "metadata": {
      "needs_background": "light"
     },
     "output_type": "display_data"
    }
   ],
   "source": [
    "spts = ['M7','M8','M9','L0','L1','L2','L3','L4','L5','L6','L7','L8','L9','T0','T1','T2','T3','T4','T5','T6','T7','T8','T9']\n",
    "plt.subplots(figsize=(10,6))\n",
    "plt.grid(alpha=0.6)\n",
    "plt.xticks(list(range(17,40)),spts)\n",
    "plt.yticks(list(range(17,40)),spts)\n",
    "plt.xlim(17,40)\n",
    "plt.ylim(17,40)\n",
    "plt.xlabel('Primary',size=14)\n",
    "plt.ylabel('Secondary',size=14)\n",
    "for p in upri:\n",
    "    for s in usec:\n",
    "        classif = np.array(G3)[(fpri==p) & (fsec==s)]\n",
    "        if len(classif):\n",
    "            plt.scatter(math.floor(p),math.floor(s),s=85,alpha=np.mean(classif),c='k')\n",
    "        if len(classif)==1:\n",
    "            if (p<19)&(s>34):\n",
    "                continue\n",
    "            plt.scatter(math.floor(p),math.floor(s),facecolors='none',s=160,edgecolors='r',linewidth=3)\n",
    "        elif len(classif)>1:\n",
    "            plt.scatter(math.floor(p),math.floor(s),facecolors='none',s=160,edgecolors='b',linewidth=3)\n",
    "plt.scatter(15,15,facecolors='none',s=160,edgecolors='b',linewidth=3,label='\\nMore than 1 binary with said classification\\n')\n",
    "plt.scatter(15,15,facecolors='none',s=160,edgecolors='r',linewidth=3,label='\\nOnly 1 binary with said classification\\n')\n",
    "plt.legend(loc=4,fontsize=12)\n",
    "plt.savefig('paperfigures/confbin_classif',facecolor='white')"
   ]
  },
  {
   "cell_type": "code",
   "execution_count": 33,
   "metadata": {},
   "outputs": [
    {
     "data": {
      "text/plain": [
       "0.8750000000000001"
      ]
     },
     "execution_count": 33,
     "metadata": {},
     "output_type": "execute_result"
    }
   ],
   "source": [
    "sklearn.metrics.f1_score(np.ones(len(G3)),G3)"
   ]
  },
  {
   "cell_type": "code",
   "execution_count": 37,
   "metadata": {},
   "outputs": [
    {
     "data": {
      "text/plain": [
       "0.7777777777777778"
      ]
     },
     "execution_count": 37,
     "metadata": {},
     "output_type": "execute_result"
    }
   ],
   "source": [
    "sklearn.metrics.accuracy_score(np.ones(len(G3)),G3)"
   ]
  },
  {
   "cell_type": "code",
   "execution_count": 23,
   "metadata": {},
   "outputs": [
    {
     "data": {
      "text/plain": [
       "3     19.0\n",
       "5     38.5\n",
       "18    27.0\n",
       "22    35.5\n",
       "23    25.5\n",
       "25    22.5\n",
       "30    34.5\n",
       "32    36.5\n",
       "34    38.0\n",
       "37    27.0\n",
       "39    19.0\n",
       "51    22.3\n",
       "Name: sptnum_pri, dtype: float64"
      ]
     },
     "execution_count": 23,
     "metadata": {},
     "output_type": "execute_result"
    }
   ],
   "source": [
    "confbin.sptnum_pri[np.where(np.array(G3)==0)[0]]"
   ]
  },
  {
   "cell_type": "code",
   "execution_count": 150,
   "metadata": {},
   "outputs": [
    {
     "data": {
      "text/plain": [
       "<matplotlib.legend.Legend at 0x2d1988d0a30>"
      ]
     },
     "execution_count": 150,
     "metadata": {},
     "output_type": "execute_result"
    },
    {
     "data": {
      "image/png": "[encoded data removed]",
      "text/plain": [
       "<Figure size 720x432 with 1 Axes>"
      ]
     },
     "metadata": {
      "needs_background": "light"
     },
     "output_type": "display_data"
    }
   ],
   "source": [
    "spts = ['M7','M8','M9','L0','L1','L2','L3','L4','L5','L6','L7','L8','L9','T0','T1','T2','T3','T4','T5','T6','T7','T8','T9']\n",
    "plt.subplots(figsize=(10,6))\n",
    "plt.grid(alpha=0.65)\n",
    "plt.xticks(list(range(17,40)),spts)\n",
    "plt.yticks(list(range(17,40)),spts)\n",
    "plt.xlim(17,40)\n",
    "plt.ylim(17,40)\n",
    "plt.xlabel('Primary',size=14)\n",
    "plt.ylabel('Secondary',size=14)\n",
    "for p in upri:\n",
    "    for s in usec:\n",
    "        classif = np.array(G1)[(confbin.sptnum_pri==p) & (confbin.sptnum_sec==s)]\n",
    "        if len(classif):\n",
    "            plt.scatter(math.floor(p),math.floor(s),s=80,alpha=np.mean(classif),c='k')\n",
    "        if len(classif)==1:\n",
    "            if (p<19)&(s>34):\n",
    "                continue\n",
    "            plt.scatter(math.floor(p),math.floor(s),facecolors='none',s=160,edgecolors='r',linewidth=3)\n",
    "        elif len(classif)>1:\n",
    "            plt.scatter(math.floor(p),math.floor(s),facecolors='none',s=160,edgecolors='b',linewidth=3)\n",
    "plt.scatter(15,15,facecolors='none',s=160,edgecolors='b',linewidth=3,label='\\nMore than 1 binary with said classification\\n')\n",
    "plt.scatter(15,15,facecolors='none',s=160,edgecolors='r',linewidth=3,label='\\nOnly 1 binary with said classification\\n')\n",
    "plt.legend(loc=4,fontsize=12)"
   ]
  },
  {
   "cell_type": "code",
   "execution_count": null,
   "metadata": {},
   "outputs": [],
   "source": []
  }
 ],
 "metadata": {
  "kernelspec": {
   "display_name": "Python 3",
   "language": "python",
   "name": "python3"
  },
  "language_info": {
   "codemirror_mode": {
    "name": "ipython",
    "version": 3
   },
   "file_extension": ".py",
   "mimetype": "text/x-python",
   "name": "python",
   "nbconvert_exporter": "python",
   "pygments_lexer": "ipython3",
   "version": "3.10.1"
  },
  "orig_nbformat": 4
 },
 "nbformat": 4,
 "nbformat_minor": 2
}
