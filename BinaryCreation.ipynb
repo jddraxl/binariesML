{
 "cells": [
  {
   "cell_type": "code",
   "execution_count": 1,
   "metadata": {},
   "outputs": [],
   "source": [
    "import seaborn as sns\n",
    "from sklearn.model_selection import train_test_split, GridSearchCV\n",
    "import matplotlib.pyplot as plt\n",
    "import joblib\n",
    "import time\n",
    "import pickle"
   ]
  },
  {
   "cell_type": "code",
   "execution_count": 2,
   "metadata": {},
   "outputs": [],
   "source": [
    "from sklearn.model_selection import RandomizedSearchCV\n",
    "from scipy.stats import uniform"
   ]
  },
  {
   "cell_type": "code",
   "execution_count": 3,
   "metadata": {},
   "outputs": [],
   "source": [
    "from multioutput_functions import *"
   ]
  },
  {
   "cell_type": "code",
   "execution_count": 4,
   "metadata": {},
   "outputs": [
    {
     "data": {
      "text/html": [
       "<div>\n",
       "<style scoped>\n",
       "    .dataframe tbody tr th:only-of-type {\n",
       "        vertical-align: middle;\n",
       "    }\n",
       "\n",
       "    .dataframe tbody tr th {\n",
       "        vertical-align: top;\n",
       "    }\n",
       "\n",
       "    .dataframe thead th {\n",
       "        text-align: right;\n",
       "    }\n",
       "</style>\n",
       "<table border=\"1\" class=\"dataframe\">\n",
       "  <thead>\n",
       "    <tr style=\"text-align: right;\">\n",
       "      <th></th>\n",
       "      <th>WAVE</th>\n",
       "      <th>FLUX</th>\n",
       "      <th>UNCERTAINTY</th>\n",
       "      <th>J_SNR</th>\n",
       "      <th>SPT</th>\n",
       "    </tr>\n",
       "  </thead>\n",
       "  <tbody>\n",
       "    <tr>\n",
       "      <th>0</th>\n",
       "      <td>[0.90129393, 0.9047135, 0.9081512, 0.9116069, ...</td>\n",
       "      <td>[1.9660627713093847e-10, 2.1131039893243844e-1...</td>\n",
       "      <td>[5.982245325049133e-12, 5.755711185801827e-12,...</td>\n",
       "      <td>94.018303</td>\n",
       "      <td>M6.0</td>\n",
       "    </tr>\n",
       "    <tr>\n",
       "      <th>1</th>\n",
       "      <td>[0.90129393, 0.9047135, 0.9081512, 0.9116069, ...</td>\n",
       "      <td>[1.9950771920752281e-10, 2.079591490944689e-10...</td>\n",
       "      <td>[7.703832533018333e-13, 1.0951267822400711e-12...</td>\n",
       "      <td>386.537811</td>\n",
       "      <td>M7.0</td>\n",
       "    </tr>\n",
       "    <tr>\n",
       "      <th>2</th>\n",
       "      <td>[0.90129393, 0.9047135, 0.9081512, 0.9116069, ...</td>\n",
       "      <td>[1.9762911463072993e-10, 2.0580528498234088e-1...</td>\n",
       "      <td>[2.2989224859548107e-12, 2.3022679333025286e-1...</td>\n",
       "      <td>204.598099</td>\n",
       "      <td>M6.0</td>\n",
       "    </tr>\n",
       "    <tr>\n",
       "      <th>3</th>\n",
       "      <td>[0.90129393, 0.9047135, 0.9081512, 0.9116069, ...</td>\n",
       "      <td>[2.2878515319813078e-10, 2.370316420618723e-10...</td>\n",
       "      <td>[6.1214909391048044e-12, 6.136043777530829e-12...</td>\n",
       "      <td>91.589699</td>\n",
       "      <td>M6.0</td>\n",
       "    </tr>\n",
       "    <tr>\n",
       "      <th>4</th>\n",
       "      <td>[0.90129393, 0.9047135, 0.9081512, 0.9116069, ...</td>\n",
       "      <td>[2.0618668468240422e-10, 2.142866617637176e-10...</td>\n",
       "      <td>[1.0832266058640476e-12, 1.0976881329239517e-1...</td>\n",
       "      <td>414.787994</td>\n",
       "      <td>M6.0</td>\n",
       "    </tr>\n",
       "    <tr>\n",
       "      <th>...</th>\n",
       "      <td>...</td>\n",
       "      <td>...</td>\n",
       "      <td>...</td>\n",
       "      <td>...</td>\n",
       "      <td>...</td>\n",
       "    </tr>\n",
       "    <tr>\n",
       "      <th>1044</th>\n",
       "      <td>[0.90129393, 0.9047135, 0.9081512, 0.9116069, ...</td>\n",
       "      <td>[2.3139820970701434e-13, 1.246237555225135e-13...</td>\n",
       "      <td>[1.2961283330524777e-13, 1.2520460658453793e-1...</td>\n",
       "      <td>4.703918</td>\n",
       "      <td>T8.0</td>\n",
       "    </tr>\n",
       "    <tr>\n",
       "      <th>1045</th>\n",
       "      <td>[0.90129393, 0.9047135, 0.9081512, 0.9116069, ...</td>\n",
       "      <td>[5.244854443773445e-14, 6.580743947046151e-14,...</td>\n",
       "      <td>[3.029490952427518e-14, 2.968834229762724e-14,...</td>\n",
       "      <td>23.436972</td>\n",
       "      <td>T8.0</td>\n",
       "    </tr>\n",
       "    <tr>\n",
       "      <th>1046</th>\n",
       "      <td>[0.90129393, 0.9047135, 0.9081512, 0.9116069, ...</td>\n",
       "      <td>[-2.2614582467991454e-14, 5.872129739165835e-1...</td>\n",
       "      <td>[4.4876320743869606e-14, 4.616998222544605e-14...</td>\n",
       "      <td>13.918951</td>\n",
       "      <td>T8.0</td>\n",
       "    </tr>\n",
       "    <tr>\n",
       "      <th>1047</th>\n",
       "      <td>[0.90129393, 0.9047135, 0.9081512, 0.9116069, ...</td>\n",
       "      <td>[1.4678859815360097e-14, 1.7897430190283215e-1...</td>\n",
       "      <td>[6.009617385156795e-15, 6.170117985714561e-15,...</td>\n",
       "      <td>30.023281</td>\n",
       "      <td>T9.0</td>\n",
       "    </tr>\n",
       "    <tr>\n",
       "      <th>1048</th>\n",
       "      <td>[0.90129393, 0.9047135, 0.9081512, 0.9116069, ...</td>\n",
       "      <td>[1.3160605789392751e-14, 3.67817960550198e-14,...</td>\n",
       "      <td>[5.1670978628875254e-15, 5.171935002322336e-15...</td>\n",
       "      <td>24.918734</td>\n",
       "      <td>T9.0</td>\n",
       "    </tr>\n",
       "  </tbody>\n",
       "</table>\n",
       "<p>1049 rows × 5 columns</p>\n",
       "</div>"
      ],
      "text/plain": [
       "                                                   WAVE  \\\n",
       "0     [0.90129393, 0.9047135, 0.9081512, 0.9116069, ...   \n",
       "1     [0.90129393, 0.9047135, 0.9081512, 0.9116069, ...   \n",
       "2     [0.90129393, 0.9047135, 0.9081512, 0.9116069, ...   \n",
       "3     [0.90129393, 0.9047135, 0.9081512, 0.9116069, ...   \n",
       "4     [0.90129393, 0.9047135, 0.9081512, 0.9116069, ...   \n",
       "...                                                 ...   \n",
       "1044  [0.90129393, 0.9047135, 0.9081512, 0.9116069, ...   \n",
       "1045  [0.90129393, 0.9047135, 0.9081512, 0.9116069, ...   \n",
       "1046  [0.90129393, 0.9047135, 0.9081512, 0.9116069, ...   \n",
       "1047  [0.90129393, 0.9047135, 0.9081512, 0.9116069, ...   \n",
       "1048  [0.90129393, 0.9047135, 0.9081512, 0.9116069, ...   \n",
       "\n",
       "                                                   FLUX  \\\n",
       "0     [1.9660627713093847e-10, 2.1131039893243844e-1...   \n",
       "1     [1.9950771920752281e-10, 2.079591490944689e-10...   \n",
       "2     [1.9762911463072993e-10, 2.0580528498234088e-1...   \n",
       "3     [2.2878515319813078e-10, 2.370316420618723e-10...   \n",
       "4     [2.0618668468240422e-10, 2.142866617637176e-10...   \n",
       "...                                                 ...   \n",
       "1044  [2.3139820970701434e-13, 1.246237555225135e-13...   \n",
       "1045  [5.244854443773445e-14, 6.580743947046151e-14,...   \n",
       "1046  [-2.2614582467991454e-14, 5.872129739165835e-1...   \n",
       "1047  [1.4678859815360097e-14, 1.7897430190283215e-1...   \n",
       "1048  [1.3160605789392751e-14, 3.67817960550198e-14,...   \n",
       "\n",
       "                                            UNCERTAINTY       J_SNR   SPT  \n",
       "0     [5.982245325049133e-12, 5.755711185801827e-12,...   94.018303  M6.0  \n",
       "1     [7.703832533018333e-13, 1.0951267822400711e-12...  386.537811  M7.0  \n",
       "2     [2.2989224859548107e-12, 2.3022679333025286e-1...  204.598099  M6.0  \n",
       "3     [6.1214909391048044e-12, 6.136043777530829e-12...   91.589699  M6.0  \n",
       "4     [1.0832266058640476e-12, 1.0976881329239517e-1...  414.787994  M6.0  \n",
       "...                                                 ...         ...   ...  \n",
       "1044  [1.2961283330524777e-13, 1.2520460658453793e-1...    4.703918  T8.0  \n",
       "1045  [3.029490952427518e-14, 2.968834229762724e-14,...   23.436972  T8.0  \n",
       "1046  [4.4876320743869606e-14, 4.616998222544605e-14...   13.918951  T8.0  \n",
       "1047  [6.009617385156795e-15, 6.170117985714561e-15,...   30.023281  T9.0  \n",
       "1048  [5.1670978628875254e-15, 5.171935002322336e-15...   24.918734  T9.0  \n",
       "\n",
       "[1049 rows x 5 columns]"
      ]
     },
     "execution_count": 4,
     "metadata": {},
     "output_type": "execute_result"
    }
   ],
   "source": [
    "singles = pd.read_hdf(r'C:/Users/juand/Research/h5_files/singles_230801.h5')\n",
    "singles.drop(['OLD_SPT','MKO_J', 'MKO_H', 'MKO_K', '2MASS_J', '2MASS_H', '2MASS_KS','NAME'],axis=1,inplace=True)\n",
    "singles"
   ]
  },
  {
   "cell_type": "code",
   "execution_count": 11,
   "metadata": {},
   "outputs": [
    {
     "data": {
      "text/html": [
       "<div>\n",
       "<style scoped>\n",
       "    .dataframe tbody tr th:only-of-type {\n",
       "        vertical-align: middle;\n",
       "    }\n",
       "\n",
       "    .dataframe tbody tr th {\n",
       "        vertical-align: top;\n",
       "    }\n",
       "\n",
       "    .dataframe thead th {\n",
       "        text-align: right;\n",
       "    }\n",
       "</style>\n",
       "<table border=\"1\" class=\"dataframe\">\n",
       "  <thead>\n",
       "    <tr style=\"text-align: right;\">\n",
       "      <th></th>\n",
       "      <th>WAVE</th>\n",
       "      <th>FLUX</th>\n",
       "      <th>UNCERTAINTY</th>\n",
       "      <th>J_SNR</th>\n",
       "      <th>SPT</th>\n",
       "    </tr>\n",
       "  </thead>\n",
       "  <tbody>\n",
       "    <tr>\n",
       "      <th>1034</th>\n",
       "      <td>[0.90129393, 0.9047135, 0.9081512, 0.9116069, ...</td>\n",
       "      <td>[5.992531814725521e-14, 8.153229088137351e-14,...</td>\n",
       "      <td>[2.365739558655487e-14, 2.3023024245102725e-14...</td>\n",
       "      <td>23.753120</td>\n",
       "      <td>T8.0</td>\n",
       "    </tr>\n",
       "    <tr>\n",
       "      <th>1035</th>\n",
       "      <td>[0.90129393, 0.9047135, 0.9081512, 0.9116069, ...</td>\n",
       "      <td>[6.107506385195192e-14, 1.308809040886236e-13,...</td>\n",
       "      <td>[5.81827390623825e-14, 5.913330845726249e-14, ...</td>\n",
       "      <td>9.948225</td>\n",
       "      <td>T8.0</td>\n",
       "    </tr>\n",
       "    <tr>\n",
       "      <th>1036</th>\n",
       "      <td>[0.90129393, 0.9047135, 0.9081512, 0.9116069, ...</td>\n",
       "      <td>[6.350185402430425e-14, 1.0002727648162379e-13...</td>\n",
       "      <td>[3.885041683543297e-14, 3.834472230720199e-14,...</td>\n",
       "      <td>20.761559</td>\n",
       "      <td>T8.0</td>\n",
       "    </tr>\n",
       "    <tr>\n",
       "      <th>1037</th>\n",
       "      <td>[0.90129393, 0.9047135, 0.9081512, 0.9116069, ...</td>\n",
       "      <td>[6.811221695777367e-14, 8.196927776251384e-14,...</td>\n",
       "      <td>[1.323021589294398e-14, 1.3956771006894662e-14...</td>\n",
       "      <td>29.905622</td>\n",
       "      <td>T8.0</td>\n",
       "    </tr>\n",
       "    <tr>\n",
       "      <th>1038</th>\n",
       "      <td>[0.90129393, 0.9047135, 0.9081512, 0.9116069, ...</td>\n",
       "      <td>[1.720483464918519e-14, 6.798997350033901e-15,...</td>\n",
       "      <td>[3.916795900837194e-14, 3.836322205560747e-14,...</td>\n",
       "      <td>13.850032</td>\n",
       "      <td>T8.0</td>\n",
       "    </tr>\n",
       "    <tr>\n",
       "      <th>1039</th>\n",
       "      <td>[0.90129393, 0.9047135, 0.9081512, 0.9116069, ...</td>\n",
       "      <td>[2.619817405038807e-14, 2.80845933647059e-14, ...</td>\n",
       "      <td>[4.58722361975544e-14, 4.5880915710515514e-14,...</td>\n",
       "      <td>18.503080</td>\n",
       "      <td>T8.0</td>\n",
       "    </tr>\n",
       "    <tr>\n",
       "      <th>1041</th>\n",
       "      <td>[0.90129393, 0.9047135, 0.9081512, 0.9116069, ...</td>\n",
       "      <td>[4.831420185383553e-14, 7.650502261375031e-14,...</td>\n",
       "      <td>[1.7085210724748287e-14, 1.6370495201874362e-1...</td>\n",
       "      <td>38.312576</td>\n",
       "      <td>T8.0</td>\n",
       "    </tr>\n",
       "    <tr>\n",
       "      <th>1042</th>\n",
       "      <td>[0.90129393, 0.9047135, 0.9081512, 0.9116069, ...</td>\n",
       "      <td>[4.7812050580485913e-14, 5.542202826731689e-14...</td>\n",
       "      <td>[4.3772840812928905e-14, 4.172118298185513e-14...</td>\n",
       "      <td>13.148890</td>\n",
       "      <td>T8.0</td>\n",
       "    </tr>\n",
       "    <tr>\n",
       "      <th>1043</th>\n",
       "      <td>[0.90129393, 0.9047135, 0.9081512, 0.9116069, ...</td>\n",
       "      <td>[5.706412320424679e-14, 6.531266565215406e-14,...</td>\n",
       "      <td>[7.039858415177444e-15, 6.42097676449262e-15, ...</td>\n",
       "      <td>67.750084</td>\n",
       "      <td>T8.0</td>\n",
       "    </tr>\n",
       "    <tr>\n",
       "      <th>1044</th>\n",
       "      <td>[0.90129393, 0.9047135, 0.9081512, 0.9116069, ...</td>\n",
       "      <td>[2.3139820970701434e-13, 1.246237555225135e-13...</td>\n",
       "      <td>[1.2961283330524777e-13, 1.2520460658453793e-1...</td>\n",
       "      <td>4.703918</td>\n",
       "      <td>T8.0</td>\n",
       "    </tr>\n",
       "    <tr>\n",
       "      <th>1045</th>\n",
       "      <td>[0.90129393, 0.9047135, 0.9081512, 0.9116069, ...</td>\n",
       "      <td>[5.244854443773445e-14, 6.580743947046151e-14,...</td>\n",
       "      <td>[3.029490952427518e-14, 2.968834229762724e-14,...</td>\n",
       "      <td>23.436972</td>\n",
       "      <td>T8.0</td>\n",
       "    </tr>\n",
       "    <tr>\n",
       "      <th>1046</th>\n",
       "      <td>[0.90129393, 0.9047135, 0.9081512, 0.9116069, ...</td>\n",
       "      <td>[-2.2614582467991454e-14, 5.872129739165835e-1...</td>\n",
       "      <td>[4.4876320743869606e-14, 4.616998222544605e-14...</td>\n",
       "      <td>13.918951</td>\n",
       "      <td>T8.0</td>\n",
       "    </tr>\n",
       "    <tr>\n",
       "      <th>1047</th>\n",
       "      <td>[0.90129393, 0.9047135, 0.9081512, 0.9116069, ...</td>\n",
       "      <td>[1.4678859815360097e-14, 1.7897430190283215e-1...</td>\n",
       "      <td>[6.009617385156795e-15, 6.170117985714561e-15,...</td>\n",
       "      <td>30.023281</td>\n",
       "      <td>T9.0</td>\n",
       "    </tr>\n",
       "    <tr>\n",
       "      <th>1048</th>\n",
       "      <td>[0.90129393, 0.9047135, 0.9081512, 0.9116069, ...</td>\n",
       "      <td>[1.3160605789392751e-14, 3.67817960550198e-14,...</td>\n",
       "      <td>[5.1670978628875254e-15, 5.171935002322336e-15...</td>\n",
       "      <td>24.918734</td>\n",
       "      <td>T9.0</td>\n",
       "    </tr>\n",
       "  </tbody>\n",
       "</table>\n",
       "</div>"
      ],
      "text/plain": [
       "                                                   WAVE  \\\n",
       "1034  [0.90129393, 0.9047135, 0.9081512, 0.9116069, ...   \n",
       "1035  [0.90129393, 0.9047135, 0.9081512, 0.9116069, ...   \n",
       "1036  [0.90129393, 0.9047135, 0.9081512, 0.9116069, ...   \n",
       "1037  [0.90129393, 0.9047135, 0.9081512, 0.9116069, ...   \n",
       "1038  [0.90129393, 0.9047135, 0.9081512, 0.9116069, ...   \n",
       "1039  [0.90129393, 0.9047135, 0.9081512, 0.9116069, ...   \n",
       "1041  [0.90129393, 0.9047135, 0.9081512, 0.9116069, ...   \n",
       "1042  [0.90129393, 0.9047135, 0.9081512, 0.9116069, ...   \n",
       "1043  [0.90129393, 0.9047135, 0.9081512, 0.9116069, ...   \n",
       "1044  [0.90129393, 0.9047135, 0.9081512, 0.9116069, ...   \n",
       "1045  [0.90129393, 0.9047135, 0.9081512, 0.9116069, ...   \n",
       "1046  [0.90129393, 0.9047135, 0.9081512, 0.9116069, ...   \n",
       "1047  [0.90129393, 0.9047135, 0.9081512, 0.9116069, ...   \n",
       "1048  [0.90129393, 0.9047135, 0.9081512, 0.9116069, ...   \n",
       "\n",
       "                                                   FLUX  \\\n",
       "1034  [5.992531814725521e-14, 8.153229088137351e-14,...   \n",
       "1035  [6.107506385195192e-14, 1.308809040886236e-13,...   \n",
       "1036  [6.350185402430425e-14, 1.0002727648162379e-13...   \n",
       "1037  [6.811221695777367e-14, 8.196927776251384e-14,...   \n",
       "1038  [1.720483464918519e-14, 6.798997350033901e-15,...   \n",
       "1039  [2.619817405038807e-14, 2.80845933647059e-14, ...   \n",
       "1041  [4.831420185383553e-14, 7.650502261375031e-14,...   \n",
       "1042  [4.7812050580485913e-14, 5.542202826731689e-14...   \n",
       "1043  [5.706412320424679e-14, 6.531266565215406e-14,...   \n",
       "1044  [2.3139820970701434e-13, 1.246237555225135e-13...   \n",
       "1045  [5.244854443773445e-14, 6.580743947046151e-14,...   \n",
       "1046  [-2.2614582467991454e-14, 5.872129739165835e-1...   \n",
       "1047  [1.4678859815360097e-14, 1.7897430190283215e-1...   \n",
       "1048  [1.3160605789392751e-14, 3.67817960550198e-14,...   \n",
       "\n",
       "                                            UNCERTAINTY      J_SNR   SPT  \n",
       "1034  [2.365739558655487e-14, 2.3023024245102725e-14...  23.753120  T8.0  \n",
       "1035  [5.81827390623825e-14, 5.913330845726249e-14, ...   9.948225  T8.0  \n",
       "1036  [3.885041683543297e-14, 3.834472230720199e-14,...  20.761559  T8.0  \n",
       "1037  [1.323021589294398e-14, 1.3956771006894662e-14...  29.905622  T8.0  \n",
       "1038  [3.916795900837194e-14, 3.836322205560747e-14,...  13.850032  T8.0  \n",
       "1039  [4.58722361975544e-14, 4.5880915710515514e-14,...  18.503080  T8.0  \n",
       "1041  [1.7085210724748287e-14, 1.6370495201874362e-1...  38.312576  T8.0  \n",
       "1042  [4.3772840812928905e-14, 4.172118298185513e-14...  13.148890  T8.0  \n",
       "1043  [7.039858415177444e-15, 6.42097676449262e-15, ...  67.750084  T8.0  \n",
       "1044  [1.2961283330524777e-13, 1.2520460658453793e-1...   4.703918  T8.0  \n",
       "1045  [3.029490952427518e-14, 2.968834229762724e-14,...  23.436972  T8.0  \n",
       "1046  [4.4876320743869606e-14, 4.616998222544605e-14...  13.918951  T8.0  \n",
       "1047  [6.009617385156795e-15, 6.170117985714561e-15,...  30.023281  T9.0  \n",
       "1048  [5.1670978628875254e-15, 5.171935002322336e-15...  24.918734  T9.0  "
      ]
     },
     "execution_count": 11,
     "metadata": {},
     "output_type": "execute_result"
    }
   ],
   "source": [
    "singles[('T8.0'==singles.SPT)|('T9.0'==singles.SPT)]"
   ]
  },
  {
   "cell_type": "code",
   "execution_count": 5,
   "metadata": {},
   "outputs": [
    {
     "data": {
      "text/plain": [
       "(array([ 1.,  1.,  1.,  6.,  7., 11., 15., 23., 25., 25., 37., 35., 24.,\n",
       "        32., 25., 25., 29., 17., 21., 26., 30., 21., 27., 24., 22., 15.,\n",
       "        17., 23., 20., 16.]),\n",
       " array([5.83613848e-18, 3.33090998e+00, 6.66181997e+00, 9.99272995e+00,\n",
       "        1.33236399e+01, 1.66545499e+01, 1.99854599e+01, 2.33163699e+01,\n",
       "        2.66472799e+01, 2.99781898e+01, 3.33090998e+01, 3.66400098e+01,\n",
       "        3.99709198e+01, 4.33018298e+01, 4.66327398e+01, 4.99636497e+01,\n",
       "        5.32945597e+01, 5.66254697e+01, 5.99563797e+01, 6.32872897e+01,\n",
       "        6.66181997e+01, 6.99491096e+01, 7.32800196e+01, 7.66109296e+01,\n",
       "        7.99418396e+01, 8.32727496e+01, 8.66036596e+01, 8.99345695e+01,\n",
       "        9.32654795e+01, 9.65963895e+01, 9.99272995e+01]),\n",
       " <BarContainer object of 30 artists>)"
      ]
     },
     "execution_count": 5,
     "metadata": {},
     "output_type": "execute_result"
    },
    {
     "data": {
      "image/png": "[encoded data removed]",
      "text/plain": [
       "<Figure size 432x288 with 1 Axes>"
      ]
     },
     "metadata": {
      "needs_background": "light"
     },
     "output_type": "display_data"
    }
   ],
   "source": [
    "plt.hist(singles.J_SNR[singles.J_SNR<100],bins=30)"
   ]
  },
  {
   "cell_type": "code",
   "execution_count": 6,
   "metadata": {},
   "outputs": [],
   "source": [
    "wave = singles['WAVE'][0]\n",
    "wavegrid_list=list(wave)\n",
    "wave = np.array(wave)\n",
    "wavegrid=wave"
   ]
  },
  {
   "cell_type": "code",
   "execution_count": 7,
   "metadata": {},
   "outputs": [],
   "source": [
    "# df = pd.read_hdf(r'C:/Users/juand/Research/h5_files/standards_230801.h5').reset_index(drop=True)\n",
    "# STANDARDS = {\n",
    "#     \"WAVE\": df[\"WAVE\"].iloc[0],\n",
    "#     \"SPT\": df[\"SPT\"],\n",
    "#     \"FLUX\": df[\"FLUX\"],\n",
    "#     \"UNC\": df[\"UNCERTAINTY\"],\n",
    "# }"
   ]
  },
  {
   "cell_type": "code",
   "execution_count": 8,
   "metadata": {},
   "outputs": [
    {
     "data": {
      "text/html": [
       "<div>\n",
       "<style scoped>\n",
       "    .dataframe tbody tr th:only-of-type {\n",
       "        vertical-align: middle;\n",
       "    }\n",
       "\n",
       "    .dataframe tbody tr th {\n",
       "        vertical-align: top;\n",
       "    }\n",
       "\n",
       "    .dataframe thead th {\n",
       "        text-align: right;\n",
       "    }\n",
       "</style>\n",
       "<table border=\"1\" class=\"dataframe\">\n",
       "  <thead>\n",
       "    <tr style=\"text-align: right;\">\n",
       "      <th></th>\n",
       "      <th>WAVE</th>\n",
       "      <th>FLUX</th>\n",
       "      <th>UNCERTAINTY</th>\n",
       "      <th>J_SNR</th>\n",
       "      <th>SPT</th>\n",
       "      <th>SPT_NUM</th>\n",
       "    </tr>\n",
       "  </thead>\n",
       "  <tbody>\n",
       "    <tr>\n",
       "      <th>0</th>\n",
       "      <td>[0.90129393, 0.9047135, 0.9081512, 0.9116069, ...</td>\n",
       "      <td>[1.9660627713093847e-10, 2.1131039893243844e-1...</td>\n",
       "      <td>[5.982245325049133e-12, 5.755711185801827e-12,...</td>\n",
       "      <td>94.018303</td>\n",
       "      <td>M6.0</td>\n",
       "      <td>16.0</td>\n",
       "    </tr>\n",
       "    <tr>\n",
       "      <th>1</th>\n",
       "      <td>[0.90129393, 0.9047135, 0.9081512, 0.9116069, ...</td>\n",
       "      <td>[1.9950771920752281e-10, 2.079591490944689e-10...</td>\n",
       "      <td>[7.703832533018333e-13, 1.0951267822400711e-12...</td>\n",
       "      <td>386.537811</td>\n",
       "      <td>M7.0</td>\n",
       "      <td>17.0</td>\n",
       "    </tr>\n",
       "    <tr>\n",
       "      <th>2</th>\n",
       "      <td>[0.90129393, 0.9047135, 0.9081512, 0.9116069, ...</td>\n",
       "      <td>[1.9762911463072993e-10, 2.0580528498234088e-1...</td>\n",
       "      <td>[2.2989224859548107e-12, 2.3022679333025286e-1...</td>\n",
       "      <td>204.598099</td>\n",
       "      <td>M6.0</td>\n",
       "      <td>16.0</td>\n",
       "    </tr>\n",
       "    <tr>\n",
       "      <th>3</th>\n",
       "      <td>[0.90129393, 0.9047135, 0.9081512, 0.9116069, ...</td>\n",
       "      <td>[2.2878515319813078e-10, 2.370316420618723e-10...</td>\n",
       "      <td>[6.1214909391048044e-12, 6.136043777530829e-12...</td>\n",
       "      <td>91.589699</td>\n",
       "      <td>M6.0</td>\n",
       "      <td>16.0</td>\n",
       "    </tr>\n",
       "    <tr>\n",
       "      <th>4</th>\n",
       "      <td>[0.90129393, 0.9047135, 0.9081512, 0.9116069, ...</td>\n",
       "      <td>[2.0618668468240422e-10, 2.142866617637176e-10...</td>\n",
       "      <td>[1.0832266058640476e-12, 1.0976881329239517e-1...</td>\n",
       "      <td>414.787994</td>\n",
       "      <td>M6.0</td>\n",
       "      <td>16.0</td>\n",
       "    </tr>\n",
       "    <tr>\n",
       "      <th>...</th>\n",
       "      <td>...</td>\n",
       "      <td>...</td>\n",
       "      <td>...</td>\n",
       "      <td>...</td>\n",
       "      <td>...</td>\n",
       "      <td>...</td>\n",
       "    </tr>\n",
       "    <tr>\n",
       "      <th>1041</th>\n",
       "      <td>[0.90129393, 0.9047135, 0.9081512, 0.9116069, ...</td>\n",
       "      <td>[2.3139820970701434e-13, 1.246237555225135e-13...</td>\n",
       "      <td>[1.2961283330524777e-13, 1.2520460658453793e-1...</td>\n",
       "      <td>4.703918</td>\n",
       "      <td>T8.0</td>\n",
       "      <td>38.0</td>\n",
       "    </tr>\n",
       "    <tr>\n",
       "      <th>1042</th>\n",
       "      <td>[0.90129393, 0.9047135, 0.9081512, 0.9116069, ...</td>\n",
       "      <td>[5.244854443773445e-14, 6.580743947046151e-14,...</td>\n",
       "      <td>[3.029490952427518e-14, 2.968834229762724e-14,...</td>\n",
       "      <td>23.436972</td>\n",
       "      <td>T8.0</td>\n",
       "      <td>38.0</td>\n",
       "    </tr>\n",
       "    <tr>\n",
       "      <th>1043</th>\n",
       "      <td>[0.90129393, 0.9047135, 0.9081512, 0.9116069, ...</td>\n",
       "      <td>[-2.2614582467991454e-14, 5.872129739165835e-1...</td>\n",
       "      <td>[4.4876320743869606e-14, 4.616998222544605e-14...</td>\n",
       "      <td>13.918951</td>\n",
       "      <td>T8.0</td>\n",
       "      <td>38.0</td>\n",
       "    </tr>\n",
       "    <tr>\n",
       "      <th>1044</th>\n",
       "      <td>[0.90129393, 0.9047135, 0.9081512, 0.9116069, ...</td>\n",
       "      <td>[1.4678859815360097e-14, 1.7897430190283215e-1...</td>\n",
       "      <td>[6.009617385156795e-15, 6.170117985714561e-15,...</td>\n",
       "      <td>30.023281</td>\n",
       "      <td>T9.0</td>\n",
       "      <td>39.0</td>\n",
       "    </tr>\n",
       "    <tr>\n",
       "      <th>1045</th>\n",
       "      <td>[0.90129393, 0.9047135, 0.9081512, 0.9116069, ...</td>\n",
       "      <td>[1.3160605789392751e-14, 3.67817960550198e-14,...</td>\n",
       "      <td>[5.1670978628875254e-15, 5.171935002322336e-15...</td>\n",
       "      <td>24.918734</td>\n",
       "      <td>T9.0</td>\n",
       "      <td>39.0</td>\n",
       "    </tr>\n",
       "  </tbody>\n",
       "</table>\n",
       "<p>1046 rows × 6 columns</p>\n",
       "</div>"
      ],
      "text/plain": [
       "                                                   WAVE  \\\n",
       "0     [0.90129393, 0.9047135, 0.9081512, 0.9116069, ...   \n",
       "1     [0.90129393, 0.9047135, 0.9081512, 0.9116069, ...   \n",
       "2     [0.90129393, 0.9047135, 0.9081512, 0.9116069, ...   \n",
       "3     [0.90129393, 0.9047135, 0.9081512, 0.9116069, ...   \n",
       "4     [0.90129393, 0.9047135, 0.9081512, 0.9116069, ...   \n",
       "...                                                 ...   \n",
       "1041  [0.90129393, 0.9047135, 0.9081512, 0.9116069, ...   \n",
       "1042  [0.90129393, 0.9047135, 0.9081512, 0.9116069, ...   \n",
       "1043  [0.90129393, 0.9047135, 0.9081512, 0.9116069, ...   \n",
       "1044  [0.90129393, 0.9047135, 0.9081512, 0.9116069, ...   \n",
       "1045  [0.90129393, 0.9047135, 0.9081512, 0.9116069, ...   \n",
       "\n",
       "                                                   FLUX  \\\n",
       "0     [1.9660627713093847e-10, 2.1131039893243844e-1...   \n",
       "1     [1.9950771920752281e-10, 2.079591490944689e-10...   \n",
       "2     [1.9762911463072993e-10, 2.0580528498234088e-1...   \n",
       "3     [2.2878515319813078e-10, 2.370316420618723e-10...   \n",
       "4     [2.0618668468240422e-10, 2.142866617637176e-10...   \n",
       "...                                                 ...   \n",
       "1041  [2.3139820970701434e-13, 1.246237555225135e-13...   \n",
       "1042  [5.244854443773445e-14, 6.580743947046151e-14,...   \n",
       "1043  [-2.2614582467991454e-14, 5.872129739165835e-1...   \n",
       "1044  [1.4678859815360097e-14, 1.7897430190283215e-1...   \n",
       "1045  [1.3160605789392751e-14, 3.67817960550198e-14,...   \n",
       "\n",
       "                                            UNCERTAINTY       J_SNR   SPT  \\\n",
       "0     [5.982245325049133e-12, 5.755711185801827e-12,...   94.018303  M6.0   \n",
       "1     [7.703832533018333e-13, 1.0951267822400711e-12...  386.537811  M7.0   \n",
       "2     [2.2989224859548107e-12, 2.3022679333025286e-1...  204.598099  M6.0   \n",
       "3     [6.1214909391048044e-12, 6.136043777530829e-12...   91.589699  M6.0   \n",
       "4     [1.0832266058640476e-12, 1.0976881329239517e-1...  414.787994  M6.0   \n",
       "...                                                 ...         ...   ...   \n",
       "1041  [1.2961283330524777e-13, 1.2520460658453793e-1...    4.703918  T8.0   \n",
       "1042  [3.029490952427518e-14, 2.968834229762724e-14,...   23.436972  T8.0   \n",
       "1043  [4.4876320743869606e-14, 4.616998222544605e-14...   13.918951  T8.0   \n",
       "1044  [6.009617385156795e-15, 6.170117985714561e-15,...   30.023281  T9.0   \n",
       "1045  [5.1670978628875254e-15, 5.171935002322336e-15...   24.918734  T9.0   \n",
       "\n",
       "      SPT_NUM  \n",
       "0        16.0  \n",
       "1        17.0  \n",
       "2        16.0  \n",
       "3        16.0  \n",
       "4        16.0  \n",
       "...       ...  \n",
       "1041     38.0  \n",
       "1042     38.0  \n",
       "1043     38.0  \n",
       "1044     39.0  \n",
       "1045     39.0  \n",
       "\n",
       "[1046 rows x 6 columns]"
      ]
     },
     "execution_count": 8,
     "metadata": {},
     "output_type": "execute_result"
    }
   ],
   "source": [
    "typenum=[]\n",
    "for i in range(len(singles)):\n",
    "    typenum.append(typeToNum(singles['SPT'][i]))\n",
    "singles['SPT_NUM']=typenum\n",
    "singles = singles.loc[singles['SPT_NUM']>15*np.ones(len(singles))]\n",
    "singles = singles.reset_index(drop=True)\n",
    "singles"
   ]
  },
  {
   "cell_type": "code",
   "execution_count": 9,
   "metadata": {},
   "outputs": [
    {
     "data": {
      "image/png": "[encoded data removed]",
      "text/plain": [
       "<Figure size 432x288 with 1 Axes>"
      ]
     },
     "metadata": {
      "needs_background": "light"
     },
     "output_type": "display_data"
    }
   ],
   "source": [
    "newsnr=[]\n",
    "for i in range(len(singles)):\n",
    "    flux=singles['FLUX'][i]\n",
    "    uncer=singles['UNCERTAINTY'][i]\n",
    "    newsnr.append(measureSN(wave,flux,uncer))\n",
    "singles['J_SNR_2']=newsnr\n",
    "plt.hist(singles.J_SNR_2[singles.J_SNR_2<100],bins=30)\n",
    "singles.drop(['J_SNR_2'],axis=1,inplace=True)"
   ]
  },
  {
   "cell_type": "code",
   "execution_count": 10,
   "metadata": {},
   "outputs": [],
   "source": [
    "snrclass=[]\n",
    "for i in range(len(singles)):\n",
    "    snrQ = singles['J_SNR'][i]\n",
    "    if snrQ<50:\n",
    "        snrclass.append('low')\n",
    "    elif (snrQ>=50)&(snrQ<100):\n",
    "        snrclass.append('mid')\n",
    "    else:\n",
    "        snrclass.append('hig')\n",
    "singles['SNR_CLASS']=snrclass"
   ]
  },
  {
   "cell_type": "code",
   "execution_count": 11,
   "metadata": {},
   "outputs": [],
   "source": [
    "drop_unc = []\n",
    "for position, uncertainty_i in enumerate(np.array(singles['UNCERTAINTY'])):\n",
    "    if np.any(uncertainty_i<=0)|np.any(np.isnan(uncertainty_i))|np.any(np.isinf(uncertainty_i)):\n",
    "        drop_unc.append(position)\n",
    "singles = singles.drop(drop_unc).reset_index(drop=True)"
   ]
  },
  {
   "cell_type": "code",
   "execution_count": 12,
   "metadata": {},
   "outputs": [
    {
     "data": {
      "text/html": [
       "<div>\n",
       "<style scoped>\n",
       "    .dataframe tbody tr th:only-of-type {\n",
       "        vertical-align: middle;\n",
       "    }\n",
       "\n",
       "    .dataframe tbody tr th {\n",
       "        vertical-align: top;\n",
       "    }\n",
       "\n",
       "    .dataframe thead th {\n",
       "        text-align: right;\n",
       "    }\n",
       "</style>\n",
       "<table border=\"1\" class=\"dataframe\">\n",
       "  <thead>\n",
       "    <tr style=\"text-align: right;\">\n",
       "      <th></th>\n",
       "      <th>WAVE</th>\n",
       "      <th>FLUX</th>\n",
       "      <th>UNCERTAINTY</th>\n",
       "      <th>J_SNR</th>\n",
       "      <th>SPT</th>\n",
       "      <th>SPT_NUM</th>\n",
       "      <th>SNR_CLASS</th>\n",
       "    </tr>\n",
       "  </thead>\n",
       "  <tbody>\n",
       "    <tr>\n",
       "      <th>0</th>\n",
       "      <td>[0.90129393, 0.9047135, 0.9081512, 0.9116069, ...</td>\n",
       "      <td>[1.9660627713093847e-10, 2.1131039893243844e-1...</td>\n",
       "      <td>[5.982245325049133e-12, 5.755711185801827e-12,...</td>\n",
       "      <td>94.018303</td>\n",
       "      <td>M6.0</td>\n",
       "      <td>16.0</td>\n",
       "      <td>mid</td>\n",
       "    </tr>\n",
       "    <tr>\n",
       "      <th>1</th>\n",
       "      <td>[0.90129393, 0.9047135, 0.9081512, 0.9116069, ...</td>\n",
       "      <td>[1.9950771920752281e-10, 2.079591490944689e-10...</td>\n",
       "      <td>[7.703832533018333e-13, 1.0951267822400711e-12...</td>\n",
       "      <td>386.537811</td>\n",
       "      <td>M7.0</td>\n",
       "      <td>17.0</td>\n",
       "      <td>hig</td>\n",
       "    </tr>\n",
       "    <tr>\n",
       "      <th>2</th>\n",
       "      <td>[0.90129393, 0.9047135, 0.9081512, 0.9116069, ...</td>\n",
       "      <td>[1.9762911463072993e-10, 2.0580528498234088e-1...</td>\n",
       "      <td>[2.2989224859548107e-12, 2.3022679333025286e-1...</td>\n",
       "      <td>204.598099</td>\n",
       "      <td>M6.0</td>\n",
       "      <td>16.0</td>\n",
       "      <td>hig</td>\n",
       "    </tr>\n",
       "    <tr>\n",
       "      <th>3</th>\n",
       "      <td>[0.90129393, 0.9047135, 0.9081512, 0.9116069, ...</td>\n",
       "      <td>[2.2878515319813078e-10, 2.370316420618723e-10...</td>\n",
       "      <td>[6.1214909391048044e-12, 6.136043777530829e-12...</td>\n",
       "      <td>91.589699</td>\n",
       "      <td>M6.0</td>\n",
       "      <td>16.0</td>\n",
       "      <td>mid</td>\n",
       "    </tr>\n",
       "    <tr>\n",
       "      <th>4</th>\n",
       "      <td>[0.90129393, 0.9047135, 0.9081512, 0.9116069, ...</td>\n",
       "      <td>[2.0618668468240422e-10, 2.142866617637176e-10...</td>\n",
       "      <td>[1.0832266058640476e-12, 1.0976881329239517e-1...</td>\n",
       "      <td>414.787994</td>\n",
       "      <td>M6.0</td>\n",
       "      <td>16.0</td>\n",
       "      <td>hig</td>\n",
       "    </tr>\n",
       "    <tr>\n",
       "      <th>...</th>\n",
       "      <td>...</td>\n",
       "      <td>...</td>\n",
       "      <td>...</td>\n",
       "      <td>...</td>\n",
       "      <td>...</td>\n",
       "      <td>...</td>\n",
       "      <td>...</td>\n",
       "    </tr>\n",
       "    <tr>\n",
       "      <th>1018</th>\n",
       "      <td>[0.90129393, 0.9047135, 0.9081512, 0.9116069, ...</td>\n",
       "      <td>[2.3139820970701434e-13, 1.246237555225135e-13...</td>\n",
       "      <td>[1.2961283330524777e-13, 1.2520460658453793e-1...</td>\n",
       "      <td>4.703918</td>\n",
       "      <td>T8.0</td>\n",
       "      <td>38.0</td>\n",
       "      <td>low</td>\n",
       "    </tr>\n",
       "    <tr>\n",
       "      <th>1019</th>\n",
       "      <td>[0.90129393, 0.9047135, 0.9081512, 0.9116069, ...</td>\n",
       "      <td>[5.244854443773445e-14, 6.580743947046151e-14,...</td>\n",
       "      <td>[3.029490952427518e-14, 2.968834229762724e-14,...</td>\n",
       "      <td>23.436972</td>\n",
       "      <td>T8.0</td>\n",
       "      <td>38.0</td>\n",
       "      <td>low</td>\n",
       "    </tr>\n",
       "    <tr>\n",
       "      <th>1020</th>\n",
       "      <td>[0.90129393, 0.9047135, 0.9081512, 0.9116069, ...</td>\n",
       "      <td>[-2.2614582467991454e-14, 5.872129739165835e-1...</td>\n",
       "      <td>[4.4876320743869606e-14, 4.616998222544605e-14...</td>\n",
       "      <td>13.918951</td>\n",
       "      <td>T8.0</td>\n",
       "      <td>38.0</td>\n",
       "      <td>low</td>\n",
       "    </tr>\n",
       "    <tr>\n",
       "      <th>1021</th>\n",
       "      <td>[0.90129393, 0.9047135, 0.9081512, 0.9116069, ...</td>\n",
       "      <td>[1.4678859815360097e-14, 1.7897430190283215e-1...</td>\n",
       "      <td>[6.009617385156795e-15, 6.170117985714561e-15,...</td>\n",
       "      <td>30.023281</td>\n",
       "      <td>T9.0</td>\n",
       "      <td>39.0</td>\n",
       "      <td>low</td>\n",
       "    </tr>\n",
       "    <tr>\n",
       "      <th>1022</th>\n",
       "      <td>[0.90129393, 0.9047135, 0.9081512, 0.9116069, ...</td>\n",
       "      <td>[1.3160605789392751e-14, 3.67817960550198e-14,...</td>\n",
       "      <td>[5.1670978628875254e-15, 5.171935002322336e-15...</td>\n",
       "      <td>24.918734</td>\n",
       "      <td>T9.0</td>\n",
       "      <td>39.0</td>\n",
       "      <td>low</td>\n",
       "    </tr>\n",
       "  </tbody>\n",
       "</table>\n",
       "<p>1023 rows × 7 columns</p>\n",
       "</div>"
      ],
      "text/plain": [
       "                                                   WAVE  \\\n",
       "0     [0.90129393, 0.9047135, 0.9081512, 0.9116069, ...   \n",
       "1     [0.90129393, 0.9047135, 0.9081512, 0.9116069, ...   \n",
       "2     [0.90129393, 0.9047135, 0.9081512, 0.9116069, ...   \n",
       "3     [0.90129393, 0.9047135, 0.9081512, 0.9116069, ...   \n",
       "4     [0.90129393, 0.9047135, 0.9081512, 0.9116069, ...   \n",
       "...                                                 ...   \n",
       "1018  [0.90129393, 0.9047135, 0.9081512, 0.9116069, ...   \n",
       "1019  [0.90129393, 0.9047135, 0.9081512, 0.9116069, ...   \n",
       "1020  [0.90129393, 0.9047135, 0.9081512, 0.9116069, ...   \n",
       "1021  [0.90129393, 0.9047135, 0.9081512, 0.9116069, ...   \n",
       "1022  [0.90129393, 0.9047135, 0.9081512, 0.9116069, ...   \n",
       "\n",
       "                                                   FLUX  \\\n",
       "0     [1.9660627713093847e-10, 2.1131039893243844e-1...   \n",
       "1     [1.9950771920752281e-10, 2.079591490944689e-10...   \n",
       "2     [1.9762911463072993e-10, 2.0580528498234088e-1...   \n",
       "3     [2.2878515319813078e-10, 2.370316420618723e-10...   \n",
       "4     [2.0618668468240422e-10, 2.142866617637176e-10...   \n",
       "...                                                 ...   \n",
       "1018  [2.3139820970701434e-13, 1.246237555225135e-13...   \n",
       "1019  [5.244854443773445e-14, 6.580743947046151e-14,...   \n",
       "1020  [-2.2614582467991454e-14, 5.872129739165835e-1...   \n",
       "1021  [1.4678859815360097e-14, 1.7897430190283215e-1...   \n",
       "1022  [1.3160605789392751e-14, 3.67817960550198e-14,...   \n",
       "\n",
       "                                            UNCERTAINTY       J_SNR   SPT  \\\n",
       "0     [5.982245325049133e-12, 5.755711185801827e-12,...   94.018303  M6.0   \n",
       "1     [7.703832533018333e-13, 1.0951267822400711e-12...  386.537811  M7.0   \n",
       "2     [2.2989224859548107e-12, 2.3022679333025286e-1...  204.598099  M6.0   \n",
       "3     [6.1214909391048044e-12, 6.136043777530829e-12...   91.589699  M6.0   \n",
       "4     [1.0832266058640476e-12, 1.0976881329239517e-1...  414.787994  M6.0   \n",
       "...                                                 ...         ...   ...   \n",
       "1018  [1.2961283330524777e-13, 1.2520460658453793e-1...    4.703918  T8.0   \n",
       "1019  [3.029490952427518e-14, 2.968834229762724e-14,...   23.436972  T8.0   \n",
       "1020  [4.4876320743869606e-14, 4.616998222544605e-14...   13.918951  T8.0   \n",
       "1021  [6.009617385156795e-15, 6.170117985714561e-15,...   30.023281  T9.0   \n",
       "1022  [5.1670978628875254e-15, 5.171935002322336e-15...   24.918734  T9.0   \n",
       "\n",
       "      SPT_NUM SNR_CLASS  \n",
       "0        16.0       mid  \n",
       "1        17.0       hig  \n",
       "2        16.0       hig  \n",
       "3        16.0       mid  \n",
       "4        16.0       hig  \n",
       "...       ...       ...  \n",
       "1018     38.0       low  \n",
       "1019     38.0       low  \n",
       "1020     38.0       low  \n",
       "1021     39.0       low  \n",
       "1022     39.0       low  \n",
       "\n",
       "[1023 rows x 7 columns]"
      ]
     },
     "execution_count": 12,
     "metadata": {},
     "output_type": "execute_result"
    }
   ],
   "source": [
    "singles"
   ]
  },
  {
   "cell_type": "code",
   "execution_count": 13,
   "metadata": {},
   "outputs": [],
   "source": [
    "start = time.time()\n",
    "flux_cols_dic = {}\n",
    "for j in range(len(singles['FLUX'][0])):\n",
    "    fluxcol=[]\n",
    "    for i in range(len(singles)):\n",
    "        fluxcol.append(singles['FLUX'][i][j])\n",
    "    fluxname='FLUX_'+str(j)\n",
    "    flux_cols_dic[fluxname] = fluxcol\n",
    "flux_cols_df = pd.DataFrame(flux_cols_dic)\n",
    "singles = pd.concat([singles, flux_cols_df], axis=1)\n",
    "\n",
    "singles = singles.sort_values(by=['SPT_NUM','J_SNR'], ascending=[True,False])\n",
    "singles.reset_index(drop=True, inplace=True)\n",
    "end = time.time()"
   ]
  },
  {
   "cell_type": "code",
   "execution_count": null,
   "metadata": {},
   "outputs": [],
   "source": []
  },
  {
   "cell_type": "code",
   "execution_count": 35,
   "metadata": {},
   "outputs": [],
   "source": [
    "def _binaryCreation_hig(singles_df, target, snr_range='hig', fluxSeparate=False, difference=False):\n",
    "\n",
    "    \"\"\"\n",
    "    Creates binaries out of single stars by combining the spectra and adding noise and distributes them equally\n",
    "    Parameters\n",
    "    ----------\n",
    "    singles_df : pandas dataframe of single stars\n",
    "                    pandas table containing the following columns: ['FLUX', 'UNCERTAINTY', 'J_SNR', 'SPT', 'WAVEGRID', 'SPT_NUM', 'SNR_CLASS']\n",
    "    target : float\n",
    "                    desired number of combinations per type\n",
    "    \n",
    "    snr_range : float, default='low'\n",
    "                    desired snr for the binaries\n",
    "                    low is from 0-50\n",
    "                    mid is from 50-100\n",
    "                    hig is larger than 100\n",
    "    fluxSeparate : bool, default = False\n",
    "                    separate the flux in each individual flux value per column\n",
    "                    recommended: True\n",
    "                    it allows to use the created dataframe to make a multioutput regressor\n",
    "    Returns\n",
    "    -------\n",
    "    pandas dataframe\n",
    "    \"\"\"\n",
    "\n",
    "    starttime = time.time()\n",
    "    uppersnr = 100000\n",
    "    lowersnr = 100\n",
    "    dataframe = singles_df.loc[singles_df['J_SNR']>=lowersnr*np.ones(len(singles_df))]\n",
    "    dataframe.reset_index(drop=True, inplace=True)\n",
    "    \n",
    "\n",
    "    fluxes=[]\n",
    "    noises=[]\n",
    "    primaries=[]\n",
    "    secondaries=[]\n",
    "    snr_list=[]\n",
    "    differences=[]\n",
    "    for j in range(16,40):\n",
    "        print(j)\n",
    "        print(time.time() - starttime)\n",
    "        if len(dataframe.loc[dataframe['SPT_NUM'] == j]) == 0:\n",
    "            continue    # continue here\n",
    "\n",
    "        for k in range(j,40):\n",
    "            if len(dataframe.loc[dataframe['SPT_NUM'] == k]) == 0:\n",
    "                    continue\n",
    "            \n",
    "            for i in range(0,target):\n",
    "                nanvalues=1\n",
    "                snr3=-1\n",
    "                while (nanvalues!=0)|(lowersnr>snr3)|(uppersnr<snr3)|(snr3>uppersnr):\n",
    "                    m1 = random.randint(0,len(dataframe.loc[dataframe['SPT_NUM'] == j])-1)\n",
    "                    n1 = random.randint(0,len(dataframe.loc[dataframe['SPT_NUM'] == k])-1)\n",
    "                    flux1 = np.array(dataframe.loc[dataframe['SPT_NUM'] == j].reset_index(drop=True)['FLUX'][m1])\n",
    "                    unc1  = np.array(dataframe.loc[dataframe['SPT_NUM'] == j].reset_index(drop=True)['UNCERTAINTY'][m1])\n",
    "                    flux2 = np.array(dataframe.loc[dataframe['SPT_NUM'] == k].reset_index(drop=True)['FLUX'][n1])\n",
    "                    unc2  = np.array(dataframe.loc[dataframe['SPT_NUM'] == k].reset_index(drop=True)['UNCERTAINTY'][n1])\n",
    "\n",
    "                    flux1, unc1 = addNoise(flux1, unc1, scale=1)\n",
    "                    flux2, unc2 = addNoise(flux2, unc2, scale=1)\n",
    "\n",
    "                    combstar_dic = combine_two_spex_spectra(flux1, unc1, flux2, unc2)\n",
    "                    flux3 = np.array(combstar_dic[\"system_interpolated_flux\"])\n",
    "                    unc3  = np.array(combstar_dic[\"system_interpolated_noise\"])\n",
    "                    snr3 = measureSN(dataframe['WAVE'][0], flux3, unc3)\n",
    "                    if uppersnr<snr3:\n",
    "                        start = snr3/uppersnr\n",
    "                        if start<1:\n",
    "                            start=1\n",
    "                        finish = random.random()*(snr3-uppersnr)+uppersnr*random.random()*random.random()*random.random()*random.random()*random.random()\n",
    "                        if lowersnr!=0:\n",
    "                            finish = snr3/lowersnr\n",
    "                        noisescale = np.abs(random.random()*(finish-start)+start*random.random())\n",
    "                        flux3, unc3 = addNoise(flux3,unc3, scale=noisescale)\n",
    "                        snr3 = measureSN(dataframe['WAVE'][0], flux3, unc3)\n",
    "\n",
    "                    # check nans\n",
    "                    nanvalues=np.sum(np.isnan(flux3)) + np.sum(np.isnan(unc3)) + np.sum(np.isnan(snr3))\n",
    "                fluxes.append(flux3)\n",
    "                noises.append(unc3)\n",
    "                primaries.append(j)\n",
    "                secondaries.append(k)\n",
    "                snr_list.append(snr3)\n",
    "                if difference==True:\n",
    "                    diff3 = np.array(combstar_dic[\"difference_spectrum\"])\n",
    "                    differences.append(diff3)\n",
    "            \n",
    "    d = {\"system_interpolated_flux\": fluxes,\n",
    "        \"system_interpolated_noise\": noises,\n",
    "        \"primary_type\": primaries,\n",
    "        \"secondary_type\": secondaries,\n",
    "        \"J_SNR\": snr_list,\n",
    "        \"SNR_CLASS\": snr_range,\n",
    "        \"WAVE\": [dataframe['WAVE'][0] for i in range(len(fluxes))]\n",
    "        }\n",
    "    if difference==True:\n",
    "        d[\"difference_spectrum\"]=differences\n",
    "    BinDF = pd.DataFrame(d)\n",
    "\n",
    "    if fluxSeparate==True:\n",
    "        flux_cols_dic = {}\n",
    "        for j in range(len(BinDF['system_interpolated_flux'][0])):\n",
    "            fluxcol=[]\n",
    "            for i in range(len(BinDF)):\n",
    "                fluxcol.append(BinDF['system_interpolated_flux'][i][j])\n",
    "            fluxname='flux_'+str(j)\n",
    "            flux_cols_dic[fluxname] = fluxcol\n",
    "        flux_cols_df = pd.DataFrame(flux_cols_dic)\n",
    "        BinDF = pd.concat([BinDF, flux_cols_df], axis=1)\n",
    "\n",
    "        if difference==True:\n",
    "            diff_cols_dic = {}\n",
    "            for j in range(len(BinDF['difference_spectrum'][0])):\n",
    "                diffcol=[]\n",
    "                for i in range(len(BinDF)):\n",
    "                    diffcol.append(BinDF['difference_spectrum'][i][j])\n",
    "                diffname='diff_'+str(j)\n",
    "                diff_cols_dic[diffname] = diffcol\n",
    "            diff_cols_df = pd.DataFrame(diff_cols_dic)\n",
    "            BinDF = pd.concat([BinDF, diff_cols_df], axis=1)\n",
    "    \n",
    "    return BinDF"
   ]
  },
  {
   "cell_type": "code",
   "execution_count": 30,
   "metadata": {},
   "outputs": [],
   "source": [
    "def binaryCreation(singles_df, target, snr_range='low', fluxSeparate=False, difference=False):\n",
    "\n",
    "    \"\"\"\n",
    "    Creates binaries out of single stars by combining the spectra and adding noise and distributes them equally\n",
    "    Parameters\n",
    "    ----------\n",
    "    singles_df : pandas dataframe of single stars\n",
    "                    pandas table containing the following columns: ['FLUX', 'UNCERTAINTY', 'J_SNR', 'SPT', 'WAVEGRID', 'SPT_NUM', 'SNR_CLASS']\n",
    "    target : float\n",
    "                    desired number of combinations per type\n",
    "    \n",
    "    snr_range : float, default='low'\n",
    "                    desired snr for the binaries\n",
    "                    low is from 0-50\n",
    "                    mid is from 50-100\n",
    "                    hig is larger than 100\n",
    "    fluxSeparate : bool, default = False\n",
    "                    separate the flux in each individual flux value per column\n",
    "                    recommended: True\n",
    "                    it allows to use the created dataframe to make a multioutput regressor\n",
    "    Returns\n",
    "    -------\n",
    "    pandas dataframe\n",
    "    \"\"\"\n",
    "\n",
    "    starttime = time.time()\n",
    "\n",
    "    buildingblocks = 50\n",
    "    if snr_range=='low':\n",
    "        uppersnr = 50\n",
    "        lowersnr = 0\n",
    "        dataframe = singles_df.loc[singles_df['J_SNR']>=lowersnr*np.ones(len(singles_df))]\n",
    "        dataframe.reset_index(drop=True, inplace=True)\n",
    "    elif snr_range=='mid':\n",
    "        uppersnr = 100\n",
    "        lowersnr = 50\n",
    "        dataframe = singles_df.loc[singles_df['J_SNR']>=lowersnr*np.ones(len(singles_df))]\n",
    "        dataframe.reset_index(drop=True, inplace=True)\n",
    "    elif snr_range=='hig':\n",
    "        return _binaryCreation_hig(singles_df,target)\n",
    "    else:\n",
    "        return print('Not a valid entry for the snr_range. Chose between \"low\", \"mid\", \"hig\".')    \n",
    "    \n",
    "    smalltarget = int(target/buildingblocks)\n",
    "    step = (uppersnr-lowersnr)/buildingblocks\n",
    "    up = step + lowersnr\n",
    "    lo = lowersnr\n",
    "\n",
    "    fluxes=[]\n",
    "    noises=[]\n",
    "    primaries=[]\n",
    "    secondaries=[]\n",
    "    snr_list=[]\n",
    "    differences=[]\n",
    "    for stp in range(buildingblocks):\n",
    "        upper = up + step*stp\n",
    "        lower = lo + step*stp\n",
    "        print(upper)\n",
    "        for j in range(16,40):\n",
    "            if upper>99:\n",
    "                print(j)\n",
    "            \n",
    "            if len(dataframe.loc[dataframe['SPT_NUM'] == j]) == 0:\n",
    "                continue    # continue here\n",
    "\n",
    "            for k in range(j,40):\n",
    "                if len(dataframe.loc[dataframe['SPT_NUM'] == k]) == 0:\n",
    "                        continue\n",
    "            \n",
    "                for i in range(0,smalltarget):\n",
    "                    nanvalues=1\n",
    "                    snr3=-1\n",
    "\n",
    "                    while (nanvalues!=0)|(lower>snr3)|(upper<snr3):\n",
    "                        # get a random star of each type we are looking for\n",
    "                        m1 = random.randint(0,len(dataframe.loc[dataframe['SPT_NUM'] == j])-1)\n",
    "                        n1 = random.randint(0,len(dataframe.loc[dataframe['SPT_NUM'] == k])-1)\n",
    "                        flux1 = np.array(dataframe.loc[dataframe['SPT_NUM'] == j].reset_index(drop=True)['FLUX'][m1])\n",
    "                        unc1  = np.array(dataframe.loc[dataframe['SPT_NUM'] == j].reset_index(drop=True)['UNCERTAINTY'][m1])\n",
    "                        flux2 = np.array(dataframe.loc[dataframe['SPT_NUM'] == k].reset_index(drop=True)['FLUX'][n1])\n",
    "                        unc2  = np.array(dataframe.loc[dataframe['SPT_NUM'] == k].reset_index(drop=True)['UNCERTAINTY'][n1])\n",
    "\n",
    "                        flux1, unc1 = addNoise(flux1, unc1, scale=1)\n",
    "                        flux2, unc2 = addNoise(flux2, unc2, scale=1)\n",
    "\n",
    "                        combstar_dic = combine_two_spex_spectra(flux1, unc1, flux2, unc2)\n",
    "                        flux3 = np.array(combstar_dic[\"system_interpolated_flux\"])\n",
    "                        unc3  = np.array(combstar_dic[\"system_interpolated_noise\"])\n",
    "                        snr3 = measureSN(dataframe['WAVE'][0], flux3, unc3)\n",
    "                        if upper<snr3:\n",
    "                            start = snr3/upper\n",
    "                            if start<1:\n",
    "                                start=1\n",
    "                            finish = random.random()*(snr3-upper)+upper*random.random()*random.random()*random.random()\n",
    "                            if lower!=0:\n",
    "                                finish = snr3/lower\n",
    "                            noisescale = np.abs(random.random()*(finish-start)+start*random.random())\n",
    "                            flux3, unc3 = addNoise(flux3,unc3, scale=noisescale)\n",
    "                            snr3 = measureSN(dataframe['WAVE'][0], flux3, unc3)\n",
    "\n",
    "                        # check nans\n",
    "                        nanvalues=np.sum(np.isnan(flux3)) + np.sum(np.isnan(unc3)) + np.sum(np.isnan(snr3))\n",
    "                    fluxes.append(flux3)\n",
    "                    noises.append(unc3)\n",
    "                    primaries.append(j)\n",
    "                    secondaries.append(k)\n",
    "                    snr_list.append(snr3)\n",
    "                    if difference==True:\n",
    "                        diff3 = np.array(combstar_dic[\"difference_spectrum\"])\n",
    "                        differences.append(diff3)\n",
    "            \n",
    "    d = {\"system_interpolated_flux\": fluxes,\n",
    "        \"system_interpolated_noise\": noises,\n",
    "        \"primary_type\": primaries,\n",
    "        \"secondary_type\": secondaries,\n",
    "        \"J_SNR\": snr_list,\n",
    "        \"SNR_CLASS\": snr_range,\n",
    "        \"WAVE\": [dataframe['WAVE'][0] for i in range(len(fluxes))]\n",
    "        }\n",
    "    if difference==True:\n",
    "        d[\"difference_spectrum\"]=differences\n",
    "    BinDF = pd.DataFrame(d)\n",
    "\n",
    "    if fluxSeparate==True:\n",
    "\n",
    "        print('Flux Separation:')    \n",
    "\n",
    "        flux_cols_dic = {}\n",
    "        for j in range(len(BinDF['system_interpolated_flux'][0])):\n",
    "            fluxcol=[]\n",
    "            for i in range(len(BinDF)):\n",
    "                fluxcol.append(BinDF['system_interpolated_flux'][i][j])\n",
    "            fluxname='flux_'+str(j)\n",
    "            flux_cols_dic[fluxname] = fluxcol\n",
    "        flux_cols_df = pd.DataFrame(flux_cols_dic)\n",
    "        BinDF = pd.concat([BinDF, flux_cols_df], axis=1)\n",
    "\n",
    "        if difference==True:\n",
    "\n",
    "            print('Flux Difference:')\n",
    "\n",
    "            diff_cols_dic = {}\n",
    "            for j in range(len(BinDF['difference_spectrum'][0])):\n",
    "                diffcol=[]\n",
    "                for i in range(len(BinDF)):\n",
    "                    diffcol.append(BinDF['difference_spectrum'][i][j])\n",
    "                diffname='diff_'+str(j)\n",
    "                diff_cols_dic[diffname] = diffcol\n",
    "            diff_cols_df = pd.DataFrame(diff_cols_dic)\n",
    "            BinDF = pd.concat([BinDF, diff_cols_df], axis=1)\n",
    "    \n",
    "    return BinDF"
   ]
  },
  {
   "cell_type": "code",
   "execution_count": null,
   "metadata": {},
   "outputs": [],
   "source": []
  },
  {
   "attachments": {},
   "cell_type": "markdown",
   "metadata": {},
   "source": [
    "Multioutput Random Forest LOW snr (<50)"
   ]
  },
  {
   "cell_type": "code",
   "execution_count": 18,
   "metadata": {},
   "outputs": [
    {
     "name": "stdout",
     "output_type": "stream",
     "text": [
      "1.0\n",
      "2.0\n",
      "3.0\n",
      "4.0\n",
      "5.0\n",
      "6.0\n",
      "7.0\n",
      "8.0\n",
      "9.0\n",
      "10.0\n",
      "11.0\n",
      "12.0\n",
      "13.0\n",
      "14.0\n",
      "15.0\n",
      "16.0\n",
      "17.0\n",
      "18.0\n",
      "19.0\n",
      "20.0\n",
      "21.0\n",
      "22.0\n",
      "23.0\n",
      "24.0\n",
      "25.0\n",
      "26.0\n",
      "27.0\n",
      "28.0\n",
      "29.0\n",
      "30.0\n",
      "31.0\n",
      "32.0\n",
      "33.0\n",
      "34.0\n",
      "35.0\n",
      "36.0\n",
      "37.0\n",
      "38.0\n",
      "39.0\n",
      "40.0\n",
      "41.0\n",
      "42.0\n",
      "43.0\n",
      "44.0\n",
      "45.0\n",
      "46.0\n",
      "47.0\n",
      "48.0\n",
      "49.0\n",
      "50.0\n"
     ]
    },
    {
     "data": {
      "text/plain": [
       "<AxesSubplot:xlabel='primary_type', ylabel='secondary_type'>"
      ]
     },
     "execution_count": 18,
     "metadata": {},
     "output_type": "execute_result"
    },
    {
     "data": {
      "image/png": "[encoded data removed]",
      "text/plain": [
       "<Figure size 432x288 with 2 Axes>"
      ]
     },
     "metadata": {
      "needs_background": "light"
     },
     "output_type": "display_data"
    }
   ],
   "source": [
    "BinDF_low = binaryCreation(singles,snr_range='low',target=200,fluxSeparate=True)\n",
    "spt_snr = BinDF_low.groupby('secondary_type').primary_type.value_counts().unstack()\n",
    "sns.heatmap(spt_snr,annot=False,linewidths=0.1,linecolor='black')"
   ]
  },
  {
   "cell_type": "code",
   "execution_count": 19,
   "metadata": {},
   "outputs": [
    {
     "data": {
      "text/plain": [
       "Text(0.5, 1.0, 'SNR Distribution')"
      ]
     },
     "execution_count": 19,
     "metadata": {},
     "output_type": "execute_result"
    },
    {
     "data": {
      "image/png": "[encoded data removed]",
      "text/plain": [
       "<Figure size 432x288 with 1 Axes>"
      ]
     },
     "metadata": {
      "needs_background": "light"
     },
     "output_type": "display_data"
    }
   ],
   "source": [
    "fig, axe = plt.subplots()\n",
    "axe.hist(BinDF_low['J_SNR'],bins=50)\n",
    "plt.xlabel('j snr')\n",
    "plt.title('SNR Distribution')"
   ]
  },
  {
   "cell_type": "code",
   "execution_count": 20,
   "metadata": {},
   "outputs": [
    {
     "data": {
      "text/plain": [
       "Text(0.5, 1.0, 'SNR Distribution')"
      ]
     },
     "execution_count": 20,
     "metadata": {},
     "output_type": "execute_result"
    },
    {
     "data": {
      "image/png": "[encoded data removed]",
      "text/plain": [
       "<Figure size 432x288 with 1 Axes>"
      ]
     },
     "metadata": {
      "needs_background": "light"
     },
     "output_type": "display_data"
    }
   ],
   "source": [
    "fig, axe = plt.subplots()\n",
    "axe.hist(BinDF_low['J_SNR'][BinDF_low['J_SNR']<10],bins=40)\n",
    "plt.xlabel('j snr')\n",
    "plt.title('SNR Distribution')"
   ]
  },
  {
   "cell_type": "code",
   "execution_count": 21,
   "metadata": {},
   "outputs": [],
   "source": [
    "with open('data/BinDF_low.pickle', 'wb') as f:\n",
    "        pickle.dump(BinDF_low, f)"
   ]
  },
  {
   "cell_type": "code",
   "execution_count": null,
   "metadata": {},
   "outputs": [],
   "source": []
  },
  {
   "attachments": {},
   "cell_type": "markdown",
   "metadata": {},
   "source": [
    "Multioutput Random Fores MID snr (50<snr<100)"
   ]
  },
  {
   "cell_type": "code",
   "execution_count": 24,
   "metadata": {},
   "outputs": [
    {
     "name": "stdout",
     "output_type": "stream",
     "text": [
      "51.0\n",
      "0.0019989013671875\n",
      "52.0\n",
      "423.0511221885681\n",
      "53.0\n",
      "836.636819601059\n",
      "54.0\n",
      "1279.3816859722137\n",
      "55.0\n",
      "1719.5193758010864\n",
      "56.0\n",
      "2158.614317893982\n",
      "57.0\n",
      "2610.005739212036\n",
      "58.0\n",
      "3026.220103263855\n",
      "59.0\n",
      "3417.3713943958282\n",
      "60.0\n",
      "3804.0066347122192\n",
      "61.0\n",
      "4172.609965324402\n",
      "62.0\n",
      "4550.601920604706\n",
      "63.0\n",
      "4923.1638650894165\n",
      "64.0\n",
      "5296.932841062546\n",
      "65.0\n",
      "5680.455753087997\n",
      "66.0\n",
      "6046.105743646622\n",
      "67.0\n",
      "6411.535441875458\n",
      "68.0\n",
      "6762.051774263382\n",
      "69.0\n",
      "7111.1830151081085\n",
      "70.0\n",
      "7449.365532398224\n",
      "71.0\n",
      "7769.822302103043\n",
      "72.0\n",
      "8107.409000635147\n",
      "73.0\n",
      "8427.198472738266\n",
      "74.0\n",
      "8734.814267635345\n",
      "75.0\n",
      "9032.329177379608\n",
      "76.0\n",
      "9332.545395851135\n",
      "77.0\n",
      "9620.094766139984\n",
      "78.0\n",
      "9894.755799770355\n",
      "79.0\n",
      "10214.146388053894\n",
      "80.0\n",
      "10583.476957321167\n",
      "81.0\n",
      "10953.829529762268\n",
      "82.0\n",
      "11373.090938091278\n",
      "83.0\n",
      "11746.63347029686\n",
      "84.0\n",
      "12095.665589571\n",
      "85.0\n",
      "12484.38918876648\n",
      "86.0\n",
      "12864.065608501434\n",
      "87.0\n",
      "13290.1046936512\n",
      "88.0\n",
      "13723.397562503815\n",
      "89.0\n",
      "14200.79127573967\n",
      "90.0\n",
      "14662.31922340393\n",
      "91.0\n",
      "15075.798291921616\n",
      "92.0\n",
      "15485.183639526367\n",
      "93.0\n",
      "15897.702314138412\n",
      "94.0\n",
      "16302.225255012512\n",
      "95.0\n",
      "16733.514690876007\n",
      "96.0\n",
      "17165.070296287537\n",
      "97.0\n",
      "17619.610095500946\n",
      "98.0\n",
      "18125.786644220352\n",
      "99.0\n",
      "18631.797360897064\n",
      "100.0\n",
      "19153.90732884407\n",
      "Flux Separation:\n"
     ]
    },
    {
     "data": {
      "text/plain": [
       "<AxesSubplot:xlabel='primary_type', ylabel='secondary_type'>"
      ]
     },
     "execution_count": 24,
     "metadata": {},
     "output_type": "execute_result"
    },
    {
     "data": {
      "image/png": "[encoded data removed]",
      "text/plain": [
       "<Figure size 432x288 with 2 Axes>"
      ]
     },
     "metadata": {
      "needs_background": "light"
     },
     "output_type": "display_data"
    }
   ],
   "source": [
    "BinDF_mid = binaryCreation(singles,snr_range='mid',target=200,fluxSeparate=True)\n",
    "spt_snr = BinDF_mid.groupby('secondary_type').primary_type.value_counts().unstack()\n",
    "sns.heatmap(spt_snr,annot=False,linewidths=0.1,linecolor='black')"
   ]
  },
  {
   "cell_type": "code",
   "execution_count": 28,
   "metadata": {},
   "outputs": [
    {
     "data": {
      "text/plain": [
       "Text(0.5, 1.0, 'SNR Distribution')"
      ]
     },
     "execution_count": 28,
     "metadata": {},
     "output_type": "execute_result"
    },
    {
     "data": {
      "image/png": "[encoded data removed]",
      "text/plain": [
       "<Figure size 432x288 with 1 Axes>"
      ]
     },
     "metadata": {
      "needs_background": "light"
     },
     "output_type": "display_data"
    }
   ],
   "source": [
    "fig, axe = plt.subplots()\n",
    "axe.hist(BinDF_mid['J_SNR'],bins=50)\n",
    "plt.xlabel('j snr')\n",
    "plt.title('SNR Distribution')"
   ]
  },
  {
   "cell_type": "code",
   "execution_count": 26,
   "metadata": {},
   "outputs": [],
   "source": [
    "with open('data/BinDF_mid.pickle', 'wb') as f:\n",
    "        pickle.dump(BinDF_mid, f)"
   ]
  },
  {
   "cell_type": "code",
   "execution_count": null,
   "metadata": {},
   "outputs": [],
   "source": []
  },
  {
   "attachments": {},
   "cell_type": "markdown",
   "metadata": {},
   "source": [
    "Multioutput Random Forest HIG snr (>100)"
   ]
  },
  {
   "cell_type": "code",
   "execution_count": 36,
   "metadata": {},
   "outputs": [
    {
     "name": "stdout",
     "output_type": "stream",
     "text": [
      "16\n",
      "0.001001596450805664\n",
      "17\n",
      "16.511357307434082\n",
      "18\n",
      "31.16011905670166\n",
      "19\n",
      "46.56421518325806\n",
      "20\n",
      "59.66078519821167\n",
      "21\n",
      "72.65508532524109\n",
      "22\n",
      "84.73012375831604\n",
      "23\n",
      "95.3090488910675\n",
      "24\n",
      "104.84339737892151\n",
      "25\n",
      "113.51428461074829\n",
      "26\n",
      "121.48468708992004\n",
      "27\n",
      "128.8445827960968\n",
      "28\n",
      "135.81871795654297\n",
      "29\n",
      "141.75771403312683\n",
      "30\n",
      "146.942147731781\n",
      "31\n",
      "151.51738739013672\n",
      "32\n",
      "155.23727011680603\n",
      "33\n",
      "158.1592617034912\n",
      "34\n",
      "158.1602611541748\n",
      "35\n",
      "161.0336995124817\n",
      "36\n",
      "162.5803782939911\n",
      "37\n",
      "163.39158987998962\n",
      "38\n",
      "163.39158987998962\n",
      "39\n",
      "163.39158987998962\n"
     ]
    },
    {
     "data": {
      "text/plain": [
       "<AxesSubplot:xlabel='primary_type', ylabel='secondary_type'>"
      ]
     },
     "execution_count": 36,
     "metadata": {},
     "output_type": "execute_result"
    },
    {
     "data": {
      "image/png": "[encoded data removed]",
      "text/plain": [
       "<Figure size 432x288 with 2 Axes>"
      ]
     },
     "metadata": {
      "needs_background": "light"
     },
     "output_type": "display_data"
    }
   ],
   "source": [
    "BinDF_hig = binaryCreation(singles,snr_range='hig',target=200,fluxSeparate=True)\n",
    "spt_snr = BinDF_hig.groupby('secondary_type').primary_type.value_counts().unstack()\n",
    "sns.heatmap(spt_snr,annot=False,linewidths=0.1,linecolor='black')"
   ]
  },
  {
   "cell_type": "code",
   "execution_count": 37,
   "metadata": {},
   "outputs": [
    {
     "data": {
      "text/plain": [
       "Text(0.5, 1.0, 'SNR Distribution')"
      ]
     },
     "execution_count": 37,
     "metadata": {},
     "output_type": "execute_result"
    },
    {
     "data": {
      "image/png": "[encoded data removed]",
      "text/plain": [
       "<Figure size 432x288 with 1 Axes>"
      ]
     },
     "metadata": {
      "needs_background": "light"
     },
     "output_type": "display_data"
    }
   ],
   "source": [
    "fig, axe = plt.subplots()\n",
    "axe.hist(BinDF_hig['J_SNR'],bins=50)\n",
    "plt.xlabel('j snr')\n",
    "plt.title('SNR Distribution')"
   ]
  },
  {
   "cell_type": "code",
   "execution_count": 38,
   "metadata": {},
   "outputs": [],
   "source": [
    "with open('data/BinDF_hig.pickle', 'wb') as f:\n",
    "        pickle.dump(BinDF_hig, f)"
   ]
  },
  {
   "cell_type": "code",
   "execution_count": null,
   "metadata": {},
   "outputs": [],
   "source": []
  },
  {
   "cell_type": "markdown",
   "metadata": {},
   "source": [
    "Difference Spectrum\n",
    "\n",
    "Low"
   ]
  },
  {
   "cell_type": "code",
   "execution_count": 45,
   "metadata": {},
   "outputs": [
    {
     "name": "stdout",
     "output_type": "stream",
     "text": [
      "1.0\n",
      "0.008014202117919922\n",
      "2.0\n",
      "223.33922290802002\n",
      "3.0\n",
      "233.7629315853119\n",
      "4.0\n",
      "253.61047673225403\n",
      "5.0\n",
      "282.8007917404175\n",
      "6.0\n",
      "320.5019383430481\n",
      "7.0\n",
      "370.13105273246765\n",
      "8.0\n",
      "428.6671521663666\n",
      "9.0\n",
      "493.89909529685974\n",
      "10.0\n",
      "566.4958510398865\n",
      "11.0\n",
      "653.1506345272064\n",
      "12.0\n",
      "748.997709274292\n",
      "13.0\n",
      "859.3489739894867\n",
      "14.0\n",
      "971.6832661628723\n",
      "15.0\n",
      "1096.1244118213654\n",
      "16.0\n",
      "1227.4150297641754\n",
      "17.0\n",
      "1372.7703816890717\n",
      "18.0\n",
      "1524.011311531067\n",
      "19.0\n",
      "1681.4117028713226\n",
      "20.0\n",
      "1846.762389421463\n",
      "21.0\n",
      "2029.796412229538\n",
      "22.0\n",
      "2217.200852394104\n",
      "23.0\n",
      "2405.639169216156\n",
      "24.0\n",
      "2602.0887219905853\n",
      "25.0\n",
      "2808.7210381031036\n",
      "26.0\n",
      "3008.3931608200073\n",
      "27.0\n",
      "3223.5725173950195\n",
      "28.0\n",
      "3444.1854066848755\n",
      "29.0\n",
      "3664.9140903949738\n",
      "30.0\n",
      "3901.603523492813\n",
      "31.0\n",
      "4148.771577835083\n",
      "32.0\n",
      "4399.520061254501\n",
      "33.0\n",
      "4665.643943309784\n",
      "34.0\n",
      "4932.08495092392\n",
      "35.0\n",
      "5183.509025096893\n",
      "36.0\n",
      "5454.94033408165\n",
      "37.0\n",
      "5741.89927816391\n",
      "38.0\n",
      "6009.377033948898\n",
      "39.0\n",
      "6285.661921739578\n",
      "40.0\n",
      "6552.995316028595\n",
      "41.0\n",
      "6808.952165365219\n",
      "42.0\n",
      "7079.743933200836\n",
      "43.0\n",
      "7341.037621021271\n",
      "44.0\n",
      "7623.080688714981\n",
      "45.0\n",
      "7896.541144132614\n",
      "46.0\n",
      "8154.264280557632\n",
      "47.0\n",
      "8414.323266983032\n",
      "48.0\n",
      "8673.239580869675\n",
      "49.0\n",
      "8952.68727016449\n",
      "50.0\n",
      "9235.236454725266\n",
      "Flux Separation:\n",
      "Flux Difference:\n"
     ]
    },
    {
     "data": {
      "text/plain": [
       "<AxesSubplot:xlabel='primary_type', ylabel='secondary_type'>"
      ]
     },
     "execution_count": 45,
     "metadata": {},
     "output_type": "execute_result"
    },
    {
     "data": {
      "image/png": "[encoded data removed]",
      "text/plain": [
       "<Figure size 432x288 with 2 Axes>"
      ]
     },
     "metadata": {
      "needs_background": "light"
     },
     "output_type": "display_data"
    }
   ],
   "source": [
    "BinDF_low_d = binaryCreation(singles,snr_range='low',target=200,fluxSeparate=True,difference=True)\n",
    "spt_snr = BinDF_low_d.groupby('secondary_type').primary_type.value_counts().unstack()\n",
    "sns.heatmap(spt_snr,annot=False,linewidths=0.1,linecolor='black')"
   ]
  },
  {
   "cell_type": "code",
   "execution_count": 46,
   "metadata": {},
   "outputs": [
    {
     "data": {
      "text/plain": [
       "Text(0.5, 1.0, 'SNR Distribution')"
      ]
     },
     "execution_count": 46,
     "metadata": {},
     "output_type": "execute_result"
    },
    {
     "data": {
      "image/png": "[encoded data removed]",
      "text/plain": [
       "<Figure size 432x288 with 1 Axes>"
      ]
     },
     "metadata": {
      "needs_background": "light"
     },
     "output_type": "display_data"
    }
   ],
   "source": [
    "fig, axe = plt.subplots()\n",
    "axe.hist(BinDF_low_d['J_SNR'],bins=60)\n",
    "plt.xlabel('j snr')\n",
    "plt.title('SNR Distribution')"
   ]
  },
  {
   "cell_type": "code",
   "execution_count": 47,
   "metadata": {},
   "outputs": [],
   "source": [
    "with open('data/BinDF_low_d.pickle', 'wb') as f:\n",
    "        pickle.dump(BinDF_low_d, f)"
   ]
  },
  {
   "cell_type": "code",
   "execution_count": null,
   "metadata": {},
   "outputs": [],
   "source": []
  },
  {
   "cell_type": "markdown",
   "metadata": {},
   "source": [
    "Difference Spectrum\n",
    "\n",
    "Mid"
   ]
  },
  {
   "cell_type": "code",
   "execution_count": 42,
   "metadata": {},
   "outputs": [
    {
     "name": "stdout",
     "output_type": "stream",
     "text": [
      "51.0\n",
      "0.1872873306274414\n",
      "52.0\n",
      "461.2447118759155\n",
      "53.0\n",
      "912.4826941490173\n",
      "54.0\n",
      "1345.3169102668762\n",
      "55.0\n",
      "1767.5455632209778\n",
      "56.0\n",
      "2208.3169026374817\n",
      "57.0\n",
      "2638.3772518634796\n",
      "58.0\n",
      "3051.062601327896\n",
      "59.0\n",
      "3458.3032381534576\n",
      "60.0\n",
      "3878.5396711826324\n",
      "61.0\n",
      "4259.790650367737\n",
      "62.0\n",
      "4624.579041481018\n",
      "63.0\n",
      "5013.681247711182\n",
      "64.0\n",
      "5423.071543931961\n",
      "65.0\n",
      "5834.636397123337\n",
      "66.0\n",
      "6211.919303894043\n",
      "67.0\n",
      "6585.5528955459595\n",
      "68.0\n",
      "6942.70885181427\n",
      "69.0\n",
      "7283.283593654633\n",
      "70.0\n",
      "7643.490723609924\n",
      "71.0\n",
      "7992.341493368149\n",
      "72.0\n",
      "8352.376457929611\n",
      "73.0\n",
      "8705.078796625137\n",
      "74.0\n",
      "9035.848724365234\n",
      "75.0\n",
      "9332.3193359375\n",
      "76.0\n",
      "9615.928934574127\n",
      "77.0\n",
      "9898.543409109116\n",
      "78.0\n",
      "10205.258278608322\n",
      "79.0\n",
      "10564.608926057816\n",
      "80.0\n",
      "10937.578063726425\n",
      "81.0\n",
      "11311.869394779205\n",
      "82.0\n",
      "11705.762126922607\n",
      "83.0\n",
      "12065.701480150223\n",
      "84.0\n",
      "12444.62645483017\n",
      "85.0\n",
      "12807.19772696495\n",
      "86.0\n",
      "13191.297555685043\n",
      "87.0\n",
      "13623.409988880157\n",
      "88.0\n",
      "14067.54813504219\n",
      "89.0\n",
      "14569.290208816528\n",
      "90.0\n",
      "15031.064818382263\n",
      "91.0\n",
      "15448.175145864487\n",
      "92.0\n",
      "15881.965237379074\n",
      "93.0\n",
      "16274.02141571045\n",
      "94.0\n",
      "16682.991102457047\n",
      "95.0\n",
      "17119.2392642498\n",
      "96.0\n",
      "17557.93296098709\n",
      "97.0\n",
      "18012.378085136414\n",
      "98.0\n",
      "18489.6810464859\n",
      "99.0\n",
      "19007.339787721634\n",
      "100.0\n",
      "19480.60683631897\n",
      "16\n",
      "17\n",
      "18\n",
      "19\n",
      "20\n",
      "21\n",
      "22\n",
      "23\n",
      "24\n",
      "25\n",
      "26\n",
      "27\n",
      "28\n",
      "29\n",
      "30\n",
      "31\n",
      "32\n",
      "33\n",
      "34\n",
      "35\n",
      "36\n",
      "37\n",
      "38\n",
      "39\n",
      "Flux Separation:\n",
      "Flux Difference:\n"
     ]
    },
    {
     "data": {
      "text/plain": [
       "<AxesSubplot:xlabel='primary_type', ylabel='secondary_type'>"
      ]
     },
     "execution_count": 42,
     "metadata": {},
     "output_type": "execute_result"
    },
    {
     "data": {
      "image/png": "[encoded data removed]",
      "text/plain": [
       "<Figure size 432x288 with 2 Axes>"
      ]
     },
     "metadata": {
      "needs_background": "light"
     },
     "output_type": "display_data"
    }
   ],
   "source": [
    "BinDF_mid_d = binaryCreation(singles,snr_range='mid',target=200,fluxSeparate=True,difference=True)\n",
    "spt_snr = BinDF_mid_d.groupby('secondary_type').primary_type.value_counts().unstack()\n",
    "sns.heatmap(spt_snr,annot=False,linewidths=0.1,linecolor='black')"
   ]
  },
  {
   "cell_type": "code",
   "execution_count": 43,
   "metadata": {},
   "outputs": [
    {
     "data": {
      "text/plain": [
       "Text(0.5, 1.0, 'SNR Distribution')"
      ]
     },
     "execution_count": 43,
     "metadata": {},
     "output_type": "execute_result"
    },
    {
     "data": {
      "image/png": "[encoded data removed]",
      "text/plain": [
       "<Figure size 432x288 with 1 Axes>"
      ]
     },
     "metadata": {
      "needs_background": "light"
     },
     "output_type": "display_data"
    }
   ],
   "source": [
    "fig, axe = plt.subplots()\n",
    "axe.hist(BinDF_mid_d['J_SNR'],bins=60)\n",
    "plt.xlabel('j snr')\n",
    "plt.title('SNR Distribution')"
   ]
  },
  {
   "cell_type": "code",
   "execution_count": 44,
   "metadata": {},
   "outputs": [],
   "source": [
    "with open('data/BinDF_mid_d.pickle', 'wb') as f:\n",
    "        pickle.dump(BinDF_mid_d, f)"
   ]
  },
  {
   "cell_type": "code",
   "execution_count": null,
   "metadata": {},
   "outputs": [],
   "source": []
  },
  {
   "cell_type": "markdown",
   "metadata": {},
   "source": [
    "Difference Spectrum\n",
    "\n",
    "Hig"
   ]
  },
  {
   "cell_type": "code",
   "execution_count": 39,
   "metadata": {},
   "outputs": [
    {
     "name": "stdout",
     "output_type": "stream",
     "text": [
      "16\n",
      "0.01601386070251465\n",
      "17\n",
      "15.855598449707031\n",
      "18\n",
      "30.26297426223755\n",
      "19\n",
      "44.494699478149414\n",
      "20\n",
      "58.36007475852966\n",
      "21\n",
      "70.3734998703003\n",
      "22\n",
      "82.09048509597778\n",
      "23\n",
      "92.43936848640442\n",
      "24\n",
      "101.82129240036011\n",
      "25\n",
      "110.44726538658142\n",
      "26\n",
      "118.29020714759827\n",
      "27\n",
      "125.51347208023071\n",
      "28\n",
      "131.9761106967926\n",
      "29\n",
      "137.70664644241333\n",
      "30\n",
      "142.64401841163635\n",
      "31\n",
      "146.87984490394592\n",
      "32\n",
      "150.3988537788391\n",
      "33\n",
      "153.24893283843994\n",
      "34\n",
      "153.24893283843994\n",
      "35\n",
      "155.38925004005432\n",
      "36\n",
      "156.79301643371582\n",
      "37\n",
      "157.49310946464539\n",
      "38\n",
      "157.49310946464539\n",
      "39\n",
      "157.49310946464539\n"
     ]
    },
    {
     "data": {
      "text/plain": [
       "<AxesSubplot:xlabel='primary_type', ylabel='secondary_type'>"
      ]
     },
     "execution_count": 39,
     "metadata": {},
     "output_type": "execute_result"
    },
    {
     "data": {
      "image/png": "[encoded data removed]",
      "text/plain": [
       "<Figure size 432x288 with 2 Axes>"
      ]
     },
     "metadata": {
      "needs_background": "light"
     },
     "output_type": "display_data"
    }
   ],
   "source": [
    "BinDF_hig_d = binaryCreation2(singles,snr_range='hig',target=200,fluxSeparate=True,difference=True)\n",
    "spt_snr = BinDF_hig_d.groupby('secondary_type').primary_type.value_counts().unstack()\n",
    "sns.heatmap(spt_snr,annot=False,linewidths=0.1,linecolor='black')"
   ]
  },
  {
   "cell_type": "code",
   "execution_count": 40,
   "metadata": {},
   "outputs": [
    {
     "data": {
      "text/plain": [
       "Text(0.5, 1.0, 'SNR Distribution')"
      ]
     },
     "execution_count": 40,
     "metadata": {},
     "output_type": "execute_result"
    },
    {
     "data": {
      "image/png": "[encoded data removed]",
      "text/plain": [
       "<Figure size 432x288 with 1 Axes>"
      ]
     },
     "metadata": {
      "needs_background": "light"
     },
     "output_type": "display_data"
    }
   ],
   "source": [
    "fig, axe = plt.subplots()\n",
    "axe.hist(BinDF_hig_d['J_SNR'],bins=60)\n",
    "plt.xlabel('j snr')\n",
    "plt.title('SNR Distribution')"
   ]
  },
  {
   "cell_type": "code",
   "execution_count": 41,
   "metadata": {},
   "outputs": [],
   "source": [
    "with open('data/BinDF_hig_d.pickle', 'wb') as f:\n",
    "        pickle.dump(BinDF_hig_d, f)"
   ]
  },
  {
   "cell_type": "code",
   "execution_count": null,
   "metadata": {},
   "outputs": [],
   "source": []
  }
 ],
 "metadata": {
  "kernelspec": {
   "display_name": "Python 3",
   "language": "python",
   "name": "python3"
  },
  "language_info": {
   "codemirror_mode": {
    "name": "ipython",
    "version": 3
   },
   "file_extension": ".py",
   "mimetype": "text/x-python",
   "name": "python",
   "nbconvert_exporter": "python",
   "pygments_lexer": "ipython3",
   "version": "3.10.1"
  },
  "orig_nbformat": 4,
  "vscode": {
   "interpreter": {
    "hash": "d3e10ef16274dd72e574b8fa73b58450b957d8421a2901baded3cca26fcf5dda"
   }
  }
 },
 "nbformat": 4,
 "nbformat_minor": 2
}
