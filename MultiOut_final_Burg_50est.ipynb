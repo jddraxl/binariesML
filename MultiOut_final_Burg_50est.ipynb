{
 "cells": [
  {
   "cell_type": "code",
   "execution_count": 1,
   "metadata": {},
   "outputs": [],
   "source": [
    "import seaborn as sns\n",
    "from sklearn.model_selection import train_test_split, GridSearchCV\n",
    "import matplotlib.pyplot as plt\n",
    "import joblib\n",
    "import time\n",
    "import pickle"
   ]
  },
  {
   "cell_type": "code",
   "execution_count": 2,
   "metadata": {},
   "outputs": [],
   "source": [
    "from multioutput_functions import *"
   ]
  },
  {
   "cell_type": "code",
   "execution_count": 3,
   "metadata": {},
   "outputs": [
    {
     "data": {
      "text/html": [
       "<div>\n",
       "<style scoped>\n",
       "    .dataframe tbody tr th:only-of-type {\n",
       "        vertical-align: middle;\n",
       "    }\n",
       "\n",
       "    .dataframe tbody tr th {\n",
       "        vertical-align: top;\n",
       "    }\n",
       "\n",
       "    .dataframe thead th {\n",
       "        text-align: right;\n",
       "    }\n",
       "</style>\n",
       "<table border=\"1\" class=\"dataframe\">\n",
       "  <thead>\n",
       "    <tr style=\"text-align: right;\">\n",
       "      <th></th>\n",
       "      <th>WAVE</th>\n",
       "      <th>FLUX</th>\n",
       "      <th>UNCERTAINTY</th>\n",
       "      <th>J_SNR</th>\n",
       "      <th>SPT</th>\n",
       "    </tr>\n",
       "  </thead>\n",
       "  <tbody>\n",
       "    <tr>\n",
       "      <th>0</th>\n",
       "      <td>[0.90129393, 0.9047135, 0.9081512, 0.9116069, ...</td>\n",
       "      <td>[1.9660627713093847e-10, 2.1131039893243844e-1...</td>\n",
       "      <td>[5.982245325049133e-12, 5.755711185801827e-12,...</td>\n",
       "      <td>94.018303</td>\n",
       "      <td>M6.0</td>\n",
       "    </tr>\n",
       "    <tr>\n",
       "      <th>1</th>\n",
       "      <td>[0.90129393, 0.9047135, 0.9081512, 0.9116069, ...</td>\n",
       "      <td>[1.9950771920752281e-10, 2.079591490944689e-10...</td>\n",
       "      <td>[7.703832533018333e-13, 1.0951267822400711e-12...</td>\n",
       "      <td>386.537811</td>\n",
       "      <td>M7.0</td>\n",
       "    </tr>\n",
       "    <tr>\n",
       "      <th>2</th>\n",
       "      <td>[0.90129393, 0.9047135, 0.9081512, 0.9116069, ...</td>\n",
       "      <td>[1.9762911463072993e-10, 2.0580528498234088e-1...</td>\n",
       "      <td>[2.2989224859548107e-12, 2.3022679333025286e-1...</td>\n",
       "      <td>204.598099</td>\n",
       "      <td>M6.0</td>\n",
       "    </tr>\n",
       "    <tr>\n",
       "      <th>3</th>\n",
       "      <td>[0.90129393, 0.9047135, 0.9081512, 0.9116069, ...</td>\n",
       "      <td>[2.2878515319813078e-10, 2.370316420618723e-10...</td>\n",
       "      <td>[6.1214909391048044e-12, 6.136043777530829e-12...</td>\n",
       "      <td>91.589699</td>\n",
       "      <td>M6.0</td>\n",
       "    </tr>\n",
       "    <tr>\n",
       "      <th>4</th>\n",
       "      <td>[0.90129393, 0.9047135, 0.9081512, 0.9116069, ...</td>\n",
       "      <td>[2.0618668468240422e-10, 2.142866617637176e-10...</td>\n",
       "      <td>[1.0832266058640476e-12, 1.0976881329239517e-1...</td>\n",
       "      <td>414.787994</td>\n",
       "      <td>M6.0</td>\n",
       "    </tr>\n",
       "    <tr>\n",
       "      <th>...</th>\n",
       "      <td>...</td>\n",
       "      <td>...</td>\n",
       "      <td>...</td>\n",
       "      <td>...</td>\n",
       "      <td>...</td>\n",
       "    </tr>\n",
       "    <tr>\n",
       "      <th>1044</th>\n",
       "      <td>[0.90129393, 0.9047135, 0.9081512, 0.9116069, ...</td>\n",
       "      <td>[2.3139820970701434e-13, 1.246237555225135e-13...</td>\n",
       "      <td>[1.2961283330524777e-13, 1.2520460658453793e-1...</td>\n",
       "      <td>4.703918</td>\n",
       "      <td>T8.0</td>\n",
       "    </tr>\n",
       "    <tr>\n",
       "      <th>1045</th>\n",
       "      <td>[0.90129393, 0.9047135, 0.9081512, 0.9116069, ...</td>\n",
       "      <td>[5.244854443773445e-14, 6.580743947046151e-14,...</td>\n",
       "      <td>[3.029490952427518e-14, 2.968834229762724e-14,...</td>\n",
       "      <td>23.436972</td>\n",
       "      <td>T8.0</td>\n",
       "    </tr>\n",
       "    <tr>\n",
       "      <th>1046</th>\n",
       "      <td>[0.90129393, 0.9047135, 0.9081512, 0.9116069, ...</td>\n",
       "      <td>[-2.2614582467991454e-14, 5.872129739165835e-1...</td>\n",
       "      <td>[4.4876320743869606e-14, 4.616998222544605e-14...</td>\n",
       "      <td>13.918951</td>\n",
       "      <td>T8.0</td>\n",
       "    </tr>\n",
       "    <tr>\n",
       "      <th>1047</th>\n",
       "      <td>[0.90129393, 0.9047135, 0.9081512, 0.9116069, ...</td>\n",
       "      <td>[1.4678859815360097e-14, 1.7897430190283215e-1...</td>\n",
       "      <td>[6.009617385156795e-15, 6.170117985714561e-15,...</td>\n",
       "      <td>30.023281</td>\n",
       "      <td>T9.0</td>\n",
       "    </tr>\n",
       "    <tr>\n",
       "      <th>1048</th>\n",
       "      <td>[0.90129393, 0.9047135, 0.9081512, 0.9116069, ...</td>\n",
       "      <td>[1.3160605789392751e-14, 3.67817960550198e-14,...</td>\n",
       "      <td>[5.1670978628875254e-15, 5.171935002322336e-15...</td>\n",
       "      <td>24.918734</td>\n",
       "      <td>T9.0</td>\n",
       "    </tr>\n",
       "  </tbody>\n",
       "</table>\n",
       "<p>1049 rows × 5 columns</p>\n",
       "</div>"
      ],
      "text/plain": [
       "                                                   WAVE  \\\n",
       "0     [0.90129393, 0.9047135, 0.9081512, 0.9116069, ...   \n",
       "1     [0.90129393, 0.9047135, 0.9081512, 0.9116069, ...   \n",
       "2     [0.90129393, 0.9047135, 0.9081512, 0.9116069, ...   \n",
       "3     [0.90129393, 0.9047135, 0.9081512, 0.9116069, ...   \n",
       "4     [0.90129393, 0.9047135, 0.9081512, 0.9116069, ...   \n",
       "...                                                 ...   \n",
       "1044  [0.90129393, 0.9047135, 0.9081512, 0.9116069, ...   \n",
       "1045  [0.90129393, 0.9047135, 0.9081512, 0.9116069, ...   \n",
       "1046  [0.90129393, 0.9047135, 0.9081512, 0.9116069, ...   \n",
       "1047  [0.90129393, 0.9047135, 0.9081512, 0.9116069, ...   \n",
       "1048  [0.90129393, 0.9047135, 0.9081512, 0.9116069, ...   \n",
       "\n",
       "                                                   FLUX  \\\n",
       "0     [1.9660627713093847e-10, 2.1131039893243844e-1...   \n",
       "1     [1.9950771920752281e-10, 2.079591490944689e-10...   \n",
       "2     [1.9762911463072993e-10, 2.0580528498234088e-1...   \n",
       "3     [2.2878515319813078e-10, 2.370316420618723e-10...   \n",
       "4     [2.0618668468240422e-10, 2.142866617637176e-10...   \n",
       "...                                                 ...   \n",
       "1044  [2.3139820970701434e-13, 1.246237555225135e-13...   \n",
       "1045  [5.244854443773445e-14, 6.580743947046151e-14,...   \n",
       "1046  [-2.2614582467991454e-14, 5.872129739165835e-1...   \n",
       "1047  [1.4678859815360097e-14, 1.7897430190283215e-1...   \n",
       "1048  [1.3160605789392751e-14, 3.67817960550198e-14,...   \n",
       "\n",
       "                                            UNCERTAINTY       J_SNR   SPT  \n",
       "0     [5.982245325049133e-12, 5.755711185801827e-12,...   94.018303  M6.0  \n",
       "1     [7.703832533018333e-13, 1.0951267822400711e-12...  386.537811  M7.0  \n",
       "2     [2.2989224859548107e-12, 2.3022679333025286e-1...  204.598099  M6.0  \n",
       "3     [6.1214909391048044e-12, 6.136043777530829e-12...   91.589699  M6.0  \n",
       "4     [1.0832266058640476e-12, 1.0976881329239517e-1...  414.787994  M6.0  \n",
       "...                                                 ...         ...   ...  \n",
       "1044  [1.2961283330524777e-13, 1.2520460658453793e-1...    4.703918  T8.0  \n",
       "1045  [3.029490952427518e-14, 2.968834229762724e-14,...   23.436972  T8.0  \n",
       "1046  [4.4876320743869606e-14, 4.616998222544605e-14...   13.918951  T8.0  \n",
       "1047  [6.009617385156795e-15, 6.170117985714561e-15,...   30.023281  T9.0  \n",
       "1048  [5.1670978628875254e-15, 5.171935002322336e-15...   24.918734  T9.0  \n",
       "\n",
       "[1049 rows x 5 columns]"
      ]
     },
     "execution_count": 3,
     "metadata": {},
     "output_type": "execute_result"
    }
   ],
   "source": [
    "singles = pd.read_hdf(r'C:/Users/juand/Research/h5_files/singles_230801.h5')\n",
    "singles.drop(['OLD_SPT','MKO_J', 'MKO_H', 'MKO_K', '2MASS_J', '2MASS_H', '2MASS_KS','NAME'],axis=1,inplace=True)\n",
    "singles"
   ]
  },
  {
   "cell_type": "code",
   "execution_count": 4,
   "metadata": {},
   "outputs": [
    {
     "data": {
      "text/plain": [
       "(array([ 1.,  1.,  1.,  6.,  7., 11., 15., 23., 25., 25., 37., 35., 24.,\n",
       "        32., 25., 25., 29., 17., 21., 26., 30., 21., 27., 24., 22., 15.,\n",
       "        17., 23., 20., 16.]),\n",
       " array([5.83613848e-18, 3.33090998e+00, 6.66181997e+00, 9.99272995e+00,\n",
       "        1.33236399e+01, 1.66545499e+01, 1.99854599e+01, 2.33163699e+01,\n",
       "        2.66472799e+01, 2.99781898e+01, 3.33090998e+01, 3.66400098e+01,\n",
       "        3.99709198e+01, 4.33018298e+01, 4.66327398e+01, 4.99636497e+01,\n",
       "        5.32945597e+01, 5.66254697e+01, 5.99563797e+01, 6.32872897e+01,\n",
       "        6.66181997e+01, 6.99491096e+01, 7.32800196e+01, 7.66109296e+01,\n",
       "        7.99418396e+01, 8.32727496e+01, 8.66036596e+01, 8.99345695e+01,\n",
       "        9.32654795e+01, 9.65963895e+01, 9.99272995e+01]),\n",
       " <BarContainer object of 30 artists>)"
      ]
     },
     "execution_count": 4,
     "metadata": {},
     "output_type": "execute_result"
    },
    {
     "data": {
      "image/png": "[encoded data removed]",
      "text/plain": [
       "<Figure size 432x288 with 1 Axes>"
      ]
     },
     "metadata": {
      "needs_background": "light"
     },
     "output_type": "display_data"
    }
   ],
   "source": [
    "plt.hist(singles.J_SNR[singles.J_SNR<100],bins=30)"
   ]
  },
  {
   "cell_type": "code",
   "execution_count": 5,
   "metadata": {},
   "outputs": [],
   "source": [
    "wave = singles['WAVE'][0]\n",
    "wavegrid_list=list(wave)\n",
    "wave = np.array(wave)\n",
    "wavegrid=wave"
   ]
  },
  {
   "cell_type": "code",
   "execution_count": 6,
   "metadata": {},
   "outputs": [],
   "source": [
    "df = pd.read_hdf(r'C:/Users/juand/Research/h5_files/standards_230801.h5').reset_index(drop=True)\n",
    "STANDARDS = {\n",
    "    \"WAVE\": df[\"WAVE\"].iloc[0],\n",
    "    \"SPT\": df[\"SPT\"],\n",
    "    \"FLUX\": df[\"FLUX\"],\n",
    "    \"UNC\": df[\"UNCERTAINTY\"],\n",
    "}"
   ]
  },
  {
   "cell_type": "code",
   "execution_count": 7,
   "metadata": {},
   "outputs": [
    {
     "data": {
      "text/html": [
       "<div>\n",
       "<style scoped>\n",
       "    .dataframe tbody tr th:only-of-type {\n",
       "        vertical-align: middle;\n",
       "    }\n",
       "\n",
       "    .dataframe tbody tr th {\n",
       "        vertical-align: top;\n",
       "    }\n",
       "\n",
       "    .dataframe thead th {\n",
       "        text-align: right;\n",
       "    }\n",
       "</style>\n",
       "<table border=\"1\" class=\"dataframe\">\n",
       "  <thead>\n",
       "    <tr style=\"text-align: right;\">\n",
       "      <th></th>\n",
       "      <th>WAVE</th>\n",
       "      <th>FLUX</th>\n",
       "      <th>UNCERTAINTY</th>\n",
       "      <th>J_SNR</th>\n",
       "      <th>SPT</th>\n",
       "      <th>SPT_NUM</th>\n",
       "    </tr>\n",
       "  </thead>\n",
       "  <tbody>\n",
       "    <tr>\n",
       "      <th>0</th>\n",
       "      <td>[0.90129393, 0.9047135, 0.9081512, 0.9116069, ...</td>\n",
       "      <td>[1.9660627713093847e-10, 2.1131039893243844e-1...</td>\n",
       "      <td>[5.982245325049133e-12, 5.755711185801827e-12,...</td>\n",
       "      <td>94.018303</td>\n",
       "      <td>M6.0</td>\n",
       "      <td>16.0</td>\n",
       "    </tr>\n",
       "    <tr>\n",
       "      <th>1</th>\n",
       "      <td>[0.90129393, 0.9047135, 0.9081512, 0.9116069, ...</td>\n",
       "      <td>[1.9950771920752281e-10, 2.079591490944689e-10...</td>\n",
       "      <td>[7.703832533018333e-13, 1.0951267822400711e-12...</td>\n",
       "      <td>386.537811</td>\n",
       "      <td>M7.0</td>\n",
       "      <td>17.0</td>\n",
       "    </tr>\n",
       "    <tr>\n",
       "      <th>2</th>\n",
       "      <td>[0.90129393, 0.9047135, 0.9081512, 0.9116069, ...</td>\n",
       "      <td>[1.9762911463072993e-10, 2.0580528498234088e-1...</td>\n",
       "      <td>[2.2989224859548107e-12, 2.3022679333025286e-1...</td>\n",
       "      <td>204.598099</td>\n",
       "      <td>M6.0</td>\n",
       "      <td>16.0</td>\n",
       "    </tr>\n",
       "    <tr>\n",
       "      <th>3</th>\n",
       "      <td>[0.90129393, 0.9047135, 0.9081512, 0.9116069, ...</td>\n",
       "      <td>[2.2878515319813078e-10, 2.370316420618723e-10...</td>\n",
       "      <td>[6.1214909391048044e-12, 6.136043777530829e-12...</td>\n",
       "      <td>91.589699</td>\n",
       "      <td>M6.0</td>\n",
       "      <td>16.0</td>\n",
       "    </tr>\n",
       "    <tr>\n",
       "      <th>4</th>\n",
       "      <td>[0.90129393, 0.9047135, 0.9081512, 0.9116069, ...</td>\n",
       "      <td>[2.0618668468240422e-10, 2.142866617637176e-10...</td>\n",
       "      <td>[1.0832266058640476e-12, 1.0976881329239517e-1...</td>\n",
       "      <td>414.787994</td>\n",
       "      <td>M6.0</td>\n",
       "      <td>16.0</td>\n",
       "    </tr>\n",
       "    <tr>\n",
       "      <th>...</th>\n",
       "      <td>...</td>\n",
       "      <td>...</td>\n",
       "      <td>...</td>\n",
       "      <td>...</td>\n",
       "      <td>...</td>\n",
       "      <td>...</td>\n",
       "    </tr>\n",
       "    <tr>\n",
       "      <th>1041</th>\n",
       "      <td>[0.90129393, 0.9047135, 0.9081512, 0.9116069, ...</td>\n",
       "      <td>[2.3139820970701434e-13, 1.246237555225135e-13...</td>\n",
       "      <td>[1.2961283330524777e-13, 1.2520460658453793e-1...</td>\n",
       "      <td>4.703918</td>\n",
       "      <td>T8.0</td>\n",
       "      <td>38.0</td>\n",
       "    </tr>\n",
       "    <tr>\n",
       "      <th>1042</th>\n",
       "      <td>[0.90129393, 0.9047135, 0.9081512, 0.9116069, ...</td>\n",
       "      <td>[5.244854443773445e-14, 6.580743947046151e-14,...</td>\n",
       "      <td>[3.029490952427518e-14, 2.968834229762724e-14,...</td>\n",
       "      <td>23.436972</td>\n",
       "      <td>T8.0</td>\n",
       "      <td>38.0</td>\n",
       "    </tr>\n",
       "    <tr>\n",
       "      <th>1043</th>\n",
       "      <td>[0.90129393, 0.9047135, 0.9081512, 0.9116069, ...</td>\n",
       "      <td>[-2.2614582467991454e-14, 5.872129739165835e-1...</td>\n",
       "      <td>[4.4876320743869606e-14, 4.616998222544605e-14...</td>\n",
       "      <td>13.918951</td>\n",
       "      <td>T8.0</td>\n",
       "      <td>38.0</td>\n",
       "    </tr>\n",
       "    <tr>\n",
       "      <th>1044</th>\n",
       "      <td>[0.90129393, 0.9047135, 0.9081512, 0.9116069, ...</td>\n",
       "      <td>[1.4678859815360097e-14, 1.7897430190283215e-1...</td>\n",
       "      <td>[6.009617385156795e-15, 6.170117985714561e-15,...</td>\n",
       "      <td>30.023281</td>\n",
       "      <td>T9.0</td>\n",
       "      <td>39.0</td>\n",
       "    </tr>\n",
       "    <tr>\n",
       "      <th>1045</th>\n",
       "      <td>[0.90129393, 0.9047135, 0.9081512, 0.9116069, ...</td>\n",
       "      <td>[1.3160605789392751e-14, 3.67817960550198e-14,...</td>\n",
       "      <td>[5.1670978628875254e-15, 5.171935002322336e-15...</td>\n",
       "      <td>24.918734</td>\n",
       "      <td>T9.0</td>\n",
       "      <td>39.0</td>\n",
       "    </tr>\n",
       "  </tbody>\n",
       "</table>\n",
       "<p>1046 rows × 6 columns</p>\n",
       "</div>"
      ],
      "text/plain": [
       "                                                   WAVE  \\\n",
       "0     [0.90129393, 0.9047135, 0.9081512, 0.9116069, ...   \n",
       "1     [0.90129393, 0.9047135, 0.9081512, 0.9116069, ...   \n",
       "2     [0.90129393, 0.9047135, 0.9081512, 0.9116069, ...   \n",
       "3     [0.90129393, 0.9047135, 0.9081512, 0.9116069, ...   \n",
       "4     [0.90129393, 0.9047135, 0.9081512, 0.9116069, ...   \n",
       "...                                                 ...   \n",
       "1041  [0.90129393, 0.9047135, 0.9081512, 0.9116069, ...   \n",
       "1042  [0.90129393, 0.9047135, 0.9081512, 0.9116069, ...   \n",
       "1043  [0.90129393, 0.9047135, 0.9081512, 0.9116069, ...   \n",
       "1044  [0.90129393, 0.9047135, 0.9081512, 0.9116069, ...   \n",
       "1045  [0.90129393, 0.9047135, 0.9081512, 0.9116069, ...   \n",
       "\n",
       "                                                   FLUX  \\\n",
       "0     [1.9660627713093847e-10, 2.1131039893243844e-1...   \n",
       "1     [1.9950771920752281e-10, 2.079591490944689e-10...   \n",
       "2     [1.9762911463072993e-10, 2.0580528498234088e-1...   \n",
       "3     [2.2878515319813078e-10, 2.370316420618723e-10...   \n",
       "4     [2.0618668468240422e-10, 2.142866617637176e-10...   \n",
       "...                                                 ...   \n",
       "1041  [2.3139820970701434e-13, 1.246237555225135e-13...   \n",
       "1042  [5.244854443773445e-14, 6.580743947046151e-14,...   \n",
       "1043  [-2.2614582467991454e-14, 5.872129739165835e-1...   \n",
       "1044  [1.4678859815360097e-14, 1.7897430190283215e-1...   \n",
       "1045  [1.3160605789392751e-14, 3.67817960550198e-14,...   \n",
       "\n",
       "                                            UNCERTAINTY       J_SNR   SPT  \\\n",
       "0     [5.982245325049133e-12, 5.755711185801827e-12,...   94.018303  M6.0   \n",
       "1     [7.703832533018333e-13, 1.0951267822400711e-12...  386.537811  M7.0   \n",
       "2     [2.2989224859548107e-12, 2.3022679333025286e-1...  204.598099  M6.0   \n",
       "3     [6.1214909391048044e-12, 6.136043777530829e-12...   91.589699  M6.0   \n",
       "4     [1.0832266058640476e-12, 1.0976881329239517e-1...  414.787994  M6.0   \n",
       "...                                                 ...         ...   ...   \n",
       "1041  [1.2961283330524777e-13, 1.2520460658453793e-1...    4.703918  T8.0   \n",
       "1042  [3.029490952427518e-14, 2.968834229762724e-14,...   23.436972  T8.0   \n",
       "1043  [4.4876320743869606e-14, 4.616998222544605e-14...   13.918951  T8.0   \n",
       "1044  [6.009617385156795e-15, 6.170117985714561e-15,...   30.023281  T9.0   \n",
       "1045  [5.1670978628875254e-15, 5.171935002322336e-15...   24.918734  T9.0   \n",
       "\n",
       "      SPT_NUM  \n",
       "0        16.0  \n",
       "1        17.0  \n",
       "2        16.0  \n",
       "3        16.0  \n",
       "4        16.0  \n",
       "...       ...  \n",
       "1041     38.0  \n",
       "1042     38.0  \n",
       "1043     38.0  \n",
       "1044     39.0  \n",
       "1045     39.0  \n",
       "\n",
       "[1046 rows x 6 columns]"
      ]
     },
     "execution_count": 7,
     "metadata": {},
     "output_type": "execute_result"
    }
   ],
   "source": [
    "typenum=[]\n",
    "for i in range(len(singles)):\n",
    "    typenum.append(typeToNum(singles['SPT'][i]))\n",
    "singles['SPT_NUM']=typenum\n",
    "singles = singles.loc[singles['SPT_NUM']>15*np.ones(len(singles))]\n",
    "singles = singles.reset_index(drop=True)\n",
    "singles"
   ]
  },
  {
   "cell_type": "code",
   "execution_count": 8,
   "metadata": {},
   "outputs": [
    {
     "data": {
      "image/png": "[encoded data removed]",
      "text/plain": [
       "<Figure size 432x288 with 1 Axes>"
      ]
     },
     "metadata": {
      "needs_background": "light"
     },
     "output_type": "display_data"
    }
   ],
   "source": [
    "newsnr=[]\n",
    "for i in range(len(singles)):\n",
    "    flux=singles['FLUX'][i]\n",
    "    uncer=singles['UNCERTAINTY'][i]\n",
    "    newsnr.append(measureSN(wave,flux,uncer))\n",
    "singles['J_SNR_2']=newsnr\n",
    "plt.hist(singles.J_SNR_2[singles.J_SNR_2<100],bins=30)\n",
    "singles.drop(['J_SNR_2'],axis=1,inplace=True)"
   ]
  },
  {
   "cell_type": "code",
   "execution_count": 9,
   "metadata": {},
   "outputs": [],
   "source": [
    "snrclass=[]\n",
    "for i in range(len(singles)):\n",
    "    snrQ = singles['J_SNR'][i]\n",
    "    if snrQ<50:\n",
    "        snrclass.append('low')\n",
    "    elif (snrQ>=50)&(snrQ<100):\n",
    "        snrclass.append('mid')\n",
    "    else:\n",
    "        snrclass.append('hig')\n",
    "singles['SNR_CLASS']=snrclass"
   ]
  },
  {
   "cell_type": "code",
   "execution_count": 10,
   "metadata": {},
   "outputs": [],
   "source": [
    "drop_unc = []\n",
    "for position, uncertainty_i in enumerate(np.array(singles['UNCERTAINTY'])):\n",
    "    if np.any(uncertainty_i<0)|np.any(np.isnan(uncertainty_i))|np.any(np.isinf(uncertainty_i)):\n",
    "        drop_unc.append(position)\n",
    "singles = singles.drop(drop_unc).reset_index(drop=True)"
   ]
  },
  {
   "cell_type": "code",
   "execution_count": 11,
   "metadata": {},
   "outputs": [
    {
     "data": {
      "text/html": [
       "<div>\n",
       "<style scoped>\n",
       "    .dataframe tbody tr th:only-of-type {\n",
       "        vertical-align: middle;\n",
       "    }\n",
       "\n",
       "    .dataframe tbody tr th {\n",
       "        vertical-align: top;\n",
       "    }\n",
       "\n",
       "    .dataframe thead th {\n",
       "        text-align: right;\n",
       "    }\n",
       "</style>\n",
       "<table border=\"1\" class=\"dataframe\">\n",
       "  <thead>\n",
       "    <tr style=\"text-align: right;\">\n",
       "      <th></th>\n",
       "      <th>WAVE</th>\n",
       "      <th>FLUX</th>\n",
       "      <th>UNCERTAINTY</th>\n",
       "      <th>J_SNR</th>\n",
       "      <th>SPT</th>\n",
       "      <th>SPT_NUM</th>\n",
       "      <th>SNR_CLASS</th>\n",
       "    </tr>\n",
       "  </thead>\n",
       "  <tbody>\n",
       "    <tr>\n",
       "      <th>0</th>\n",
       "      <td>[0.90129393, 0.9047135, 0.9081512, 0.9116069, ...</td>\n",
       "      <td>[1.9660627713093847e-10, 2.1131039893243844e-1...</td>\n",
       "      <td>[5.982245325049133e-12, 5.755711185801827e-12,...</td>\n",
       "      <td>94.018303</td>\n",
       "      <td>M6.0</td>\n",
       "      <td>16.0</td>\n",
       "      <td>mid</td>\n",
       "    </tr>\n",
       "    <tr>\n",
       "      <th>1</th>\n",
       "      <td>[0.90129393, 0.9047135, 0.9081512, 0.9116069, ...</td>\n",
       "      <td>[1.9950771920752281e-10, 2.079591490944689e-10...</td>\n",
       "      <td>[7.703832533018333e-13, 1.0951267822400711e-12...</td>\n",
       "      <td>386.537811</td>\n",
       "      <td>M7.0</td>\n",
       "      <td>17.0</td>\n",
       "      <td>hig</td>\n",
       "    </tr>\n",
       "    <tr>\n",
       "      <th>2</th>\n",
       "      <td>[0.90129393, 0.9047135, 0.9081512, 0.9116069, ...</td>\n",
       "      <td>[1.9762911463072993e-10, 2.0580528498234088e-1...</td>\n",
       "      <td>[2.2989224859548107e-12, 2.3022679333025286e-1...</td>\n",
       "      <td>204.598099</td>\n",
       "      <td>M6.0</td>\n",
       "      <td>16.0</td>\n",
       "      <td>hig</td>\n",
       "    </tr>\n",
       "    <tr>\n",
       "      <th>3</th>\n",
       "      <td>[0.90129393, 0.9047135, 0.9081512, 0.9116069, ...</td>\n",
       "      <td>[2.2878515319813078e-10, 2.370316420618723e-10...</td>\n",
       "      <td>[6.1214909391048044e-12, 6.136043777530829e-12...</td>\n",
       "      <td>91.589699</td>\n",
       "      <td>M6.0</td>\n",
       "      <td>16.0</td>\n",
       "      <td>mid</td>\n",
       "    </tr>\n",
       "    <tr>\n",
       "      <th>4</th>\n",
       "      <td>[0.90129393, 0.9047135, 0.9081512, 0.9116069, ...</td>\n",
       "      <td>[2.0618668468240422e-10, 2.142866617637176e-10...</td>\n",
       "      <td>[1.0832266058640476e-12, 1.0976881329239517e-1...</td>\n",
       "      <td>414.787994</td>\n",
       "      <td>M6.0</td>\n",
       "      <td>16.0</td>\n",
       "      <td>hig</td>\n",
       "    </tr>\n",
       "    <tr>\n",
       "      <th>...</th>\n",
       "      <td>...</td>\n",
       "      <td>...</td>\n",
       "      <td>...</td>\n",
       "      <td>...</td>\n",
       "      <td>...</td>\n",
       "      <td>...</td>\n",
       "      <td>...</td>\n",
       "    </tr>\n",
       "    <tr>\n",
       "      <th>1018</th>\n",
       "      <td>[0.90129393, 0.9047135, 0.9081512, 0.9116069, ...</td>\n",
       "      <td>[2.3139820970701434e-13, 1.246237555225135e-13...</td>\n",
       "      <td>[1.2961283330524777e-13, 1.2520460658453793e-1...</td>\n",
       "      <td>4.703918</td>\n",
       "      <td>T8.0</td>\n",
       "      <td>38.0</td>\n",
       "      <td>low</td>\n",
       "    </tr>\n",
       "    <tr>\n",
       "      <th>1019</th>\n",
       "      <td>[0.90129393, 0.9047135, 0.9081512, 0.9116069, ...</td>\n",
       "      <td>[5.244854443773445e-14, 6.580743947046151e-14,...</td>\n",
       "      <td>[3.029490952427518e-14, 2.968834229762724e-14,...</td>\n",
       "      <td>23.436972</td>\n",
       "      <td>T8.0</td>\n",
       "      <td>38.0</td>\n",
       "      <td>low</td>\n",
       "    </tr>\n",
       "    <tr>\n",
       "      <th>1020</th>\n",
       "      <td>[0.90129393, 0.9047135, 0.9081512, 0.9116069, ...</td>\n",
       "      <td>[-2.2614582467991454e-14, 5.872129739165835e-1...</td>\n",
       "      <td>[4.4876320743869606e-14, 4.616998222544605e-14...</td>\n",
       "      <td>13.918951</td>\n",
       "      <td>T8.0</td>\n",
       "      <td>38.0</td>\n",
       "      <td>low</td>\n",
       "    </tr>\n",
       "    <tr>\n",
       "      <th>1021</th>\n",
       "      <td>[0.90129393, 0.9047135, 0.9081512, 0.9116069, ...</td>\n",
       "      <td>[1.4678859815360097e-14, 1.7897430190283215e-1...</td>\n",
       "      <td>[6.009617385156795e-15, 6.170117985714561e-15,...</td>\n",
       "      <td>30.023281</td>\n",
       "      <td>T9.0</td>\n",
       "      <td>39.0</td>\n",
       "      <td>low</td>\n",
       "    </tr>\n",
       "    <tr>\n",
       "      <th>1022</th>\n",
       "      <td>[0.90129393, 0.9047135, 0.9081512, 0.9116069, ...</td>\n",
       "      <td>[1.3160605789392751e-14, 3.67817960550198e-14,...</td>\n",
       "      <td>[5.1670978628875254e-15, 5.171935002322336e-15...</td>\n",
       "      <td>24.918734</td>\n",
       "      <td>T9.0</td>\n",
       "      <td>39.0</td>\n",
       "      <td>low</td>\n",
       "    </tr>\n",
       "  </tbody>\n",
       "</table>\n",
       "<p>1023 rows × 7 columns</p>\n",
       "</div>"
      ],
      "text/plain": [
       "                                                   WAVE  \\\n",
       "0     [0.90129393, 0.9047135, 0.9081512, 0.9116069, ...   \n",
       "1     [0.90129393, 0.9047135, 0.9081512, 0.9116069, ...   \n",
       "2     [0.90129393, 0.9047135, 0.9081512, 0.9116069, ...   \n",
       "3     [0.90129393, 0.9047135, 0.9081512, 0.9116069, ...   \n",
       "4     [0.90129393, 0.9047135, 0.9081512, 0.9116069, ...   \n",
       "...                                                 ...   \n",
       "1018  [0.90129393, 0.9047135, 0.9081512, 0.9116069, ...   \n",
       "1019  [0.90129393, 0.9047135, 0.9081512, 0.9116069, ...   \n",
       "1020  [0.90129393, 0.9047135, 0.9081512, 0.9116069, ...   \n",
       "1021  [0.90129393, 0.9047135, 0.9081512, 0.9116069, ...   \n",
       "1022  [0.90129393, 0.9047135, 0.9081512, 0.9116069, ...   \n",
       "\n",
       "                                                   FLUX  \\\n",
       "0     [1.9660627713093847e-10, 2.1131039893243844e-1...   \n",
       "1     [1.9950771920752281e-10, 2.079591490944689e-10...   \n",
       "2     [1.9762911463072993e-10, 2.0580528498234088e-1...   \n",
       "3     [2.2878515319813078e-10, 2.370316420618723e-10...   \n",
       "4     [2.0618668468240422e-10, 2.142866617637176e-10...   \n",
       "...                                                 ...   \n",
       "1018  [2.3139820970701434e-13, 1.246237555225135e-13...   \n",
       "1019  [5.244854443773445e-14, 6.580743947046151e-14,...   \n",
       "1020  [-2.2614582467991454e-14, 5.872129739165835e-1...   \n",
       "1021  [1.4678859815360097e-14, 1.7897430190283215e-1...   \n",
       "1022  [1.3160605789392751e-14, 3.67817960550198e-14,...   \n",
       "\n",
       "                                            UNCERTAINTY       J_SNR   SPT  \\\n",
       "0     [5.982245325049133e-12, 5.755711185801827e-12,...   94.018303  M6.0   \n",
       "1     [7.703832533018333e-13, 1.0951267822400711e-12...  386.537811  M7.0   \n",
       "2     [2.2989224859548107e-12, 2.3022679333025286e-1...  204.598099  M6.0   \n",
       "3     [6.1214909391048044e-12, 6.136043777530829e-12...   91.589699  M6.0   \n",
       "4     [1.0832266058640476e-12, 1.0976881329239517e-1...  414.787994  M6.0   \n",
       "...                                                 ...         ...   ...   \n",
       "1018  [1.2961283330524777e-13, 1.2520460658453793e-1...    4.703918  T8.0   \n",
       "1019  [3.029490952427518e-14, 2.968834229762724e-14,...   23.436972  T8.0   \n",
       "1020  [4.4876320743869606e-14, 4.616998222544605e-14...   13.918951  T8.0   \n",
       "1021  [6.009617385156795e-15, 6.170117985714561e-15,...   30.023281  T9.0   \n",
       "1022  [5.1670978628875254e-15, 5.171935002322336e-15...   24.918734  T9.0   \n",
       "\n",
       "      SPT_NUM SNR_CLASS  \n",
       "0        16.0       mid  \n",
       "1        17.0       hig  \n",
       "2        16.0       hig  \n",
       "3        16.0       mid  \n",
       "4        16.0       hig  \n",
       "...       ...       ...  \n",
       "1018     38.0       low  \n",
       "1019     38.0       low  \n",
       "1020     38.0       low  \n",
       "1021     39.0       low  \n",
       "1022     39.0       low  \n",
       "\n",
       "[1023 rows x 7 columns]"
      ]
     },
     "execution_count": 11,
     "metadata": {},
     "output_type": "execute_result"
    }
   ],
   "source": [
    "singles"
   ]
  },
  {
   "cell_type": "code",
   "execution_count": 12,
   "metadata": {},
   "outputs": [],
   "source": [
    "def fast_classify2(\n",
    "    wave,\n",
    "    flux,\n",
    "    unc,\n",
    "    fit_range=[0.9, 2.4],\n",
    "    standards=STANDARDS,\n",
    "    telluric=False,\n",
    "    method=\"full\",\n",
    "):\n",
    "\n",
    "    if method == \"kirkpatrick\":\n",
    "        fit_range = [0.9, 1.4]\n",
    "    elif method == \"full\":\n",
    "        fit_range = [0.9, 2.4]\n",
    "    else:\n",
    "        pass\n",
    "\n",
    "    w = np.where(np.logical_and(wave >= fit_range[0], wave <= fit_range[1]))[0]\n",
    "\n",
    "    scales, chi = [], []\n",
    "\n",
    "    weights = np.ones(len(wave))\n",
    "\n",
    "    if telluric == True:\n",
    "        msk = np.ones(len(weights))\n",
    "        msk[\n",
    "            np.where(\n",
    "                np.logical_or(\n",
    "                    np.logical_and(wavegrid > 1.35, wavegrid < 1.42),\n",
    "                    np.logical_and(wavegrid > 1.8, wavegrid < 1.95),\n",
    "                )\n",
    "            )\n",
    "        ] = 0\n",
    "        weights = weights * msk\n",
    "\n",
    "    # Loop through standards\n",
    "    for std in standards[\"FLUX\"]:\n",
    "        scale = np.nansum(weights * (flux * std) / (unc**2)) / np.nansum(\n",
    "            (weights * std**2) / (unc**2)\n",
    "        )\n",
    "        scales.append(scale)\n",
    "        chisquared = np.nansum(\n",
    "            weights * ((flux - (std * scales[-1])) ** 2) / (unc**2)\n",
    "        )\n",
    "        chi.append(chisquared)\n",
    "    \n",
    "    return standards[\"SPT\"][np.argmin(chi)]"
   ]
  },
  {
   "cell_type": "code",
   "execution_count": 13,
   "metadata": {},
   "outputs": [],
   "source": [
    "s17low = singles[(singles.SPT_NUM==17)&(singles.SNR_CLASS=='low')].reset_index(drop=True)\n",
    "f17low, u17low = normalize(wave,s17low.FLUX[1],s17low.UNCERTAINTY[1])\n",
    "s24low = singles[(singles.SPT_NUM==24)&(singles.SNR_CLASS=='low')].reset_index(drop=True)\n",
    "f24low, u24low = normalize(wave,s24low.FLUX[0],s24low.UNCERTAINTY[0])\n",
    "\n",
    "s17mid = singles[(singles.SPT_NUM==17)&(singles.SNR_CLASS=='mid')].reset_index(drop=True)\n",
    "f17mid, u17mid = normalize(wave,s17mid.FLUX[1],s17mid.UNCERTAINTY[1])\n",
    "s24mid = singles[(singles.SPT_NUM==24)&(singles.SNR_CLASS=='mid')].reset_index(drop=True)\n",
    "f24mid, u24mid = normalize(wave,s24mid.FLUX[1],s24mid.UNCERTAINTY[1])\n",
    "\n",
    "s17hig = singles[(singles.SPT_NUM==17)&(singles.SNR_CLASS=='hig')].reset_index(drop=True)\n",
    "f17hig, u17hig = normalize(wave,s17hig.FLUX[0],s17hig.UNCERTAINTY[0])\n",
    "s24hig = singles[(singles.SPT_NUM==24)&(singles.SNR_CLASS=='hig')].reset_index(drop=True)\n",
    "f24hig, u24hig = normalize(wave,s24hig.FLUX[0],s24hig.UNCERTAINTY[0])"
   ]
  },
  {
   "cell_type": "code",
   "execution_count": 14,
   "metadata": {},
   "outputs": [],
   "source": [
    "binlow = f17low+f24low\n",
    "ulow   = u17low+u24low\n",
    "binlow, ulow = normalize(wave,binlow,ulow)\n",
    "Slow = df[df.SPT==fast_classify2(wave,binlow,ulow)].reset_index(drop=True)\n",
    "Sflow, Sulow = normalize(wave,Slow.FLUX[0],Slow.UNCERTAINTY[0])\n",
    "dlow = binlow-Sflow\n",
    "\n",
    "binmid = f17mid+f24mid\n",
    "umid   = u17mid+u24mid\n",
    "binmid, umid = normalize(wave,binmid,umid)\n",
    "Smid = df[df.SPT==fast_classify2(wave,binmid,umid)].reset_index(drop=True)\n",
    "Sfmid, Sumid = normalize(wave,Smid.FLUX[0],Smid.UNCERTAINTY[0])\n",
    "dmid = binmid-Sfmid\n",
    "\n",
    "binhig = f17hig+f24hig\n",
    "uhig   = u17hig+u24hig\n",
    "binhig, uhig = normalize(wave,binhig,uhig)\n",
    "Shig = df[df.SPT==fast_classify2(wave,binhig,uhig)].reset_index(drop=True)\n",
    "Sfhig, Suhig = normalize(wave,Shig.FLUX[0],Shig.UNCERTAINTY[0])\n",
    "dhig = binhig-Sfhig"
   ]
  },
  {
   "cell_type": "code",
   "execution_count": 15,
   "metadata": {},
   "outputs": [],
   "source": [
    "start = time.time()\n",
    "flux_cols_dic = {}\n",
    "for j in range(len(singles['FLUX'][0])):\n",
    "    fluxcol=[]\n",
    "    for i in range(len(singles)):\n",
    "        fluxcol.append(singles['FLUX'][i][j])\n",
    "    fluxname='FLUX_'+str(j)\n",
    "    flux_cols_dic[fluxname] = fluxcol\n",
    "flux_cols_df = pd.DataFrame(flux_cols_dic)\n",
    "singles = pd.concat([singles, flux_cols_df], axis=1)\n",
    "\n",
    "singles = singles.sort_values(by=['SPT_NUM','J_SNR'], ascending=[True,False])\n",
    "singles.reset_index(drop=True, inplace=True)\n",
    "end = time.time()"
   ]
  },
  {
   "cell_type": "code",
   "execution_count": null,
   "metadata": {},
   "outputs": [],
   "source": []
  },
  {
   "attachments": {},
   "cell_type": "markdown",
   "metadata": {},
   "source": [
    "Multioutput Random Forest LOW snr (<50)"
   ]
  },
  {
   "cell_type": "code",
   "execution_count": 16,
   "metadata": {},
   "outputs": [],
   "source": [
    "with open('data/BinDF_low.pickle', 'rb') as f:\n",
    "        BinDF_low = pickle.load(f)"
   ]
  },
  {
   "cell_type": "code",
   "execution_count": 17,
   "metadata": {},
   "outputs": [],
   "source": [
    "BinDF_low = BinDF_low[BinDF_low.primary_type>24]\n",
    "BinDF_low = BinDF_low[BinDF_low.primary_type<33]\n",
    "BinDF_low = BinDF_low[BinDF_low.secondary_type>31]\n",
    "BinDF_low = BinDF_low[BinDF_low.secondary_type<39]\n",
    "BinDF_low.reset_index(drop=True,inplace=True)"
   ]
  },
  {
   "cell_type": "code",
   "execution_count": 18,
   "metadata": {},
   "outputs": [],
   "source": [
    "with open('data/BinDF_low_Burg.pickle', 'wb') as f:\n",
    "        pickle.dump(BinDF_low, f)"
   ]
  },
  {
   "cell_type": "code",
   "execution_count": 21,
   "metadata": {},
   "outputs": [
    {
     "data": {
      "text/plain": [
       "(15.0, 39.0)"
      ]
     },
     "execution_count": 21,
     "metadata": {},
     "output_type": "execute_result"
    }
   ],
   "source": [
    "fastspt = [typeToNum(fast_classify(wave,fx,ns)) for fx, ns in zip(BinDF_low.system_interpolated_flux,BinDF_low.system_interpolated_noise)]\n",
    "min(fastspt), max(fastspt)"
   ]
  },
  {
   "cell_type": "code",
   "execution_count": 252,
   "metadata": {},
   "outputs": [
    {
     "name": "stdout",
     "output_type": "stream",
     "text": [
      "111.76850080490112\n"
     ]
    }
   ],
   "source": [
    "start = time.time()\n",
    "MO_low, data_low = binary_multiOutput_classifier(BinDF_low,max_depth=25,n_estimators=50,testdata=True)\n",
    "end = time.time()\n",
    "print(end-start)"
   ]
  },
  {
   "cell_type": "code",
   "execution_count": 253,
   "metadata": {},
   "outputs": [
    {
     "data": {
      "text/plain": [
       "{'x_test': array([[ 0.14790174,  0.11402851,  0.22403803, ...,  0.22129754,\n",
       "          0.21621754,  0.22097621],\n",
       "        [ 0.00501624,  0.67602095,  0.71769397, ...,  0.49052755,\n",
       "          0.18999303,  0.28472367],\n",
       "        [ 0.25583878,  0.19182142,  0.23240097, ...,  0.31863528,\n",
       "          0.2665564 ,  0.3463504 ],\n",
       "        ...,\n",
       "        [-0.64124426, -0.00423779,  0.14704028, ...,  0.25721809,\n",
       "          0.10430057,  0.15169761],\n",
       "        [ 0.25052469,  0.21153419,  0.12604058, ...,  0.34947701,\n",
       "          0.29529916,  0.38532779],\n",
       "        [ 0.17406382,  0.28080474,  0.2516636 , ...,  0.37491157,\n",
       "          0.37617768,  0.32733334]]),\n",
       " 'y_test': array([[27, 35],\n",
       "        [27, 32],\n",
       "        [27, 37],\n",
       "        ...,\n",
       "        [32, 32],\n",
       "        [25, 32],\n",
       "        [26, 38]], dtype=int64)}"
      ]
     },
     "execution_count": 253,
     "metadata": {},
     "output_type": "execute_result"
    }
   ],
   "source": [
    "data_low"
   ]
  },
  {
   "cell_type": "code",
   "execution_count": 254,
   "metadata": {},
   "outputs": [],
   "source": [
    "yput1 = []\n",
    "yput2 = []\n",
    "for i in data_low['y_test']:\n",
    "    yput1.append(i[0])\n",
    "    yput2.append(i[1])\n",
    "data_low_df = pd.DataFrame(data_low['x_test'])\n",
    "data_low_df['prim']=yput1\n",
    "data_low_df['seco']=yput2\n",
    "data_low_df.to_csv('data/data_low_Burg_50est.csv',index=False)"
   ]
  },
  {
   "cell_type": "code",
   "execution_count": 255,
   "metadata": {},
   "outputs": [
    {
     "name": "stdout",
     "output_type": "stream",
     "text": [
      "3360\n"
     ]
    }
   ],
   "source": [
    "x_test_low = data_low['x_test']\n",
    "y_test_low = data_low['y_test']\n",
    "print(len(x_test_low))"
   ]
  },
  {
   "cell_type": "code",
   "execution_count": 256,
   "metadata": {},
   "outputs": [
    {
     "data": {
      "text/plain": [
       "['MOclassifiers/MO_low_Burg_50est.pkl']"
      ]
     },
     "execution_count": 256,
     "metadata": {},
     "output_type": "execute_result"
    }
   ],
   "source": [
    "joblib.dump(MO_low, 'MOclassifiers/MO_low_Burg_50est.pkl')"
   ]
  },
  {
   "cell_type": "code",
   "execution_count": 257,
   "metadata": {},
   "outputs": [],
   "source": [
    "MO_low = joblib.load('MOclassifiers/MO_low_Burg_50est.pkl')"
   ]
  },
  {
   "cell_type": "code",
   "execution_count": 49,
   "metadata": {},
   "outputs": [],
   "source": [
    "# df_data_low = pd.read_csv(r'data/data_low.csv')\n",
    "# x_test_low = [[df_data_low[str(col)][i] for col in range(409)] for i in range(len(df_data_low))]\n",
    "# y_test_low = [[df_data_low['prim'][i],df_data_low['seco'][i]] for i in range(len(df_data_low))]"
   ]
  },
  {
   "cell_type": "code",
   "execution_count": 258,
   "metadata": {},
   "outputs": [
    {
     "name": "stdout",
     "output_type": "stream",
     "text": [
      "12.97865629196167\n"
     ]
    }
   ],
   "source": [
    "start = time.time()\n",
    "df_avgdiffprim_low, df_avgdiffseco_low, df_stdprim_low, df_stdseco_low, predsprim_low, predssec_low, realprim_low, realsec_low = binaryPrecision(x_test_low,y_test_low,MO_low, predictions=True)\n",
    "end = time.time()\n",
    "print(end-start)"
   ]
  },
  {
   "cell_type": "code",
   "execution_count": 259,
   "metadata": {},
   "outputs": [
    {
     "name": "stdout",
     "output_type": "stream",
     "text": [
      "-0.028257369614512612\n"
     ]
    },
    {
     "data": {
      "image/png": "[encoded data removed]",
      "text/plain": [
       "<Figure size 432x288 with 2 Axes>"
      ]
     },
     "metadata": {
      "needs_background": "light"
     },
     "output_type": "display_data"
    }
   ],
   "source": [
    "sns.heatmap(df_avgdiffprim_low.drop([i for i in range(16,25)]+[33,34,35,36,37,38,39],axis=1).drop([i for i in range(16,32)]+[38,39]),annot=False,linewidths=0.1,linecolor='black', cmap=\"plasma\",vmin=-2,vmax=0.75)\n",
    "print(df_avgdiffprim_low.mean(axis = 0, skipna = True).mean())"
   ]
  },
  {
   "cell_type": "code",
   "execution_count": 260,
   "metadata": {},
   "outputs": [
    {
     "name": "stdout",
     "output_type": "stream",
     "text": [
      "0.0630019390331886\n"
     ]
    },
    {
     "data": {
      "image/png": "[encoded data removed]",
      "text/plain": [
       "<Figure size 432x288 with 2 Axes>"
      ]
     },
     "metadata": {
      "needs_background": "light"
     },
     "output_type": "display_data"
    }
   ],
   "source": [
    "sns.heatmap(df_avgdiffseco_low.drop([i for i in range(16,25)]+[33,34,35,36,37,38,39],axis=1).drop([i for i in range(16,32)]+[38,39]),annot=False,linewidths=0.1,linecolor='black', cmap=\"plasma\",vmin=-7,vmax=9)\n",
    "print(df_avgdiffseco_low.mean(axis = 0, skipna = True).mean())"
   ]
  },
  {
   "cell_type": "code",
   "execution_count": 261,
   "metadata": {},
   "outputs": [
    {
     "name": "stdout",
     "output_type": "stream",
     "text": [
      "0.5621554133195283\n"
     ]
    },
    {
     "data": {
      "image/png": "[encoded data removed]",
      "text/plain": [
       "<Figure size 432x288 with 2 Axes>"
      ]
     },
     "metadata": {
      "needs_background": "light"
     },
     "output_type": "display_data"
    }
   ],
   "source": [
    "sns.heatmap(df_stdprim_low.drop([i for i in range(16,25)]+[33,34,35,36,37,38,39],axis=1).drop([i for i in range(16,32)]+[38,39]),annot=False,linewidths=0.1,linecolor='black', cmap=\"plasma\",vmin=0,vmax=1.5)\n",
    "print(df_stdprim_low.mean(axis = 0, skipna = True).mean())"
   ]
  },
  {
   "cell_type": "code",
   "execution_count": 262,
   "metadata": {},
   "outputs": [
    {
     "name": "stdout",
     "output_type": "stream",
     "text": [
      "0.7270675879700916\n"
     ]
    },
    {
     "data": {
      "image/png": "[encoded data removed]",
      "text/plain": [
       "<Figure size 432x288 with 2 Axes>"
      ]
     },
     "metadata": {
      "needs_background": "light"
     },
     "output_type": "display_data"
    }
   ],
   "source": [
    "sns.heatmap(df_stdseco_low.drop([i for i in range(16,25)]+[33,34,35,36,37,38,39],axis=1).drop([i for i in range(16,32)]+[38,39]),annot=False,linewidths=0.1,linecolor='black', cmap=\"plasma\",vmin=0,vmax=2)\n",
    "print(df_stdseco_low.mean(axis = 0, skipna = True).mean())"
   ]
  },
  {
   "cell_type": "code",
   "execution_count": 263,
   "metadata": {},
   "outputs": [
    {
     "data": {
      "text/plain": [
       "{'primary_type': {'wavegrid': [1.3428532,\n",
       "   1.3471608,\n",
       "   2.2208893,\n",
       "   2.2239618,\n",
       "   2.2270296,\n",
       "   2.2331493,\n",
       "   2.239249,\n",
       "   2.2422912,\n",
       "   2.2453282,\n",
       "   2.2544086,\n",
       "   2.257425,\n",
       "   2.2604363,\n",
       "   2.2664435,\n",
       "   2.2694392,\n",
       "   2.27243,\n",
       "   2.2843404,\n",
       "   2.2902644],\n",
       "  'importance': [0.02369862469137377,\n",
       "   0.020411334916603865,\n",
       "   0.014445903609240734,\n",
       "   0.049717323551166065,\n",
       "   0.01250316151243698,\n",
       "   0.01969258953765654,\n",
       "   0.012509866029898864,\n",
       "   0.08978952366006107,\n",
       "   0.22506029825354593,\n",
       "   0.05168603463696865,\n",
       "   0.07880811471532395,\n",
       "   0.017726403488710376,\n",
       "   0.015155887353925417,\n",
       "   0.014421223233262417,\n",
       "   0.019011939952211048,\n",
       "   0.015008232555941222,\n",
       "   0.05396388321820722]},\n",
       " 'secondary_type': {'wavegrid': [1.1921266,\n",
       "   1.196399,\n",
       "   1.2006752,\n",
       "   1.2049553,\n",
       "   1.2092391,\n",
       "   1.2135262,\n",
       "   1.2178166,\n",
       "   1.22211,\n",
       "   1.2264063,\n",
       "   1.2997085,\n",
       "   1.3040264,\n",
       "   1.3083439,\n",
       "   1.3126608,\n",
       "   1.3169771,\n",
       "   1.3212926,\n",
       "   1.4327725,\n",
       "   1.5742917,\n",
       "   1.618635,\n",
       "   1.6226279,\n",
       "   1.630594],\n",
       "  'importance': [0.007048506439608995,\n",
       "   0.0435533659724872,\n",
       "   0.04384874796821126,\n",
       "   0.04665974028232995,\n",
       "   0.02136298053726093,\n",
       "   0.10234517762147377,\n",
       "   0.031934178564291614,\n",
       "   0.018930577125370975,\n",
       "   0.014294145379778477,\n",
       "   0.007407866451141083,\n",
       "   0.011798931955160663,\n",
       "   0.015006255328337943,\n",
       "   0.027515564904357376,\n",
       "   0.013531291225520407,\n",
       "   0.008169114442807742,\n",
       "   0.008745800363434565,\n",
       "   0.007067114243512018,\n",
       "   0.006427575507933114,\n",
       "   0.006313422402167641,\n",
       "   0.005305467081005323]}}"
      ]
     },
     "execution_count": 263,
     "metadata": {},
     "output_type": "execute_result"
    },
    {
     "data": {
      "image/png": "[encoded data removed]",
      "text/plain": [
       "<Figure size 432x288 with 2 Axes>"
      ]
     },
     "metadata": {
      "needs_background": "light"
     },
     "output_type": "display_data"
    }
   ],
   "source": [
    "fig, ax = plt.subplots(2,1,sharex=True)\n",
    "\n",
    "ax[0].plot(wavegrid,f17low)\n",
    "ax[0].plot(wavegrid,f24low)\n",
    "ax[0].set_ylabel('Normalized Flux ($\\\\frac{erg}{cm}\\\\frac{1}{s}$)')\n",
    "ax[0].legend(['M7 normalized flux','L4 normalized flux'])\n",
    "\n",
    "feat_impts_low = {'primary_type':{},'secondary_type':{}}\n",
    "ddd = []\n",
    "eee = []\n",
    "for clf in MO_low.estimators_:\n",
    "    ax[1].plot(wavegrid,clf.feature_importances_, alpha=0.8)\n",
    "    max_imp = max(clf.feature_importances_)\n",
    "    dd = []\n",
    "    ee = []\n",
    "    for i in np.where(clf.feature_importances_ >= 0.05*max_imp)[0]:\n",
    "        dd.append(wavegrid[i])\n",
    "        ee.append(clf.feature_importances_[i])\n",
    "    ddd.append(dd)\n",
    "    eee.append(ee)\n",
    "ax[0].axvspan(1.35,1.42, alpha=0.3, color='k')\n",
    "ax[1].axvspan(1.35,1.42, alpha=0.3, color='k')\n",
    "ax[0].axvspan(1.80,1.95, alpha=0.3, color='k')\n",
    "ax[1].axvspan(1.80,1.95, alpha=0.3, color='k')\n",
    "ax[1].legend(['primary type', 'secondary type', 'telluric band'])\n",
    "plt.subplots_adjust(hspace=0)\n",
    "fig.suptitle('Feature importance and M7+L4 binary template')\n",
    "plt.xlabel('wavelength ($\\mu$m)')\n",
    "feat_impts_low['primary_type']['wavegrid'] = ddd[0]\n",
    "feat_impts_low['primary_type']['importance'] = eee[0]\n",
    "feat_impts_low['secondary_type']['wavegrid'] = ddd[1]\n",
    "feat_impts_low['secondary_type']['importance'] = eee[1]\n",
    "feat_impts_low"
   ]
  },
  {
   "cell_type": "code",
   "execution_count": 264,
   "metadata": {},
   "outputs": [],
   "source": [
    "precisionprim_low1, recallprim_low1, f1_scoreprim_low1, accuracyprim_low1 = calculate_metrics(realprim_low,predsprim_low,1)\n",
    "precisionsec_low1, recallsec_low1, f1_scoresec_low1, accuracysec_low1 = calculate_metrics(realsec_low,predssec_low,1)\n",
    "precisionprim_low3, recallprim_low3, f1_scoreprim_low3, accuracyprim_low3 = calculate_metrics(realprim_low,predsprim_low,3)\n",
    "precisionsec_low3, recallsec_low3, f1_scoresec_low3, accuracysec_low3 = calculate_metrics(realsec_low,predssec_low,3)"
   ]
  },
  {
   "cell_type": "code",
   "execution_count": 265,
   "metadata": {},
   "outputs": [],
   "source": [
    "with open('data/precisionprim_low1_Burg_50est.pickle', 'wb') as file:\n",
    "    pickle.dump(precisionprim_low1, file)\n",
    "with open('data/recallprim_low1_Burg_50est.pickle', 'wb') as file:\n",
    "    pickle.dump(recallprim_low1, file)\n",
    "with open('data/f1_scoreprim_low1_Burg_50est.pickle', 'wb') as file:\n",
    "    pickle.dump(f1_scoreprim_low1, file)\n",
    "with open('data/accuracyprim_low1_Burg_50est.pickle', 'wb') as file:\n",
    "    pickle.dump(accuracyprim_low1, file)"
   ]
  },
  {
   "cell_type": "code",
   "execution_count": 266,
   "metadata": {},
   "outputs": [],
   "source": [
    "with open('data/precisionsec_low1_Burg_50est.pickle', 'wb') as file:\n",
    "    pickle.dump(precisionsec_low1, file)\n",
    "with open('data/recallsec_low1_Burg_50est.pickle', 'wb') as file:\n",
    "    pickle.dump(recallsec_low1, file)\n",
    "with open('data/f1_scoresec_low1_Burg_50est.pickle', 'wb') as file:\n",
    "    pickle.dump(f1_scoresec_low1, file)\n",
    "with open('data/accuracysec_low1_Burg_50est.pickle', 'wb') as file:\n",
    "    pickle.dump(accuracysec_low1, file)"
   ]
  },
  {
   "cell_type": "code",
   "execution_count": 267,
   "metadata": {},
   "outputs": [],
   "source": [
    "with open('data/precisionprim_low3_Burd_50est.pickle', 'wb') as file:\n",
    "    pickle.dump(precisionprim_low3, file)\n",
    "with open('data/recallprim_low3_Burg_50est.pickle', 'wb') as file:\n",
    "    pickle.dump(recallprim_low3, file)\n",
    "with open('data/f1_scoreprim_low3_Burg_50est.pickle', 'wb') as file:\n",
    "    pickle.dump(f1_scoreprim_low3, file)\n",
    "with open('data/accuracyprim_low3_Burg_50est.pickle', 'wb') as file:\n",
    "    pickle.dump(accuracyprim_low3, file)"
   ]
  },
  {
   "cell_type": "code",
   "execution_count": 268,
   "metadata": {},
   "outputs": [],
   "source": [
    "with open('data/precisionsec_low3_Burg_50est.pickle', 'wb') as file:\n",
    "    pickle.dump(precisionsec_low3, file)\n",
    "with open('data/recallsec_low3_Burg_50est.pickle', 'wb') as file:\n",
    "    pickle.dump(recallsec_low3, file)\n",
    "with open('data/f1_scoresec_low3_Burg_50est.pickle', 'wb') as file:\n",
    "    pickle.dump(f1_scoresec_low3, file)\n",
    "with open('data/accuracysec_low3_Burg_50est.pickle', 'wb') as file:\n",
    "    pickle.dump(accuracysec_low3, file)"
   ]
  },
  {
   "cell_type": "code",
   "execution_count": null,
   "metadata": {},
   "outputs": [],
   "source": []
  },
  {
   "attachments": {},
   "cell_type": "markdown",
   "metadata": {},
   "source": [
    "Multioutput Random Fores MID snr (50<snr<100)"
   ]
  },
  {
   "cell_type": "code",
   "execution_count": 23,
   "metadata": {},
   "outputs": [],
   "source": [
    "with open('data/BinDF_mid.pickle', 'rb') as f:\n",
    "        BinDF_mid = pickle.load(f)"
   ]
  },
  {
   "cell_type": "code",
   "execution_count": 24,
   "metadata": {},
   "outputs": [],
   "source": [
    "BinDF_mid = BinDF_mid[BinDF_mid.primary_type>24]\n",
    "BinDF_mid = BinDF_mid[BinDF_mid.primary_type<33]\n",
    "BinDF_mid = BinDF_mid[BinDF_mid.secondary_type>31]\n",
    "BinDF_mid = BinDF_mid[BinDF_mid.secondary_type<39]\n",
    "BinDF_mid.reset_index(drop=True,inplace=True)"
   ]
  },
  {
   "cell_type": "code",
   "execution_count": 25,
   "metadata": {},
   "outputs": [],
   "source": [
    "with open('data/BinDF_mid_Burg.pickle', 'wb') as f:\n",
    "        pickle.dump(BinDF_mid, f)"
   ]
  },
  {
   "cell_type": "code",
   "execution_count": 26,
   "metadata": {},
   "outputs": [
    {
     "data": {
      "text/plain": [
       "(22.0, 34.0)"
      ]
     },
     "execution_count": 26,
     "metadata": {},
     "output_type": "execute_result"
    }
   ],
   "source": [
    "fastspt = [typeToNum(fast_classify(wave,fx,ns)) for fx, ns in zip(BinDF_mid.system_interpolated_flux,BinDF_mid.system_interpolated_noise)]\n",
    "min(fastspt), max(fastspt)"
   ]
  },
  {
   "cell_type": "code",
   "execution_count": 273,
   "metadata": {},
   "outputs": [
    {
     "name": "stdout",
     "output_type": "stream",
     "text": [
      "110.14508533477783\n"
     ]
    }
   ],
   "source": [
    "start = time.time()\n",
    "clfmid, data_mid = binary_multiOutput_classifier(BinDF_mid,max_depth=25,n_estimators=50,testdata=True)\n",
    "end = time.time()\n",
    "print(end-start)"
   ]
  },
  {
   "cell_type": "code",
   "execution_count": 274,
   "metadata": {},
   "outputs": [],
   "source": [
    "x_test_mid = data_mid['x_test']\n",
    "y_test_mid = data_mid['y_test']"
   ]
  },
  {
   "cell_type": "code",
   "execution_count": 275,
   "metadata": {},
   "outputs": [],
   "source": [
    "yput1 = []\n",
    "yput2 = []\n",
    "for i in data_mid['y_test']:\n",
    "    yput1.append(i[0])\n",
    "    yput2.append(i[1])\n",
    "data_mid_df = pd.DataFrame(data_mid['x_test'])\n",
    "data_mid_df['prim']=yput1\n",
    "data_mid_df['seco']=yput2\n",
    "data_mid_df.to_csv('data/data_mid_Burg_50est.csv',index=False)"
   ]
  },
  {
   "cell_type": "code",
   "execution_count": 276,
   "metadata": {},
   "outputs": [
    {
     "data": {
      "text/plain": [
       "['MOclassifiers/MO_mid_Burg_50est.pkl']"
      ]
     },
     "execution_count": 276,
     "metadata": {},
     "output_type": "execute_result"
    }
   ],
   "source": [
    "joblib.dump(clfmid, 'MOclassifiers/MO_mid_Burg_50est.pkl')"
   ]
  },
  {
   "cell_type": "code",
   "execution_count": 277,
   "metadata": {},
   "outputs": [],
   "source": [
    "MO_mid = joblib.load('MOclassifiers/MO_mid_Burg_50est.pkl')"
   ]
  },
  {
   "cell_type": "code",
   "execution_count": 278,
   "metadata": {},
   "outputs": [],
   "source": [
    "# df_data_mid = pd.read_csv(r'data/data_mid.csv')\n",
    "# x_test_mid = [[df_data_mid[str(col)][i] for col in range(409)] for i in range(len(df_data_mid))]\n",
    "# y_test_mid = [[df_data_mid['prim'][i],df_data_mid['seco'][i]] for i in range(len(df_data_mid))]"
   ]
  },
  {
   "cell_type": "code",
   "execution_count": 279,
   "metadata": {},
   "outputs": [
    {
     "name": "stdout",
     "output_type": "stream",
     "text": [
      "12.719639301300049\n"
     ]
    }
   ],
   "source": [
    "start = time.time()\n",
    "df_avgdiffprim_mid, df_avgdiffseco_mid, df_stdprim_mid, df_stdseco_mid, predsprim_mid, predssec_mid, realprim_mid, realsec_mid = binaryPrecision(x_test_mid,y_test_mid,MO_mid,predictions=True)\n",
    "end = time.time()\n",
    "print(end-start)"
   ]
  },
  {
   "cell_type": "code",
   "execution_count": 280,
   "metadata": {},
   "outputs": [
    {
     "name": "stdout",
     "output_type": "stream",
     "text": [
      "-0.013155633266065487\n"
     ]
    },
    {
     "data": {
      "image/png": "[encoded data removed]",
      "text/plain": [
       "<Figure size 432x288 with 2 Axes>"
      ]
     },
     "metadata": {
      "needs_background": "light"
     },
     "output_type": "display_data"
    }
   ],
   "source": [
    "sns.heatmap(df_avgdiffprim_mid.drop([i for i in range(16,25)]+[33,34,35,36,37,38,39],axis=1).drop([i for i in range(16,32)]+[38,39]),annot=False,linewidths=0.1,linecolor='black', cmap=\"plasma\",vmin=-2,vmax=0.75)\n",
    "print(df_avgdiffprim_mid.mean(axis = 0, skipna = True).mean())"
   ]
  },
  {
   "cell_type": "code",
   "execution_count": 281,
   "metadata": {},
   "outputs": [
    {
     "name": "stdout",
     "output_type": "stream",
     "text": [
      "-0.003316258762236783\n"
     ]
    },
    {
     "data": {
      "image/png": "[encoded data removed]",
      "text/plain": [
       "<Figure size 432x288 with 2 Axes>"
      ]
     },
     "metadata": {
      "needs_background": "light"
     },
     "output_type": "display_data"
    }
   ],
   "source": [
    "sns.heatmap(df_avgdiffseco_mid.drop([i for i in range(16,25)]+[33,34,35,36,37,38,39],axis=1).drop([i for i in range(16,32)]+[38,39]),annot=False,linewidths=0.1,linecolor='black', cmap=\"plasma\",vmin=-7,vmax=9)\n",
    "print(df_avgdiffseco_mid.mean(axis = 0, skipna = True).mean())"
   ]
  },
  {
   "cell_type": "code",
   "execution_count": 282,
   "metadata": {},
   "outputs": [
    {
     "name": "stdout",
     "output_type": "stream",
     "text": [
      "0.30722858819612375\n"
     ]
    },
    {
     "data": {
      "image/png": "[encoded data removed]",
      "text/plain": [
       "<Figure size 432x288 with 2 Axes>"
      ]
     },
     "metadata": {
      "needs_background": "light"
     },
     "output_type": "display_data"
    }
   ],
   "source": [
    "sns.heatmap(df_stdprim_mid.drop([i for i in range(16,25)]+[33,34,35,36,37,38,39],axis=1).drop([i for i in range(16,32)]+[38,39]),annot=False,linewidths=0.1,linecolor='black', cmap=\"plasma\",vmin=0,vmax=1.5)\n",
    "print(df_stdprim_mid.mean(axis = 0, skipna = True).mean())"
   ]
  },
  {
   "cell_type": "code",
   "execution_count": 283,
   "metadata": {},
   "outputs": [
    {
     "name": "stdout",
     "output_type": "stream",
     "text": [
      "0.5143379420389403\n"
     ]
    },
    {
     "data": {
      "image/png": "[encoded data removed]",
      "text/plain": [
       "<Figure size 432x288 with 2 Axes>"
      ]
     },
     "metadata": {
      "needs_background": "light"
     },
     "output_type": "display_data"
    }
   ],
   "source": [
    "sns.heatmap(df_stdseco_mid.drop([i for i in range(16,25)]+[33,34,35,36,37,38,39],axis=1).drop([i for i in range(16,32)]+[38,39]),annot=False,linewidths=0.1,linecolor='black', cmap=\"plasma\",vmin=0,vmax=2)\n",
    "print(df_stdseco_mid.mean(axis = 0, skipna = True).mean())"
   ]
  },
  {
   "cell_type": "code",
   "execution_count": 284,
   "metadata": {},
   "outputs": [
    {
     "data": {
      "text/plain": [
       "{'primary_type': {'wavegrid': [1.2479242,\n",
       "   1.9666836,\n",
       "   2.0211103,\n",
       "   2.0311828,\n",
       "   2.2754152,\n",
       "   2.3738995],\n",
       "  'importance': [0.06799297067058346,\n",
       "   0.3960745844097474,\n",
       "   0.14984818045808296,\n",
       "   0.12300291599938246,\n",
       "   0.035395150820039696,\n",
       "   0.025197984633014422]},\n",
       " 'secondary_type': {'wavegrid': [1.2049553,\n",
       "   1.2092391,\n",
       "   1.2135262,\n",
       "   1.2997085,\n",
       "   1.3040264,\n",
       "   1.3083439,\n",
       "   1.3126608,\n",
       "   1.3514667,\n",
       "   1.3557706,\n",
       "   1.4285238,\n",
       "   1.4834142,\n",
       "   1.582411],\n",
       "  'importance': [0.03755877133275238,\n",
       "   0.024342305751290774,\n",
       "   0.26836902650790345,\n",
       "   0.06165194726355398,\n",
       "   0.015537524219793564,\n",
       "   0.02046007157066733,\n",
       "   0.028043912536808536,\n",
       "   0.023548443006568505,\n",
       "   0.018558426573314055,\n",
       "   0.019525636706586854,\n",
       "   0.013993241045217042,\n",
       "   0.0136989941486999]}}"
      ]
     },
     "execution_count": 284,
     "metadata": {},
     "output_type": "execute_result"
    },
    {
     "data": {
      "image/png": "[encoded data removed]",
      "text/plain": [
       "<Figure size 432x288 with 2 Axes>"
      ]
     },
     "metadata": {
      "needs_background": "light"
     },
     "output_type": "display_data"
    }
   ],
   "source": [
    "fig, ax = plt.subplots(2,1,sharex=True)\n",
    "\n",
    "ax[0].plot(wavegrid,f17mid)\n",
    "ax[0].plot(wavegrid,f24mid)\n",
    "ax[0].set_ylabel('Normalized Flux ($\\\\frac{erg}{cm}\\\\frac{1}{s}$)')\n",
    "ax[0].legend(['M7 normalized flux','L4 normalized flux'])\n",
    "\n",
    "feat_impts_mid = {'primary_type':{},'secondary_type':{}}\n",
    "ddd = []\n",
    "eee = []\n",
    "for clf in MO_mid.estimators_:\n",
    "    ax[1].plot(wavegrid,clf.feature_importances_, alpha=0.8)\n",
    "    max_imp = max(clf.feature_importances_)\n",
    "    dd = []\n",
    "    ee = []\n",
    "    for i in np.where(clf.feature_importances_ >= 0.05*max_imp)[0]:\n",
    "        dd.append(wavegrid[i])\n",
    "        ee.append(clf.feature_importances_[i])\n",
    "    ddd.append(dd)\n",
    "    eee.append(ee)\n",
    "ax[0].axvspan(1.35,1.42, alpha=0.3, color='k')\n",
    "ax[1].axvspan(1.35,1.42, alpha=0.3, color='k')\n",
    "ax[0].axvspan(1.80,1.95, alpha=0.3, color='k')\n",
    "ax[1].axvspan(1.80,1.95, alpha=0.3, color='k')\n",
    "ax[1].legend(['primary type', 'secondary type', 'telluric band'])\n",
    "plt.subplots_adjust(hspace=0)\n",
    "fig.suptitle('Feature importance and M7+L4 binary template')\n",
    "plt.xlabel('wavelength ($\\mu$m)')\n",
    "feat_impts_mid['primary_type']['wavegrid'] = ddd[0]\n",
    "feat_impts_mid['primary_type']['importance'] = eee[0]\n",
    "feat_impts_mid['secondary_type']['wavegrid'] = ddd[1]\n",
    "feat_impts_mid['secondary_type']['importance'] = eee[1]\n",
    "feat_impts_mid"
   ]
  },
  {
   "cell_type": "code",
   "execution_count": 285,
   "metadata": {},
   "outputs": [],
   "source": [
    "precisionprim_mid1, recallprim_mid1, f1_scoreprim_mid1, accuracyprim_mid1 = calculate_metrics(realprim_mid,predsprim_mid,1)\n",
    "precisionsec_mid1, recallsec_mid1, f1_scoresec_mid1, accuracysec_mid1 = calculate_metrics(realsec_mid,predssec_mid,1)\n",
    "precisionprim_mid3, recallprim_mid3, f1_scoreprim_mid3, accuracyprim_mid3 = calculate_metrics(realprim_mid,predsprim_mid,3)\n",
    "precisionsec_mid3, recallsec_mid3, f1_scoresec_mid3, accuracysec_mid3 = calculate_metrics(realsec_mid,predssec_mid,3)"
   ]
  },
  {
   "cell_type": "code",
   "execution_count": 286,
   "metadata": {},
   "outputs": [],
   "source": [
    "with open('data/precisionprim_mid1_Burg_50est.pickle', 'wb') as file:\n",
    "    pickle.dump(precisionprim_mid1, file)\n",
    "with open('data/recallprim_mid1_Burg_50est.pickle', 'wb') as file:\n",
    "    pickle.dump(recallprim_mid1, file)\n",
    "with open('data/f1_scoreprim_mid1_Burg_50est.pickle', 'wb') as file:\n",
    "    pickle.dump(f1_scoreprim_mid1, file)\n",
    "with open('data/accuracyprim_mid1_Burg_50est.pickle', 'wb') as file:\n",
    "    pickle.dump(accuracyprim_mid1, file)"
   ]
  },
  {
   "cell_type": "code",
   "execution_count": 287,
   "metadata": {},
   "outputs": [],
   "source": [
    "with open('data/precisionsec_mid1_Burg_50est.pickle', 'wb') as file:\n",
    "    pickle.dump(precisionsec_mid1, file)\n",
    "with open('data/recallsec_mid1_Burg_50est.pickle', 'wb') as file:\n",
    "    pickle.dump(recallsec_mid1, file)\n",
    "with open('data/f1_scoresec_mid1_Burg_50est.pickle', 'wb') as file:\n",
    "    pickle.dump(f1_scoresec_mid1, file)\n",
    "with open('data/accuracysec_mid1_Burg_50est.pickle', 'wb') as file:\n",
    "    pickle.dump(accuracysec_mid1, file)"
   ]
  },
  {
   "cell_type": "code",
   "execution_count": 288,
   "metadata": {},
   "outputs": [],
   "source": [
    "with open('data/precisionprim_mid3_Burg_50est.pickle', 'wb') as file:\n",
    "    pickle.dump(precisionprim_mid3, file)\n",
    "with open('data/recallprim_mid3_Burg_50est.pickle', 'wb') as file:\n",
    "    pickle.dump(recallprim_mid3, file)\n",
    "with open('data/f1_scoreprim_mid3_Burg_50est.pickle', 'wb') as file:\n",
    "    pickle.dump(f1_scoreprim_mid3, file)\n",
    "with open('data/accuracyprim_mid3_Burg_50est.pickle', 'wb') as file:\n",
    "    pickle.dump(accuracyprim_mid3, file)"
   ]
  },
  {
   "cell_type": "code",
   "execution_count": 289,
   "metadata": {},
   "outputs": [],
   "source": [
    "with open('data/precisionsec_mid3_Burg_50est.pickle', 'wb') as file:\n",
    "    pickle.dump(precisionsec_mid3, file)\n",
    "with open('data/recallsec_mid3_Burg_50est.pickle', 'wb') as file:\n",
    "    pickle.dump(recallsec_mid3, file)\n",
    "with open('data/f1_scoresec_mid3_Burg_50est.pickle', 'wb') as file:\n",
    "    pickle.dump(f1_scoresec_mid3, file)\n",
    "with open('data/accuracysec_mid3_Burg_50est.pickle', 'wb') as file:\n",
    "    pickle.dump(accuracysec_mid3, file)"
   ]
  },
  {
   "cell_type": "code",
   "execution_count": null,
   "metadata": {},
   "outputs": [],
   "source": []
  },
  {
   "attachments": {},
   "cell_type": "markdown",
   "metadata": {},
   "source": [
    "Multioutput Random Forest HIG snr (>100)"
   ]
  },
  {
   "cell_type": "code",
   "execution_count": 27,
   "metadata": {},
   "outputs": [],
   "source": [
    "with open('data/BinDF_hig.pickle', 'rb') as f:\n",
    "        BinDF_hig = pickle.load(f)"
   ]
  },
  {
   "cell_type": "code",
   "execution_count": 28,
   "metadata": {},
   "outputs": [],
   "source": [
    "BinDF_hig = BinDF_hig[BinDF_hig.primary_type>24]\n",
    "BinDF_hig = BinDF_hig[BinDF_hig.primary_type<33]\n",
    "BinDF_hig = BinDF_hig[BinDF_hig.secondary_type>31]\n",
    "BinDF_hig = BinDF_hig[BinDF_hig.secondary_type<39]\n",
    "BinDF_hig.reset_index(drop=True,inplace=True)"
   ]
  },
  {
   "cell_type": "code",
   "execution_count": 32,
   "metadata": {},
   "outputs": [
    {
     "data": {
      "text/plain": [
       "25"
      ]
     },
     "execution_count": 32,
     "metadata": {},
     "output_type": "execute_result"
    }
   ],
   "source": [
    "min(BinDF_hig.primary_type)"
   ]
  },
  {
   "cell_type": "code",
   "execution_count": 29,
   "metadata": {},
   "outputs": [],
   "source": [
    "with open('data/BinDF_hig_Burg.pickle', 'wb') as f:\n",
    "        pickle.dump(BinDF_hig, f)"
   ]
  },
  {
   "cell_type": "code",
   "execution_count": 30,
   "metadata": {},
   "outputs": [
    {
     "data": {
      "text/plain": [
       "(22.0, 34.0)"
      ]
     },
     "execution_count": 30,
     "metadata": {},
     "output_type": "execute_result"
    }
   ],
   "source": [
    "fastspt = [typeToNum(fast_classify(wave,fx,ns)) for fx, ns in zip(BinDF_hig.system_interpolated_flux,BinDF_hig.system_interpolated_noise)]\n",
    "min(fastspt), max(fastspt)"
   ]
  },
  {
   "cell_type": "code",
   "execution_count": 129,
   "metadata": {},
   "outputs": [
    {
     "name": "stdout",
     "output_type": "stream",
     "text": [
      "41.50168418884277\n"
     ]
    }
   ],
   "source": [
    "start = time.time()\n",
    "clfhig, data_hig = binary_multiOutput_classifier(BinDF_hig,max_depth=25,n_estimators=50,testdata=True)\n",
    "end = time.time()\n",
    "print(end-start)"
   ]
  },
  {
   "cell_type": "code",
   "execution_count": 130,
   "metadata": {},
   "outputs": [],
   "source": [
    "yput1 = []\n",
    "yput2 = []\n",
    "for i in data_hig['y_test']:\n",
    "    yput1.append(i[0])\n",
    "    yput2.append(i[1])\n",
    "data_hig_df = pd.DataFrame(data_hig['x_test'])\n",
    "data_hig_df['prim']=yput1\n",
    "data_hig_df['seco']=yput2\n",
    "data_hig_df\n",
    "data_hig_df.to_csv('data/data_hig_Burg_50est.csv',index=False)"
   ]
  },
  {
   "cell_type": "code",
   "execution_count": 131,
   "metadata": {},
   "outputs": [],
   "source": [
    "x_test_hig = data_hig['x_test']\n",
    "y_test_hig = data_hig['y_test']"
   ]
  },
  {
   "cell_type": "code",
   "execution_count": 132,
   "metadata": {},
   "outputs": [
    {
     "data": {
      "text/plain": [
       "['MOclassifiers/MO_hig_Burg_50est.pkl']"
      ]
     },
     "execution_count": 132,
     "metadata": {},
     "output_type": "execute_result"
    }
   ],
   "source": [
    "joblib.dump(clfhig, 'MOclassifiers/MO_hig_Burg_50est.pkl')"
   ]
  },
  {
   "cell_type": "code",
   "execution_count": 133,
   "metadata": {},
   "outputs": [],
   "source": [
    "MO_hig = joblib.load('MOclassifiers/MO_hig_Burg_50est.pkl')"
   ]
  },
  {
   "cell_type": "code",
   "execution_count": 134,
   "metadata": {},
   "outputs": [],
   "source": [
    "# df_data_hig = pd.read_csv(r'data/data_hig.csv')\n",
    "# x_test_hig = [[df_data_hig[str(col)][i] for col in range(409)] for i in range(len(df_data_hig))]\n",
    "# y_test_hig = [[df_data_hig['prim'][i],df_data_hig['seco'][i]] for i in range(len(df_data_hig))]"
   ]
  },
  {
   "cell_type": "code",
   "execution_count": 135,
   "metadata": {},
   "outputs": [
    {
     "name": "stdout",
     "output_type": "stream",
     "text": [
      "7.807458400726318\n"
     ]
    }
   ],
   "source": [
    "start = time.time()\n",
    "df_avgdiffprim_hig, df_avgdiffseco_hig, df_stdprim_hig, df_stdseco_hig, predsprim_hig, predssec_hig, realprim_hig, realsec_hig = binaryPrecision(x_test_hig,y_test_hig,MO_hig, predictions=True)\n",
    "end = time.time()\n",
    "print(end-start)"
   ]
  },
  {
   "cell_type": "code",
   "execution_count": 236,
   "metadata": {},
   "outputs": [
    {
     "name": "stdout",
     "output_type": "stream",
     "text": [
      "0.0038802083333334125\n"
     ]
    },
    {
     "data": {
      "image/png": "[encoded data removed]",
      "text/plain": [
       "<Figure size 432x288 with 2 Axes>"
      ]
     },
     "metadata": {
      "needs_background": "light"
     },
     "output_type": "display_data"
    }
   ],
   "source": [
    "sns.heatmap(df_avgdiffprim_hig.drop([i for i in range(16,25)]+[33,34,35,36,37,38,39],axis=1).drop([i for i in range(16,32)]+[38,39]),annot=False,linewidths=0.1,linecolor='black', cmap=\"plasma\",vmin=-2,vmax=0.75)\n",
    "print(df_avgdiffprim_hig.mean(axis = 0, skipna = True).mean())"
   ]
  },
  {
   "cell_type": "code",
   "execution_count": 237,
   "metadata": {},
   "outputs": [
    {
     "name": "stdout",
     "output_type": "stream",
     "text": [
      "-0.013195188492063248\n"
     ]
    },
    {
     "data": {
      "image/png": "[encoded data removed]",
      "text/plain": [
       "<Figure size 432x288 with 2 Axes>"
      ]
     },
     "metadata": {
      "needs_background": "light"
     },
     "output_type": "display_data"
    }
   ],
   "source": [
    "sns.heatmap(df_avgdiffseco_hig.drop([i for i in range(16,25)]+[33,34,35,36,37,38,39],axis=1).drop([i for i in range(16,32)]+[38,39]),annot=False,linewidths=0.1,linecolor='black', cmap=\"plasma\",vmin=-7,vmax=9)\n",
    "print(df_avgdiffseco_hig.mean(axis = 0, skipna = True).mean())"
   ]
  },
  {
   "cell_type": "code",
   "execution_count": 238,
   "metadata": {},
   "outputs": [
    {
     "name": "stdout",
     "output_type": "stream",
     "text": [
      "0.12444174895662426\n"
     ]
    },
    {
     "data": {
      "image/png": "[encoded data removed]",
      "text/plain": [
       "<Figure size 432x288 with 2 Axes>"
      ]
     },
     "metadata": {
      "needs_background": "light"
     },
     "output_type": "display_data"
    }
   ],
   "source": [
    "sns.heatmap(df_stdprim_hig.drop([i for i in range(16,25)]+[33,34,35,36,37,38,39],axis=1).drop([i for i in range(16,32)]+[38,39]),annot=False,linewidths=0.1,linecolor='black', cmap=\"plasma\",vmin=0,vmax=1.5)\n",
    "print(df_stdprim_hig.mean(axis = 0, skipna = True).mean())"
   ]
  },
  {
   "cell_type": "code",
   "execution_count": 239,
   "metadata": {},
   "outputs": [
    {
     "name": "stdout",
     "output_type": "stream",
     "text": [
      "0.16803397751794147\n"
     ]
    },
    {
     "data": {
      "image/png": "[encoded data removed]",
      "text/plain": [
       "<Figure size 432x288 with 2 Axes>"
      ]
     },
     "metadata": {
      "needs_background": "light"
     },
     "output_type": "display_data"
    }
   ],
   "source": [
    "sns.heatmap(df_stdseco_hig.drop([i for i in range(16,25)]+[33,34,35,36,37,38,39],axis=1).drop([i for i in range(16,32)]+[38,39]),annot=False,linewidths=0.1,linecolor='black', cmap=\"plasma\",vmin=0,vmax=2)\n",
    "print(df_stdseco_hig.mean(axis = 0, skipna = True).mean())"
   ]
  },
  {
   "cell_type": "code",
   "execution_count": 246,
   "metadata": {},
   "outputs": [
    {
     "data": {
      "text/plain": [
       "{'primary_type': {'wavegrid': [1.0268184,\n",
       "   1.3514667,\n",
       "   2.3512332,\n",
       "   2.3540823,\n",
       "   2.3795228],\n",
       "  'importance': [0.07868068752380578,\n",
       "   0.06716474112695328,\n",
       "   0.13380928474573026,\n",
       "   0.03026157964550967,\n",
       "   0.5644199451124775]},\n",
       " 'secondary_type': {'wavegrid': [1.0790101,\n",
       "   1.2049553,\n",
       "   1.2264063,\n",
       "   1.6146357,\n",
       "   1.618635,\n",
       "   1.6424943,\n",
       "   2.0211103],\n",
       "  'importance': [0.021636235991066274,\n",
       "   0.23094865165640868,\n",
       "   0.3715265449767379,\n",
       "   0.03535178003992245,\n",
       "   0.020898165445676752,\n",
       "   0.03691874214218578,\n",
       "   0.03592875310952344]}}"
      ]
     },
     "execution_count": 246,
     "metadata": {},
     "output_type": "execute_result"
    },
    {
     "data": {
      "image/png": "[encoded data removed]",
      "text/plain": [
       "<Figure size 432x288 with 2 Axes>"
      ]
     },
     "metadata": {
      "needs_background": "light"
     },
     "output_type": "display_data"
    }
   ],
   "source": [
    "fig, ax = plt.subplots(2,1,sharex=True)\n",
    "\n",
    "ax[0].plot(wavegrid,f17hig)\n",
    "ax[0].plot(wavegrid,f24hig)\n",
    "ax[0].set_ylabel('Normalized Flux ($\\\\frac{erg}{cm}\\\\frac{1}{s}$)')\n",
    "ax[0].legend(['M7 normalized flux','L4 normalized flux'])\n",
    "\n",
    "feat_impts_hig = {'primary_type':{},'secondary_type':{}}\n",
    "ddd = []\n",
    "eee = []\n",
    "for clf in clfhig.estimators_:\n",
    "    ax[1].plot(wavegrid,clf.feature_importances_, alpha=0.8)\n",
    "    max_imp = max(clf.feature_importances_)\n",
    "    dd = []\n",
    "    ee = []\n",
    "    for i in np.where(clf.feature_importances_ >= 0.05*max_imp)[0]:\n",
    "        dd.append(wavegrid[i])\n",
    "        ee.append(clf.feature_importances_[i])\n",
    "    ddd.append(dd)\n",
    "    eee.append(ee)\n",
    "ax[0].axvspan(1.35,1.42, alpha=0.3, color='k')\n",
    "ax[1].axvspan(1.35,1.42, alpha=0.3, color='k')\n",
    "ax[0].axvspan(1.80,1.95, alpha=0.3, color='k')\n",
    "ax[1].axvspan(1.80,1.95, alpha=0.3, color='k')\n",
    "ax[1].legend(['primary type', 'secondary type', 'telluric band'])\n",
    "plt.subplots_adjust(hspace=0)\n",
    "fig.suptitle('Feature importance and M7+L4 binary template')\n",
    "plt.xlabel('wavelength ($\\mu$m)')\n",
    "feat_impts_hig['primary_type']['wavegrid'] = ddd[0]\n",
    "feat_impts_hig['primary_type']['importance'] = eee[0]\n",
    "feat_impts_hig['secondary_type']['wavegrid'] = ddd[1]\n",
    "feat_impts_hig['secondary_type']['importance'] = eee[1]\n",
    "feat_impts_hig"
   ]
  },
  {
   "cell_type": "code",
   "execution_count": 141,
   "metadata": {},
   "outputs": [],
   "source": [
    "precisionprim_hig1, recallprim_hig1, f1_scoreprim_hig1, accuracyprim_hig1 = calculate_metrics(realprim_hig,predsprim_hig,1)\n",
    "precisionsec_hig1, recallsec_hig1, f1_scoresec_hig1, accuracysec_hig1 = calculate_metrics(realsec_hig,predssec_hig,1)\n",
    "precisionprim_hig3, recallprim_hig3, f1_scoreprim_hig3, accuracyprim_hig3 = calculate_metrics(realprim_hig,predsprim_hig,3)\n",
    "precisionsec_hig3, recallsec_hig3, f1_scoresec_hig3, accuracysec_hig3 = calculate_metrics(realsec_hig,predssec_hig,3)"
   ]
  },
  {
   "cell_type": "code",
   "execution_count": 142,
   "metadata": {},
   "outputs": [],
   "source": [
    "with open('data/precisionprim_hig1_Burg_50est.pickle', 'wb') as file:\n",
    "    pickle.dump(precisionprim_hig1, file)\n",
    "with open('data/recallprim_hig1_Burg_50est.pickle', 'wb') as file:\n",
    "    pickle.dump(recallprim_hig1, file)\n",
    "with open('data/f1_scoreprim_hig1_Burg_50est.pickle', 'wb') as file:\n",
    "    pickle.dump(f1_scoreprim_hig1, file)\n",
    "with open('data/accuracyprim_hig1_Burg_50est.pickle', 'wb') as file:\n",
    "    pickle.dump(accuracyprim_hig1, file)"
   ]
  },
  {
   "cell_type": "code",
   "execution_count": 143,
   "metadata": {},
   "outputs": [],
   "source": [
    "with open('data/precisionsec_hig1_Burg_50est.pickle', 'wb') as file:\n",
    "    pickle.dump(precisionsec_hig1, file)\n",
    "with open('data/recallsec_hig1_Burg_50est.pickle', 'wb') as file:\n",
    "    pickle.dump(recallsec_hig1, file)\n",
    "with open('data/f1_scoresec_hig1_Burg_50est.pickle', 'wb') as file:\n",
    "    pickle.dump(f1_scoresec_hig1, file)\n",
    "with open('data/accuracysec_hig1_Burg_50est.pickle', 'wb') as file:\n",
    "    pickle.dump(accuracysec_hig1, file)"
   ]
  },
  {
   "cell_type": "code",
   "execution_count": 144,
   "metadata": {},
   "outputs": [],
   "source": [
    "with open('data/precisionprim_hig3_Burg_50est.pickle', 'wb') as file:\n",
    "    pickle.dump(precisionprim_hig3, file)\n",
    "with open('data/recallprim_hig3_Burg_50est.pickle', 'wb') as file:\n",
    "    pickle.dump(recallprim_hig3, file)\n",
    "with open('data/f1_scoreprim_hig3_Burg_50est.pickle', 'wb') as file:\n",
    "    pickle.dump(f1_scoreprim_hig3, file)\n",
    "with open('data/accuracyprim_hig3_Burg_50est.pickle', 'wb') as file:\n",
    "    pickle.dump(accuracyprim_hig3, file)"
   ]
  },
  {
   "cell_type": "code",
   "execution_count": 145,
   "metadata": {},
   "outputs": [],
   "source": [
    "with open('data/precisionsec_hig3_Burg_50est.pickle', 'wb') as file:\n",
    "    pickle.dump(precisionsec_hig3, file)\n",
    "with open('data/recallsec_hig3_Burg_50est.pickle', 'wb') as file:\n",
    "    pickle.dump(recallsec_hig3, file)\n",
    "with open('data/f1_scoresec_hig3_Burg_50est.pickle', 'wb') as file:\n",
    "    pickle.dump(f1_scoresec_hig3, file)\n",
    "with open('data/accuracysec_hig3_Burg_50est.pickle', 'wb') as file:\n",
    "    pickle.dump(accuracysec_hig3, file)"
   ]
  },
  {
   "cell_type": "code",
   "execution_count": null,
   "metadata": {},
   "outputs": [],
   "source": []
  },
  {
   "attachments": {},
   "cell_type": "markdown",
   "metadata": {},
   "source": [
    "Including Difference Spectrum"
   ]
  },
  {
   "attachments": {},
   "cell_type": "markdown",
   "metadata": {},
   "source": [
    "Low"
   ]
  },
  {
   "cell_type": "code",
   "execution_count": 146,
   "metadata": {},
   "outputs": [],
   "source": [
    "with open('data/BinDF_low_d.pickle', 'rb') as f:\n",
    "        BinDF_low_d = pickle.load(f)"
   ]
  },
  {
   "cell_type": "code",
   "execution_count": 147,
   "metadata": {},
   "outputs": [],
   "source": [
    "BinDF_low_d = BinDF_low_d[BinDF_low_d.primary_type>24]\n",
    "BinDF_low_d = BinDF_low_d[BinDF_low_d.primary_type<33]\n",
    "BinDF_low_d = BinDF_low_d[BinDF_low_d.secondary_type>31]\n",
    "BinDF_low_d = BinDF_low_d[BinDF_low_d.secondary_type<39]\n",
    "BinDF_low_d.reset_index(drop=True,inplace=True)"
   ]
  },
  {
   "cell_type": "code",
   "execution_count": 148,
   "metadata": {},
   "outputs": [],
   "source": [
    "with open('data/BinDF_low_d_Burg.pickle', 'wb') as f:\n",
    "        pickle.dump(BinDF_low_d, f)"
   ]
  },
  {
   "cell_type": "code",
   "execution_count": 149,
   "metadata": {},
   "outputs": [
    {
     "data": {
      "text/plain": [
       "Text(0.5, 1.0, 'SNR Distribution')"
      ]
     },
     "execution_count": 149,
     "metadata": {},
     "output_type": "execute_result"
    },
    {
     "data": {
      "image/png": "[encoded data removed]",
      "text/plain": [
       "<Figure size 432x288 with 1 Axes>"
      ]
     },
     "metadata": {
      "needs_background": "light"
     },
     "output_type": "display_data"
    }
   ],
   "source": [
    "fig, axe = plt.subplots()\n",
    "axe.hist(BinDF_low_d['J_SNR'],bins=60)\n",
    "plt.xlabel('j snr')\n",
    "plt.title('SNR Distribution')"
   ]
  },
  {
   "cell_type": "code",
   "execution_count": 150,
   "metadata": {},
   "outputs": [
    {
     "name": "stdout",
     "output_type": "stream",
     "text": [
      "239.9936978816986\n"
     ]
    }
   ],
   "source": [
    "start = time.time()\n",
    "clflow_d, data_low_d = binary_multiOutput_classifier(BinDF_low_d,difference=True,max_depth=25,n_estimators=50,testdata=True)\n",
    "end = time.time()\n",
    "print(end-start)"
   ]
  },
  {
   "cell_type": "code",
   "execution_count": 151,
   "metadata": {},
   "outputs": [],
   "source": [
    "yput1 = []\n",
    "yput2 = []\n",
    "for i in data_low_d['y_test']:\n",
    "    yput1.append(i[0])\n",
    "    yput2.append(i[1])\n",
    "data_low_d_df = pd.DataFrame(data_low_d['x_test'])\n",
    "data_low_d_df['prim']=yput1\n",
    "data_low_d_df['seco']=yput2\n",
    "data_low_d_df.to_csv('data/data_low_d_Burg_50est.csv',index=False)"
   ]
  },
  {
   "cell_type": "code",
   "execution_count": 152,
   "metadata": {},
   "outputs": [],
   "source": [
    "x_test_low_d = data_low_d['x_test']\n",
    "y_test_low_d = data_low_d['y_test']"
   ]
  },
  {
   "cell_type": "code",
   "execution_count": 153,
   "metadata": {},
   "outputs": [
    {
     "data": {
      "text/plain": [
       "['MOclassifiers/MO_low_d_Burg_50est.pkl']"
      ]
     },
     "execution_count": 153,
     "metadata": {},
     "output_type": "execute_result"
    }
   ],
   "source": [
    "joblib.dump(clflow_d, 'MOclassifiers/MO_low_d_Burg_50est.pkl')"
   ]
  },
  {
   "cell_type": "code",
   "execution_count": 154,
   "metadata": {},
   "outputs": [],
   "source": [
    "MO_low_d = joblib.load('MOclassifiers/MO_low_d_Burg_50est.pkl')"
   ]
  },
  {
   "cell_type": "code",
   "execution_count": 155,
   "metadata": {},
   "outputs": [],
   "source": [
    "# df_data_low_d = pd.read_csv(r'data/data_low_d.csv')\n",
    "# x_test_low_d = [[df_data_low_d[str(col)][i] for col in range(818)] for i in range(len(df_data_low_d))]\n",
    "# y_test_low_d = [[df_data_low_d['prim'][i],df_data_low_d['seco'][i]] for i in range(len(df_data_low_d))]"
   ]
  },
  {
   "cell_type": "code",
   "execution_count": 156,
   "metadata": {},
   "outputs": [
    {
     "name": "stdout",
     "output_type": "stream",
     "text": [
      "14.490747928619385\n"
     ]
    }
   ],
   "source": [
    "start = time.time()\n",
    "df_avgdiffprim_low_d, df_avgdiffseco_low_d, df_stdprim_low_d, df_stdseco_low_d, predsprim_low_d, predssec_low_d, realprim_low_d, realsec_low_d = binaryPrecision(x_test_low_d,y_test_low_d,MO_low_d, predictions=True)\n",
    "end = time.time()\n",
    "print(end-start)"
   ]
  },
  {
   "cell_type": "code",
   "execution_count": 240,
   "metadata": {},
   "outputs": [
    {
     "name": "stdout",
     "output_type": "stream",
     "text": [
      "-0.04815335740243136\n"
     ]
    },
    {
     "data": {
      "image/png": "[encoded data removed]",
      "text/plain": [
       "<Figure size 432x288 with 2 Axes>"
      ]
     },
     "metadata": {
      "needs_background": "light"
     },
     "output_type": "display_data"
    }
   ],
   "source": [
    "sns.heatmap(df_avgdiffprim_low_d.drop([i for i in range(16,25)]+[33,34,35,36,37,38,39],axis=1).drop([i for i in range(16,32)]+[38,39]),annot=False,linewidths=0.1,linecolor='black', cmap=\"plasma\",vmin=-2,vmax=0.75)\n",
    "print(df_avgdiffprim_low_d.mean(axis = 0, skipna = True).mean())"
   ]
  },
  {
   "cell_type": "code",
   "execution_count": 241,
   "metadata": {},
   "outputs": [
    {
     "name": "stdout",
     "output_type": "stream",
     "text": [
      "-0.016621952947845863\n"
     ]
    },
    {
     "data": {
      "image/png": "[encoded data removed]",
      "text/plain": [
       "<Figure size 432x288 with 2 Axes>"
      ]
     },
     "metadata": {
      "needs_background": "light"
     },
     "output_type": "display_data"
    }
   ],
   "source": [
    "sns.heatmap(df_avgdiffseco_low_d.drop([i for i in range(16,25)]+[33,34,35,36,37,38,39],axis=1).drop([i for i in range(16,32)]+[38,39]),annot=False,linewidths=0.1,linecolor='black', cmap=\"plasma\",vmin=-7,vmax=9)\n",
    "print(df_avgdiffseco_low_d.mean(axis = 0, skipna = True).mean())"
   ]
  },
  {
   "cell_type": "code",
   "execution_count": 242,
   "metadata": {},
   "outputs": [
    {
     "name": "stdout",
     "output_type": "stream",
     "text": [
      "0.39649516768121384\n"
     ]
    },
    {
     "data": {
      "image/png": "[encoded data removed]",
      "text/plain": [
       "<Figure size 432x288 with 2 Axes>"
      ]
     },
     "metadata": {
      "needs_background": "light"
     },
     "output_type": "display_data"
    }
   ],
   "source": [
    "sns.heatmap(df_stdprim_low_d.drop([i for i in range(16,25)]+[33,34,35,36,37,38,39],axis=1).drop([i for i in range(16,32)]+[38,39]),annot=False,linewidths=0.1,linecolor='black', cmap=\"plasma\",vmin=0,vmax=1.5)\n",
    "print(df_stdprim_low_d.mean(axis = 0, skipna = True).mean())"
   ]
  },
  {
   "cell_type": "code",
   "execution_count": 243,
   "metadata": {},
   "outputs": [
    {
     "name": "stdout",
     "output_type": "stream",
     "text": [
      "0.611212133659637\n"
     ]
    },
    {
     "data": {
      "image/png": "[encoded data removed]",
      "text/plain": [
       "<Figure size 432x288 with 2 Axes>"
      ]
     },
     "metadata": {
      "needs_background": "light"
     },
     "output_type": "display_data"
    }
   ],
   "source": [
    "sns.heatmap(df_stdseco_low_d.drop([i for i in range(16,25)]+[33,34,35,36,37,38,39],axis=1).drop([i for i in range(16,32)]+[38,39]),annot=False,linewidths=0.1,linecolor='black', cmap=\"plasma\",vmin=0,vmax=2)\n",
    "print(df_stdseco_low_d.mean(axis = 0, skipna = True).mean())"
   ]
  },
  {
   "cell_type": "code",
   "execution_count": 161,
   "metadata": {},
   "outputs": [
    {
     "data": {
      "text/plain": [
       "{'primary_type': {'wavegrid': [1.3471608,\n",
       "   1.3514667,\n",
       "   1.9494247,\n",
       "   1.9666836,\n",
       "   1.9701208,\n",
       "   1.9838215,\n",
       "   1.9872348,\n",
       "   2.2961676,\n",
       "   2.3282678,\n",
       "   2.3512332,\n",
       "   2.362602,\n",
       "   2.3710816,\n",
       "   2.3795228,\n",
       "   2.3823283,\n",
       "   2.3935118,\n",
       "   2.3962984,\n",
       "   2.3990817],\n",
       "  'importance': [0.03280741795356665,\n",
       "   0.040855711160324784,\n",
       "   0.040017320062385335,\n",
       "   0.028591538522442617,\n",
       "   0.17141230913702687,\n",
       "   0.05307701330124232,\n",
       "   0.13337084219008372,\n",
       "   0.043697781034376104,\n",
       "   0.014722868536707904,\n",
       "   0.026675148931417952,\n",
       "   0.013394099286759846,\n",
       "   0.059363708672307364,\n",
       "   0.026656149859513874,\n",
       "   0.013271220587457083,\n",
       "   0.052614745038232574,\n",
       "   0.013620492969655146,\n",
       "   0.027179793530618012]},\n",
       " 'secondary_type': {'wavegrid': [0.9150805,\n",
       "   1.196399,\n",
       "   1.2006752,\n",
       "   1.2049553,\n",
       "   1.2092391,\n",
       "   1.2135262,\n",
       "   1.2178166,\n",
       "   1.22211,\n",
       "   1.3040264,\n",
       "   1.3083439,\n",
       "   1.3126608,\n",
       "   1.5783545,\n",
       "   1.582411,\n",
       "   1.6226279],\n",
       "  'importance': [0.021818640371453424,\n",
       "   0.009303850438165402,\n",
       "   0.009462216404008426,\n",
       "   0.02168652078113351,\n",
       "   0.1317413195508848,\n",
       "   0.1705116659462741,\n",
       "   0.053510015010758624,\n",
       "   0.03382926529129282,\n",
       "   0.020815370243782837,\n",
       "   0.0251323151685156,\n",
       "   0.024399585423706294,\n",
       "   0.008939106416739579,\n",
       "   0.014748203142678079,\n",
       "   0.011389849579047057]}}"
      ]
     },
     "execution_count": 161,
     "metadata": {},
     "output_type": "execute_result"
    },
    {
     "data": {
      "image/png": "[encoded data removed]",
      "text/plain": [
       "<Figure size 432x288 with 2 Axes>"
      ]
     },
     "metadata": {
      "needs_background": "light"
     },
     "output_type": "display_data"
    }
   ],
   "source": [
    "fig, ax = plt.subplots(2,1,sharex=True)\n",
    "\n",
    "ax[0].plot(wavegrid,f17low)\n",
    "ax[0].plot(wavegrid,f24low)\n",
    "ax[0].set_ylabel('Normalized Flux ($\\\\frac{erg}{cm}\\\\frac{1}{s}$)')\n",
    "ax[0].legend(['M7 normalized flux','L4 normalized flux'])\n",
    "\n",
    "feat_impts_low_d = {'primary_type':{},'secondary_type':{}}\n",
    "ddd = []\n",
    "eee = []\n",
    "for clf in MO_low_d.estimators_:\n",
    "    ax[1].plot(wavegrid,clf.feature_importances_[:409], alpha=0.8)\n",
    "    max_imp = max(clf.feature_importances_)\n",
    "    dd = []\n",
    "    ee = []\n",
    "    for i in np.where(clf.feature_importances_ >= 0.05*max_imp)[0]:\n",
    "        wavegrid2 = list(wavegrid)+list(wavegrid)\n",
    "        dd.append(wavegrid2[i])\n",
    "        ee.append(clf.feature_importances_[i])\n",
    "    ddd.append(dd)\n",
    "    eee.append(ee)\n",
    "\n",
    "ax[0].axvspan(1.35,1.42, alpha=0.3, color='k')\n",
    "ax[1].axvspan(1.35,1.42, alpha=0.3, color='k')\n",
    "ax[0].axvspan(1.80,1.95, alpha=0.3, color='k')\n",
    "ax[1].axvspan(1.80,1.95, alpha=0.3, color='k')\n",
    "ax[1].legend(['primary type', 'secondary type', 'telluric band'])\n",
    "plt.subplots_adjust(hspace=0)\n",
    "fig.suptitle('Feature importance and M7, L4 normalized flux')\n",
    "plt.xlabel('wavelength ($\\mu$m)')\n",
    "feat_impts_low_d['primary_type']['wavegrid'] = ddd[0]\n",
    "feat_impts_low_d['primary_type']['importance'] = eee[0]\n",
    "feat_impts_low_d['secondary_type']['wavegrid'] = ddd[1]\n",
    "feat_impts_low_d['secondary_type']['importance'] = eee[1]\n",
    "feat_impts_low_d"
   ]
  },
  {
   "cell_type": "code",
   "execution_count": 162,
   "metadata": {},
   "outputs": [
    {
     "data": {
      "text/plain": [
       "{'primary_type': {'wavegrid': [1.3471608,\n",
       "   1.3514667,\n",
       "   1.9494247,\n",
       "   1.9666836,\n",
       "   1.9701208,\n",
       "   1.9838215,\n",
       "   1.9872348,\n",
       "   2.2961676,\n",
       "   2.3282678,\n",
       "   2.3512332,\n",
       "   2.362602,\n",
       "   2.3710816,\n",
       "   2.3795228,\n",
       "   2.3823283,\n",
       "   2.3935118,\n",
       "   2.3962984,\n",
       "   2.3990817],\n",
       "  'importance': [0.03280741795356665,\n",
       "   0.040855711160324784,\n",
       "   0.040017320062385335,\n",
       "   0.028591538522442617,\n",
       "   0.17141230913702687,\n",
       "   0.05307701330124232,\n",
       "   0.13337084219008372,\n",
       "   0.043697781034376104,\n",
       "   0.014722868536707904,\n",
       "   0.026675148931417952,\n",
       "   0.013394099286759846,\n",
       "   0.059363708672307364,\n",
       "   0.026656149859513874,\n",
       "   0.013271220587457083,\n",
       "   0.052614745038232574,\n",
       "   0.013620492969655146,\n",
       "   0.027179793530618012]},\n",
       " 'secondary_type': {'wavegrid': [0.9150805,\n",
       "   1.196399,\n",
       "   1.2006752,\n",
       "   1.2049553,\n",
       "   1.2092391,\n",
       "   1.2135262,\n",
       "   1.2178166,\n",
       "   1.22211,\n",
       "   1.3040264,\n",
       "   1.3083439,\n",
       "   1.3126608,\n",
       "   1.5783545,\n",
       "   1.582411,\n",
       "   1.6226279],\n",
       "  'importance': [0.021818640371453424,\n",
       "   0.009303850438165402,\n",
       "   0.009462216404008426,\n",
       "   0.02168652078113351,\n",
       "   0.1317413195508848,\n",
       "   0.1705116659462741,\n",
       "   0.053510015010758624,\n",
       "   0.03382926529129282,\n",
       "   0.020815370243782837,\n",
       "   0.0251323151685156,\n",
       "   0.024399585423706294,\n",
       "   0.008939106416739579,\n",
       "   0.014748203142678079,\n",
       "   0.011389849579047057]}}"
      ]
     },
     "execution_count": 162,
     "metadata": {},
     "output_type": "execute_result"
    },
    {
     "data": {
      "image/png": "[encoded data removed]",
      "text/plain": [
       "<Figure size 432x288 with 2 Axes>"
      ]
     },
     "metadata": {
      "needs_background": "light"
     },
     "output_type": "display_data"
    }
   ],
   "source": [
    "fig, ax = plt.subplots(2,1,sharex=True)\n",
    "\n",
    "\n",
    "ax[0].plot(wavegrid,binlow)\n",
    "ax[0].plot(wavegrid,dlow)\n",
    "ax[0].set_ylabel('Normalized Flux ($\\\\frac{erg}{cm}\\\\frac{1}{s}$)')\n",
    "ax[0].legend(['M7+L4 normalized binary','M7+L4 - standard difference flux'])\n",
    "\n",
    "feat_impts_low_d = {'primary_type':{},'secondary_type':{}}\n",
    "ddd = []\n",
    "eee = []\n",
    "for clf in MO_low_d.estimators_:\n",
    "    max_imp = max(clf.feature_importances_)\n",
    "    dd = []\n",
    "    ee = []\n",
    "    for i in np.where(clf.feature_importances_ >= 0.05*max_imp)[0]:\n",
    "        wavegrid2 = list(wavegrid)+list(wavegrid)\n",
    "        dd.append(wavegrid2[i])\n",
    "        ee.append(clf.feature_importances_[i])\n",
    "    ddd.append(dd)\n",
    "    eee.append(ee)\n",
    "\n",
    "for clf in MO_low_d.estimators_:\n",
    "    ax[1].plot(wavegrid,clf.feature_importances_[409:], alpha=0.8)\n",
    "\n",
    "ax[0].axvspan(1.35,1.42, alpha=0.3, color='k')\n",
    "ax[1].axvspan(1.35,1.42, alpha=0.3, color='k')\n",
    "ax[0].axvspan(1.80,1.95, alpha=0.3, color='k')\n",
    "ax[1].axvspan(1.80,1.95, alpha=0.3, color='k')\n",
    "ax[1].legend(['primary type diff', 'secondary type diff', 'telluric band'])\n",
    "plt.subplots_adjust(hspace=0)\n",
    "fig.suptitle('Feature importance and M7+L4 binary flux')\n",
    "plt.xlabel('wavelength ($\\mu$m)')\n",
    "feat_impts_low_d['primary_type']['wavegrid'] = ddd[0]\n",
    "feat_impts_low_d['primary_type']['importance'] = eee[0]\n",
    "feat_impts_low_d['secondary_type']['wavegrid'] = ddd[1]\n",
    "feat_impts_low_d['secondary_type']['importance'] = eee[1]\n",
    "feat_impts_low_d"
   ]
  },
  {
   "cell_type": "code",
   "execution_count": 163,
   "metadata": {},
   "outputs": [],
   "source": [
    "precisionprim_lowd1, recallprim_lowd1, f1_scoreprim_lowd1, accuracyprim_lowd1 = calculate_metrics(realprim_low_d,predsprim_low_d,1)\n",
    "precisionsec_lowd1, recallsec_lowd1, f1_scoresec_lowd1, accuracysec_lowd1 = calculate_metrics(realsec_low_d,predssec_low_d,1)\n",
    "precisionprim_lowd3, recallprim_lowd3, f1_scoreprim_lowd3, accuracyprim_lowd3 = calculate_metrics(realprim_low_d,predsprim_low_d,3)\n",
    "precisionsec_lowd3, recallsec_lowd3, f1_scoresec_lowd3, accuracysec_lowd3 = calculate_metrics(realsec_low_d,predssec_low_d,3)"
   ]
  },
  {
   "cell_type": "code",
   "execution_count": 164,
   "metadata": {},
   "outputs": [],
   "source": [
    "with open('data/precisionprim_lowd1_Burg_50est.pickle', 'wb') as file:\n",
    "    pickle.dump(precisionprim_lowd1, file)\n",
    "with open('data/recallprim_lowd1_Burg_50est.pickle', 'wb') as file:\n",
    "    pickle.dump(recallprim_lowd1, file)\n",
    "with open('data/f1_scoreprim_lowd1_Burg_50est.pickle', 'wb') as file:\n",
    "    pickle.dump(f1_scoreprim_lowd1, file)\n",
    "with open('data/accuracyprim_lowd1_Burg_50est.pickle', 'wb') as file:\n",
    "    pickle.dump(accuracyprim_lowd1, file)"
   ]
  },
  {
   "cell_type": "code",
   "execution_count": 165,
   "metadata": {},
   "outputs": [],
   "source": [
    "with open('data/precisionsec_lowd1_Burg_50est.pickle', 'wb') as file:\n",
    "    pickle.dump(precisionsec_lowd1, file)\n",
    "with open('data/recallsec_lowd1_Burg_50est.pickle', 'wb') as file:\n",
    "    pickle.dump(recallsec_lowd1, file)\n",
    "with open('data/f1_scoresec_lowd1_Burg_50est.pickle', 'wb') as file:\n",
    "    pickle.dump(f1_scoresec_lowd1, file)\n",
    "with open('data/accuracysec_lowd1_Burg_50est.pickle', 'wb') as file:\n",
    "    pickle.dump(accuracysec_lowd1, file)"
   ]
  },
  {
   "cell_type": "code",
   "execution_count": 166,
   "metadata": {},
   "outputs": [],
   "source": [
    "with open('data/precisionprim_lowd3_Burg_50est.pickle', 'wb') as file:\n",
    "    pickle.dump(precisionprim_lowd3, file)\n",
    "with open('data/recallprim_lowd3_Burg_50est.pickle', 'wb') as file:\n",
    "    pickle.dump(recallprim_lowd3, file)\n",
    "with open('data/f1_scoreprim_lowd3_Burg_50est.pickle', 'wb') as file:\n",
    "    pickle.dump(f1_scoreprim_lowd3, file)\n",
    "with open('data/accuracyprim_lowd3_Burg_50est.pickle', 'wb') as file:\n",
    "    pickle.dump(accuracyprim_lowd3, file)"
   ]
  },
  {
   "cell_type": "code",
   "execution_count": 167,
   "metadata": {},
   "outputs": [],
   "source": [
    "with open('data/precisionsec_lowd3_Burg_50est.pickle', 'wb') as file:\n",
    "    pickle.dump(precisionsec_lowd3, file)\n",
    "with open('data/recallsec_lowd3_Burg_50est.pickle', 'wb') as file:\n",
    "    pickle.dump(recallsec_lowd3, file)\n",
    "with open('data/f1_scoresec_lowd3_Burg_50est.pickle', 'wb') as file:\n",
    "    pickle.dump(f1_scoresec_lowd3, file)\n",
    "with open('data/accuracysec_lowd3_Burg_50est.pickle', 'wb') as file:\n",
    "    pickle.dump(accuracysec_lowd3, file)"
   ]
  },
  {
   "cell_type": "code",
   "execution_count": null,
   "metadata": {},
   "outputs": [],
   "source": []
  },
  {
   "attachments": {},
   "cell_type": "markdown",
   "metadata": {},
   "source": [
    "DIFFERENCE\n",
    "\n",
    "Mid Snr"
   ]
  },
  {
   "cell_type": "code",
   "execution_count": 168,
   "metadata": {},
   "outputs": [],
   "source": [
    "with open('data/BinDF_mid_d.pickle', 'rb') as f:\n",
    "        BinDF_mid_d = pickle.load(f)"
   ]
  },
  {
   "cell_type": "code",
   "execution_count": 169,
   "metadata": {},
   "outputs": [],
   "source": [
    "BinDF_mid_d = BinDF_mid_d[BinDF_mid_d.primary_type>24]\n",
    "BinDF_mid_d = BinDF_mid_d[BinDF_mid_d.primary_type<33]\n",
    "BinDF_mid_d = BinDF_mid_d[BinDF_mid_d.secondary_type>31]\n",
    "BinDF_mid_d = BinDF_mid_d[BinDF_mid_d.secondary_type<39]\n",
    "BinDF_mid_d.reset_index(drop=True,inplace=True)"
   ]
  },
  {
   "cell_type": "code",
   "execution_count": 170,
   "metadata": {},
   "outputs": [],
   "source": [
    "with open('data/BinDF_mid_d_Burg.pickle', 'wb') as f:\n",
    "        pickle.dump(BinDF_mid_d, f)"
   ]
  },
  {
   "cell_type": "code",
   "execution_count": 171,
   "metadata": {},
   "outputs": [
    {
     "data": {
      "text/plain": [
       "Text(0.5, 1.0, 'SNR Distribution')"
      ]
     },
     "execution_count": 171,
     "metadata": {},
     "output_type": "execute_result"
    },
    {
     "data": {
      "image/png": "[encoded data removed]",
      "text/plain": [
       "<Figure size 432x288 with 1 Axes>"
      ]
     },
     "metadata": {
      "needs_background": "light"
     },
     "output_type": "display_data"
    }
   ],
   "source": [
    "fig, axe = plt.subplots()\n",
    "axe.hist(BinDF_mid_d['J_SNR'],bins=60)\n",
    "plt.xlabel('j snr')\n",
    "plt.title('SNR Distribution')"
   ]
  },
  {
   "cell_type": "code",
   "execution_count": 176,
   "metadata": {},
   "outputs": [
    {
     "name": "stdout",
     "output_type": "stream",
     "text": [
      "231.6257300376892\n"
     ]
    }
   ],
   "source": [
    "start = time.time()\n",
    "clfmid_d, data_mid_d = binary_multiOutput_classifier(BinDF_mid_d,difference=True,max_depth=25,n_estimators=50,testdata=True)\n",
    "end = time.time()\n",
    "print(end-start)"
   ]
  },
  {
   "cell_type": "code",
   "execution_count": 177,
   "metadata": {},
   "outputs": [],
   "source": [
    "yput1 = []\n",
    "yput2 = []\n",
    "for i in data_mid_d['y_test']:\n",
    "    yput1.append(i[0])\n",
    "    yput2.append(i[1])\n",
    "data_mid_d_df = pd.DataFrame(data_mid_d['x_test'])\n",
    "data_mid_d_df['prim']=yput1\n",
    "data_mid_d_df['seco']=yput2\n",
    "data_mid_d_df.to_csv('data/data_mid_d_Burg_50est.csv',index=False)"
   ]
  },
  {
   "cell_type": "code",
   "execution_count": 178,
   "metadata": {},
   "outputs": [],
   "source": [
    "x_test_mid_d = data_mid_d['x_test']\n",
    "y_test_mid_d = data_mid_d['y_test']"
   ]
  },
  {
   "cell_type": "code",
   "execution_count": 179,
   "metadata": {},
   "outputs": [
    {
     "data": {
      "text/plain": [
       "['MOclassifiers/MO_mid_d_Burg_50est.pkl']"
      ]
     },
     "execution_count": 179,
     "metadata": {},
     "output_type": "execute_result"
    }
   ],
   "source": [
    "joblib.dump(clfmid_d, 'MOclassifiers/MO_mid_d_Burg_50est.pkl')"
   ]
  },
  {
   "cell_type": "code",
   "execution_count": 180,
   "metadata": {},
   "outputs": [],
   "source": [
    "# MO_mid_d = joblib.load('MOclassifiers/MO_mid_d_Burg_50est.pkl')"
   ]
  },
  {
   "cell_type": "code",
   "execution_count": 181,
   "metadata": {},
   "outputs": [],
   "source": [
    "# df_data_mid_d = pd.read_csv(r'data/data_mid_d.csv')\n",
    "# x_test_mid_d = [[df_data_mid_d[str(col)][i] for col in range(818)] for i in range(len(df_data_mid_d))]\n",
    "# y_test_mid_d = [[df_data_mid_d['prim'][i],df_data_mid_d['seco'][i]] for i in range(len(df_data_mid_d))]"
   ]
  },
  {
   "cell_type": "code",
   "execution_count": 182,
   "metadata": {},
   "outputs": [
    {
     "name": "stdout",
     "output_type": "stream",
     "text": [
      "13.328813791275024\n"
     ]
    }
   ],
   "source": [
    "start = time.time()\n",
    "df_avgdiffprim_mid_d, df_avgdiffseco_mid_d, df_stdprim_mid_d, df_stdseco_mid_d, predsprim_mid_d, predssec_mid_d, realprim_mid_d, realsec_mid_d = binaryPrecision(x_test_mid_d,y_test_mid_d,clfmid_d, predictions=True)\n",
    "end = time.time()\n",
    "print(end-start)"
   ]
  },
  {
   "cell_type": "code",
   "execution_count": 224,
   "metadata": {},
   "outputs": [
    {
     "name": "stdout",
     "output_type": "stream",
     "text": [
      "-0.023272757596503622\n"
     ]
    },
    {
     "data": {
      "image/png": "[encoded data removed]",
      "text/plain": [
       "<Figure size 432x288 with 2 Axes>"
      ]
     },
     "metadata": {
      "needs_background": "light"
     },
     "output_type": "display_data"
    }
   ],
   "source": [
    "sns.heatmap(df_avgdiffprim_mid_d.drop([i for i in range(16,25)]+[33,34,35,36,37,38,39],axis=1).drop([i for i in range(16,32)]+[38,39]),annot=False,linewidths=0.1,linecolor='black', cmap=\"plasma\",vmin=-2,vmax=0.75)\n",
    "print(df_avgdiffprim_mid_d.mean(axis = 0, skipna = True).mean())"
   ]
  },
  {
   "cell_type": "code",
   "execution_count": 225,
   "metadata": {},
   "outputs": [
    {
     "name": "stdout",
     "output_type": "stream",
     "text": [
      "0.017104822127240675\n"
     ]
    },
    {
     "data": {
      "image/png": "[encoded data removed]",
      "text/plain": [
       "<Figure size 432x288 with 2 Axes>"
      ]
     },
     "metadata": {
      "needs_background": "light"
     },
     "output_type": "display_data"
    }
   ],
   "source": [
    "sns.heatmap(df_avgdiffseco_mid_d.drop([i for i in range(16,25)]+[33,34,35,36,37,38,39],axis=1).drop([i for i in range(16,32)]+[38,39]),annot=False,linewidths=0.1,linecolor='black', cmap=\"plasma\",vmin=-7,vmax=9)\n",
    "print(df_avgdiffseco_mid_d.mean(axis = 0, skipna = True).mean())"
   ]
  },
  {
   "cell_type": "code",
   "execution_count": 226,
   "metadata": {},
   "outputs": [
    {
     "name": "stdout",
     "output_type": "stream",
     "text": [
      "0.2888180434527516\n"
     ]
    },
    {
     "data": {
      "image/png": "[encoded data removed]",
      "text/plain": [
       "<Figure size 432x288 with 2 Axes>"
      ]
     },
     "metadata": {
      "needs_background": "light"
     },
     "output_type": "display_data"
    }
   ],
   "source": [
    "sns.heatmap(df_stdprim_mid_d.drop([i for i in range(16,25)]+[33,34,35,36,37,38,39],axis=1).drop([i for i in range(16,32)]+[38,39]),annot=False,linewidths=0.1,linecolor='black', cmap=\"plasma\",vmin=0,vmax=1.5)\n",
    "print(df_stdprim_mid_d.mean(axis = 0, skipna = True).mean())"
   ]
  },
  {
   "cell_type": "code",
   "execution_count": 227,
   "metadata": {},
   "outputs": [
    {
     "name": "stdout",
     "output_type": "stream",
     "text": [
      "0.48361168365749235\n"
     ]
    },
    {
     "data": {
      "image/png": "[encoded data removed]",
      "text/plain": [
       "<Figure size 432x288 with 2 Axes>"
      ]
     },
     "metadata": {
      "needs_background": "light"
     },
     "output_type": "display_data"
    }
   ],
   "source": [
    "sns.heatmap(df_stdseco_mid_d.drop([i for i in range(16,25)]+[33,34,35,36,37,38,39],axis=1).drop([i for i in range(16,32)]+[38,39]),annot=False,linewidths=0.1,linecolor='black', cmap=\"plasma\",vmin=0,vmax=2)\n",
    "print(df_stdseco_mid_d.mean(axis = 0, skipna = True).mean())"
   ]
  },
  {
   "cell_type": "code",
   "execution_count": 187,
   "metadata": {},
   "outputs": [
    {
     "data": {
      "text/plain": [
       "{'primary_type': {'wavegrid': [2.0211103,\n",
       "   1.2479242,\n",
       "   1.9666836,\n",
       "   1.9906434,\n",
       "   2.0211103,\n",
       "   2.3282678],\n",
       "  'importance': [0.12197712319700668,\n",
       "   0.0611713530397916,\n",
       "   0.3131520597801923,\n",
       "   0.04105176436056577,\n",
       "   0.17684657916717297,\n",
       "   0.04113299418264339]},\n",
       " 'secondary_type': {'wavegrid': [1.062755,\n",
       "   1.2049553,\n",
       "   1.2135262,\n",
       "   1.2997085,\n",
       "   1.3040264,\n",
       "   1.3083439,\n",
       "   1.3126608,\n",
       "   1.3557706],\n",
       "  'importance': [0.023330288217243447,\n",
       "   0.0181866096225423,\n",
       "   0.2807376905214975,\n",
       "   0.04392622991090245,\n",
       "   0.02178157400217696,\n",
       "   0.015474986039045761,\n",
       "   0.016668993890782916,\n",
       "   0.021160669509076295]}}"
      ]
     },
     "execution_count": 187,
     "metadata": {},
     "output_type": "execute_result"
    },
    {
     "data": {
      "image/png": "[encoded data removed]",
      "text/plain": [
       "<Figure size 432x288 with 2 Axes>"
      ]
     },
     "metadata": {
      "needs_background": "light"
     },
     "output_type": "display_data"
    }
   ],
   "source": [
    "fig, ax = plt.subplots(2,1,sharex=True)\n",
    "\n",
    "ax[0].plot(wavegrid,f17mid)\n",
    "ax[0].plot(wavegrid,f24mid)\n",
    "ax[0].set_ylabel('Normalized Flux ($\\\\frac{erg}{cm}\\\\frac{1}{s}$)')\n",
    "ax[0].legend(['M7 normalized flux','L4 normalized flux'])\n",
    "\n",
    "feat_impts_mid_d = {'primary_type':{},'secondary_type':{}}\n",
    "ddd = []\n",
    "eee = []\n",
    "for clf in clfmid_d.estimators_:\n",
    "    ax[1].plot(wavegrid,clf.feature_importances_[:409], alpha=0.8)\n",
    "    max_imp = max(clf.feature_importances_)\n",
    "    dd = []\n",
    "    ee = []\n",
    "    for i in np.where(clf.feature_importances_ >= 0.05*max_imp)[0]:\n",
    "        wavegrid2 = list(wavegrid)+list(wavegrid)\n",
    "        dd.append(wavegrid2[i])\n",
    "        ee.append(clf.feature_importances_[i])\n",
    "    ddd.append(dd)\n",
    "    eee.append(ee)\n",
    "\n",
    "ax[0].axvspan(1.35,1.42, alpha=0.3, color='k')\n",
    "ax[1].axvspan(1.35,1.42, alpha=0.3, color='k')\n",
    "ax[0].axvspan(1.80,1.95, alpha=0.3, color='k')\n",
    "ax[1].axvspan(1.80,1.95, alpha=0.3, color='k')\n",
    "ax[1].legend(['primary type', 'secondary type', 'telluric band'])\n",
    "plt.subplots_adjust(hspace=0)\n",
    "fig.suptitle('Feature importance and M7, L4 normalized flux')\n",
    "plt.xlabel('wavelength ($\\mu$m)')\n",
    "feat_impts_mid_d['primary_type']['wavegrid'] = ddd[0]\n",
    "feat_impts_mid_d['primary_type']['importance'] = eee[0]\n",
    "feat_impts_mid_d['secondary_type']['wavegrid'] = ddd[1]\n",
    "feat_impts_mid_d['secondary_type']['importance'] = eee[1]\n",
    "feat_impts_mid_d"
   ]
  },
  {
   "cell_type": "code",
   "execution_count": 188,
   "metadata": {},
   "outputs": [
    {
     "data": {
      "text/plain": [
       "{'primary_type': {'wavegrid': [2.0211103,\n",
       "   1.2479242,\n",
       "   1.9666836,\n",
       "   1.9906434,\n",
       "   2.0211103,\n",
       "   2.3282678],\n",
       "  'importance': [0.12197712319700668,\n",
       "   0.0611713530397916,\n",
       "   0.3131520597801923,\n",
       "   0.04105176436056577,\n",
       "   0.17684657916717297,\n",
       "   0.04113299418264339]},\n",
       " 'secondary_type': {'wavegrid': [1.062755,\n",
       "   1.2049553,\n",
       "   1.2135262,\n",
       "   1.2997085,\n",
       "   1.3040264,\n",
       "   1.3083439,\n",
       "   1.3126608,\n",
       "   1.3557706],\n",
       "  'importance': [0.023330288217243447,\n",
       "   0.0181866096225423,\n",
       "   0.2807376905214975,\n",
       "   0.04392622991090245,\n",
       "   0.02178157400217696,\n",
       "   0.015474986039045761,\n",
       "   0.016668993890782916,\n",
       "   0.021160669509076295]}}"
      ]
     },
     "execution_count": 188,
     "metadata": {},
     "output_type": "execute_result"
    },
    {
     "data": {
      "image/png": "[encoded data removed]",
      "text/plain": [
       "<Figure size 432x288 with 2 Axes>"
      ]
     },
     "metadata": {
      "needs_background": "light"
     },
     "output_type": "display_data"
    }
   ],
   "source": [
    "fig, ax = plt.subplots(2,1,sharex=True)\n",
    "\n",
    "ax[0].plot(wavegrid,binmid)\n",
    "ax[0].plot(wavegrid,dmid)\n",
    "ax[0].set_ylabel('Normalized Flux ($\\\\frac{erg}{cm}\\\\frac{1}{s}$)')\n",
    "ax[0].legend(['M7+L4 normalized binary','M7+L4 - standard difference flux'])\n",
    "\n",
    "feat_impts_mid_d = {'primary_type':{},'secondary_type':{}}\n",
    "ddd = []\n",
    "eee = []\n",
    "for clf in clfmid_d.estimators_:\n",
    "    max_imp = max(clf.feature_importances_)\n",
    "    dd = []\n",
    "    ee = []\n",
    "    for i in np.where(clf.feature_importances_ >= 0.05*max_imp)[0]:\n",
    "        wavegrid2 = list(wavegrid)+list(wavegrid)\n",
    "        dd.append(wavegrid2[i])\n",
    "        ee.append(clf.feature_importances_[i])\n",
    "    ddd.append(dd)\n",
    "    eee.append(ee)\n",
    "\n",
    "for clf in clfmid_d.estimators_:\n",
    "    ax[1].plot(wavegrid,clf.feature_importances_[409:], alpha=0.8)\n",
    "\n",
    "ax[0].axvspan(1.35,1.42, alpha=0.3, color='k')\n",
    "ax[1].axvspan(1.35,1.42, alpha=0.3, color='k')\n",
    "ax[0].axvspan(1.80,1.95, alpha=0.3, color='k')\n",
    "ax[1].axvspan(1.80,1.95, alpha=0.3, color='k')\n",
    "ax[1].legend(['primary type diff', 'secondary type diff', 'telluric band'])\n",
    "plt.subplots_adjust(hspace=0)\n",
    "fig.suptitle('Feature importance and M7+L4 binary')\n",
    "plt.xlabel('wavelength ($\\mu$m)')\n",
    "feat_impts_mid_d['primary_type']['wavegrid'] = ddd[0]\n",
    "feat_impts_mid_d['primary_type']['importance'] = eee[0]\n",
    "feat_impts_mid_d['secondary_type']['wavegrid'] = ddd[1]\n",
    "feat_impts_mid_d['secondary_type']['importance'] = eee[1]\n",
    "feat_impts_mid_d"
   ]
  },
  {
   "cell_type": "code",
   "execution_count": 189,
   "metadata": {},
   "outputs": [],
   "source": [
    "precisionprim_midd1, recallprim_midd1, f1_scoreprim_midd1, accuracyprim_midd1 = calculate_metrics(realprim_mid_d,predsprim_mid_d,1)\n",
    "precisionsec_midd1, recallsec_midd1, f1_scoresec_midd1, accuracysec_midd1 = calculate_metrics(realsec_mid_d,predssec_mid_d,1)\n",
    "precisionprim_midd3, recallprim_midd3, f1_scoreprim_midd3, accuracyprim_midd3 = calculate_metrics(realprim_mid_d,predsprim_mid_d,3)\n",
    "precisionsec_midd3, recallsec_midd3, f1_scoresec_midd3, accuracysec_midd3 = calculate_metrics(realsec_mid_d,predssec_mid_d,3)"
   ]
  },
  {
   "cell_type": "code",
   "execution_count": 190,
   "metadata": {},
   "outputs": [],
   "source": [
    "with open('data/precisionprim_midd1_Burg_50est.pickle', 'wb') as file:\n",
    "    pickle.dump(precisionprim_midd1, file)\n",
    "with open('data/recallprim_midd1_Burg_50est.pickle', 'wb') as file:\n",
    "    pickle.dump(recallprim_midd1, file)\n",
    "with open('data/f1_scoreprim_midd1_Burg_50est.pickle', 'wb') as file:\n",
    "    pickle.dump(f1_scoreprim_midd1, file)\n",
    "with open('data/accuracyprim_midd1_Burg_50est.pickle', 'wb') as file:\n",
    "    pickle.dump(accuracyprim_midd1, file)"
   ]
  },
  {
   "cell_type": "code",
   "execution_count": 191,
   "metadata": {},
   "outputs": [],
   "source": [
    "with open('data/precisionsec_midd1_Burg_50est.pickle', 'wb') as file:\n",
    "    pickle.dump(precisionsec_midd1, file)\n",
    "with open('data/recallsec_midd1_Burg_50est.pickle', 'wb') as file:\n",
    "    pickle.dump(recallsec_midd1, file)\n",
    "with open('data/f1_scoresec_midd1_Burg_50est.pickle', 'wb') as file:\n",
    "    pickle.dump(f1_scoresec_midd1, file)\n",
    "with open('data/accuracysec_midd1_Burg_50est.pickle', 'wb') as file:\n",
    "    pickle.dump(accuracysec_midd1, file)"
   ]
  },
  {
   "cell_type": "code",
   "execution_count": 192,
   "metadata": {},
   "outputs": [],
   "source": [
    "with open('data/precisionprim_midd3_Burg_50est.pickle', 'wb') as file:\n",
    "    pickle.dump(precisionprim_midd3, file)\n",
    "with open('data/recallprim_midd3_Burg_50est.pickle', 'wb') as file:\n",
    "    pickle.dump(recallprim_midd3, file)\n",
    "with open('data/f1_scoreprim_midd3_Burg_50est.pickle', 'wb') as file:\n",
    "    pickle.dump(f1_scoreprim_midd3, file)\n",
    "with open('data/accuracyprim_midd3_Burg_50est.pickle', 'wb') as file:\n",
    "    pickle.dump(accuracyprim_midd3, file)"
   ]
  },
  {
   "cell_type": "code",
   "execution_count": 193,
   "metadata": {},
   "outputs": [],
   "source": [
    "with open('data/precisionsec_midd3_Burg_50est.pickle', 'wb') as file:\n",
    "    pickle.dump(precisionsec_midd3, file)\n",
    "with open('data/recallsec_midd3_Burg_50est.pickle', 'wb') as file:\n",
    "    pickle.dump(recallsec_midd3, file)\n",
    "with open('data/f1_scoresec_midd3_Burg_50est.pickle', 'wb') as file:\n",
    "    pickle.dump(f1_scoresec_midd3, file)\n",
    "with open('data/accuracysec_midd3_Burg_50est.pickle', 'wb') as file:\n",
    "    pickle.dump(accuracysec_midd3, file)"
   ]
  },
  {
   "cell_type": "code",
   "execution_count": null,
   "metadata": {},
   "outputs": [],
   "source": []
  },
  {
   "attachments": {},
   "cell_type": "markdown",
   "metadata": {},
   "source": [
    "DIFFERENCE\n",
    "\n",
    "Hig Snr"
   ]
  },
  {
   "cell_type": "code",
   "execution_count": 172,
   "metadata": {},
   "outputs": [],
   "source": [
    "with open('data/BinDF_hig_d.pickle', 'rb') as f:\n",
    "        BinDF_hig_d = pickle.load(f)"
   ]
  },
  {
   "cell_type": "code",
   "execution_count": 173,
   "metadata": {},
   "outputs": [],
   "source": [
    "BinDF_hig_d = BinDF_hig_d[BinDF_hig_d.primary_type>24]\n",
    "BinDF_hig_d = BinDF_hig_d[BinDF_hig_d.primary_type<33]\n",
    "BinDF_hig_d = BinDF_hig_d[BinDF_hig_d.secondary_type>31]\n",
    "BinDF_hig_d = BinDF_hig_d[BinDF_hig_d.secondary_type<39]\n",
    "BinDF_hig_d.reset_index(drop=True,inplace=True)"
   ]
  },
  {
   "cell_type": "code",
   "execution_count": 174,
   "metadata": {},
   "outputs": [],
   "source": [
    "with open('data/BinDF_hig_d_Burg.pickle', 'wb') as f:\n",
    "        pickle.dump(BinDF_hig_d, f)"
   ]
  },
  {
   "cell_type": "code",
   "execution_count": 175,
   "metadata": {},
   "outputs": [
    {
     "data": {
      "text/plain": [
       "Text(0.5, 1.0, 'SNR Distribution')"
      ]
     },
     "execution_count": 175,
     "metadata": {},
     "output_type": "execute_result"
    },
    {
     "data": {
      "image/png": "[encoded data removed]",
      "text/plain": [
       "<Figure size 432x288 with 1 Axes>"
      ]
     },
     "metadata": {
      "needs_background": "light"
     },
     "output_type": "display_data"
    }
   ],
   "source": [
    "fig, axe = plt.subplots()\n",
    "axe.hist(BinDF_hig_d['J_SNR'],bins=60)\n",
    "plt.xlabel('j snr')\n",
    "plt.title('SNR Distribution')"
   ]
  },
  {
   "cell_type": "code",
   "execution_count": 194,
   "metadata": {},
   "outputs": [
    {
     "name": "stdout",
     "output_type": "stream",
     "text": [
      "84.42943167686462\n"
     ]
    }
   ],
   "source": [
    "start = time.time()\n",
    "clfhig_d, data_hig_d = binary_multiOutput_classifier(BinDF_hig_d,difference=True,max_depth=25,n_estimators=50,testdata=True)\n",
    "end = time.time()\n",
    "print(end-start)"
   ]
  },
  {
   "cell_type": "code",
   "execution_count": 195,
   "metadata": {},
   "outputs": [],
   "source": [
    "yput1 = []\n",
    "yput2 = []\n",
    "for i in data_hig_d['y_test']:\n",
    "    yput1.append(i[0])\n",
    "    yput2.append(i[1])\n",
    "data_hig_d_df = pd.DataFrame(data_hig_d['x_test'])\n",
    "data_hig_d_df['prim']=yput1\n",
    "data_hig_d_df['seco']=yput2\n",
    "data_hig_d_df.to_csv('data/data_hig_d_Burg_50est.csv',index=False)"
   ]
  },
  {
   "cell_type": "code",
   "execution_count": 196,
   "metadata": {},
   "outputs": [],
   "source": [
    "x_test_hig_d = data_hig_d['x_test']\n",
    "y_test_hig_d = data_hig_d['y_test']"
   ]
  },
  {
   "cell_type": "code",
   "execution_count": 197,
   "metadata": {},
   "outputs": [
    {
     "data": {
      "text/plain": [
       "['MOclassifiers/MO_hig_d_Burg_50est.pkl']"
      ]
     },
     "execution_count": 197,
     "metadata": {},
     "output_type": "execute_result"
    }
   ],
   "source": [
    "joblib.dump(clfhig_d, 'MOclassifiers/MO_hig_d_Burg_50est.pkl')"
   ]
  },
  {
   "cell_type": "code",
   "execution_count": 198,
   "metadata": {},
   "outputs": [],
   "source": [
    "# MO_hig_d = joblib.load('MOclassifiers/MO_hig_d_Burg_50est.pkl')"
   ]
  },
  {
   "cell_type": "code",
   "execution_count": 199,
   "metadata": {},
   "outputs": [],
   "source": [
    "# df_data_hig_d = pd.read_csv(r'data/data_hig_d.csv')\n",
    "# x_test_hig_d = [[df_data_hig_d[str(col)][i] for col in range(818)] for i in range(len(df_data_hig_d))]\n",
    "# y_test_hig_d = [[df_data_hig_d['prim'][i],df_data_hig_d['seco'][i]] for i in range(len(df_data_hig_d))]"
   ]
  },
  {
   "cell_type": "code",
   "execution_count": 200,
   "metadata": {},
   "outputs": [
    {
     "name": "stdout",
     "output_type": "stream",
     "text": [
      "7.948461055755615\n"
     ]
    }
   ],
   "source": [
    "start = time.time()\n",
    "df_avgdiffprim_hig_d, df_avgdiffseco_hig_d, df_stdprim_hig_d, df_stdseco_hig_d, predsprim_hig_d, predssec_hig_d, realprim_hig_d, realsec_hig_d = binaryPrecision(x_test_hig_d,y_test_hig_d,clfhig_d, predictions=True)\n",
    "end = time.time()\n",
    "print(end-start)"
   ]
  },
  {
   "cell_type": "code",
   "execution_count": 220,
   "metadata": {},
   "outputs": [
    {
     "name": "stdout",
     "output_type": "stream",
     "text": [
      "0.0017708333333329995\n"
     ]
    },
    {
     "data": {
      "image/png": "[encoded data removed]",
      "text/plain": [
       "<Figure size 432x288 with 2 Axes>"
      ]
     },
     "metadata": {
      "needs_background": "light"
     },
     "output_type": "display_data"
    }
   ],
   "source": [
    "sns.heatmap(df_avgdiffprim_hig_d.drop([i for i in range(16,25)]+[33,34,35,36,37,38,39],axis=1).drop([i for i in range(16,32)]+[38,39]),annot=False,linewidths=0.1,linecolor='black', cmap=\"plasma\",vmin=-2,vmax=0.75)\n",
    "print(df_avgdiffprim_hig_d.mean(axis = 0, skipna = True).mean())"
   ]
  },
  {
   "cell_type": "code",
   "execution_count": 221,
   "metadata": {},
   "outputs": [
    {
     "name": "stdout",
     "output_type": "stream",
     "text": [
      "0.0007734375000002514\n"
     ]
    },
    {
     "data": {
      "image/png": "[encoded data removed]",
      "text/plain": [
       "<Figure size 432x288 with 2 Axes>"
      ]
     },
     "metadata": {
      "needs_background": "light"
     },
     "output_type": "display_data"
    }
   ],
   "source": [
    "sns.heatmap(df_avgdiffseco_hig_d.drop([i for i in range(16,25)]+[33,34,35,36,37,38,39],axis=1).drop([i for i in range(16,32)]+[38,39]),annot=False,linewidths=0.1,linecolor='black', cmap=\"plasma\",vmin=-7,vmax=9)\n",
    "print(df_avgdiffseco_hig_d.mean(axis = 0, skipna = True).mean())"
   ]
  },
  {
   "cell_type": "code",
   "execution_count": 222,
   "metadata": {},
   "outputs": [
    {
     "name": "stdout",
     "output_type": "stream",
     "text": [
      "0.11325570990526626\n"
     ]
    },
    {
     "data": {
      "image/png": "[encoded data removed]",
      "text/plain": [
       "<Figure size 432x288 with 2 Axes>"
      ]
     },
     "metadata": {
      "needs_background": "light"
     },
     "output_type": "display_data"
    }
   ],
   "source": [
    "sns.heatmap(df_stdprim_hig_d.drop([i for i in range(16,25)]+[33,34,35,36,37,38,39],axis=1).drop([i for i in range(16,32)]+[38,39]),annot=False,linewidths=0.1,linecolor='black', cmap=\"plasma\",vmin=0,vmax=1.5)\n",
    "print(df_stdprim_hig_d.mean(axis = 0, skipna = True).mean())"
   ]
  },
  {
   "cell_type": "code",
   "execution_count": 223,
   "metadata": {},
   "outputs": [
    {
     "name": "stdout",
     "output_type": "stream",
     "text": [
      "0.16019503568676313\n"
     ]
    },
    {
     "data": {
      "image/png": "[encoded data removed]",
      "text/plain": [
       "<Figure size 432x288 with 2 Axes>"
      ]
     },
     "metadata": {
      "needs_background": "light"
     },
     "output_type": "display_data"
    }
   ],
   "source": [
    "sns.heatmap(df_stdseco_hig_d.drop([i for i in range(16,25)]+[33,34,35,36,37,38,39],axis=1).drop([i for i in range(16,32)]+[38,39]),annot=False,linewidths=0.1,linecolor='black', cmap=\"plasma\",vmin=0,vmax=2)\n",
    "print(df_stdseco_hig_d.mean(axis = 0, skipna = True).mean())"
   ]
  },
  {
   "cell_type": "code",
   "execution_count": 205,
   "metadata": {},
   "outputs": [
    {
     "data": {
      "text/plain": [
       "{'primary_type': {'wavegrid': [1.0268184,\n",
       "   1.3514667,\n",
       "   2.3512332,\n",
       "   1.0268184,\n",
       "   1.3514667,\n",
       "   2.3512332,\n",
       "   2.38513],\n",
       "  'importance': [0.042034150472186255,\n",
       "   0.031819259680682374,\n",
       "   0.3257572150505591,\n",
       "   0.03342418023137814,\n",
       "   0.034439053177774764,\n",
       "   0.3722098200599021,\n",
       "   0.030844281622369022]},\n",
       " 'secondary_type': {'wavegrid': [1.2049553,\n",
       "   1.2135262,\n",
       "   1.2264063,\n",
       "   1.6146357,\n",
       "   1.618635,\n",
       "   1.6345673,\n",
       "   1.6424943,\n",
       "   1.2049553,\n",
       "   1.2264063,\n",
       "   1.6146357,\n",
       "   1.618635,\n",
       "   1.6345673,\n",
       "   2.0177436,\n",
       "   2.3311558],\n",
       "  'importance': [0.1514775179080857,\n",
       "   0.010804935059276169,\n",
       "   0.13908308123039448,\n",
       "   0.023289973024673744,\n",
       "   0.01534812935589296,\n",
       "   0.011453338204009213,\n",
       "   0.010151760899033063,\n",
       "   0.17337470716171788,\n",
       "   0.11564943130377969,\n",
       "   0.01654644981427437,\n",
       "   0.01564140149218167,\n",
       "   0.010301509058822805,\n",
       "   0.012497741986597886,\n",
       "   0.010643324919532458]}}"
      ]
     },
     "execution_count": 205,
     "metadata": {},
     "output_type": "execute_result"
    },
    {
     "data": {
      "image/png": "[encoded data removed]",
      "text/plain": [
       "<Figure size 432x288 with 2 Axes>"
      ]
     },
     "metadata": {
      "needs_background": "light"
     },
     "output_type": "display_data"
    }
   ],
   "source": [
    "fig, ax = plt.subplots(2,1,sharex=True)\n",
    "\n",
    "\n",
    "ax[0].plot(wavegrid,f17hig)\n",
    "ax[0].plot(wavegrid,f24hig)\n",
    "ax[0].set_ylabel('Normalized Flux ($\\\\frac{erg}{cm}\\\\frac{1}{s}$)')\n",
    "ax[0].legend(['M7 normalized flux','L4 normalized flux'])\n",
    "\n",
    "feat_impts_hig_d = {'primary_type':{},'secondary_type':{}}\n",
    "ddd = []\n",
    "eee = []\n",
    "for clf in clfhig_d.estimators_:\n",
    "    ax[1].plot(wavegrid,clf.feature_importances_[:409], alpha=0.8)\n",
    "    max_imp = max(clf.feature_importances_)\n",
    "    dd = []\n",
    "    ee = []\n",
    "    for i in np.where(clf.feature_importances_ >= 0.05*max_imp)[0]:\n",
    "        wavegrid2 = list(wavegrid)+list(wavegrid)\n",
    "        dd.append(wavegrid2[i])\n",
    "        ee.append(clf.feature_importances_[i])\n",
    "    ddd.append(dd)\n",
    "    eee.append(ee)\n",
    "\n",
    "ax[0].axvspan(1.35,1.42, alpha=0.3, color='k')\n",
    "ax[1].axvspan(1.35,1.42, alpha=0.3, color='k')\n",
    "ax[0].axvspan(1.80,1.95, alpha=0.3, color='k')\n",
    "ax[1].axvspan(1.80,1.95, alpha=0.3, color='k')\n",
    "ax[1].legend(['primary type', 'secondary type', 'telluric band'])\n",
    "plt.subplots_adjust(hspace=0)\n",
    "fig.suptitle('Feature importance and M7, L4 normalized flux')\n",
    "plt.xlabel('wavelength ($\\mu$m)')\n",
    "feat_impts_hig_d['primary_type']['wavegrid'] = ddd[0]\n",
    "feat_impts_hig_d['primary_type']['importance'] = eee[0]\n",
    "feat_impts_hig_d['secondary_type']['wavegrid'] = ddd[1]\n",
    "feat_impts_hig_d['secondary_type']['importance'] = eee[1]\n",
    "feat_impts_hig_d"
   ]
  },
  {
   "cell_type": "code",
   "execution_count": 206,
   "metadata": {},
   "outputs": [
    {
     "data": {
      "text/plain": [
       "{'primary_type': {'wavegrid': [1.0268184,\n",
       "   1.3514667,\n",
       "   2.3512332,\n",
       "   1.0268184,\n",
       "   1.3514667,\n",
       "   2.3512332,\n",
       "   2.38513],\n",
       "  'importance': [0.042034150472186255,\n",
       "   0.031819259680682374,\n",
       "   0.3257572150505591,\n",
       "   0.03342418023137814,\n",
       "   0.034439053177774764,\n",
       "   0.3722098200599021,\n",
       "   0.030844281622369022]},\n",
       " 'secondary_type': {'wavegrid': [1.2049553,\n",
       "   1.2135262,\n",
       "   1.2264063,\n",
       "   1.6146357,\n",
       "   1.618635,\n",
       "   1.6345673,\n",
       "   1.6424943,\n",
       "   1.2049553,\n",
       "   1.2264063,\n",
       "   1.6146357,\n",
       "   1.618635,\n",
       "   1.6345673,\n",
       "   2.0177436,\n",
       "   2.3311558],\n",
       "  'importance': [0.1514775179080857,\n",
       "   0.010804935059276169,\n",
       "   0.13908308123039448,\n",
       "   0.023289973024673744,\n",
       "   0.01534812935589296,\n",
       "   0.011453338204009213,\n",
       "   0.010151760899033063,\n",
       "   0.17337470716171788,\n",
       "   0.11564943130377969,\n",
       "   0.01654644981427437,\n",
       "   0.01564140149218167,\n",
       "   0.010301509058822805,\n",
       "   0.012497741986597886,\n",
       "   0.010643324919532458]}}"
      ]
     },
     "execution_count": 206,
     "metadata": {},
     "output_type": "execute_result"
    },
    {
     "data": {
      "image/png": "[encoded data removed]",
      "text/plain": [
       "<Figure size 432x288 with 2 Axes>"
      ]
     },
     "metadata": {
      "needs_background": "light"
     },
     "output_type": "display_data"
    }
   ],
   "source": [
    "fig, ax = plt.subplots(2,1,sharex=True)\n",
    "\n",
    "ax[0].plot(wavegrid,binhig)\n",
    "ax[0].plot(wavegrid,dhig)\n",
    "ax[0].set_ylabel('Normalized Flux ($\\\\frac{erg}{cm}\\\\frac{1}{s}$)')\n",
    "ax[0].legend(['M7+L4 normalized binary','M7+L4 - standard difference flux'])\n",
    "\n",
    "feat_impts_hig_d = {'primary_type':{},'secondary_type':{}}\n",
    "ddd = []\n",
    "eee = []\n",
    "for clf in clfhig_d.estimators_:\n",
    "    max_imp = max(clf.feature_importances_)\n",
    "    dd = []\n",
    "    ee = []\n",
    "    for i in np.where(clf.feature_importances_ >= 0.05*max_imp)[0]:\n",
    "        wavegrid2 = list(wavegrid)+list(wavegrid)\n",
    "        dd.append(wavegrid2[i])\n",
    "        ee.append(clf.feature_importances_[i])\n",
    "    ddd.append(dd)\n",
    "    eee.append(ee)\n",
    "\n",
    "for clf in clfhig_d.estimators_:\n",
    "    ax[1].plot(wavegrid,clf.feature_importances_[409:], alpha=0.8)\n",
    "\n",
    "ax[0].axvspan(1.35,1.42, alpha=0.3, color='k')\n",
    "ax[1].axvspan(1.35,1.42, alpha=0.3, color='k')\n",
    "ax[0].axvspan(1.80,1.95, alpha=0.3, color='k')\n",
    "ax[1].axvspan(1.80,1.95, alpha=0.3, color='k')\n",
    "ax[1].legend(['primary type diff', 'secondary type diff', 'telluric band'])\n",
    "plt.subplots_adjust(hspace=0)\n",
    "fig.suptitle('Feature importance and M7+L4 binary flux')\n",
    "plt.xlabel('wavelength ($\\mu$m)')\n",
    "feat_impts_hig_d['primary_type']['wavegrid'] = ddd[0]\n",
    "feat_impts_hig_d['primary_type']['importance'] = eee[0]\n",
    "feat_impts_hig_d['secondary_type']['wavegrid'] = ddd[1]\n",
    "feat_impts_hig_d['secondary_type']['importance'] = eee[1]\n",
    "feat_impts_hig_d"
   ]
  },
  {
   "cell_type": "code",
   "execution_count": 207,
   "metadata": {},
   "outputs": [],
   "source": [
    "precisionprim_higd1, recallprim_higd1, f1_scoreprim_higd1, accuracyprim_higd1 = calculate_metrics(realprim_hig_d,predsprim_hig_d,1)\n",
    "precisionsec_higd1, recallsec_higd1, f1_scoresec_higd1, accuracysec_higd1 = calculate_metrics(realsec_hig_d,predssec_hig_d,1)\n",
    "precisionprim_higd3, recallprim_higd3, f1_scoreprim_higd3, accuracyprim_higd3 = calculate_metrics(realprim_hig_d,predsprim_hig_d,3)\n",
    "precisionsec_higd3, recallsec_higd3, f1_scoresec_higd3, accuracysec_higd3 = calculate_metrics(realsec_hig_d,predssec_hig_d,3)"
   ]
  },
  {
   "cell_type": "code",
   "execution_count": 208,
   "metadata": {},
   "outputs": [],
   "source": [
    "with open('data/precisionprim_higd1_Burg_50est.pickle', 'wb') as file:\n",
    "    pickle.dump(precisionprim_higd1, file)\n",
    "with open('data/recallprim_higd1_Burg_50est.pickle', 'wb') as file:\n",
    "    pickle.dump(recallprim_higd1, file)\n",
    "with open('data/f1_scoreprim_higd1_Burg_50est.pickle', 'wb') as file:\n",
    "    pickle.dump(f1_scoreprim_higd1, file)\n",
    "with open('data/accuracyprim_higd1_Burg_50est.pickle', 'wb') as file:\n",
    "    pickle.dump(accuracyprim_higd1, file)"
   ]
  },
  {
   "cell_type": "code",
   "execution_count": 209,
   "metadata": {},
   "outputs": [],
   "source": [
    "with open('data/precisionsec_higd1_Burg_50est.pickle', 'wb') as file:\n",
    "    pickle.dump(precisionsec_higd1, file)\n",
    "with open('data/recallsec_higd1_Burg_50est.pickle', 'wb') as file:\n",
    "    pickle.dump(recallsec_higd1, file)\n",
    "with open('data/f1_scoresec_higd1_Burg_50est.pickle', 'wb') as file:\n",
    "    pickle.dump(f1_scoresec_higd1, file)\n",
    "with open('data/accuracysec_higd1_Burg_50est.pickle', 'wb') as file:\n",
    "    pickle.dump(accuracysec_higd1, file)"
   ]
  },
  {
   "cell_type": "code",
   "execution_count": 210,
   "metadata": {},
   "outputs": [],
   "source": [
    "with open('data/precisionprim_higd3_Burg_50est.pickle', 'wb') as file:\n",
    "    pickle.dump(precisionprim_higd3, file)\n",
    "with open('data/recallprim_higd3_Burg_50est.pickle', 'wb') as file:\n",
    "    pickle.dump(recallprim_higd3, file)\n",
    "with open('data/f1_scoreprim_higd3_Burg_50est.pickle', 'wb') as file:\n",
    "    pickle.dump(f1_scoreprim_higd3, file)\n",
    "with open('data/accuracyprim_higd3_Burg_50est.pickle', 'wb') as file:\n",
    "    pickle.dump(accuracyprim_higd3, file)"
   ]
  },
  {
   "cell_type": "code",
   "execution_count": 211,
   "metadata": {},
   "outputs": [],
   "source": [
    "with open('data/precisionsec_higd3_Burg_50est.pickle', 'wb') as file:\n",
    "    pickle.dump(precisionsec_higd3, file)\n",
    "with open('data/recallsec_higd3_Burg_50est.pickle', 'wb') as file:\n",
    "    pickle.dump(recallsec_higd3, file)\n",
    "with open('data/f1_scoresec_higd3_Burg_50est.pickle', 'wb') as file:\n",
    "    pickle.dump(f1_scoresec_higd3, file)\n",
    "with open('data/accuracysec_higd3_Burg_50est.pickle', 'wb') as file:\n",
    "    pickle.dump(accuracysec_higd3, file)"
   ]
  },
  {
   "cell_type": "code",
   "execution_count": null,
   "metadata": {},
   "outputs": [],
   "source": []
  }
 ],
 "metadata": {
  "kernelspec": {
   "display_name": "Python 3",
   "language": "python",
   "name": "python3"
  },
  "language_info": {
   "codemirror_mode": {
    "name": "ipython",
    "version": 3
   },
   "file_extension": ".py",
   "mimetype": "text/x-python",
   "name": "python",
   "nbconvert_exporter": "python",
   "pygments_lexer": "ipython3",
   "version": "3.10.1"
  },
  "orig_nbformat": 4,
  "vscode": {
   "interpreter": {
    "hash": "d3e10ef16274dd72e574b8fa73b58450b957d8421a2901baded3cca26fcf5dda"
   }
  }
 },
 "nbformat": 4,
 "nbformat_minor": 2
}
